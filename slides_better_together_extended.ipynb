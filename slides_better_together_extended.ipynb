{
 "cells": [
  {
   "cell_type": "markdown",
   "id": "c9ee6cb0-863d-4e43-abbc-d45cf035dbc8",
   "metadata": {
    "editable": true,
    "slideshow": {
     "slide_type": "skip"
    },
    "tags": []
   },
   "source": [
    "# How to use this notebook\n",
    "\n",
    "To improve the quality of the presentation, a couple of notes:\n",
    "1. Many cells are written in HTML which are flagged as \"skip\" for the slide type, so the cell that shows in the presentation is a simple one-liner [e.g. display(HTML(<<some_html_snippet_defined_in_a_prior_cell>>))]\n",
    "2. This notebook contains a mix of code cells that run, and while some code is stored in RAW cells followed by images from https://https://carbon.now.sh/  of that same code snippet that display more nicely for presentation purposes.\n",
    "\n",
    "Should the user want to run the code cells, change the cell type from RAW to code -- and keep in mind that there may be earlier cells in the notebook that must be run first before any later cell runs correctly.\n"
   ]
  },
  {
   "cell_type": "code",
   "execution_count": 1,
   "id": "4766d670-0f7b-442d-896c-5d20b61bb927",
   "metadata": {
    "editable": true,
    "execution": {
     "iopub.execute_input": "2023-11-29T05:11:55.863645Z",
     "iopub.status.busy": "2023-11-29T05:11:55.863485Z",
     "iopub.status.idle": "2023-11-29T05:11:56.307051Z",
     "shell.execute_reply": "2023-11-29T05:11:56.306347Z",
     "shell.execute_reply.started": "2023-11-29T05:11:55.863629Z"
    },
    "slideshow": {
     "slide_type": "skip"
    },
    "tags": []
   },
   "outputs": [],
   "source": [
    "# setup\n",
    "from IPython.display import display, HTML, IFrame, Image\n",
    "from pathlib import Path\n",
    "from qrcode.image.styledpil import StyledPilImage\n",
    "from qrcode.image.styles.moduledrawers import GappedSquareModuleDrawer\n",
    "\n",
    "# main notebook talk\n",
    "import numpy as np\n",
    "import pandas as pd\n",
    "import polars as pl\n",
    "\n",
    "# for QR code to github repo\n",
    "import qrcode\n",
    "\n",
    "# important paths\n",
    "data_path = Path(\"data\")\n",
    "data_csv = Path(\"data\", \"python_dev_universe.csv\")\n",
    "data_csv_gz = Path(data_path, \"python_dev_universe.csv.gz\")\n",
    "data_parquet = Path(\"data\", \"python_dev_universe.parquet\")\n",
    "images_code_path = Path(\"images_code\")\n",
    "images_path = Path(\"images\")\n",
    "qr_imagefile = \"qr_code_extended_talk.png\"\n",
    "qr_full_path = Path(images_path, qr_imagefile)\n",
    "git_url_for_this_talk = (\n",
    "    \"https://github.com/surfaceowl/talk_nov2023_pandas_polars_arrow.git\"\n",
    ")"
   ]
  },
  {
   "cell_type": "code",
   "execution_count": 2,
   "id": "ea72de65-e0c0-4044-8755-e81e1b02b549",
   "metadata": {
    "editable": true,
    "execution": {
     "iopub.execute_input": "2023-11-29T05:11:56.308428Z",
     "iopub.status.busy": "2023-11-29T05:11:56.308133Z",
     "iopub.status.idle": "2023-11-29T05:11:56.965334Z",
     "shell.execute_reply": "2023-11-29T05:11:56.964320Z",
     "shell.execute_reply.started": "2023-11-29T05:11:56.308414Z"
    },
    "slideshow": {
     "slide_type": "skip"
    },
    "tags": []
   },
   "outputs": [
    {
     "name": "stdout",
     "output_type": "stream",
     "text": [
      "The github repo for this talk is public and available (https://github.com/surfaceowl/talk_nov2023_pandas_polars_arrow.git)\n"
     ]
    }
   ],
   "source": [
    "import requests\n",
    "\n",
    "response = requests.get(git_url_for_this_talk)\n",
    "if bool(response.status_code < 400):\n",
    "    print(\n",
    "        f\"The github repo for this talk is public and available ({git_url_for_this_talk})\"\n",
    "    )\n",
    "else:\n",
    "    print(\"ERROR - github repo not available or URL error\")"
   ]
  },
  {
   "cell_type": "markdown",
   "id": "735acb2f-c250-41eb-acec-ee27cada8fb5",
   "metadata": {
    "editable": true,
    "slideshow": {
     "slide_type": "skip"
    },
    "tags": []
   },
   "source": [
    "# Note: RAW cells used as input for Carbon slides, code not runnable as no active df to work with"
   ]
  },
  {
   "cell_type": "markdown",
   "id": "0f005693-47c5-4579-bf16-d93b64af7b6c",
   "metadata": {
    "editable": true,
    "slideshow": {
     "slide_type": ""
    },
    "tags": []
   },
   "source": [
    "<html>\n",
    "<head>\n",
    "</head>\n",
    "<body style=\"background-color: #FFFFFF;\">\n",
    "  <h1 align=\"center\" style=\"font-weight: bold; font-style: italic; font-size: 390%;\">Better Together: Pandas + Polars + Apache Arrow</h1>\n",
    "  <table border=\"0\" align=\"center\" width=\"100%\" bgcolor=\"#FFFFFF\">\n",
    "    <tr>\n",
    "      <td align=\"center\" width=\"50%\" bgcolor=\"#FFFFFF\">\n",
    "        <img src=\"images/pandas_logo.1280x517.png\" width=\"620\" height=\"250\">\n",
    "      </td>\n",
    "      <td align=\"center\" width=\"50%\" bgcolor=\"#FFFFFF\">\n",
    "        <img src=\"images/polars.round.400x400.png\" width=\"250\" height=\"250\">\n",
    "      </td>\n",
    "    </tr>\n",
    "    <tr>\n",
    "      <td colspan=\"2\" align=\"center\" bgcolor=\"#FFFFFF\">\n",
    "        <img src=\"images/arrow-logo_horizontal.1800x936.png\" width=\"481\" height=\"250\">\n",
    "      </td>\n",
    "    </tr>\n",
    "  </table>\n",
    "  <br>\n",
    "  <div style=\"font-size: 300%;\">\n",
    "    <b>Better Together: Unleashing the Synergy of Pandas, Polars, and Apache Arrow</b><br>\n",
    "    <b>Speaker:  Chris Brousseau</b> <br>\n",
    "    <b>30 Nov 2023</b> \n",
    "  </div>\n",
    "</body>\n",
    "</html>\n",
    " </div>\n",
    "</body>\n",
    "</html>\n"
   ]
  },
  {
   "cell_type": "markdown",
   "id": "a24bbb8b-7769-4459-8d57-5fa6fb4f26f7",
   "metadata": {
    "editable": true,
    "execution": {
     "iopub.execute_input": "2023-10-05T17:41:45.618979Z",
     "iopub.status.busy": "2023-10-05T17:41:45.617699Z",
     "iopub.status.idle": "2023-10-05T17:41:45.629488Z",
     "shell.execute_reply": "2023-10-05T17:41:45.627405Z",
     "shell.execute_reply.started": "2023-10-05T17:41:45.618942Z"
    },
    "slideshow": {
     "slide_type": "slide"
    },
    "tags": []
   },
   "source": [
    "<table class=\"custom-slide-table\">\n",
    "    <tr>\n",
    "        <td class=\"image-content\">\n",
    "            <img src=\"./images/intro_slide_full.jpg\" alt=\"Images of Chris - full slide\" width=\"105%\">\n",
    "        </td>\n",
    "    </tr>\n",
    "</table>"
   ]
  },
  {
   "cell_type": "markdown",
   "id": "904f22c4-7938-45ee-ad23-b751980dabd5",
   "metadata": {
    "editable": true,
    "slideshow": {
     "slide_type": "slide"
    },
    "tags": []
   },
   "source": [
    "<table style=\"width: 105%; border-collapse: collapse; margin-top: 0;\">\n",
    "    <tr>\n",
    "        <td style=\"vertical-align: top;\">\n",
    "            <h1 style=\"font-size: 48px; color: #333; margin-top: 0; margin-bottom: 10px;\">TLDR</h1>\n",
    "        </td>\n",
    "    </tr>\n",
    "    <tr>\n",
    "        <td style=\"vertical-align: top;\">\n",
    "            <h2 style=\"font-size: 24px; color: #555; margin-top: 0; margin-bottom: 10px;\">- Use Pandas - power (completeness) / flexibility / stability</h2>\n",
    "        </td>\n",
    "    </tr>\n",
    "    <tr>\n",
    "        <td style=\"vertical-align: top;\">\n",
    "            <h2 style=\"font-size: 24px; color: #555; margin-top: 0; margin-bottom: 10px;\">- Add Polars where you can for speed</h2>\n",
    "        </td>\n",
    "    </tr>\n",
    "    <tr>\n",
    "        <td style=\"vertical-align: top;\">\n",
    "            <h2 style=\"font-size: 24px; color: #555; margin-top: 0; margin-bottom: 10px;\">- Both getting faster - Arrow is the driver</h2>\n",
    "        </td>\n",
    "    </tr>\n",
    "    <tr>\n",
    "        <td style=\"vertical-align: top;\">\n",
    "            <h2 style=\"font-size: 24px; color: #555; margin-top: 0;\">- Build better pipelines -- use together where it makes sense</h2>\n",
    "        </td>\n",
    "    </tr>\n",
    "</table>\n"
   ]
  },
  {
   "cell_type": "markdown",
   "id": "b3ee82f0-8ff3-4f79-b191-5a1a4dae8791",
   "metadata": {
    "editable": true,
    "execution": {
     "iopub.execute_input": "2023-10-04T19:50:04.890206Z",
     "iopub.status.busy": "2023-10-04T19:50:04.889842Z",
     "iopub.status.idle": "2023-10-04T19:50:04.899025Z",
     "shell.execute_reply": "2023-10-04T19:50:04.898073Z",
     "shell.execute_reply.started": "2023-10-04T19:50:04.890181Z"
    },
    "jp-MarkdownHeadingCollapsed": true,
    "slideshow": {
     "slide_type": "slide"
    },
    "tags": []
   },
   "source": [
    "<h1>What is Apache Arrow?</h1>\n",
    "<table border=\"0\" style=\"width: 95%\">\n",
    "    <tr style=\"font-weight: bold;\">\n",
    "      <th style=\"text-align: left; padding: 10px\">\n",
    "        <img src=\"images/arrow-logo_horizontal.1800x936.png\" alt=\"in-memory columnar format\" width=\"620\" height=\"150\" style=\"margin-left: 10px;\">\n",
    "</table>\n",
    "<p style=\"font-size: 24px; line-height: 2.5;\">\n",
    "  -- <strong>Software platform for in-memory analytics & queries</strong><br>\n",
    "  -- <strong>In-memory columnar data format</strong> for tabular data<br>\n",
    "  -- Fast/language-agnostic messaging & bindings<br>\n",
    "  -- batch & streaming data<br>\n",
    "  -- IO to local/remote filesystems and other data structures<br>\n",
    "</p>"
   ]
  },
  {
   "cell_type": "markdown",
   "id": "98823da9-0a27-4bf6-97ab-5ad8d5a6e331",
   "metadata": {
    "editable": true,
    "execution": {
     "iopub.execute_input": "2023-10-04T19:50:04.890206Z",
     "iopub.status.busy": "2023-10-04T19:50:04.889842Z",
     "iopub.status.idle": "2023-10-04T19:50:04.899025Z",
     "shell.execute_reply": "2023-10-04T19:50:04.898073Z",
     "shell.execute_reply.started": "2023-10-04T19:50:04.890181Z"
    },
    "slideshow": {
     "slide_type": "slide"
    },
    "tags": []
   },
   "source": [
    "<h1>Why is Arrow a Game Changer?</h1>\n",
    "\n",
    "<p style=\"font-size: 24px; line-height: 2;\">\n",
    "  <strong>Interoperability ==> Easier</strong> makes data program independent<br> <br>\n",
    "  <strong>Speed ==> Faster</strong> ...Columnar format; zero-copy reads ==> transfer pointers + metadata<br> <br>\n",
    "  <strong>Datatypes ==> More + Better</strong>  ...Nullable; amazing Strings<br> <br>\n",
    "</p>\n"
   ]
  },
  {
   "cell_type": "markdown",
   "id": "62c1b468-fa0c-4eab-9fff-2ae711e2d9d7",
   "metadata": {
    "editable": true,
    "execution": {
     "iopub.execute_input": "2023-11-28T01:15:09.349627Z",
     "iopub.status.busy": "2023-11-28T01:15:09.348962Z",
     "iopub.status.idle": "2023-11-28T01:15:09.356108Z",
     "shell.execute_reply": "2023-11-28T01:15:09.355300Z",
     "shell.execute_reply.started": "2023-11-28T01:15:09.349595Z"
    },
    "slideshow": {
     "slide_type": "slide"
    },
    "tags": []
   },
   "source": [
    "<img src=\"./images/arrow_interop.jpg\" alt=\"Interoperability - full slide\" width=\"100%\">"
   ]
  },
  {
   "cell_type": "markdown",
   "id": "d6e62a39-e297-42ae-86ee-841b78716a42",
   "metadata": {
    "editable": true,
    "execution": {
     "iopub.execute_input": "2023-11-28T05:20:12.705965Z",
     "iopub.status.busy": "2023-11-28T05:20:12.704887Z",
     "iopub.status.idle": "2023-11-28T05:20:12.719007Z",
     "shell.execute_reply": "2023-11-28T05:20:12.716927Z",
     "shell.execute_reply.started": "2023-11-28T05:20:12.705895Z"
    },
    "slideshow": {
     "slide_type": "slide"
    },
    "tags": []
   },
   "source": [
    "<img src=\"./images/arrow_speed.jpg\" alt=\"Speed - full slide\"  width=\"100%\">"
   ]
  },
  {
   "cell_type": "markdown",
   "id": "a5772335-6580-4bbf-b849-85e22fb9ba9b",
   "metadata": {
    "editable": true,
    "slideshow": {
     "slide_type": "slide"
    },
    "tags": []
   },
   "source": [
    "<h1>In-Memory Columnar Format</h1>\n",
    "<br>\n",
    "<br>\n",
    "<br>\n",
    "<br>\n",
    "<div style=\"text-align: center; width:110%\">\n",
    "    <img src=\"./images/arrow_simd.948x651.png\" alt=\"in-memory columnar format\"  width=\"80%\">\n",
    "</div>"
   ]
  },
  {
   "cell_type": "markdown",
   "id": "d300fcb1-c1db-4f09-9857-6ebce1e36523",
   "metadata": {
    "editable": true,
    "execution": {
     "iopub.execute_input": "2023-11-28T05:16:24.598706Z",
     "iopub.status.busy": "2023-11-28T05:16:24.598442Z",
     "iopub.status.idle": "2023-11-28T05:16:24.603426Z",
     "shell.execute_reply": "2023-11-28T05:16:24.602386Z",
     "shell.execute_reply.started": "2023-11-28T05:16:24.598692Z"
    },
    "slideshow": {
     "slide_type": "slide"
    },
    "tags": []
   },
   "source": [
    "<img src=\"./images/arrow_datatypes.jpg\" alt=\"Datatypes - full slide\"  width=\"100%\">"
   ]
  },
  {
   "cell_type": "markdown",
   "id": "050f356c-7b47-41e4-a92e-a6e1d2dee39d",
   "metadata": {
    "editable": true,
    "execution": {
     "iopub.execute_input": "2023-11-28T05:29:47.452078Z",
     "iopub.status.busy": "2023-11-28T05:29:47.451600Z",
     "iopub.status.idle": "2023-11-28T05:29:47.458275Z",
     "shell.execute_reply": "2023-11-28T05:29:47.457309Z",
     "shell.execute_reply.started": "2023-11-28T05:29:47.452061Z"
    },
    "slideshow": {
     "slide_type": "slide"
    },
    "tags": []
   },
   "source": [
    "<h1>Zero Copy Reads</h1>\n",
    "\n",
    "<table border=\"1\" style=\"width: 100%\">\n",
    "  <thead>\n",
    "    <tr style=\"font-weight: bold;\">\n",
    "      <th style=\"text-align: center; padding: 10px\">\n",
    "        <img src=\"./images/arrow_data_copy.574x318.png\" alt=\"current world copies data\" style=\"margin-left: 10px;\">\n",
    "      </th>\n",
    "      <th style=\"text-align: center; padding: 10px\">\n",
    "        <img src=\"./images/arrow_data_shared.png\" alt=\"arrow uses zero-copy reads\" style=\"margin-left: 10px;\">\n",
    "      </th>\n",
    "    </tr>\n",
    "  </thead>\n"
   ]
  },
  {
   "cell_type": "code",
   "execution_count": 3,
   "id": "988ff4f0-59c8-4d0e-8ebf-5df2070f617a",
   "metadata": {
    "editable": true,
    "execution": {
     "iopub.execute_input": "2023-11-29T05:11:56.966940Z",
     "iopub.status.busy": "2023-11-29T05:11:56.966516Z",
     "iopub.status.idle": "2023-11-29T05:11:56.976194Z",
     "shell.execute_reply": "2023-11-29T05:11:56.975409Z",
     "shell.execute_reply.started": "2023-11-29T05:11:56.966916Z"
    },
    "slideshow": {
     "slide_type": ""
    },
    "tags": []
   },
   "outputs": [
    {
     "data": {
      "text/html": [
       "\n",
       "        <iframe\n",
       "            width=\"105%\"\n",
       "            height=\"1000px\"\n",
       "            src=\"https://arrow.apache.org/docs/python/pandas.html\"\n",
       "            frameborder=\"0\"\n",
       "            allowfullscreen\n",
       "            \n",
       "        ></iframe>\n",
       "        "
      ],
      "text/plain": [
       "<IPython.lib.display.IFrame at 0x7ff1ba95bc90>"
      ]
     },
     "metadata": {},
     "output_type": "display_data"
    }
   ],
   "source": [
    "display(\n",
    "    IFrame(\n",
    "        \"https://arrow.apache.org/docs/python/pandas.html\",\n",
    "        width=\"105%\",\n",
    "        height=\"1000px\",\n",
    "    )\n",
    ")"
   ]
  },
  {
   "cell_type": "markdown",
   "id": "c4df3f02-5a43-4044-8e55-9319f49f4a13",
   "metadata": {
    "editable": true,
    "slideshow": {
     "slide_type": "slide"
    },
    "tags": []
   },
   "source": [
    "# Into Pandas and Polars"
   ]
  },
  {
   "cell_type": "markdown",
   "id": "9fca268d-ff5e-45d2-8465-f8f95e932601",
   "metadata": {
    "editable": true,
    "execution": {
     "iopub.execute_input": "2023-10-02T18:10:08.550854Z",
     "iopub.status.busy": "2023-10-02T18:10:08.549735Z",
     "iopub.status.idle": "2023-10-02T18:10:08.574746Z",
     "shell.execute_reply": "2023-10-02T18:10:08.572358Z",
     "shell.execute_reply.started": "2023-10-02T18:10:08.550793Z"
    },
    "jp-MarkdownHeadingCollapsed": true,
    "slideshow": {
     "slide_type": "slide"
    },
    "tags": []
   },
   "source": [
    "<h1>Key Differences - Packages</h1>\n",
    "\n",
    "<table border=\"1\" style=\"width: 80%; font-size: 24px;\">\n",
    "  <thead>\n",
    "    <tr style=\"font-weight: bold;\">\n",
    "      <th style=\"vertical-align: bottom;\">Feature</th>\n",
    "      <th style=\"text-align: left;\">\n",
    "        <img src=\"./images/pandas_secondary.svg\" alt=\"Pandas\" style=\"width: 300px; max-width: 100%;\">\n",
    "      </th>\n",
    "      <th style=\"text-align: left;\">\n",
    "        <img src=\"./images/polars.round.400x400.png\" alt=\"Polars\" style=\"width: 200px; max-width: 100%;\">\n",
    "      </th>\n",
    "    </tr>\n",
    "  </thead>\n",
    "  <tbody>\n",
    "    <tr style=\"height:100px\"; style=\"background-color: #FFFFFF;\">\n",
    "      <td>First Release Date</td>\n",
    "      <td>2008</td>\n",
    "      <td>2019</td>\n",
    "    </tr>\n",
    "    <tr style=\"height:100px\"; style=\"background-color: #F0F0F0;\">\n",
    "      <td>Current Release</td>\n",
    "      <td>2.1.3</td>\n",
    "      <td>0.19.15</td>\n",
    "    </tr>\n",
    "    <tr style=\"height:100px\"; style=\"background-color: #FFFFFF;\">\n",
    "      <td>Programming Language</td>\n",
    "      <td>C, Cython, Python</td>\n",
    "      <td>Rust</td>\n",
    "    </tr>\n",
    "    <tr style=\"height:100px\"; style=\"background-color: #FFFFFF;\">\n",
    "      <td>Project Goal</td>\n",
    "      <td>To be the fundamental building block for python data analysis & manipulation - most powerful and flexible dataframe tool</td>\n",
    "      <td>To provide lightning-fast dataframes that use all local resources</td>\n",
    "    </tr>\n",
    "  </tbody>\n",
    "</table>\n"
   ]
  },
  {
   "cell_type": "markdown",
   "id": "900186c9-ac34-4229-ae9a-a01fdc0c8867",
   "metadata": {
    "editable": true,
    "execution": {
     "iopub.execute_input": "2023-10-02T18:10:08.550854Z",
     "iopub.status.busy": "2023-10-02T18:10:08.549735Z",
     "iopub.status.idle": "2023-10-02T18:10:08.574746Z",
     "shell.execute_reply": "2023-10-02T18:10:08.572358Z",
     "shell.execute_reply.started": "2023-10-02T18:10:08.550793Z"
    },
    "slideshow": {
     "slide_type": "slide"
    },
    "tags": []
   },
   "source": [
    "<h1>Key Differences - Memory</h1>\n",
    "\n",
    "<table border=\"1\" style=\"width: 80%; font-size: 24px;\">\n",
    "  <thead>\n",
    "    <tr style=\"font-weight: bold;\">\n",
    "      <th style=\"vertical-align: bottom;\">Feature</th>\n",
    "      <th style=\"text-align: left;\">\n",
    "        <img src=\"./images/pandas_secondary.svg\" alt=\"Pandas\" style=\"width: 300px; max-width: 100%;\">\n",
    "      </th>\n",
    "      <th style=\"text-align: left;\">\n",
    "        <img src=\"./images/polars.round.400x400.png\" alt=\"Polars\" style=\"width: 200px; max-width: 100%;\">\n",
    "      </th>\n",
    "    </tr>\n",
    "  </thead>\n",
    "  <tbody>\n",
    "    <tr style=\"height:100px\"; style=\"background-color: #F0F0F0; font-weight: bold\">\n",
    "      <td><strong>Memory</strong></td>\n",
    "      <td></td>\n",
    "      <td></td>\n",
    "    </tr>\n",
    "    <tr style=\"height:100px\"; style=\"background-color: #FFFFFF;\">\n",
    "      <td>Memory Backend</td>\n",
    "      <td>Numpy (default) or <strong>Apache Arrow</strong></td>\n",
    "      <td><strong>Apache Arrow</strong></td>\n",
    "    </tr>\n",
    "    <tr style=\"height:100px\"; style=\"background-color: #F0F0F0;\">\n",
    "      <td>Memory implementation</td>\n",
    "      <td>Pyarrow <br>(C++ wrapper on data)</td>\n",
    "      <td>Arrow2 <br>(Rust wrapper on data)</td>\n",
    "    </tr>\n",
    "    <tr style=\"height:100px\"; style=\"background-color: #FFFFFF;\">\n",
    "      <td>Larger-than-Memory/ Out-of-Core</td>\n",
    "      <td>No  (but via Dask)</td>\n",
    "      <td><strong>Native on Lazy df only (`collect(streaming=True`);  chunking + spill</strong></td>\n",
    "    </tr>\n",
    "    <tr style=\"height:100px\"; style=\"background-color: #F0F0F0;\">\n",
    "      <td>Represent Missing Data</td>\n",
    "      <td>\"NaN\" or \"None\"</td>\n",
    "      <td>\"null\"</td>\n",
    "    </tr>\n",
    "  </tbody>\n",
    "</table>\n"
   ]
  },
  {
   "cell_type": "markdown",
   "id": "25e2837d-88f2-470f-83bc-4ce9caf57927",
   "metadata": {
    "editable": true,
    "execution": {
     "iopub.execute_input": "2023-10-02T18:10:08.550854Z",
     "iopub.status.busy": "2023-10-02T18:10:08.549735Z",
     "iopub.status.idle": "2023-10-02T18:10:08.574746Z",
     "shell.execute_reply": "2023-10-02T18:10:08.572358Z",
     "shell.execute_reply.started": "2023-10-02T18:10:08.550793Z"
    },
    "slideshow": {
     "slide_type": "slide"
    },
    "tags": []
   },
   "source": [
    "<h1>Key Differences - API</h1>\n",
    "\n",
    "<table border=\"1\" style=\"width: 80%; font-size: 24px;\">\n",
    "  <thead>\n",
    "    <tr style=\"font-weight: bold;\">\n",
    "      <th style=\"vertical-align: bottom;\">Feature</th>\n",
    "      <th style=\"text-align: left;\">\n",
    "        <img src=\"./images/pandas_secondary.svg\" alt=\"Pandas\" style=\"width: 300px; max-width: 100%;\">\n",
    "      </th>\n",
    "      <th style=\"text-align: left;\">\n",
    "        <img src=\"./images/polars.round.400x400.png\" alt=\"Polars\" style=\"width: 200px; max-width: 100%;\">\n",
    "      </th>\n",
    "    </tr>\n",
    "  </thead>\n",
    "  <tbody>\n",
    "    <tr style=\"height:70px\"; style=\"background-color: #FFFFFF;\">\n",
    "      <td>Number of Methods</td>\n",
    "      <td><strong><i>Many</i></strong></td>\n",
    "      <td><strong><i>not 1:1</i></strong></td>\n",
    "    </tr>\n",
    "    <tr style=\"height:70px\"; style=\"background-color: #F0F0F0;\">\n",
    "      <td>Index/Multindex</td>\n",
    "      <td>Yes</td>\n",
    "      <td><strong>No - \"index free\"</strong></td>\n",
    "    </tr>\n",
    "    <tr style=\"height:70px\"; style=\"background-color: #FFFFFF;\">\n",
    "      <td>Nullable dtype</td>\n",
    "      <td>Yes</td>\n",
    "      <td>Yes</td>\n",
    "    </tr>\n",
    "    <tr style=\"height:70px\"; style=\"background-color: #F0F0F0;\">\n",
    "      <td>API mode</td>\n",
    "      <td>Eager</td>\n",
    "      <td>Eager (+ Lazy)</td>\n",
    "    </tr>\n",
    "    <tr style=\"height:70px\"; style=\"background-color: #FFFFFF;\">\n",
    "      <td>Query Optimization</td>\n",
    "      <td>No</td>\n",
    "      <td>Yes (with Lazy)</td>\n",
    "    </tr>\n",
    "    <tr style=\"height:100px\"; style=\"background-color: #F0F0F0;\">\n",
    "      <td>Parallelization</td>\n",
    "      <td>No - single threaded</td>\n",
    "      <td><strong>Yes - multithreaded</td>\n",
    "    </tr>\n",
    "    <tr style=\"height:70px\"; style=\"background-color: #FFFFFF;\">\n",
    "      <td>SIMD</td>\n",
    "      <td>No</td>\n",
    "      <td><strong>Yes</td>\n",
    "    </tr>\n",
    "  </tbody>\n",
    "</table>\n"
   ]
  },
  {
   "cell_type": "markdown",
   "id": "e1bfe78b-fc92-4606-bfd7-0601347e3b5b",
   "metadata": {
    "editable": true,
    "execution": {
     "iopub.execute_input": "2023-10-04T18:59:44.986576Z",
     "iopub.status.busy": "2023-10-04T18:59:44.986266Z",
     "iopub.status.idle": "2023-10-04T18:59:44.995046Z",
     "shell.execute_reply": "2023-10-04T18:59:44.994090Z",
     "shell.execute_reply.started": "2023-10-04T18:59:44.986555Z"
    },
    "slideshow": {
     "slide_type": "slide"
    },
    "tags": []
   },
   "source": [
    "<h1>Recent Updates</h1>\n",
    "<table border=\"1\" style=\"width: 80%; font-size: 24px;\">\n",
    "  <thead>\n",
    "    <tr style=\"font-weight: bold;\">\n",
    "      <th style=\"vertical-align: bottom;\">2023 - Speed & Consistency</th>\n",
    "      <th style=\"text-align: left;\">\n",
    "        <img src=\"./images/pandas_secondary.svg\" alt=\"Pandas\" style=\"width: 300px; max-width: 100%;\">\n",
    "      </th>\n",
    "      <th style=\"text-align: left;\">\n",
    "        <img src=\"./images/polars.round.400x400.png\" alt=\"Polars\" style=\"width: 200px; max-width: 100%;\">\n",
    "      </th>\n",
    "    </tr>\n",
    "  </thead>\n",
    "  <tbody>\n",
    "    <tr style=\"background-color: #FFFFFF;\">\n",
    "      <td>Backend</td>\n",
    "      <td>Apache Arrow. <strong>Pyarrow required after 3.0.0</strong></td>\n",
    "      <td>+cloud reading; +speed +bugfix</td>\n",
    "    </tr>\n",
    "    <tr style=\"height:100px\"; style=\"background-color: #F0F0F0;\">\n",
    "      <td></td>\n",
    "      <td><i>Lazy </i><strong>Copy-on-Write</strong><br>-simplifies API<br>-only mod one object<br>-less defensive copies</td>\n",
    "      <td></td>\n",
    "    </tr>\n",
    "    <tr style=\"height:100px\"; style=\"background-color: #FFFFFF;\">\n",
    "      <td>Feature Flags / optional dependencies</td>\n",
    "      <td>pip install <br>pandas[aws, performance]</td>\n",
    "      <td>pip install <br>polars[pandas, ffspec]</td>\n",
    "    </tr>\n",
    "    <tr style=\"height:100px\"; style=\"background-color: #F0F0F0;\">\n",
    "      <td>Reference</td>\n",
    "      <td><a href=\"https://pandas.pydata.org/docs/whatsnew/index.html\">pandas release notes</td>\n",
    "      <td><a href=\"https://github.com/pola-rs/polars/releases\">polars release notes</td>\n",
    "    </tr>\n",
    "  </tbody>\n",
    "</table>"
   ]
  },
  {
   "cell_type": "markdown",
   "id": "ca7b810f-b5aa-4c20-ba97-86e12aececa9",
   "metadata": {
    "editable": true,
    "execution": {
     "iopub.execute_input": "2023-10-05T23:36:30.124108Z",
     "iopub.status.busy": "2023-10-05T23:36:30.123723Z",
     "iopub.status.idle": "2023-10-05T23:36:30.130190Z",
     "shell.execute_reply": "2023-10-05T23:36:30.128887Z",
     "shell.execute_reply.started": "2023-10-05T23:36:30.124086Z"
    },
    "slideshow": {
     "slide_type": "slide"
    },
    "tags": []
   },
   "source": [
    "<h1>But how much faster?</h1>\n",
    "<table border=\"1\" style=\"width: 80%; \">\n",
    "  <thead>\n",
    "    <tr style=\"font-size: 24px; font-weight: bold;\">\n",
    "      <th style=\"vertical-align: bottom;\">Anecdotes & Considerations</th>\n",
    "      <th style=\"text-align: left;\">\n",
    "        <img src=\"./images/pandas_secondary.svg\" alt=\"Pandas\" style=\"width: 300px; max-width: 100%;\">\n",
    "      </th>\n",
    "      <th style=\"text-align: left;\">\n",
    "        <img src=\"./images/polars.round.400x400.png\" alt=\"Polars\" style=\"width: 200px; max-width: 100%;\">\n",
    "      </th>\n",
    "    </tr>\n",
    "  </thead>\n",
    "  <tbody>\n",
    "    <tr style=\"height:70px; font-size: 24px; background-color: #FFFFFF;\">\n",
    "      <td>read csv +csv.gz</td>\n",
    "      <td></td>\n",
    "      <td><strong>~2x-20x faster</strong></td>\n",
    "    </tr>\n",
    "    <tr style=\"height:70px; font-size: 24px; background-color: #F0F0F0;\">\n",
    "      <td>read parquet</td>\n",
    "      <td></td>\n",
    "      <td>~1x-5x</td>\n",
    "    </tr>\n",
    "    <tr style=\"height:70px; font-size: 24px; background-color: #FFFFFF;\">\n",
    "      <td>groupby</td>\n",
    "      <td></td>\n",
    "      <td>~10x</td>\n",
    "    </tr>\n",
    "    <tr style=\"height:70px;  font-size: 24px; background-color: #F0F0F0;\">\n",
    "      <td>Other Considerations</td>\n",
    "      <td>Huge Ecosystem / examples</td>\n",
    "      <td>Smaller but growing Ecosystem</td>\n",
    "    <tr style=\"height:100px; font-size: 24px; background-color: #FFFFFF;\">\n",
    "      <td>API</td>\n",
    "      <td><strong>Stable</strong></td>\n",
    "      <td><strong>Less Stable - but improving</strong></td>\n",
    "    </tr>\n",
    "      <tr style=\"height:70px; font-size: 24px; background-color: #F0F0F0;\">\n",
    "      <td> </td>\n",
    "      <td> </td>\n",
    "      <td>Categorical; some window functions / plotting /etc.</td>\n",
    "    </tr>\n",
    "    <tr style=\"height:70px; font-size: 24px; background-color: #FFFFFF;\">\n",
    "      <td><strong>Reference - see repo</strong></td>\n",
    "      <td><a href=\"https://pandas.pydata.org/docs/reference/index.html\">pandas api</td>\n",
    "      <td><a href=\"https://pola-rs.github.io/polars/py-polars/html/reference/\">polars api</td>\n",
    "    </tr>\n",
    "  </tbody>\n",
    "</table>"
   ]
  },
  {
   "cell_type": "markdown",
   "id": "7bce3aae-7543-4499-aa58-0454dbeccd91",
   "metadata": {
    "editable": true,
    "execution": {
     "iopub.execute_input": "2023-10-08T14:37:23.144023Z",
     "iopub.status.busy": "2023-10-08T14:37:23.142080Z",
     "iopub.status.idle": "2023-10-08T14:37:23.161236Z",
     "shell.execute_reply": "2023-10-08T14:37:23.158621Z",
     "shell.execute_reply.started": "2023-10-08T14:37:23.143910Z"
    },
    "slideshow": {
     "slide_type": "slide"
    },
    "tags": []
   },
   "source": [
    "<style>\n",
    "    .custom-slide-table {\n",
    "        width: 100%;\n",
    "        table-layout: fixed;\n",
    "    }\n",
    "\n",
    "    .custom-slide-table td {\n",
    "        vertical-align: middle;\n",
    "    }\n",
    "\n",
    "    .custom-title {\n",
    "        font-size: 32px;\n",
    "        text-align: left;\n",
    "        margin-top: 40px;\n",
    "        margin-bottom: 20px;\n",
    "    }\n",
    "</style>\n",
    "\n",
    "<h1 class=\"custom-title\">Caution comparing speeds!  Pandas configs have a big impact!</h1>\n",
    "\n",
    "<table class=\"custom-slide-table\">\n",
    "    <tr>\n",
    "        <td class=\"image-content\">\n",
    "            <img src=\"./images/csv_read_speed_comparison.jpg\" alt=\"A lot faster!\" width=\"120%\">\n",
    "        </td>\n",
    "    </tr>\n",
    "</table>\n"
   ]
  },
  {
   "cell_type": "markdown",
   "id": "68fc6a15-2583-48b0-a7e3-ada6420e0285",
   "metadata": {
    "editable": true,
    "slideshow": {
     "slide_type": "slide"
    },
    "tags": []
   },
   "source": [
    "# Get the Best out of Pandas <br>\n",
    "<br>\n",
    "\n",
    "### 0- Configure Pandas properly - huge impact on performance <br><br>\n",
    "\n",
    "### 1- use pyarrow for I/O & nullable dtypes (faster)\n",
    "pd.read_csv( my_datat.csv\",  engine=\"pyarrow\" dtype_backend=\"pyarrow\")<br>pd.read_parquet) <br> <br>\n",
    "<br>\n",
    "### 2- set pyarrow for all string data (faster/smaller)\n",
    "pd.options.future.infer_string = True   <br>\n",
    "<br>\n",
    "### 3- enable Copy-On-Write (lazy + more consistent api) -- just do this anyway; will be default!\n",
    "pd.options.mode.copy_on_write = True <br>\n",
    "<br>"
   ]
  },
  {
   "cell_type": "markdown",
   "id": "4fe6f500-2ad8-4b97-b0e8-ecd678e3521a",
   "metadata": {
    "editable": true,
    "slideshow": {
     "slide_type": "slide"
    },
    "tags": []
   },
   "source": [
    "# some syntax differences"
   ]
  },
  {
   "cell_type": "raw",
   "id": "3390c893-d652-4979-bf78-35080ec389eb",
   "metadata": {
    "editable": true,
    "execution": {
     "iopub.execute_input": "2023-10-07T20:34:31.072034Z",
     "iopub.status.busy": "2023-10-07T20:34:31.071494Z",
     "iopub.status.idle": "2023-10-07T20:35:12.118044Z",
     "shell.execute_reply": "2023-10-07T20:35:12.116065Z",
     "shell.execute_reply.started": "2023-10-07T20:34:31.071948Z"
    },
    "raw_mimetype": "",
    "slideshow": {
     "slide_type": "skip"
    },
    "tags": []
   },
   "source": [
    "# syntax example - pandas\n",
    "df_pandas = pd.read_parquet(data_parquet)\n",
    "df_pandas.head(2)"
   ]
  },
  {
   "cell_type": "raw",
   "id": "2ae84aa5-d1bd-4709-8cf4-2baa3bf44015",
   "metadata": {
    "editable": true,
    "execution": {
     "iopub.execute_input": "2023-10-07T20:35:12.120566Z",
     "iopub.status.busy": "2023-10-07T20:35:12.120076Z",
     "iopub.status.idle": "2023-10-07T20:35:21.315218Z",
     "shell.execute_reply": "2023-10-07T20:35:21.312692Z",
     "shell.execute_reply.started": "2023-10-07T20:35:12.120526Z"
    },
    "raw_mimetype": "",
    "slideshow": {
     "slide_type": "skip"
    },
    "tags": []
   },
   "source": [
    "# syntax example - polars\n",
    "df_polars = pl.read_parquet(data_parquet)\n",
    "df_polars.head(2)"
   ]
  },
  {
   "cell_type": "raw",
   "id": "d0c2a980-14d1-455f-bdbc-d2f436479471",
   "metadata": {
    "editable": true,
    "execution": {
     "iopub.execute_input": "2023-10-07T20:35:21.319487Z",
     "iopub.status.busy": "2023-10-07T20:35:21.318559Z",
     "iopub.status.idle": "2023-10-07T20:35:27.916678Z",
     "shell.execute_reply": "2023-10-07T20:35:27.914647Z",
     "shell.execute_reply.started": "2023-10-07T20:35:21.319424Z"
    },
    "raw_mimetype": "",
    "slideshow": {
     "slide_type": "skip"
    },
    "tags": []
   },
   "source": [
    "# syntax comparison:  pandas vs polars\n",
    "\n",
    "df_pandas[\"customer_id\"].count()\n",
    "df_polars.select(pl.count(\"customer_id\"))"
   ]
  },
  {
   "cell_type": "code",
   "execution_count": 4,
   "id": "4ea2dcc1-b2a2-4c77-addf-ea16d230b021",
   "metadata": {
    "editable": true,
    "execution": {
     "iopub.execute_input": "2023-11-29T05:11:56.977608Z",
     "iopub.status.busy": "2023-11-29T05:11:56.977113Z",
     "iopub.status.idle": "2023-11-29T05:11:56.984672Z",
     "shell.execute_reply": "2023-11-29T05:11:56.983570Z",
     "shell.execute_reply.started": "2023-11-29T05:11:56.977589Z"
    },
    "slideshow": {
     "slide_type": "skip"
    },
    "tags": []
   },
   "outputs": [],
   "source": [
    "# code for image displayed below\n",
    "syntax_compare_image = (\n",
    "    '<img src=\"./images_code/pandas_polars_syntax_compare.png\" style=\"width:100%\"/>'\n",
    ")"
   ]
  },
  {
   "cell_type": "code",
   "execution_count": 5,
   "id": "d7332f0c-590e-4fdf-ad72-200bfe7734dd",
   "metadata": {
    "editable": true,
    "execution": {
     "iopub.execute_input": "2023-11-29T05:11:56.986559Z",
     "iopub.status.busy": "2023-11-29T05:11:56.986002Z",
     "iopub.status.idle": "2023-11-29T05:11:56.999920Z",
     "shell.execute_reply": "2023-11-29T05:11:56.998824Z",
     "shell.execute_reply.started": "2023-11-29T05:11:56.986533Z"
    },
    "slideshow": {
     "slide_type": ""
    },
    "tags": []
   },
   "outputs": [
    {
     "data": {
      "text/html": [
       "<img src=\"./images_code/pandas_polars_syntax_compare.png\" style=\"width:100%\"/>"
      ],
      "text/plain": [
       "<IPython.core.display.HTML object>"
      ]
     },
     "metadata": {},
     "output_type": "display_data"
    }
   ],
   "source": [
    "display(HTML(syntax_compare_image))"
   ]
  },
  {
   "cell_type": "markdown",
   "id": "0b8f6fcd-d4ae-43c8-8498-41a9cc775bc4",
   "metadata": {
    "editable": true,
    "slideshow": {
     "slide_type": "slide"
    },
    "tags": []
   },
   "source": [
    "# Use Columnar Example\n"
   ]
  },
  {
   "cell_type": "raw",
   "id": "48b242d4-6f55-4c47-bff2-1a4df5e7e0c0",
   "metadata": {
    "editable": true,
    "execution": {
     "iopub.execute_input": "2023-10-08T00:15:32.753325Z",
     "iopub.status.busy": "2023-10-08T00:15:32.752681Z",
     "iopub.status.idle": "2023-10-08T00:16:56.904332Z",
     "shell.execute_reply": "2023-10-08T00:16:56.899233Z",
     "shell.execute_reply.started": "2023-10-08T00:15:32.753279Z"
    },
    "raw_mimetype": "",
    "slideshow": {
     "slide_type": "skip"
    },
    "tags": []
   },
   "source": [
    "# pandas = parquet reads are faster because of columnar format\n",
    "df_pd1 = pd.read_parquet(data_parquet)\n",
    "df_pd1.head(1)\n",
    "\n",
    "# runtime: 84.15s"
   ]
  },
  {
   "cell_type": "raw",
   "id": "cb0ee36e-4bac-4ea7-99c6-5dea4d3d3ff9",
   "metadata": {
    "editable": true,
    "execution": {
     "iopub.execute_input": "2023-10-08T00:16:56.914172Z",
     "iopub.status.busy": "2023-10-08T00:16:56.912743Z",
     "iopub.status.idle": "2023-10-08T00:17:07.028403Z",
     "shell.execute_reply": "2023-10-08T00:17:07.025899Z",
     "shell.execute_reply.started": "2023-10-08T00:16:56.914100Z"
    },
    "raw_mimetype": "",
    "slideshow": {
     "slide_type": "skip"
    },
    "tags": []
   },
   "source": [
    "# pandas predicate push-down with parquet helps speed\n",
    "df_pd2 = pd.read_parquet(\n",
    "    data_parquet,\n",
    "    filters=[\n",
    "        (\"occupation\", \"==\", \"Data Engineer\"),\n",
    "        (\"psf_membership_status\", \"!=\", \"Not Yet a Member\"),\n",
    "    ],\n",
    ")\n",
    "df_pd2.head(1)\n",
    "# runtime: 10.1s\n"
   ]
  },
  {
   "cell_type": "code",
   "execution_count": 6,
   "id": "b7aeec6f-f6f8-4ec1-a702-4a5540121255",
   "metadata": {
    "editable": true,
    "execution": {
     "iopub.execute_input": "2023-11-29T05:11:57.001592Z",
     "iopub.status.busy": "2023-11-29T05:11:57.001004Z",
     "iopub.status.idle": "2023-11-29T05:11:57.014809Z",
     "shell.execute_reply": "2023-11-29T05:11:57.013924Z",
     "shell.execute_reply.started": "2023-11-29T05:11:57.001560Z"
    },
    "slideshow": {
     "slide_type": "skip"
    },
    "tags": []
   },
   "outputs": [],
   "source": [
    "# code for image displayed below\n",
    "columnar_image = (\n",
    "    '<img src=\"./images_code/pandas_pred_pushdown.png\" style=\"width:100%\"/>'\n",
    ")"
   ]
  },
  {
   "cell_type": "code",
   "execution_count": 7,
   "id": "b9fcfe65-4c42-4aa0-88b8-1722e84bf943",
   "metadata": {
    "editable": true,
    "execution": {
     "iopub.execute_input": "2023-11-29T05:11:57.017720Z",
     "iopub.status.busy": "2023-11-29T05:11:57.017064Z",
     "iopub.status.idle": "2023-11-29T05:11:57.028199Z",
     "shell.execute_reply": "2023-11-29T05:11:57.027183Z",
     "shell.execute_reply.started": "2023-11-29T05:11:57.017681Z"
    },
    "slideshow": {
     "slide_type": "slide"
    },
    "tags": []
   },
   "outputs": [
    {
     "data": {
      "text/html": [
       "<img src=\"./images_code/pandas_pred_pushdown.png\" style=\"width:100%\"/>"
      ],
      "text/plain": [
       "<IPython.core.display.HTML object>"
      ]
     },
     "metadata": {},
     "output_type": "display_data"
    }
   ],
   "source": [
    "display(HTML(columnar_image))"
   ]
  },
  {
   "cell_type": "markdown",
   "id": "8bc332ec-ed28-48cb-9e67-c6f2a3d468a9",
   "metadata": {
    "editable": true,
    "slideshow": {
     "slide_type": "skip"
    },
    "tags": []
   },
   "source": [
    "# Polars - Lazy Query Example"
   ]
  },
  {
   "cell_type": "code",
   "execution_count": 8,
   "id": "b949104f-ff9e-4895-8580-1d7e70cfda07",
   "metadata": {
    "editable": true,
    "execution": {
     "iopub.execute_input": "2023-11-29T05:11:57.030003Z",
     "iopub.status.busy": "2023-11-29T05:11:57.029482Z",
     "iopub.status.idle": "2023-11-29T05:11:59.825684Z",
     "shell.execute_reply": "2023-11-29T05:11:59.824743Z",
     "shell.execute_reply.started": "2023-11-29T05:11:57.029975Z"
    },
    "slideshow": {
     "slide_type": "skip"
    },
    "tags": []
   },
   "outputs": [],
   "source": [
    "# polars Eager API\n",
    "df_pl2 = pl.read_parquet(data_parquet).filter(\n",
    "    (pl.col(\"occupation\") == \"Data Engineer\")\n",
    "    & (pl.col(\"psf_membership_status\") != \"Not Yet a Member\")\n",
    ")"
   ]
  },
  {
   "cell_type": "code",
   "execution_count": 9,
   "id": "ea07dac3-03da-4ca9-9201-32c0cf0889fd",
   "metadata": {
    "editable": true,
    "execution": {
     "iopub.execute_input": "2023-11-29T05:11:59.827493Z",
     "iopub.status.busy": "2023-11-29T05:11:59.826789Z",
     "iopub.status.idle": "2023-11-29T05:12:02.429471Z",
     "shell.execute_reply": "2023-11-29T05:12:02.428557Z",
     "shell.execute_reply.started": "2023-11-29T05:11:59.827471Z"
    },
    "slideshow": {
     "slide_type": "skip"
    },
    "tags": []
   },
   "outputs": [],
   "source": [
    "# polars Lazy API - chain transformations then collect()\n",
    "\n",
    "df_pl2 = (\n",
    "    pl.read_parquet(data_parquet)\n",
    "    .lazy()\n",
    "    .filter(\n",
    "        (pl.col(\"occupation\") == \"Apache Arrow Understudy\")\n",
    "        & (pl.col(\"psf_membership_status\") == \"Contributing\")\n",
    "    )\n",
    "    .collect()\n",
    ")"
   ]
  },
  {
   "cell_type": "code",
   "execution_count": 10,
   "id": "ab94801c-40c9-4c73-8f90-38507fc5ce33",
   "metadata": {
    "editable": true,
    "execution": {
     "iopub.execute_input": "2023-11-29T05:12:02.430826Z",
     "iopub.status.busy": "2023-11-29T05:12:02.430541Z",
     "iopub.status.idle": "2023-11-29T05:12:02.437184Z",
     "shell.execute_reply": "2023-11-29T05:12:02.435764Z",
     "shell.execute_reply.started": "2023-11-29T05:12:02.430800Z"
    },
    "slideshow": {
     "slide_type": "skip"
    },
    "tags": []
   },
   "outputs": [],
   "source": [
    "eager_lazy_api_side_by_side = \"\"\"\n",
    "<table style=\"width:100%; table-layout: fixed;\">\n",
    "    <tr>\n",
    "        <td style=\"width:50%; vertical-align: top; background-color: white;\">\n",
    "            <img src=\"./images_code/polars_eager_api_match_lines.png\" style=\"width:100%;\"/>\n",
    "        </td>\n",
    "        <td style=\"width:50%; vertical-align: top; background-color: white;\">\n",
    "            <img src=\"./images_code/polars_lazy_api.png\" style=\"width:100%;\"/>\n",
    "        </td>\n",
    "    </tr>\n",
    "</table>\n",
    "\"\"\""
   ]
  },
  {
   "cell_type": "code",
   "execution_count": 11,
   "id": "e91fd090-323a-415f-a658-9977c7484746",
   "metadata": {
    "editable": true,
    "execution": {
     "iopub.execute_input": "2023-11-29T05:12:02.439075Z",
     "iopub.status.busy": "2023-11-29T05:12:02.438548Z",
     "iopub.status.idle": "2023-11-29T05:12:02.514455Z",
     "shell.execute_reply": "2023-11-29T05:12:02.513487Z",
     "shell.execute_reply.started": "2023-11-29T05:12:02.439043Z"
    },
    "slideshow": {
     "slide_type": "slide"
    },
    "tags": []
   },
   "outputs": [
    {
     "data": {
      "text/html": [
       "\n",
       "<table style=\"width:100%; table-layout: fixed;\">\n",
       "    <tr>\n",
       "        <td style=\"width:50%; vertical-align: top; background-color: white;\">\n",
       "            <img src=\"./images_code/polars_eager_api_match_lines.png\" style=\"width:100%;\"/>\n",
       "        </td>\n",
       "        <td style=\"width:50%; vertical-align: top; background-color: white;\">\n",
       "            <img src=\"./images_code/polars_lazy_api.png\" style=\"width:100%;\"/>\n",
       "        </td>\n",
       "    </tr>\n",
       "</table>\n"
      ],
      "text/plain": [
       "<IPython.core.display.HTML object>"
      ]
     },
     "metadata": {},
     "output_type": "display_data"
    }
   ],
   "source": [
    "display(HTML(eager_lazy_api_side_by_side))"
   ]
  },
  {
   "cell_type": "markdown",
   "id": "eb6e4160-4e6d-41d8-be62-d65e77a5ce1f",
   "metadata": {
    "editable": true,
    "slideshow": {
     "slide_type": "slide"
    },
    "tags": []
   },
   "source": [
    "<h1 style=\"font-size: 32px; color: #333; margin-bottom: 20px;\">Integrating Pandas and Polars</h1>\n",
    "\n",
    "<table style=\"width: 90%;\">\n",
    "    <tr>\n",
    "        <td style=\"vertical-align: top; padding-right: 10px;\">\n",
    "            <h2 style=\"font-size: 32px; font-weight: bold; color: #555; margin: 15px 0;\">Why</h2>\n",
    "            <ul>\n",
    "                <li style=\"font-size: 24px; color: #777; margin: 10px 0;\">Creating new pipeline (great!)</li>\n",
    "                <li style=\"font-size: 24px; color: #777; margin: 10px 0;\">Need big speed improvements + worth your time + budget</li>\n",
    "                <li style=\"font-size: 24px; color: #777; margin: 10px 0;\">Expensive Pandas ops with direct matches (e.g. select)</li>\n",
    "                <li style=\"font-size: 24px; color: #777; margin: 10px 0;\">Input data is Polars-friendly (a lot)</li>\n",
    "                <ul style=\"font-size: 24px; margin-left: 40px; list-style-type: disc;\">\n",
    "                    <li style=\"font-size: 24px;\"> Pandas df</li>\n",
    "                    <li style=\"font-size: 24px;\"> Flat files</li>\n",
    "                    <li style=\"font-size: 24px;\"> Standard db (sql) or supported datastore</li>\n",
    "                    <li style=\"font-size: 24px;\"> Already in Arrow (e.g. Spark)</li>\n",
    "                    <li style=\"font-size: 24px;\"> <strong> API does NOT require  pandas (e.g. Snowflake)</strong></li>\n",
    "                </ul>\n",
    "            </ul>\n",
    "        </td>\n",
    "    </tr>\n",
    "</table>\n"
   ]
  },
  {
   "cell_type": "markdown",
   "id": "7b8b26a1-a7fc-4cf8-bb5b-8a1e38b8a3fd",
   "metadata": {
    "editable": true,
    "slideshow": {
     "slide_type": "skip"
    },
    "tags": []
   },
   "source": [
    "### Reminder: RAW cells used as input for Carbon slides, code not runnable as no active df to work with"
   ]
  },
  {
   "cell_type": "raw",
   "id": "3fb5dc63-5c70-4af9-9e87-b40b96f20684",
   "metadata": {
    "editable": true,
    "raw_mimetype": "",
    "slideshow": {
     "slide_type": "skip"
    },
    "tags": []
   },
   "source": [
    "# How to move data between Pandas and Polars directly\n",
    "\n",
    "polars.from_pandas(df_pandas_in)\n",
    "polars.to_pandas(df_pandas_out)\n",
    "\n",
    "# NOTE! ~4.2B row limit; need more rows? check out `pip install polars-u64-idx`\n",
    "# https://github.com/pola-rs/polars#going-big\n"
   ]
  },
  {
   "cell_type": "code",
   "execution_count": 12,
   "id": "7c8d3330-54f6-4ad5-bcae-05b713665f45",
   "metadata": {
    "editable": true,
    "execution": {
     "iopub.execute_input": "2023-11-29T05:12:02.516129Z",
     "iopub.status.busy": "2023-11-29T05:12:02.515678Z",
     "iopub.status.idle": "2023-11-29T05:12:02.612279Z",
     "shell.execute_reply": "2023-11-29T05:12:02.611315Z",
     "shell.execute_reply.started": "2023-11-29T05:12:02.516090Z"
    },
    "slideshow": {
     "slide_type": "skip"
    },
    "tags": []
   },
   "outputs": [],
   "source": [
    "# code for image displayed below\n",
    "polars_to_from_pandas = (\n",
    "    '<img src=\"./images_code/polars_to_from_pandas.png\" style=\"width:100%\"/>'\n",
    ")"
   ]
  },
  {
   "cell_type": "code",
   "execution_count": 13,
   "id": "8cec761b-a858-4141-8a26-3c72e5379331",
   "metadata": {
    "editable": true,
    "execution": {
     "iopub.execute_input": "2023-11-29T05:12:02.613449Z",
     "iopub.status.busy": "2023-11-29T05:12:02.613206Z",
     "iopub.status.idle": "2023-11-29T05:12:02.716837Z",
     "shell.execute_reply": "2023-11-29T05:12:02.715696Z",
     "shell.execute_reply.started": "2023-11-29T05:12:02.613432Z"
    },
    "slideshow": {
     "slide_type": "slide"
    },
    "tags": []
   },
   "outputs": [
    {
     "data": {
      "text/html": [
       "<img src=\"./images_code/polars_to_from_pandas.png\" style=\"width:100%\"/>"
      ],
      "text/plain": [
       "<IPython.core.display.HTML object>"
      ]
     },
     "metadata": {},
     "output_type": "display_data"
    }
   ],
   "source": [
    "display(HTML(polars_to_from_pandas))"
   ]
  },
  {
   "cell_type": "raw",
   "id": "f2ea765b-ecdb-4b23-87b7-88851880e81f",
   "metadata": {
    "editable": true,
    "execution": {
     "iopub.execute_input": "2023-11-27T18:48:14.134491Z",
     "iopub.status.busy": "2023-11-27T18:48:14.134030Z",
     "iopub.status.idle": "2023-11-27T18:48:14.291677Z",
     "shell.execute_reply": "2023-11-27T18:48:14.290790Z",
     "shell.execute_reply.started": "2023-11-27T18:48:14.134463Z"
    },
    "raw_mimetype": "",
    "slideshow": {
     "slide_type": "skip"
    },
    "tags": []
   },
   "source": [
    "# Polars.from_pandas API detail\n",
    "\n",
    "polars.from_pandas(\n",
    "    data=df,\n",
    "    schema_overrides=None,\n",
    "    rechunk=True,\n",
    "    nan_to_null=True,\n",
    "    include_index=True\n",
    ")\n",
    "\n",
    "# https://pola-rs.github.io/polars/py-polars/html/reference/api/polars.from_pandas.html\n"
   ]
  },
  {
   "cell_type": "code",
   "execution_count": 14,
   "id": "e9d2dbd0-e780-46ea-ab9c-fef14b887605",
   "metadata": {
    "editable": true,
    "execution": {
     "iopub.execute_input": "2023-11-29T05:12:02.718898Z",
     "iopub.status.busy": "2023-11-29T05:12:02.718406Z",
     "iopub.status.idle": "2023-11-29T05:12:02.813538Z",
     "shell.execute_reply": "2023-11-29T05:12:02.812434Z",
     "shell.execute_reply.started": "2023-11-29T05:12:02.718861Z"
    },
    "slideshow": {
     "slide_type": "skip"
    },
    "tags": []
   },
   "outputs": [],
   "source": [
    "# code for image displayed below\n",
    "polars_from_pandas_detail = (\n",
    "    '<img src=\"./images_code/polars_from_pandas_detail.png\" style=\"width:100%\"/>'\n",
    ")"
   ]
  },
  {
   "cell_type": "code",
   "execution_count": 15,
   "id": "5651a8ed-d20e-4947-a4f8-997ff35b06aa",
   "metadata": {
    "editable": true,
    "execution": {
     "iopub.execute_input": "2023-11-29T05:12:02.815581Z",
     "iopub.status.busy": "2023-11-29T05:12:02.814749Z",
     "iopub.status.idle": "2023-11-29T05:12:02.847519Z",
     "shell.execute_reply": "2023-11-29T05:12:02.846581Z",
     "shell.execute_reply.started": "2023-11-29T05:12:02.815550Z"
    },
    "slideshow": {
     "slide_type": "slide"
    },
    "tags": []
   },
   "outputs": [
    {
     "data": {
      "text/html": [
       "<img src=\"./images_code/polars_from_pandas_detail.png\" style=\"width:100%\"/>"
      ],
      "text/plain": [
       "<IPython.core.display.HTML object>"
      ]
     },
     "metadata": {},
     "output_type": "display_data"
    }
   ],
   "source": [
    "display(HTML(polars_from_pandas_detail))"
   ]
  },
  {
   "cell_type": "raw",
   "id": "5afd1e6d-293e-4f53-a3a3-4b7754e16f18",
   "metadata": {
    "editable": true,
    "raw_mimetype": "",
    "slideshow": {
     "slide_type": "skip"
    },
    "tags": []
   },
   "source": [
    "# Polars.to_pandas API detail\n",
    "\n",
    "pandas_df_new = polars.to_pandas(\n",
    "                                 use_pyarrow_extension_array=True,\n",
    "                                 **kwargs\n",
    "                                )\n",
    "\n",
    "# uses Arrow in background\n",
    "# copies data unless: use_pyarrow_extension_array=True\n",
    "# **kwargs send to pyarrow.Table.to_pandas() \n",
    "# many options for mapping; self-destruct to free memory\n",
    "\n",
    "# https://pola-rs.github.io/polars/py-polars/html/reference/dataframe/api/polars.DataFrame.to_pandas.html#polars.DataFrame.to_pandas\n"
   ]
  },
  {
   "cell_type": "code",
   "execution_count": 16,
   "id": "513d7f83-06e4-49b7-b03d-eff6af6b24fb",
   "metadata": {
    "editable": true,
    "execution": {
     "iopub.execute_input": "2023-11-29T05:12:02.848896Z",
     "iopub.status.busy": "2023-11-29T05:12:02.848530Z",
     "iopub.status.idle": "2023-11-29T05:12:02.859527Z",
     "shell.execute_reply": "2023-11-29T05:12:02.858313Z",
     "shell.execute_reply.started": "2023-11-29T05:12:02.848863Z"
    },
    "slideshow": {
     "slide_type": "skip"
    },
    "tags": []
   },
   "outputs": [],
   "source": [
    "# code for image displayed below\n",
    "polars_to_pandas_detail = (\n",
    "    '<img src=\"./images_code/polars_to_pandas_detail.png\" style=\"width:100%\"/>'\n",
    ")"
   ]
  },
  {
   "cell_type": "code",
   "execution_count": 17,
   "id": "0980bcbb-1917-416c-be56-dd1719b484f1",
   "metadata": {
    "editable": true,
    "execution": {
     "iopub.execute_input": "2023-11-29T05:12:02.861327Z",
     "iopub.status.busy": "2023-11-29T05:12:02.860894Z",
     "iopub.status.idle": "2023-11-29T05:12:02.890669Z",
     "shell.execute_reply": "2023-11-29T05:12:02.889468Z",
     "shell.execute_reply.started": "2023-11-29T05:12:02.861292Z"
    },
    "slideshow": {
     "slide_type": "slide"
    },
    "tags": []
   },
   "outputs": [
    {
     "data": {
      "text/html": [
       "<img src=\"./images_code/polars_to_pandas_detail.png\" style=\"width:100%\"/>"
      ],
      "text/plain": [
       "<IPython.core.display.HTML object>"
      ]
     },
     "metadata": {},
     "output_type": "display_data"
    }
   ],
   "source": [
    "display(HTML(polars_to_pandas_detail))"
   ]
  },
  {
   "cell_type": "code",
   "execution_count": 18,
   "id": "76e0a3bb-da1e-4c0d-8ba9-325c17efd558",
   "metadata": {
    "editable": true,
    "execution": {
     "iopub.execute_input": "2023-11-29T05:12:02.892375Z",
     "iopub.status.busy": "2023-11-29T05:12:02.891880Z",
     "iopub.status.idle": "2023-11-29T05:12:02.910708Z",
     "shell.execute_reply": "2023-11-29T05:12:02.909379Z",
     "shell.execute_reply.started": "2023-11-29T05:12:02.892353Z"
    },
    "slideshow": {
     "slide_type": "slide"
    },
    "tags": []
   },
   "outputs": [
    {
     "data": {
      "text/html": [
       "\n",
       "        <iframe\n",
       "            width=\"105%\"\n",
       "            height=\"1000px\"\n",
       "            src=\"https://arrow.apache.org/docs/python/generated/pyarrow.Table.html#pyarrow.Table.to_pandas\"\n",
       "            frameborder=\"0\"\n",
       "            allowfullscreen\n",
       "            \n",
       "        ></iframe>\n",
       "        "
      ],
      "text/plain": [
       "<IPython.lib.display.IFrame at 0x7ff1bfd0f310>"
      ]
     },
     "metadata": {},
     "output_type": "display_data"
    }
   ],
   "source": [
    "display(\n",
    "    IFrame(\n",
    "        \"https://arrow.apache.org/docs/python/generated/pyarrow.Table.html#pyarrow.Table.to_pandas\",\n",
    "        width=\"105%\",\n",
    "        height=\"1000px\",\n",
    "    )\n",
    ")"
   ]
  },
  {
   "cell_type": "raw",
   "id": "7a634876-4869-4cd6-9d9b-25770a777417",
   "metadata": {
    "editable": true,
    "raw_mimetype": "",
    "slideshow": {
     "slide_type": "skip"
    },
    "tags": []
   },
   "source": [
    "# How to use Pandas directly with Arrow\n",
    "\n",
    "import pyarrow as pa\n",
    "import pandas as pd\n",
    "\n",
    "\n",
    "table = pa.Table.from_pandas(df)\n",
    "\n",
    "# do some ops in Arrow\n",
    "# ...join\n",
    "# ...flatten\n",
    "# ...cast\n",
    "# ...sort, groupby, etc.\n",
    "\n",
    "df_new = table.to_pandas()\n"
   ]
  },
  {
   "cell_type": "code",
   "execution_count": 19,
   "id": "b4f41b68-9fed-44de-b89f-8d4ddaf68361",
   "metadata": {
    "editable": true,
    "execution": {
     "iopub.execute_input": "2023-11-29T05:12:02.912554Z",
     "iopub.status.busy": "2023-11-29T05:12:02.912006Z",
     "iopub.status.idle": "2023-11-29T05:12:02.941458Z",
     "shell.execute_reply": "2023-11-29T05:12:02.940337Z",
     "shell.execute_reply.started": "2023-11-29T05:12:02.912528Z"
    },
    "slideshow": {
     "slide_type": "skip"
    },
    "tags": []
   },
   "outputs": [],
   "source": [
    "# code for image displayed below\n",
    "pandas_with_pyarrow = (\n",
    "    '<img src=\"./images_code/pandas_with_pyarrow.png\" style=\"width:100%\"/>'\n",
    ")"
   ]
  },
  {
   "cell_type": "code",
   "execution_count": 20,
   "id": "34121cdd-b675-4c02-ac6b-0ccc9ebf9955",
   "metadata": {
    "editable": true,
    "execution": {
     "iopub.execute_input": "2023-11-29T05:12:02.943411Z",
     "iopub.status.busy": "2023-11-29T05:12:02.942853Z",
     "iopub.status.idle": "2023-11-29T05:12:02.959184Z",
     "shell.execute_reply": "2023-11-29T05:12:02.957885Z",
     "shell.execute_reply.started": "2023-11-29T05:12:02.943382Z"
    },
    "slideshow": {
     "slide_type": "slide"
    },
    "tags": []
   },
   "outputs": [
    {
     "data": {
      "text/html": [
       "<img src=\"./images_code/pandas_with_pyarrow.png\" style=\"width:100%\"/>"
      ],
      "text/plain": [
       "<IPython.core.display.HTML object>"
      ]
     },
     "metadata": {},
     "output_type": "display_data"
    }
   ],
   "source": [
    "display(HTML(pandas_with_pyarrow))"
   ]
  },
  {
   "cell_type": "markdown",
   "id": "67f76d25-8fed-461e-b9fb-d03043c55e19",
   "metadata": {
    "editable": true,
    "slideshow": {
     "slide_type": "slide"
    },
    "tags": []
   },
   "source": [
    "## Re: Speed - what are practical implications of transfers to/from Arrow?\n"
   ]
  },
  {
   "cell_type": "raw",
   "id": "9742947f-2d33-47cb-a443-15ac547634c7",
   "metadata": {
    "editable": true,
    "execution": {
     "iopub.execute_input": "2023-10-08T06:12:01.060743Z",
     "iopub.status.busy": "2023-10-08T06:12:01.059068Z",
     "iopub.status.idle": "2023-10-08T06:12:09.924971Z",
     "shell.execute_reply": "2023-10-08T06:12:09.920527Z",
     "shell.execute_reply.started": "2023-10-08T06:12:01.060671Z"
    },
    "raw_mimetype": "",
    "slideshow": {
     "slide_type": "skip"
    },
    "tags": []
   },
   "source": [
    "# Quick Example - transfers\n",
    "pd.options.future.infer_string = True\n",
    "pd.options.mode.copy_on_write = True\n",
    "\n",
    "df_pl3 = pl.read_parquet(data_parquet)  # ~680MB parquet\n"
   ]
  },
  {
   "cell_type": "code",
   "execution_count": 21,
   "id": "3459b22a-fa58-4a76-a909-c02b7a984a4f",
   "metadata": {
    "editable": true,
    "execution": {
     "iopub.execute_input": "2023-11-29T05:12:02.960977Z",
     "iopub.status.busy": "2023-11-29T05:12:02.960436Z",
     "iopub.status.idle": "2023-11-29T05:12:02.980249Z",
     "shell.execute_reply": "2023-11-29T05:12:02.979012Z",
     "shell.execute_reply.started": "2023-11-29T05:12:02.960951Z"
    },
    "slideshow": {
     "slide_type": "skip"
    },
    "tags": []
   },
   "outputs": [],
   "source": [
    "# code for image displayed below\n",
    "pl_pd_xfer_speed_setup = (\n",
    "    '<img src=\"./images_code/pl_pd_xfer_speed_setup.png\" style=\"width:100%\"/>'\n",
    ")"
   ]
  },
  {
   "cell_type": "code",
   "execution_count": 22,
   "id": "d92d6612-ddc9-4ee4-aee7-60d1f1aedd21",
   "metadata": {
    "editable": true,
    "execution": {
     "iopub.execute_input": "2023-11-29T05:12:02.984914Z",
     "iopub.status.busy": "2023-11-29T05:12:02.984506Z",
     "iopub.status.idle": "2023-11-29T05:12:03.000567Z",
     "shell.execute_reply": "2023-11-29T05:12:02.999512Z",
     "shell.execute_reply.started": "2023-11-29T05:12:02.984886Z"
    },
    "slideshow": {
     "slide_type": "slide"
    },
    "tags": []
   },
   "outputs": [
    {
     "data": {
      "text/html": [
       "<img src=\"./images_code/pl_pd_xfer_speed_setup.png\" style=\"width:100%\"/>"
      ],
      "text/plain": [
       "<IPython.core.display.HTML object>"
      ]
     },
     "metadata": {},
     "output_type": "display_data"
    }
   ],
   "source": [
    "display(HTML(pl_pd_xfer_speed_setup))"
   ]
  },
  {
   "cell_type": "raw",
   "id": "8c906a3f-7de7-48f8-b612-bbb41877154b",
   "metadata": {
    "editable": true,
    "execution": {
     "iopub.execute_input": "2023-10-08T06:12:09.931230Z",
     "iopub.status.busy": "2023-10-08T06:12:09.929855Z",
     "iopub.status.idle": "2023-10-08T06:13:53.903553Z",
     "shell.execute_reply": "2023-10-08T06:13:53.900534Z",
     "shell.execute_reply.started": "2023-10-08T06:12:09.931183Z"
    },
    "raw_mimetype": "",
    "slideshow": {
     "slide_type": "skip"
    },
    "tags": []
   },
   "source": [
    "# to_pandas (numpy)\n",
    "\n",
    "df_pd_xfered = df_pl3.to_pandas()  # copies data!  ~680MB\n",
    "# could do other ops in Pandas here...\n",
    "df_pd_xfered.head(2)\n",
    "\n",
    "# ~65.81s\n",
    "# this is expensive...\n",
    "\n",
    "del(df_pd_xfered)\n"
   ]
  },
  {
   "cell_type": "code",
   "execution_count": 23,
   "id": "0ef7afe7-1d64-4393-9af5-0815a7ba0b6a",
   "metadata": {
    "editable": true,
    "execution": {
     "iopub.execute_input": "2023-11-29T05:12:03.001920Z",
     "iopub.status.busy": "2023-11-29T05:12:03.001557Z",
     "iopub.status.idle": "2023-11-29T05:12:03.013752Z",
     "shell.execute_reply": "2023-11-29T05:12:03.012529Z",
     "shell.execute_reply.started": "2023-11-29T05:12:03.001894Z"
    },
    "slideshow": {
     "slide_type": "skip"
    },
    "tags": []
   },
   "outputs": [],
   "source": [
    "# code for image displayed below\n",
    "pl_to_pandas_slow = (\n",
    "    '<img src=\"./images_code/pl_to_pandas_slow.png\" style=\"width:100%\"/>'\n",
    ")"
   ]
  },
  {
   "cell_type": "code",
   "execution_count": 24,
   "id": "3c639f19-45df-45fe-ad46-e28acce5974a",
   "metadata": {
    "editable": true,
    "execution": {
     "iopub.execute_input": "2023-11-29T05:12:03.015623Z",
     "iopub.status.busy": "2023-11-29T05:12:03.015057Z",
     "iopub.status.idle": "2023-11-29T05:12:03.029860Z",
     "shell.execute_reply": "2023-11-29T05:12:03.028456Z",
     "shell.execute_reply.started": "2023-11-29T05:12:03.015599Z"
    },
    "slideshow": {
     "slide_type": "slide"
    },
    "tags": []
   },
   "outputs": [
    {
     "data": {
      "text/html": [
       "<img src=\"./images_code/pl_to_pandas_slow.png\" style=\"width:100%\"/>"
      ],
      "text/plain": [
       "<IPython.core.display.HTML object>"
      ]
     },
     "metadata": {},
     "output_type": "display_data"
    }
   ],
   "source": [
    "display(HTML(pl_to_pandas_slow))"
   ]
  },
  {
   "cell_type": "raw",
   "id": "6471c482-a848-4462-8c1a-3830f143c387",
   "metadata": {
    "editable": true,
    "execution": {
     "iopub.execute_input": "2023-10-08T06:15:11.537478Z",
     "iopub.status.busy": "2023-10-08T06:15:11.536887Z",
     "iopub.status.idle": "2023-10-08T06:15:13.886424Z",
     "shell.execute_reply": "2023-10-08T06:15:13.884002Z",
     "shell.execute_reply.started": "2023-10-08T06:15:11.537440Z"
    },
    "raw_mimetype": "",
    "slideshow": {
     "slide_type": "skip"
    },
    "tags": []
   },
   "source": [
    "# to_pandas (using pyarrow; no copy)\n",
    "\n",
    "df_pd_xfered = df_pl3.to_pandas(use_pyarrow_extension_array=True)  \n",
    "# does not copy data!\n",
    "df_pd_xfered.head(2)\n",
    "\n",
    "# 2.35s\n",
    "# ~28x faster than numpy/data copy\n"
   ]
  },
  {
   "cell_type": "code",
   "execution_count": 25,
   "id": "073ecab7-9bed-4ab8-9039-45bb6333101e",
   "metadata": {
    "editable": true,
    "execution": {
     "iopub.execute_input": "2023-11-29T05:12:03.031603Z",
     "iopub.status.busy": "2023-11-29T05:12:03.031222Z",
     "iopub.status.idle": "2023-11-29T05:12:03.041748Z",
     "shell.execute_reply": "2023-11-29T05:12:03.040791Z",
     "shell.execute_reply.started": "2023-11-29T05:12:03.031577Z"
    },
    "slideshow": {
     "slide_type": "skip"
    },
    "tags": []
   },
   "outputs": [],
   "source": [
    "# code for image displayed below\n",
    "pl_to_pandas_fast = (\n",
    "    '<img src=\"./images_code/pl_to_pandas_fast.png\" style=\"width:100%\"/>'\n",
    ")"
   ]
  },
  {
   "cell_type": "code",
   "execution_count": 26,
   "id": "c86941f7-612e-4c5f-ac5b-ed860954993a",
   "metadata": {
    "editable": true,
    "execution": {
     "iopub.execute_input": "2023-11-29T05:12:03.043158Z",
     "iopub.status.busy": "2023-11-29T05:12:03.042799Z",
     "iopub.status.idle": "2023-11-29T05:12:03.057905Z",
     "shell.execute_reply": "2023-11-29T05:12:03.056634Z",
     "shell.execute_reply.started": "2023-11-29T05:12:03.043129Z"
    },
    "slideshow": {
     "slide_type": "slide"
    },
    "tags": []
   },
   "outputs": [
    {
     "data": {
      "text/html": [
       "<img src=\"./images_code/pl_to_pandas_fast.png\" style=\"width:100%\"/>"
      ],
      "text/plain": [
       "<IPython.core.display.HTML object>"
      ]
     },
     "metadata": {},
     "output_type": "display_data"
    }
   ],
   "source": [
    "display(HTML(pl_to_pandas_fast))"
   ]
  },
  {
   "cell_type": "markdown",
   "id": "1adb4b58-09fd-4fb3-84fa-325f0af6060e",
   "metadata": {
    "editable": true,
    "slideshow": {
     "slide_type": "slide"
    },
    "tags": []
   },
   "source": [
    "<table style=\"width: 100%; border-collapse: collapse; margin-top: 0;\">\n",
    "    <tr>\n",
    "        <td style=\"vertical-align: top;\">\n",
    "            <h1 style=\"font-size: 48px; color: #333; margin-top: 0; margin-bottom: 10px;\">TLDR</h1>\n",
    "        </td>\n",
    "    </tr>\n",
    "    <tr>\n",
    "        <td style=\"vertical-align: top;\">\n",
    "            <h2 style=\"font-size: 24px; color: #555; margin-top: 0; margin-bottom: 10px;\">- Use Pandas - power (completeness) / flexibility / stability</h2>\n",
    "        </td>\n",
    "    </tr>\n",
    "    <tr>\n",
    "        <td style=\"vertical-align: top;\">\n",
    "            <h2 style=\"font-size: 24px; color: #555; margin-top: 0; margin-bottom: 10px;\">- Add Polars where you can for speed</h2>\n",
    "        </td>\n",
    "    </tr>\n",
    "    <tr>\n",
    "        <td style=\"vertical-align: top;\">\n",
    "            <h2 style=\"font-size: 24px; color: #555; margin-top: 0; margin-bottom: 10px;\">- Both getting faster - Arrow is the driver</h2>\n",
    "        </td>\n",
    "    </tr>\n",
    "    <tr>\n",
    "        <td style=\"vertical-align: top;\">\n",
    "            <h2 style=\"font-size: 24px; color: #555; margin-top: 0;\">- Build better pipelines -- use together where it makes sense</h2>\n",
    "        </td>\n",
    "    </tr>\n",
    "</table>\n"
   ]
  },
  {
   "cell_type": "markdown",
   "id": "475bd123-d69d-474a-a95e-f4495fe2a408",
   "metadata": {
    "editable": true,
    "slideshow": {
     "slide_type": "skip"
    },
    "tags": []
   },
   "source": [
    "# Thank You / Wrap Up\n"
   ]
  },
  {
   "cell_type": "code",
   "execution_count": 27,
   "id": "f718a3ca-13c2-4613-a51a-d228b48e8841",
   "metadata": {
    "editable": true,
    "execution": {
     "iopub.execute_input": "2023-11-29T05:12:03.059479Z",
     "iopub.status.busy": "2023-11-29T05:12:03.059160Z",
     "iopub.status.idle": "2023-11-29T05:12:03.073338Z",
     "shell.execute_reply": "2023-11-29T05:12:03.072103Z",
     "shell.execute_reply.started": "2023-11-29T05:12:03.059455Z"
    },
    "slideshow": {
     "slide_type": "skip"
    },
    "tags": []
   },
   "outputs": [
    {
     "name": "stdout",
     "output_type": "stream",
     "text": [
      "QR code exists\n"
     ]
    }
   ],
   "source": [
    "# check or create QR code for this github repo\n",
    "if not Path.is_file(qr_full_path):\n",
    "    print(f\"QR code missing; recreating {qr_full_path}\")\n",
    "    qr = qrcode.QRCode(error_correction=qrcode.constants.ERROR_CORRECT_M)\n",
    "    qr.add_data(git_url_for_this_talk)\n",
    "\n",
    "    qr_code_extended_talk = qr.make_image(\n",
    "        image_factory=StyledPilImage,\n",
    "        module_drawer=GappedSquareModuleDrawer(),\n",
    "    )\n",
    "    qr_code_extended_talk.save(qr_full_path)\n",
    "    qr_code_extended_talk\n",
    "else:\n",
    "    print(\"QR code exists\")"
   ]
  },
  {
   "cell_type": "markdown",
   "id": "80c81724-1050-4a23-aadf-6af5be2a247d",
   "metadata": {
    "editable": true,
    "slideshow": {
     "slide_type": "slide"
    },
    "tags": []
   },
   "source": [
    "<html>\n",
    "<head>\n",
    "    <link href=\"https://fonts.googleapis.com/css2?family=Architects+Daughter&display=swap\" rel=\"stylesheet\">\n",
    "</head>\n",
    "<body>\n",
    "    <table style=\"border-collapse: collapse; border: none; background-color: #F7F7F7; width: 105%; font-size: 148px;\">\n",
    "        <tr>\n",
    "            <td colspan=\"2\" style=\"border: none; background-color: #E0E0E0; text-align: center; font-weight: bold; font-family: 'Architects Daughter';\">Thank you!</td>\n",
    "        </tr>\n",
    "        <tr>\n",
    "            <td style=\"border: none; background-color: #F7F7F7; text-align: left; font-size: 48px;\">Chris Brousseau</td>\n",
    "        </tr>\n",
    "        <tr>\n",
    "            <td style=\"border: none; background-color: #F7F7F7; text-align: left; font-weight: bold; font-size: 36px;\">Data / ML & Data Science Consulting</td>\n",
    "        </tr>\n",
    "        <tr>\n",
    "            <td style=\"border: none; background-color: #F7F7F7; text-align: left; font-weight: bold; font-size: 36px;\">chris@surfaceowl.com</td>\n",
    "        </tr>\n",
    "        <tr>\n",
    "            <td style=\"padding: 8px; border: none; background-color: #F7F7F7; text-align: left; font-size: 24px;\">\n",
    "                <a href=\"https://github.com/surfaceowl/talk_nov2023_pandas_polars_arrow\" target=\"_blank\"> https://github.com/surfaceowl/talk_nov2023_pandas_polars_arrow</a>\n",
    "            </td>\n",
    "            <td style=\"padding: 8px; border: none; background-color: #F7F7F7; text-align: center;\">\n",
    "                <img src=\"./images/qr_code_extended_talk.png\" alt=\"QR Code for Extended Better Together Talk\" style=\"max-width: 100%; height: auto;\">\n",
    "            </td>\n",
    "        </tr>\n",
    "    </table>\n",
    "</body>\n",
    "</html>"
   ]
  },
  {
   "cell_type": "markdown",
   "id": "714acea8-514f-4ac9-843e-e2ece830daf8",
   "metadata": {
    "editable": true,
    "slideshow": {
     "slide_type": "slide"
    },
    "tags": []
   },
   "source": [
    "# Appendix"
   ]
  },
  {
   "cell_type": "markdown",
   "id": "4275700c-485e-4eb6-bbf4-af02de279aee",
   "metadata": {
    "editable": true,
    "execution": {
     "iopub.execute_input": "2023-11-29T04:57:21.184629Z",
     "iopub.status.busy": "2023-11-29T04:57:21.183129Z",
     "iopub.status.idle": "2023-11-29T04:57:21.193964Z",
     "shell.execute_reply": "2023-11-29T04:57:21.193009Z",
     "shell.execute_reply.started": "2023-11-29T04:57:21.184598Z"
    },
    "slideshow": {
     "slide_type": "slide"
    },
    "tags": []
   },
   "source": [
    "<div style=\"font-size: 48px; width: 75%; text-align: left;\">\n",
    "    <table style=\"font-size: 18px; width: 105%;\">\n",
    "        <tr>\n",
    "            <td style=\"vertical-align: top;\"><b>Arrow Revolution</b></td>\n",
    "            <td><a href=\"https://datapythonista.me/blog/pandas-20-and-the-arrow-revolution-part-i\">https://datapythonista.me/blog/pandas-20-and-the-arrow-revolution-part-i</a><br><br></td>\n",
    "        </tr>\n",
    "            <td style=\"vertical-align: top;\"><b>interesting articles/video</b></td>\n",
    "            <td>\n",
    "                <a href=\"https://www.youtube.com/watch?v=QfLzEp-yt_U\">Richey Vink; Polars Creator</a><br>\n",
    "                <a href=\"https://kyleake.medium.com/pandas-to-polars-a-comprehensive-transition-guide-81b6f50e9154\">https://kyleake.medium.com/pandas-to-polars-a-comprehensive-transition-guide-81b6f50e9154</a><br><br>\n",
    "            </td>\n",
    "        <tr>\n",
    "            <td style=\"vertical-align: top;\"><b>pandas</b></td>\n",
    "            <td><a href=\"https://pandas.pydata.org/docs/whatsnew/index.html\">https://pandas.pydata.org/docs/whatsnew/index.html</a><br><br></td>\n",
    "        </tr>\n",
    "        <tr>\n",
    "            <td style=\"vertical-align: top;\"><b>polars</b></td>\n",
    "            <td><a href=\"https://pola-rs.github.io/polars/\">https://pola-rs.github.io/polars/</a><br><br></td>\n",
    "        </tr>\n",
    "        <tr>\n",
    "            <td style=\"vertical-align: top;\"><b>convert to/from pandas/pyarrow</b></td>\n",
    "            <td><a href=\"https://arrow.apache.org/docs/python/pandas.html\">https://arrow.apache.org/docs/python/pandas.html</a><br><br></td>\n",
    "        </tr>\n",
    "        <tr>\n",
    "            <td style=\"vertical-align: top;\"><b>apache arrow</b></td>\n",
    "            <td>\n",
    "                <a href=\"https://arrow.apache.org/overview/\">https://arrow.apache.org/overview/</a><br><br>\n",
    "                <a href=\"https://arrow.apache.org/docs/python/index.html\">https://arrow.apache.org/docs/python/index.html</a><br><br>\n",
    "            </td>\n",
    "        </tr>\n",
    "        <tr>\n",
    "            <td style=\"vertical-align: top;\"><b>dataframe API standard</b></td>\n",
    "            <td>\n",
    "                <a href=\"https://data-apis.org/dataframe-api/draft/index.html\">https://data-apis.org/dataframe-api/draft/index.html</a><br>\n",
    "                <a href=\"https://ponder.io/how-the-python-dataframe-interchange-protocol-makes-life-better/\">https://ponder.io/how-the-python-dataframe-interchange-protocol-makes-life-better/</a><br><br>\n",
    "            </td>\n",
    "        </tr>\n",
    "        <tr>\n",
    "            <td style=\"vertical-align: top;\"><b>Reference - Datatypes</b></td>\n",
    "            <td>\n",
    "                <a href=\"https://pythonspeed.com/articles/pandas-string-dtype-memory/\">https://pythonspeed.com/articles/pandas-string-dtype-memory/</a><br>\n",
    "                <a href=\"https://arrow.apache.org/blog/2019/02/05/python-string-memory-0.12/\">https://arrow.apache.org/blog/2019/02/05/python-string-memory-0.12/</a><br>\n",
    "                <a href=\"https://pandas.pydata.org/docs/user_guide/basics.html#dtypes\">https://pandas.pydata.org/docs/user_guide/basics.html#dtypes</a><br>\n",
    "                <a href=\"https://pola-rs.github.io/polars/py-polars/html/reference/datatypes.html\">https://pola-rs.github.io/polars/py-polars/html/reference/datatypes.html</a><br>\n",
    "                <a href=\"https://arrow.apache.org/docs/python/pandas.html\">https://arrow.apache.org/docs/python/pandas.html</a><br><br>\n",
    "            </td>\n",
    "        </tr>\n",
    "    </table>\n",
    "</div>\n"
   ]
  },
  {
   "cell_type": "code",
   "execution_count": 28,
   "id": "05c19f86-bc89-4ef9-becc-711c5998982c",
   "metadata": {
    "editable": true,
    "execution": {
     "iopub.execute_input": "2023-11-29T05:12:03.074623Z",
     "iopub.status.busy": "2023-11-29T05:12:03.074344Z",
     "iopub.status.idle": "2023-11-29T05:12:04.340451Z",
     "shell.execute_reply": "2023-11-29T05:12:04.339622Z",
     "shell.execute_reply.started": "2023-11-29T05:12:03.074600Z"
    },
    "slideshow": {
     "slide_type": "slide"
    },
    "tags": []
   },
   "outputs": [
    {
     "name": "stdout",
     "output_type": "stream",
     "text": [
      "object 77270726\n",
      "string 77270726\n",
      "arrow  24270726\n"
     ]
    }
   ],
   "source": [
    "# string memory usage - credit to:  https://pythonspeed.com/articles/pandas-string-dtype-memory/\n",
    "from random import random\n",
    "import sys\n",
    "\n",
    "prefix = sys.argv[1]\n",
    "\n",
    "# A Python list of strings generated from random numbers:\n",
    "random_strings = [prefix + str(random()) for i in range(1_000_000)]\n",
    "\n",
    "# The default dtype, object:\n",
    "object_dtype = pd.Series(random_strings)\n",
    "print(\"object\", object_dtype.memory_usage(deep=True))\n",
    "\n",
    "# A normal Pandas string dtype:\n",
    "standard_dtype = pd.Series(random_strings, dtype=\"string\")\n",
    "print(\"string\", standard_dtype.memory_usage(deep=True))\n",
    "\n",
    "# The new Arrow string dtype from Pandas 2.1.3:\n",
    "arrow_dtype = pd.Series(random_strings, dtype=\"string[pyarrow]\")\n",
    "print(\"arrow \", arrow_dtype.memory_usage(deep=True))"
   ]
  },
  {
   "cell_type": "code",
   "execution_count": 29,
   "id": "92e33f75-b890-4bb9-8b09-6695294247c3",
   "metadata": {
    "editable": true,
    "execution": {
     "iopub.execute_input": "2023-11-29T05:12:04.341837Z",
     "iopub.status.busy": "2023-11-29T05:12:04.341547Z",
     "iopub.status.idle": "2023-11-29T05:12:04.659082Z",
     "shell.execute_reply": "2023-11-29T05:12:04.658184Z",
     "shell.execute_reply.started": "2023-11-29T05:12:04.341822Z"
    },
    "slideshow": {
     "slide_type": "slide"
    },
    "tags": []
   },
   "outputs": [
    {
     "data": {
      "text/plain": [
       "69.0"
      ]
     },
     "execution_count": 29,
     "metadata": {},
     "output_type": "execute_result"
    }
   ],
   "source": [
    "arrow_string_savings_pct = (\n",
    "    (standard_dtype.memory_usage(deep=True)) - arrow_dtype.memory_usage(deep=True)\n",
    ") / standard_dtype.memory_usage(deep=True)\n",
    "\n",
    "arrow_string_savings_pct = round(arrow_string_savings_pct * 100, 0)\n",
    "arrow_string_savings_pct"
   ]
  },
  {
   "cell_type": "code",
   "execution_count": null,
   "id": "35d46036-11c5-4344-a36c-58a42541e54a",
   "metadata": {
    "editable": true,
    "slideshow": {
     "slide_type": ""
    },
    "tags": []
   },
   "outputs": [],
   "source": []
  }
 ],
 "metadata": {
  "kernelspec": {
   "display_name": "Python 3 (ipykernel)",
   "language": "python",
   "name": "python3"
  },
  "language_info": {
   "codemirror_mode": {
    "name": "ipython",
    "version": 3
   },
   "file_extension": ".py",
   "mimetype": "text/x-python",
   "name": "python",
   "nbconvert_exporter": "python",
   "pygments_lexer": "ipython3",
   "version": "3.11.6"
  }
 },
 "nbformat": 4,
 "nbformat_minor": 5
}
