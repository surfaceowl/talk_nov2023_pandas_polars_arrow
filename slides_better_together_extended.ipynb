{
 "cells": [
  {
   "cell_type": "code",
   "execution_count": 1,
   "id": "4766d670-0f7b-442d-896c-5d20b61bb927",
   "metadata": {
    "editable": true,
    "execution": {
     "iopub.execute_input": "2023-10-08T15:28:16.084159Z",
     "iopub.status.busy": "2023-10-08T15:28:16.083613Z",
     "iopub.status.idle": "2023-10-08T15:28:17.115631Z",
     "shell.execute_reply": "2023-10-08T15:28:17.113855Z",
     "shell.execute_reply.started": "2023-10-08T15:28:16.084103Z"
    },
    "slideshow": {
     "slide_type": "skip"
    },
    "tags": []
   },
   "outputs": [],
   "source": [
    "# setup\n",
    "from pathlib import Path\n",
    "\n",
    "import numpy as np\n",
    "import pandas as pd\n",
    "import polars as pl\n",
    "from IPython.display import HTML, display\n",
    "\n",
    "data_path = Path(\"data\")\n",
    "data_csv = Path(\"data\", \"python_dev_universe.csv\")\n",
    "data_csv_gz = Path(data_path, \"python_dev_universe.csv.gz\")\n",
    "data_parquet = Path(\"data\", \"python_dev_universe.parquet\")"
   ]
  },
  {
   "cell_type": "markdown",
   "id": "4cbb1aeb-328e-4cdf-bfa7-eeb6c8d18a59",
   "metadata": {
    "editable": true,
    "slideshow": {
     "slide_type": "slide"
    },
    "tags": []
   },
   "source": [
    "\n",
    "<html>\n",
    "<head>\n",
    "</head>\n",
    "<body style=\"background-color: #FFFFFF;\">\n",
    "  <h1 align=\"center\" style=\"font-weight: bold; font-style: italic; font-size: 390%;\">Better Together - Pandas + Polars</h1>\n",
    "  <table border=\"0\" align=\"center\" width=\"100%\" bgcolor=\"#FFFFFF\">\n",
    "    <tr>\n",
    "      <td align=\"center\" width=\"50%\" bgcolor=\"#FFFFFF\">\n",
    "        <img src=\"images/pandas_logo.1280x517.png\" width=\"620\" height=\"250\">\n",
    "      </td>\n",
    "      <td align=\"center\" width=\"50%\" bgcolor=\"#FFFFFF\">\n",
    "        <img src=\"images/polars.round.400x400.png\" width=\"250\" height=\"250\">\n",
    "      </td>\n",
    "    </tr>\n",
    "    <tr>\n",
    "      <td colspan=\"2\" align=\"center\" bgcolor=\"#FFFFFF\">\n",
    "        <img src=\"images/arrow-logo_horizontal.1800x936.png\" width=\"481\" height=\"250\">\n",
    "      </td>\n",
    "    </tr>\n",
    "  </table>\n",
    "  <br>\n",
    "  <div style=\"font-size: 300%;\">\n",
    "    <b>Better Together: Unleashing the Synergy of Pandas, Polars, and Apache Arrow</b><br>\n",
    "    <b>Speaker:  Chris Brousseau</b> <br>\n",
    "    <b>30 Nov 2023</b> \n",
    "  </div>\n",
    "</body>\n",
    "</html>\n",
    " </div>\n",
    "</body>\n",
    "</html>"
   ]
  },
  {
   "cell_type": "markdown",
   "id": "a24bbb8b-7769-4459-8d57-5fa6fb4f26f7",
   "metadata": {
    "editable": true,
    "execution": {
     "iopub.execute_input": "2023-10-05T17:41:45.618979Z",
     "iopub.status.busy": "2023-10-05T17:41:45.617699Z",
     "iopub.status.idle": "2023-10-05T17:41:45.629488Z",
     "shell.execute_reply": "2023-10-05T17:41:45.627405Z",
     "shell.execute_reply.started": "2023-10-05T17:41:45.618942Z"
    },
    "slideshow": {
     "slide_type": "slide"
    },
    "tags": []
   },
   "source": [
    "<table class=\"custom-slide-table\">\n",
    "    <tr>\n",
    "        <td class=\"image-content\">\n",
    "            <img src=\"./images/intro_slide_full.jpg\" alt=\"Images of me - full slide\">\n",
    "        </td>\n",
    "    </tr>\n",
    "</table>"
   ]
  },
  {
   "cell_type": "markdown",
   "id": "904f22c4-7938-45ee-ad23-b751980dabd5",
   "metadata": {
    "editable": true,
    "slideshow": {
     "slide_type": "slide"
    },
    "tags": []
   },
   "source": [
    "<table style=\"width: 100%; border-collapse: collapse; margin-top: 0;\">\n",
    "    <tr>\n",
    "        <td style=\"vertical-align: top;\">\n",
    "            <h1 style=\"font-size: 48px; color: #333; margin-top: 0; margin-bottom: 10px;\">TLDR</h1>\n",
    "        </td>\n",
    "    </tr>\n",
    "    <tr>\n",
    "        <td style=\"vertical-align: top;\">\n",
    "            <h2 style=\"font-size: 24px; color: #555; margin-top: 0; margin-bottom: 10px;\">- Use Pandas - power (completeness) / flexibility / stability</h2>\n",
    "        </td>\n",
    "    </tr>\n",
    "    <tr>\n",
    "        <td style=\"vertical-align: top;\">\n",
    "            <h2 style=\"font-size: 24px; color: #555; margin-top: 0; margin-bottom: 10px;\">- Add Polars where you can for speed / smaller less stable API</h2>\n",
    "        </td>\n",
    "    </tr>\n",
    "    <tr>\n",
    "        <td style=\"vertical-align: top;\">\n",
    "            <h2 style=\"font-size: 24px; color: #555; margin-top: 0; margin-bottom: 10px;\">- Both getting faster - Arrow is the driver</h2>\n",
    "        </td>\n",
    "    </tr>\n",
    "    <tr>\n",
    "        <td style=\"vertical-align: top;\">\n",
    "            <h2 style=\"font-size: 24px; color: #555; margin-top: 0;\">- Build better pipelines -- use together where it makes sense</h2>\n",
    "        </td>\n",
    "    </tr>\n",
    "</table>\n"
   ]
  },
  {
   "cell_type": "markdown",
   "id": "98823da9-0a27-4bf6-97ab-5ad8d5a6e331",
   "metadata": {
    "editable": true,
    "execution": {
     "iopub.execute_input": "2023-10-04T19:50:04.890206Z",
     "iopub.status.busy": "2023-10-04T19:50:04.889842Z",
     "iopub.status.idle": "2023-10-04T19:50:04.899025Z",
     "shell.execute_reply": "2023-10-04T19:50:04.898073Z",
     "shell.execute_reply.started": "2023-10-04T19:50:04.890181Z"
    },
    "jp-MarkdownHeadingCollapsed": true,
    "slideshow": {
     "slide_type": "slide"
    },
    "tags": []
   },
   "source": [
    "<h1>What is Apache Arrow / Why is it a Game Changer?</h1>\n",
    "\n",
    "<p style=\"font-size: 24px; line-height: 2;\">\n",
    "  <strong>In-memory data format for tabular data</strong><br><br>\n",
    "  <strong>Interoperability ==> Easier</strong> ...Arrow makes data program independent<br>\n",
    "  <strong>Datatypes ==> More + Better</strong>  ...Strings; Missing data support<br>\n",
    "  <strong>Speed ==> Faster</strong> ...Columnar format; zero-copy reads ==> transfer pointers + metadata<br>\n",
    "</p>\n",
    "\n",
    "<table border=\"1\" style=\"width: 95%\">\n",
    "  <thead>\n",
    "    <tr style=\"font-weight: bold;\">\n",
    "      <th style=\"text-align: center; padding: 10px\">\n",
    "        <img src=\"./images/arrow_simd.948x651.png\" alt=\"in-memory columnar format\" style=\"margin-right: 10px;\">\n",
    "      </th>\n",
    "      <th style=\"text-align: center; padding: 10px\">\n",
    "        <img src=\"./images/arrow_copy.574x318.png\" alt=\"zero-copy reads\" style=\"margin-left: 10px;\">\n",
    "      </th>\n",
    "    </tr>\n",
    "  </thead>\n",
    "  <tbody>\n",
    "    <tr style=\"background-color: #FFFFFF; ; font-size: 24px;\">\n",
    "      <td colspan=\"3\" style=\"font-weight: bold; text-align: center;\">\n",
    "        Image source: Apache Foundation\n",
    "      </td>\n",
    "    </tr>\n",
    "    <tr>\n",
    "      <td style=\"text-align: center; font-size: 18px;\">\n",
    "        <a href=\"https://arrow.apache.org/overview/\">Apache Arrow Overview</a>\n",
    "      </td>\n",
    "      <td style=\"text-align: center; font-size: 18px;\">\n",
    "        <a href=\"https://arrow.apache.org/docs/format/Columnar.html\">Columnar Format</a>\n",
    "      </td>\n",
    "      <td style=\"text-align: center; font-size: 18px;\">\n",
    "        <a href=\"https://pandas.pydata.org/docs/user_guide/pyarrow.html\">Pandas PyArrow</a>\n",
    "      </td>\n",
    "    </tr>\n",
    "  </tbody>\n",
    "</table>\n"
   ]
  },
  {
   "cell_type": "markdown",
   "id": "9fca268d-ff5e-45d2-8465-f8f95e932601",
   "metadata": {
    "editable": true,
    "execution": {
     "iopub.execute_input": "2023-10-02T18:10:08.550854Z",
     "iopub.status.busy": "2023-10-02T18:10:08.549735Z",
     "iopub.status.idle": "2023-10-02T18:10:08.574746Z",
     "shell.execute_reply": "2023-10-02T18:10:08.572358Z",
     "shell.execute_reply.started": "2023-10-02T18:10:08.550793Z"
    },
    "jp-MarkdownHeadingCollapsed": true,
    "slideshow": {
     "slide_type": "slide"
    },
    "tags": []
   },
   "source": [
    "<h1>Key Differences - Packages</h1>\n",
    "\n",
    "<table border=\"1\" style=\"width: 80%; font-size: 24px;\">\n",
    "  <thead>\n",
    "    <tr style=\"font-weight: bold;\">\n",
    "      <th style=\"vertical-align: bottom;\">Feature</th>\n",
    "      <th style=\"text-align: left;\">\n",
    "        <img src=\"./images/pandas_secondary.svg\" alt=\"Pandas\" style=\"width: 300px; max-width: 100%;\">\n",
    "      </th>\n",
    "      <th style=\"text-align: left;\">\n",
    "        <img src=\"./images/polars.round.400x400.png\" alt=\"Polars\" style=\"width: 200px; max-width: 100%;\">\n",
    "      </th>\n",
    "    </tr>\n",
    "  </thead>\n",
    "  <tbody>\n",
    "    <tr style=\"height:100px\"; style=\"background-color: #FFFFFF;\">\n",
    "      <td>First Release Date</td>\n",
    "      <td>2008</td>\n",
    "      <td>2019</td>\n",
    "    </tr>\n",
    "    <tr style=\"height:100px\"; style=\"background-color: #F0F0F0;\">\n",
    "      <td>Current Release</td>\n",
    "      <td>2.1.3</td>\n",
    "      <td>0.19.13</td>\n",
    "    </tr>\n",
    "    <tr style=\"height:100px\"; style=\"background-color: #FFFFFF;\">\n",
    "      <td>Programming Language</td>\n",
    "      <td>C, Cython, Python</td>\n",
    "      <td>Rust</td>\n",
    "    </tr>\n",
    "    <tr style=\"height:100px\"; style=\"background-color: #FFFFFF;\">\n",
    "      <td>Project Goal</td>\n",
    "      <td>To be the fundamental building block for python data analysis & manipulation - most powerful and flexible dataframe tool</td>\n",
    "      <td>To provide lightning-fast dataframes that use all local resources</td>\n",
    "    </tr>\n",
    "  </tbody>\n",
    "</table>\n"
   ]
  },
  {
   "cell_type": "markdown",
   "id": "900186c9-ac34-4229-ae9a-a01fdc0c8867",
   "metadata": {
    "editable": true,
    "execution": {
     "iopub.execute_input": "2023-10-02T18:10:08.550854Z",
     "iopub.status.busy": "2023-10-02T18:10:08.549735Z",
     "iopub.status.idle": "2023-10-02T18:10:08.574746Z",
     "shell.execute_reply": "2023-10-02T18:10:08.572358Z",
     "shell.execute_reply.started": "2023-10-02T18:10:08.550793Z"
    },
    "slideshow": {
     "slide_type": "slide"
    },
    "tags": []
   },
   "source": [
    "<h1>Key Differences - Memory</h1>\n",
    "\n",
    "<table border=\"1\" style=\"width: 80%; font-size: 24px;\">\n",
    "  <thead>\n",
    "    <tr style=\"font-weight: bold;\">\n",
    "      <th style=\"vertical-align: bottom;\">Feature</th>\n",
    "      <th style=\"text-align: left;\">\n",
    "        <img src=\"./images/pandas_secondary.svg\" alt=\"Pandas\" style=\"width: 300px; max-width: 100%;\">\n",
    "      </th>\n",
    "      <th style=\"text-align: left;\">\n",
    "        <img src=\"./images/polars.round.400x400.png\" alt=\"Polars\" style=\"width: 200px; max-width: 100%;\">\n",
    "      </th>\n",
    "    </tr>\n",
    "  </thead>\n",
    "  <tbody>\n",
    "    <tr style=\"height:100px\"; style=\"background-color: #F0F0F0; font-weight: bold\">\n",
    "      <td><strong>Memory</strong></td>\n",
    "      <td></td>\n",
    "      <td></td>\n",
    "    </tr>\n",
    "    <tr style=\"height:100px\"; style=\"background-color: #FFFFFF;\">\n",
    "      <td>Memory Backend</td>\n",
    "      <td>Numpy (default) or <strong>Apache Arrow</strong></td>\n",
    "      <td><strong>Apache Arrow</strong></td>\n",
    "    </tr>\n",
    "    <tr style=\"height:100px\"; style=\"background-color: #F0F0F0;\">\n",
    "      <td>Memory implementation</td>\n",
    "      <td>Pyarrow <br>(C++ wrapper on data)</td>\n",
    "      <td>Arrow2 <br>(Rust wrapper on data)</td>\n",
    "    </tr>\n",
    "    <tr style=\"height:100px\"; style=\"background-color: #FFFFFF;\">\n",
    "      <td>Larger-than-Memory/ Out-of-Core</td>\n",
    "      <td>No  (but via Dask)</td>\n",
    "      <td><strong>Native on Lazy df only (`collect(streaming=True`);  chunking + spill</strong></td>\n",
    "    </tr>\n",
    "    <tr style=\"height:100px\"; style=\"background-color: #F0F0F0;\">\n",
    "      <td>Represent Missing Data</td>\n",
    "      <td>\"NaN\" or \"None\"</td>\n",
    "      <td>\"null\"</td>\n",
    "    </tr>\n",
    "  </tbody>\n",
    "</table>\n"
   ]
  },
  {
   "cell_type": "markdown",
   "id": "25e2837d-88f2-470f-83bc-4ce9caf57927",
   "metadata": {
    "editable": true,
    "execution": {
     "iopub.execute_input": "2023-10-02T18:10:08.550854Z",
     "iopub.status.busy": "2023-10-02T18:10:08.549735Z",
     "iopub.status.idle": "2023-10-02T18:10:08.574746Z",
     "shell.execute_reply": "2023-10-02T18:10:08.572358Z",
     "shell.execute_reply.started": "2023-10-02T18:10:08.550793Z"
    },
    "slideshow": {
     "slide_type": "slide"
    },
    "tags": []
   },
   "source": [
    "<h1>Key Differences - API</h1>\n",
    "\n",
    "<table border=\"1\" style=\"width: 80%; font-size: 24px;\">\n",
    "  <thead>\n",
    "    <tr style=\"font-weight: bold;\">\n",
    "      <th style=\"vertical-align: bottom;\">Feature</th>\n",
    "      <th style=\"text-align: left;\">\n",
    "        <img src=\"./images/pandas_secondary.svg\" alt=\"Pandas\" style=\"width: 300px; max-width: 100%;\">\n",
    "      </th>\n",
    "      <th style=\"text-align: left;\">\n",
    "        <img src=\"./images/polars.round.400x400.png\" alt=\"Polars\" style=\"width: 200px; max-width: 100%;\">\n",
    "      </th>\n",
    "    </tr>\n",
    "  </thead>\n",
    "  <tbody>\n",
    "    <tr style=\"height:70px\"; style=\"background-color: #FFFFFF;\">\n",
    "      <td>Number of Methods</td>\n",
    "      <td><strong><i>Many</i></strong></td>\n",
    "      <td><strong><i>not 1:1</i></strong></td>\n",
    "    </tr>\n",
    "    <tr style=\"height:70px\"; style=\"background-color: #F0F0F0;\">\n",
    "      <td>Index/Multindex</td>\n",
    "      <td>Yes</td>\n",
    "      <td><strong>No - \"index free\"</strong></td>\n",
    "    </tr>\n",
    "    <tr style=\"height:70px\"; style=\"background-color: #FFFFFF;\">\n",
    "      <td>Nullable dtype</td>\n",
    "      <td>Yes</td>\n",
    "      <td>Yes</td>\n",
    "    </tr>\n",
    "    <tr style=\"height:70px\"; style=\"background-color: #F0F0F0;\">\n",
    "      <td>API mode</td>\n",
    "      <td>Eager</td>\n",
    "      <td>Eager (+ Lazy)</td>\n",
    "    </tr>\n",
    "    <tr style=\"height:70px\"; style=\"background-color: #FFFFFF;\">\n",
    "      <td>Query Optimization</td>\n",
    "      <td>No</td>\n",
    "      <td>Yes (with Lazy)</td>\n",
    "    </tr>\n",
    "    <tr style=\"height:100px\"; style=\"background-color: #F0F0F0;\">\n",
    "      <td>Parallelization</td>\n",
    "      <td>No - single threaded</td>\n",
    "      <td><strong>Yes - multithreaded</td>\n",
    "    </tr>\n",
    "    <tr style=\"height:70px\"; style=\"background-color: #FFFFFF;\">\n",
    "      <td>SIMD</td>\n",
    "      <td>No</td>\n",
    "      <td><strong>Yes</td>\n",
    "    </tr>\n",
    "  </tbody>\n",
    "</table>\n"
   ]
  },
  {
   "cell_type": "markdown",
   "id": "e1bfe78b-fc92-4606-bfd7-0601347e3b5b",
   "metadata": {
    "editable": true,
    "execution": {
     "iopub.execute_input": "2023-10-04T18:59:44.986576Z",
     "iopub.status.busy": "2023-10-04T18:59:44.986266Z",
     "iopub.status.idle": "2023-10-04T18:59:44.995046Z",
     "shell.execute_reply": "2023-10-04T18:59:44.994090Z",
     "shell.execute_reply.started": "2023-10-04T18:59:44.986555Z"
    },
    "slideshow": {
     "slide_type": "slide"
    },
    "tags": []
   },
   "source": [
    "<h1>Recent Updates</h1>\n",
    "<table border=\"1\" style=\"width: 80%; font-size: 24px;\">\n",
    "  <thead>\n",
    "    <tr style=\"font-weight: bold;\">\n",
    "      <th style=\"vertical-align: bottom;\">2023 - Speed & Consistency</th>\n",
    "      <th style=\"text-align: left;\">\n",
    "        <img src=\"./images/pandas_secondary.svg\" alt=\"Pandas\" style=\"width: 300px; max-width: 100%;\">\n",
    "      </th>\n",
    "      <th style=\"text-align: left;\">\n",
    "        <img src=\"./images/polars.round.400x400.png\" alt=\"Polars\" style=\"width: 200px; max-width: 100%;\">\n",
    "      </th>\n",
    "    </tr>\n",
    "  </thead>\n",
    "  <tbody>\n",
    "    <tr style=\"background-color: #FFFFFF;\">\n",
    "      <td>Backend</td>\n",
    "      <td>Apache Arrow. <strong>Pyarrow required after 3.0.0</strong></td>\n",
    "      <td>+cloud reading; +speed +bugfix</td>\n",
    "    </tr>\n",
    "    <tr style=\"height:100px\"; style=\"background-color: #F0F0F0;\">\n",
    "      <td></td>\n",
    "      <td><i>Lazy </i><strong>Copy-on-Write</strong><br>simplifies API<br>only mod one object</td>\n",
    "      <td></td>\n",
    "    </tr>\n",
    "    <tr style=\"height:100px\"; style=\"background-color: #FFFFFF;\">\n",
    "      <td>Feature Flags / optional dependencies</td>\n",
    "      <td>pip install <br>pandas[aws, performance]</td>\n",
    "      <td>pip install <br>polars[pandas, ffspec]</td>\n",
    "    </tr>\n",
    "    <tr style=\"height:100px\"; style=\"background-color: #F0F0F0;\">\n",
    "      <td>Reference</td>\n",
    "      <td><a href=\"https://pandas.pydata.org/docs/whatsnew/index.html\">pandas release notes</td>\n",
    "      <td><a href=\"https://github.com/pola-rs/polars/releases\">polars release notes</td>\n",
    "    </tr>\n",
    "  </tbody>\n",
    "</table>"
   ]
  },
  {
   "cell_type": "markdown",
   "id": "ca7b810f-b5aa-4c20-ba97-86e12aececa9",
   "metadata": {
    "editable": true,
    "execution": {
     "iopub.execute_input": "2023-10-05T23:36:30.124108Z",
     "iopub.status.busy": "2023-10-05T23:36:30.123723Z",
     "iopub.status.idle": "2023-10-05T23:36:30.130190Z",
     "shell.execute_reply": "2023-10-05T23:36:30.128887Z",
     "shell.execute_reply.started": "2023-10-05T23:36:30.124086Z"
    },
    "slideshow": {
     "slide_type": "slide"
    },
    "tags": []
   },
   "source": [
    "<h1>But how much faster?</h1>\n",
    "<table border=\"1\" style=\"width: 80%; \">\n",
    "  <thead>\n",
    "    <tr style=\"font-size: 24px; font-weight: bold;\">\n",
    "      <th style=\"vertical-align: bottom;\">Anecdotes & Considerations</th>\n",
    "      <th style=\"text-align: left;\">\n",
    "        <img src=\"./images/pandas_secondary.svg\" alt=\"Pandas\" style=\"width: 300px; max-width: 100%;\">\n",
    "      </th>\n",
    "      <th style=\"text-align: left;\">\n",
    "        <img src=\"./images/polars.round.400x400.png\" alt=\"Polars\" style=\"width: 200px; max-width: 100%;\">\n",
    "      </th>\n",
    "    </tr>\n",
    "  </thead>\n",
    "  <tbody>\n",
    "    <tr style=\"height:70px; font-size: 24px; background-color: #FFFFFF;\">\n",
    "      <td>read csv +csv.gz</td>\n",
    "      <td></td>\n",
    "      <td><strong>~3x-20x faster</strong></td>\n",
    "    </tr>\n",
    "    <tr style=\"height:70px; font-size: 24px; background-color: #F0F0F0;\">\n",
    "      <td>read parquet</td>\n",
    "      <td></td>\n",
    "      <td>~1x-5x</td>\n",
    "    </tr>\n",
    "    <tr style=\"height:70px; font-size: 24px; background-color: #FFFFFF;\">\n",
    "      <td>groupby</td>\n",
    "      <td></td>\n",
    "      <td>~10x</td>\n",
    "    </tr>\n",
    "    <tr style=\"height:70px;  font-size: 24px; background-color: #F0F0F0;\">\n",
    "      <td>Other Considerations</td>\n",
    "      <td>Huge Ecosystem / examples</td>\n",
    "      <td>Smaller but growing Ecosystem</td>\n",
    "    <tr style=\"height:100px; font-size: 24px; background-color: #FFFFFF;\">\n",
    "      <td>API</td>\n",
    "      <td><strong>Stable</strong></td>\n",
    "      <td><strong>Less Stable - but improving</strong></td>\n",
    "    </tr>\n",
    "      <tr style=\"height:70px; font-size: 24px; background-color: #F0F0F0;\">\n",
    "      <td> </td>\n",
    "      <td> </td>\n",
    "      <td>Categorical; some window functions / plotting /etc.</td>\n",
    "    </tr>\n",
    "    <tr style=\"height:70px; font-size: 24px; background-color: #FFFFFF;\">\n",
    "      <td><strong>Reference - see repo</strong></td>\n",
    "      <td><a href=\"https://pandas.pydata.org/docs/reference/index.html\">pandas api</td>\n",
    "      <td><a href=\"https://pola-rs.github.io/polars/py-polars/html/reference/\">polars api</td>\n",
    "    </tr>\n",
    "  </tbody>\n",
    "</table>"
   ]
  },
  {
   "cell_type": "markdown",
   "id": "7bce3aae-7543-4499-aa58-0454dbeccd91",
   "metadata": {
    "editable": true,
    "execution": {
     "iopub.execute_input": "2023-10-08T14:37:23.144023Z",
     "iopub.status.busy": "2023-10-08T14:37:23.142080Z",
     "iopub.status.idle": "2023-10-08T14:37:23.161236Z",
     "shell.execute_reply": "2023-10-08T14:37:23.158621Z",
     "shell.execute_reply.started": "2023-10-08T14:37:23.143910Z"
    },
    "slideshow": {
     "slide_type": "slide"
    },
    "tags": []
   },
   "source": [
    "<style>\n",
    "    .custom-slide-table {\n",
    "        width: 100%;\n",
    "        table-layout: fixed;\n",
    "    }\n",
    "\n",
    "    .custom-slide-table td {\n",
    "        vertical-align: middle;\n",
    "    }\n",
    "\n",
    "    .custom-title {\n",
    "        font-size: 32px;\n",
    "        text-align: left;\n",
    "        margin-top: 20px;\n",
    "        margin-bottom: 20px;\n",
    "    }\n",
    "</style>\n",
    "\n",
    "<h1 class=\"custom-title\">Caution when comparing baselines!  Configs have a big impact</h1>\n",
    "\n",
    "<table class=\"custom-slide-table\">\n",
    "    <tr>\n",
    "        <td class=\"image-content\">\n",
    "            <img src=\"./images/csv_read_speed_comparison.jpg\" alt=\"A lot faster!\">\n",
    "        </td>\n",
    "    </tr>\n",
    "</table>\n"
   ]
  },
  {
   "cell_type": "markdown",
   "id": "68fc6a15-2583-48b0-a7e3-ada6420e0285",
   "metadata": {
    "editable": true,
    "slideshow": {
     "slide_type": "slide"
    },
    "tags": []
   },
   "source": [
    "# Get the Best out of Pandas\n",
    "\n",
    "### 1- use pyarrow for I/O & nullable dtypes (faster)\n",
    "pd.read_csv( my_datat.csv\",  engine=\"pyarrow\" dtype_backend=\"pyarrow\")<br>pd.read_parquet) <br>\n",
    "<br>\n",
    "### 2- set pyarrow for all string data (faster/smaller)\n",
    "pd.options.future.infer_string = True   <br>\n",
    "<br>\n",
    "### 3- enable Copy-On-Write (lazy + more consistent api) -- just do this anyway; will be default!\n",
    "pd.options.mode.copy_on_write = True <br>\n",
    "<br>"
   ]
  },
  {
   "cell_type": "markdown",
   "id": "4fe6f500-2ad8-4b97-b0e8-ecd678e3521a",
   "metadata": {
    "editable": true,
    "slideshow": {
     "slide_type": "slide"
    },
    "tags": []
   },
   "source": [
    "# some syntax differences"
   ]
  },
  {
   "cell_type": "raw",
   "id": "3390c893-d652-4979-bf78-35080ec389eb",
   "metadata": {
    "editable": true,
    "execution": {
     "iopub.execute_input": "2023-10-07T20:34:31.072034Z",
     "iopub.status.busy": "2023-10-07T20:34:31.071494Z",
     "iopub.status.idle": "2023-10-07T20:35:12.118044Z",
     "shell.execute_reply": "2023-10-07T20:35:12.116065Z",
     "shell.execute_reply.started": "2023-10-07T20:34:31.071948Z"
    },
    "slideshow": {
     "slide_type": "fragment"
    },
    "tags": []
   },
   "source": [
    "# syntax example - pandas\n",
    "df_pandas = pd.read_parquet(data_parquet)\n",
    "df_pandas.head(2)"
   ]
  },
  {
   "cell_type": "raw",
   "id": "2ae84aa5-d1bd-4709-8cf4-2baa3bf44015",
   "metadata": {
    "editable": true,
    "execution": {
     "iopub.execute_input": "2023-10-07T20:35:12.120566Z",
     "iopub.status.busy": "2023-10-07T20:35:12.120076Z",
     "iopub.status.idle": "2023-10-07T20:35:21.315218Z",
     "shell.execute_reply": "2023-10-07T20:35:21.312692Z",
     "shell.execute_reply.started": "2023-10-07T20:35:12.120526Z"
    },
    "slideshow": {
     "slide_type": "fragment"
    },
    "tags": []
   },
   "source": [
    "# syntax example - polars\n",
    "df_polars = pl.read_parquet(data_parquet)\n",
    "df_polars.head(2)"
   ]
  },
  {
   "cell_type": "raw",
   "id": "d0c2a980-14d1-455f-bdbc-d2f436479471",
   "metadata": {
    "editable": true,
    "execution": {
     "iopub.execute_input": "2023-10-07T20:35:21.319487Z",
     "iopub.status.busy": "2023-10-07T20:35:21.318559Z",
     "iopub.status.idle": "2023-10-07T20:35:27.916678Z",
     "shell.execute_reply": "2023-10-07T20:35:27.914647Z",
     "shell.execute_reply.started": "2023-10-07T20:35:21.319424Z"
    },
    "raw_mimetype": "",
    "slideshow": {
     "slide_type": "fragment"
    },
    "tags": []
   },
   "source": [
    "df_pandas[\"customer_id\"].count()  vs df_polars.select(pl.count(\"customer_id\"))"
   ]
  },
  {
   "cell_type": "markdown",
   "id": "0b8f6fcd-d4ae-43c8-8498-41a9cc775bc4",
   "metadata": {
    "editable": true,
    "slideshow": {
     "slide_type": "slide"
    },
    "tags": []
   },
   "source": [
    "# Use Columnar Example\n"
   ]
  },
  {
   "cell_type": "raw",
   "id": "48b242d4-6f55-4c47-bff2-1a4df5e7e0c0",
   "metadata": {
    "editable": true,
    "execution": {
     "iopub.execute_input": "2023-10-08T00:15:32.753325Z",
     "iopub.status.busy": "2023-10-08T00:15:32.752681Z",
     "iopub.status.idle": "2023-10-08T00:16:56.904332Z",
     "shell.execute_reply": "2023-10-08T00:16:56.899233Z",
     "shell.execute_reply.started": "2023-10-08T00:15:32.753279Z"
    },
    "slideshow": {
     "slide_type": "fragment"
    },
    "tags": []
   },
   "source": [
    "# pandas = reading parquet is faster because of columnar format\n",
    "df_pd1 = pd.read_parquet(data_parquet)\n",
    "df_pd1.head(1)\n",
    "\n",
    "# runtime: 84.15s"
   ]
  },
  {
   "cell_type": "raw",
   "id": "cb0ee36e-4bac-4ea7-99c6-5dea4d3d3ff9",
   "metadata": {
    "editable": true,
    "execution": {
     "iopub.execute_input": "2023-10-08T00:16:56.914172Z",
     "iopub.status.busy": "2023-10-08T00:16:56.912743Z",
     "iopub.status.idle": "2023-10-08T00:17:07.028403Z",
     "shell.execute_reply": "2023-10-08T00:17:07.025899Z",
     "shell.execute_reply.started": "2023-10-08T00:16:56.914100Z"
    },
    "slideshow": {
     "slide_type": "fragment"
    },
    "tags": []
   },
   "source": [
    "# pandas predicate push-down with parquet files helps with speed\n",
    "df_pd2 = pd.read_parquet(\n",
    "    data_parquet,\n",
    "    filters=[\n",
    "        (\"occupation\", \"==\", \"Data Engineer\"),\n",
    "        (\"psf_membership_status\", \"!=\", \"Not Yet a Member\"),\n",
    "    ],\n",
    ")\n",
    "df_pd2.head(1)\n",
    "# runtime: 10.1s"
   ]
  },
  {
   "cell_type": "markdown",
   "id": "8bc332ec-ed28-48cb-9e67-c6f2a3d468a9",
   "metadata": {
    "editable": true,
    "slideshow": {
     "slide_type": "skip"
    },
    "tags": []
   },
   "source": [
    "# Use Lazy Example"
   ]
  },
  {
   "cell_type": "code",
   "execution_count": 2,
   "id": "a7de0aa6-19f2-462b-88e7-0f9e9b7d661f",
   "metadata": {
    "editable": true,
    "execution": {
     "iopub.execute_input": "2023-10-08T15:28:17.120066Z",
     "iopub.status.busy": "2023-10-08T15:28:17.118679Z",
     "iopub.status.idle": "2023-10-08T15:28:25.034351Z",
     "shell.execute_reply": "2023-10-08T15:28:25.032429Z",
     "shell.execute_reply.started": "2023-10-08T15:28:17.120020Z"
    },
    "slideshow": {
     "slide_type": "skip"
    },
    "tags": []
   },
   "outputs": [],
   "source": [
    "# polars Eager API\n",
    "df_pl2 = pl.read_parquet(data_parquet).filter(\n",
    "    (pl.col(\"occupation\") == \"Data Engineer\")\n",
    "    & (pl.col(\"psf_membership_status\") != \"Not Yet a Member\")\n",
    ")"
   ]
  },
  {
   "cell_type": "code",
   "execution_count": 3,
   "id": "ea07dac3-03da-4ca9-9201-32c0cf0889fd",
   "metadata": {
    "editable": true,
    "execution": {
     "iopub.execute_input": "2023-10-08T15:28:25.038031Z",
     "iopub.status.busy": "2023-10-08T15:28:25.036734Z",
     "iopub.status.idle": "2023-10-08T15:28:33.090827Z",
     "shell.execute_reply": "2023-10-08T15:28:33.088908Z",
     "shell.execute_reply.started": "2023-10-08T15:28:25.037964Z"
    },
    "slideshow": {
     "slide_type": "skip"
    },
    "tags": []
   },
   "outputs": [],
   "source": [
    "# polars Lazy API - chain transformations then collect()\n",
    "\n",
    "df_pl2 = (\n",
    "    pl.read_parquet(data_parquet)\n",
    "    .lazy()\n",
    "    .filter(\n",
    "        (pl.col(\"occupation\") == \"Apache Arrow Understudy\")\n",
    "        & (pl.col(\"psf_membership_status\") == \"Contributing\")\n",
    "    )\n",
    "    .collect()\n",
    ")"
   ]
  },
  {
   "cell_type": "markdown",
   "id": "eb6e4160-4e6d-41d8-be62-d65e77a5ce1f",
   "metadata": {
    "editable": true,
    "slideshow": {
     "slide_type": "slide"
    },
    "tags": []
   },
   "source": [
    "<h1 style=\"font-size: 32px; color: #333; margin-bottom: 20px;\">Integrating Pandas and Polars</h1>\n",
    "\n",
    "<table style=\"width: 90%;\">\n",
    "    <tr>\n",
    "        <td style=\"vertical-align: top; padding-right: 10px;\">\n",
    "            <h2 style=\"font-size: 32px; font-weight: bold; color: #555; margin: 15px 0;\">Why</h2>\n",
    "            <ul>\n",
    "                <li style=\"font-size: 24px; color: #777; margin: 10px 0;\">Creating new pipeline (great!)</li>\n",
    "                <li style=\"font-size: 24px; color: #777; margin: 10px 0;\">Need big speed improvements + worth your time + budget</li>\n",
    "                <li style=\"font-size: 24px; color: #777; margin: 10px 0;\">Expensive Pandas ops with direct matches (e.g. select)</li>\n",
    "                <li style=\"font-size: 24px; color: #777; margin: 10px 0;\">Input data is Polars-friendly (a lot)</li>\n",
    "                <ul style=\"font-size: 24px; margin-left: 40px; list-style-type: disc;\">\n",
    "                    <li style=\"font-size: 24px;\"> Pandas df</li>\n",
    "                    <li style=\"font-size: 24px;\"> Flat files</li>\n",
    "                    <li style=\"font-size: 24px;\"> Standard db (sql) or supported datastore</li>\n",
    "                    <li style=\"font-size: 24px;\"> Already in Arrow (e.g. Spark)</li>\n",
    "                    <li style=\"font-size: 24px;\"> <strong> API does NOT require  pandas (e.g. Snowflake)</strong></li>\n",
    "                </ul>\n",
    "            </ul>\n",
    "        </td>\n",
    "        <td style=\"vertical-align: top; padding-left: 10px;\">\n",
    "            <h2 style=\"font-size:32px; font-weight: bold; color: #555; margin: 15px 0;\">How</h2>\n",
    "            <ul style=\"list-style-type: none;\">\n",
    "                <li style=\"font-size: 24px; color: #777; margin: 10px 0;\">Use polars</li>\n",
    "            </ul>\n",
    "            <div style=\"font-size: 24px; margin-left: 40px;\">\n",
    "                <code>polars.from_pandas</code><br>\n",
    "                <code>polars.to_pandas</code><br>\n",
    "            </div>\n",
    "            <ul style=\"list-style-type: none;\">\n",
    "                <li style=\"font-size: 24px; color: #777; margin: 10px 0;\">Use arrow directly</li>\n",
    "            </ul>\n",
    "            <div style=\"font-size: 24px; margin-left: 40px;\">\n",
    "                <strong>Pandas</strong> <br>\n",
    "                <code>import pyarrow as pa</code><br>\n",
    "                <code>import pandas as pd</code><br>\n",
    "                <code>table = pa.Table.from_pandas(df)</code><br>\n",
    "                <code>df_new = table.to_pandas()</code><br><br>\n",
    "                <strong>Polars</strong> <br>\n",
    "                <code>polars.from_arrow</code><br>\n",
    "                <code>polars.to_arrow</code><br>\n",
    "            </div>\n",
    "        </td>\n",
    "    </tr>\n",
    "</table>\n"
   ]
  },
  {
   "cell_type": "raw",
   "id": "9742947f-2d33-47cb-a443-15ac547634c7",
   "metadata": {
    "editable": true,
    "execution": {
     "iopub.execute_input": "2023-10-08T06:12:01.060743Z",
     "iopub.status.busy": "2023-10-08T06:12:01.059068Z",
     "iopub.status.idle": "2023-10-08T06:12:09.924971Z",
     "shell.execute_reply": "2023-10-08T06:12:09.920527Z",
     "shell.execute_reply.started": "2023-10-08T06:12:01.060671Z"
    },
    "raw_mimetype": "",
    "slideshow": {
     "slide_type": "slide"
    },
    "tags": []
   },
   "source": [
    "# Quick Example - transfers\n",
    "pd.options.future.infer_string = True\n",
    "pd.options.mode.copy_on_write = True\n",
    "\n",
    "df_pl3 = pl.read_parquet(data_parquet)"
   ]
  },
  {
   "cell_type": "raw",
   "id": "8c906a3f-7de7-48f8-b612-bbb41877154b",
   "metadata": {
    "editable": true,
    "execution": {
     "iopub.execute_input": "2023-10-08T06:12:09.931230Z",
     "iopub.status.busy": "2023-10-08T06:12:09.929855Z",
     "iopub.status.idle": "2023-10-08T06:13:53.903553Z",
     "shell.execute_reply": "2023-10-08T06:13:53.900534Z",
     "shell.execute_reply.started": "2023-10-08T06:12:09.931183Z"
    },
    "raw_mimetype": "",
    "slideshow": {
     "slide_type": "fragment"
    },
    "tags": []
   },
   "source": [
    "# to_pandas (numpy)\n",
    "\n",
    "df_pd_xfered = df_pl3.to_pandas()  # copies data\n",
    "# do other ops in Pandas here\n",
    "df_pd_xfered.head(2)\n",
    "\n",
    "# ~65.81s\n",
    "# this is expensive..."
   ]
  },
  {
   "cell_type": "raw",
   "id": "6471c482-a848-4462-8c1a-3830f143c387",
   "metadata": {
    "editable": true,
    "execution": {
     "iopub.execute_input": "2023-10-08T06:15:11.537478Z",
     "iopub.status.busy": "2023-10-08T06:15:11.536887Z",
     "iopub.status.idle": "2023-10-08T06:15:13.886424Z",
     "shell.execute_reply": "2023-10-08T06:15:13.884002Z",
     "shell.execute_reply.started": "2023-10-08T06:15:11.537440Z"
    },
    "raw_mimetype": "",
    "slideshow": {
     "slide_type": "fragment"
    },
    "tags": []
   },
   "source": [
    "# to_pandas (using pyarrow)\n",
    "\n",
    "df_pd_xfered = df_pl3.to_pandas(use_pyarrow_extension_array=True)  # does not copy data\n",
    "# do other ops in Pandas here\n",
    "df_pd_xfered.head(2)\n",
    "\n",
    "# 2.35s\n",
    "# ~28x faster than data copy"
   ]
  },
  {
   "cell_type": "code",
   "execution_count": null,
   "id": "3c191461-9a58-41cb-a739-5652d43ecf1e",
   "metadata": {
    "editable": true,
    "slideshow": {
     "slide_type": ""
    },
    "tags": []
   },
   "outputs": [],
   "source": []
  },
  {
   "cell_type": "markdown",
   "id": "1adb4b58-09fd-4fb3-84fa-325f0af6060e",
   "metadata": {
    "editable": true,
    "slideshow": {
     "slide_type": "slide"
    },
    "tags": []
   },
   "source": [
    "<table style=\"width: 100%; border-collapse: collapse; margin-top: 0;\">\n",
    "    <tr>\n",
    "        <td style=\"vertical-align: top;\">\n",
    "            <h1 style=\"font-size: 48px; color: #333; margin-top: 0; margin-bottom: 10px;\">TLDR</h1>\n",
    "        </td>\n",
    "    </tr>\n",
    "    <tr>\n",
    "        <td style=\"vertical-align: top;\">\n",
    "            <h2 style=\"font-size: 24px; color: #555; margin-top: 0; margin-bottom: 10px;\">- Use Pandas - power (completeness) / flexibility / stability</h2>\n",
    "        </td>\n",
    "    </tr>\n",
    "    <tr>\n",
    "        <td style=\"vertical-align: top;\">\n",
    "            <h2 style=\"font-size: 24px; color: #555; margin-top: 0; margin-bottom: 10px;\">- Add Polars where you can for speed / smaller less stable API</h2>\n",
    "        </td>\n",
    "    </tr>\n",
    "    <tr>\n",
    "        <td style=\"vertical-align: top;\">\n",
    "            <h2 style=\"font-size: 24px; color: #555; margin-top: 0; margin-bottom: 10px;\">- Both getting faster - Arrow is the driver</h2>\n",
    "        </td>\n",
    "    </tr>\n",
    "    <tr>\n",
    "        <td style=\"vertical-align: top;\">\n",
    "            <h2 style=\"font-size: 24px; color: #555; margin-top: 0;\">- Build better pipelines -- use together where it makes sense</h2>\n",
    "        </td>\n",
    "    </tr>\n",
    "</table>\n"
   ]
  },
  {
   "cell_type": "markdown",
   "id": "cd1185d7-615e-4111-8888-0f09f6bdbcbe",
   "metadata": {
    "editable": true,
    "execution": {
     "iopub.execute_input": "2023-10-07T03:02:11.734225Z",
     "iopub.status.busy": "2023-10-07T03:02:11.731768Z",
     "iopub.status.idle": "2023-10-07T03:02:11.787941Z",
     "shell.execute_reply": "2023-10-07T03:02:11.783562Z",
     "shell.execute_reply.started": "2023-10-07T03:02:11.733712Z"
    },
    "slideshow": {
     "slide_type": "slide"
    },
    "tags": []
   },
   "source": [
    "<table style=\"border-collapse: collapse; background-color: #FFFFFF; width: 100%; font-size: 48px;\"\">\n",
    "    <tr>\n",
    "        <td style=\"padding: 8px; background-color: #FFFFFF; text-align: left; font-weight: bold;\">Thank you!</td>\n",
    "    </tr>\n",
    "    <tr>\n",
    "        <td style=\"padding: 8px; background-color: #FFFFFF; text-align: left\">Chris Brousseau</td>\n",
    "    </tr>\n",
    "    <tr>\n",
    "        <td style=\"padding: 8px; background-color: #FFFFFF;text-align: left; font-weight: normal;\">chris@surfaceowl.com</td>\n",
    "    </tr>\n",
    "    <tr>\n",
    "        <td style=\"padding: 8px; background-color: #FFFFFF;text-align: left; width: 50%; font-size: 24px; background-color: #FFFFFF;\">\n",
    "            <a href=\"https://github.com/surfaceowl/talk_pandas_polars_arrow\" target=\"_blank\"> GitHub Repo: https://github.com/surfaceowl/talk_pandas_polars_arrow</a>\n",
    "        </td>\n",
    "        <td style=\"padding: 8px; background-color: #FFFFFF; text-align: center;\">\n",
    "            <img src=\"images/pybay_talk_pandas_polars_qr_code.png\" alt=\"QR Code for PyBay Talk\" style=\"max-width: 100%; height: auto;\">\n",
    "        </td>\n",
    "    </tr>\n",
    "</table>\n"
   ]
  },
  {
   "cell_type": "markdown",
   "id": "3d059353-8a67-4c35-ab0b-7961367c5b7d",
   "metadata": {
    "editable": true,
    "execution": {
     "iopub.execute_input": "2023-10-02T17:12:37.365803Z",
     "iopub.status.busy": "2023-10-02T17:12:37.365178Z",
     "iopub.status.idle": "2023-10-02T17:12:37.373475Z",
     "shell.execute_reply": "2023-10-02T17:12:37.371396Z",
     "shell.execute_reply.started": "2023-10-02T17:12:37.365781Z"
    },
    "slideshow": {
     "slide_type": "slide"
    },
    "tags": []
   },
   "source": [
    "# Reference - Links\n",
    "\n",
    "pandas\n",
    "https://pandas.pydata.org/docs/whatsnew/index.html\n",
    "\n",
    "polars\n",
    "https://pola-rs.github.io/polars/\n",
    "\n",
    "apache arrow\n",
    "https://arrow.apache.org/overview/\n",
    "\n",
    "pyarrrow\n",
    "https://arrow.apache.org/docs/python/index.html\n",
    "\n",
    "dataframe API standard\n",
    "https://data-apis.org/dataframe-api/draft/index.html\n",
    "https://ponder.io/how-the-python-dataframe-interchange-protocol-makes-life-better/\n",
    "\n",
    "Arrow Revolution\n",
    "https://datapythonista.me/blog/pandas-20-and-the-arrow-revolution-part-i\n",
    "\n",
    "# interesting articles/video\n",
    "https://www.youtube.com/watch?v=QfLzEp-yt_U  # Richey Vink; Polars Creator\n",
    "https://kyleake.medium.com/pandas-to-polars-a-comprehensive-transition-guide-81b6f50e9154\n",
    "\n",
    "# convert to/from pandas/pyarrow\n",
    "https://arrow.apache.org/docs/python/pandas.html\n",
    "\n",
    "# Reference - Datatypes\n",
    "https://pandas.pydata.org/docs/user_guide/basics.html#dtypes\n",
    "https://pola-rs.github.io/polars/py-polars/html/reference/datatypes.html\n",
    "https://arrow.apache.org/docs/python/pandas.html\n"
   ]
  },
  {
   "cell_type": "code",
   "execution_count": null,
   "id": "7dfee747-8bca-4bde-9562-234c44f6a2f8",
   "metadata": {
    "editable": true,
    "slideshow": {
     "slide_type": ""
    },
    "tags": []
   },
   "outputs": [],
   "source": []
  }
 ],
 "metadata": {
  "kernelspec": {
   "display_name": "Python 3 (ipykernel)",
   "language": "python",
   "name": "python3"
  },
  "language_info": {
   "codemirror_mode": {
    "name": "ipython",
    "version": 3
   },
   "file_extension": ".py",
   "mimetype": "text/x-python",
   "name": "python",
   "nbconvert_exporter": "python",
   "pygments_lexer": "ipython3",
   "version": "3.11.6"
  }
 },
 "nbformat": 4,
 "nbformat_minor": 5
}
