{
 "cells": [
  {
   "cell_type": "markdown",
   "id": "c9ee6cb0-863d-4e43-abbc-d45cf035dbc8",
   "metadata": {
    "editable": true,
    "slideshow": {
     "slide_type": "skip"
    },
    "tags": []
   },
   "source": [
    "# How to use this notebook\n",
    "\n",
    "To improve the quality of the presentation, a couple of notes:\n",
    "1. Many cells are written in HTML which are flagged as \"skip\" for the slide type, so the cell that shows in the presentation is a simple one-liner [e.g. display(HTML(<<some_html_snippet_defined_in_a_prior_cell>>))]\n",
    "2. This notebook contains a mix of code cells that run, and while some code is stored in RAW cells followed by images from https://https://carbon.now.sh/  of that same code snippet that display more nicely for presentation purposes.\n",
    "\n",
    "Should the user want to run the code cells, change the cell type from RAW to code -- and keep in mind that there may be earlier cells in the notebook that must be run first before any later cell runs correctly.\n"
   ]
  },
  {
   "cell_type": "code",
   "execution_count": 1,
   "id": "4766d670-0f7b-442d-896c-5d20b61bb927",
   "metadata": {
    "editable": true,
    "execution": {
     "iopub.execute_input": "2023-11-30T18:49:41.161598Z",
     "iopub.status.busy": "2023-11-30T18:49:41.161419Z",
     "iopub.status.idle": "2023-11-30T18:49:41.637566Z",
     "shell.execute_reply": "2023-11-30T18:49:41.636870Z",
     "shell.execute_reply.started": "2023-11-30T18:49:41.161584Z"
    },
    "slideshow": {
     "slide_type": "skip"
    },
    "tags": []
   },
   "outputs": [],
   "source": [
    "# setup\n",
    "# main notebook talk\n",
    "import numpy as np\n",
    "import pandas as pd\n",
    "import polars as pl\n",
    "\n",
    "from IPython.display import display, HTML, IFrame, Image\n",
    "from pathlib import Path\n",
    "import requests\n",
    "\n",
    "# for QR code to github repo\n",
    "import qrcode\n",
    "from qrcode.image.styledpil import StyledPilImage\n",
    "from qrcode.image.styles.moduledrawers import GappedSquareModuleDrawer\n",
    "\n",
    "# important paths\n",
    "data_path = Path(\"data\")\n",
    "data_csv = Path(\"data\", \"python_dev_universe.csv\")\n",
    "data_csv_gz = Path(data_path, \"python_dev_universe.csv.gz\")\n",
    "data_parquet = Path(\"data\", \"python_dev_universe.parquet\")\n",
    "images_code_path = Path(\"images_code\")\n",
    "images_path = Path(\"images\")\n",
    "\n",
    "# QR code paths\n",
    "qr_imagefile = \"qr_code_extended_talk.png\"\n",
    "qr_full_path = Path(images_path, qr_imagefile)\n",
    "git_url_for_this_talk = (\n",
    "    \"https://github.com/surfaceowl/talk_nov2023_pandas_polars_arrow.git\"\n",
    ")"
   ]
  },
  {
   "cell_type": "code",
   "execution_count": 2,
   "id": "ea72de65-e0c0-4044-8755-e81e1b02b549",
   "metadata": {
    "editable": true,
    "execution": {
     "iopub.execute_input": "2023-11-30T18:49:41.639139Z",
     "iopub.status.busy": "2023-11-30T18:49:41.638844Z",
     "iopub.status.idle": "2023-11-30T18:49:42.412139Z",
     "shell.execute_reply": "2023-11-30T18:49:42.411354Z",
     "shell.execute_reply.started": "2023-11-30T18:49:41.639124Z"
    },
    "slideshow": {
     "slide_type": "skip"
    },
    "tags": []
   },
   "outputs": [
    {
     "name": "stdout",
     "output_type": "stream",
     "text": [
      "The github repo for this talk is public and available (https://github.com/surfaceowl/talk_nov2023_pandas_polars_arrow.git)\n"
     ]
    }
   ],
   "source": [
    "# confirm git repo publicly available\n",
    "response = requests.get(git_url_for_this_talk)\n",
    "if bool(response.status_code < 400):\n",
    "    print(\n",
    "        f\"The github repo for this talk is public and available ({git_url_for_this_talk})\"\n",
    "    )\n",
    "else:\n",
    "    print(\"ERROR - github repo not available or URL error - check setup\")"
   ]
  },
  {
   "cell_type": "markdown",
   "id": "735acb2f-c250-41eb-acec-ee27cada8fb5",
   "metadata": {
    "editable": true,
    "slideshow": {
     "slide_type": "skip"
    },
    "tags": []
   },
   "source": [
    "# Note: RAW cells used as input for Carbon slides, code not runnable as no active df to work with"
   ]
  },
  {
   "cell_type": "markdown",
   "id": "c6c500cc-86c7-4a9d-a1a0-721ab33ac759",
   "metadata": {
    "editable": true,
    "execution": {
     "iopub.execute_input": "2023-11-30T16:09:24.934838Z",
     "iopub.status.busy": "2023-11-30T16:09:24.933894Z",
     "iopub.status.idle": "2023-11-30T16:09:24.946288Z",
     "shell.execute_reply": "2023-11-30T16:09:24.944920Z",
     "shell.execute_reply.started": "2023-11-30T16:09:24.934789Z"
    },
    "slideshow": {
     "slide_type": "slide"
    },
    "tags": []
   },
   "source": [
    "<html>\r\n",
    "<head>\r\n",
    "<style>\r\n",
    "  table, th, td {\r\n",
    "    border: none; /* Removes any default border */\r\n",
    "    border-collapse: collapse; /* Ensures borders are collapsed into a single border */\r\n",
    "  }\r\n",
    "</style>\r\n",
    "</head>\r\n",
    "<body style=\"background-color: #FFFFFF;\">\r\n",
    "  <h1 align=\"center\" style=\"font-weight: bold; font-style: italic; color: #3E7BAD; font-size: 96px;\">Better Together</h1>\r\n",
    "  <table align=\"center\" width=\"100%\" bgcolor=\"#FFFFFF\">\r\n",
    "    <tr>\r\n",
    "      <td align=\"center\" width=\"50%\" bgcolor=\"#FFFFFF\">\r\n",
    "        <img src=\"images/pandas_logo.1280x517.png\" width=\"620\" height=\"250\">\r\n",
    "      </td>\r\n",
    "      <td align=\"center\" width=\"50%\" bgcolor=\"#FFFFFF\">\r\n",
    "        <img src=\"images/polars.round.400x400.png\" width=\"250\" height=\"250\">\r\n",
    "      </td>\r\n",
    "    </tr>\r\n",
    "    <tr>\r\n",
    "      <td colspan=\"2\" align=\"center\" bgcolor=\"#FFFFFF\">\r\n",
    "        <img src=\"images/arrow-logo_horizontal.1800x936.png\" width=\"800\">\r\n",
    "      </td>\r\n",
    "    </tr>\r\n",
    "  </table>\r\n",
    "  <br>\r\n",
    "  <br>\r\n",
    "  <br>\r\n",
    "  <div style=\"font-size: 300%;\">\r\n",
    "    <b>Better Together: Unleashing the Synergy of Pandas, Polars, and Apache Arrow</b><br>\r\n",
    "    <b>Speaker:  Chris Brousseau</b> <br>\r\n",
    "    <b>30 Nov 2023</b> \r\n",
    "  </div>\r\n",
    "</body>\r\n",
    "</html>\r\n"
   ]
  },
  {
   "cell_type": "markdown",
   "id": "a24bbb8b-7769-4459-8d57-5fa6fb4f26f7",
   "metadata": {
    "editable": true,
    "execution": {
     "iopub.execute_input": "2023-10-05T17:41:45.618979Z",
     "iopub.status.busy": "2023-10-05T17:41:45.617699Z",
     "iopub.status.idle": "2023-10-05T17:41:45.629488Z",
     "shell.execute_reply": "2023-10-05T17:41:45.627405Z",
     "shell.execute_reply.started": "2023-10-05T17:41:45.618942Z"
    },
    "slideshow": {
     "slide_type": "slide"
    },
    "tags": []
   },
   "source": [
    "<img src=\"./images/intro_slide_full.jpg\" alt=\"Images of Chris - full slide\" width=\"125%\" text-align=\"center\">"
   ]
  },
  {
   "cell_type": "markdown",
   "id": "da83fa0a-7d60-49fe-b7b2-20acfeea2076",
   "metadata": {
    "editable": true,
    "execution": {
     "iopub.execute_input": "2023-11-30T17:44:53.567300Z",
     "iopub.status.busy": "2023-11-30T17:44:53.566496Z",
     "iopub.status.idle": "2023-11-30T17:44:53.575060Z",
     "shell.execute_reply": "2023-11-30T17:44:53.574144Z",
     "shell.execute_reply.started": "2023-11-30T17:44:53.567269Z"
    },
    "slideshow": {
     "slide_type": "slide"
    },
    "tags": []
   },
   "source": [
    "<table style=\"width: 70%; border-collapse: collapse; margin-left: auto; margin-right: auto; padding: 20px; border: 0;\">\n",
    "    <tr style=\"background-color: white;\"> <!-- White background for 'TLDR' row -->\n",
    "        <td style=\"vertical-align: top; border: 0;\">\n",
    "            <h1 style=\"font-size: 96px; color: #333; margin-top: 0; margin-bottom: 10px; line-height: 1.2;\">TLDR</h1>\n",
    "        </td>\n",
    "    </tr>\n",
    "    <tr style=\"background-color: white;\">\n",
    "        <td style=\"border: 0;\">&nbsp;</td>\n",
    "    </tr>\n",
    "    <tr style=\"background-color: #f2f2f2;\">\n",
    "        <td style=\"vertical-align: top; border: 0;\">\n",
    "            <p style=\"font-size: 48px; color: #555; margin-top: 0; margin-bottom: 10px; line-height: 1.4;\">- Continue using Pandas for power (completeness) / flexibility / stability</p>\n",
    "        </td>\n",
    "    </tr>\n",
    "    <tr style=\"background-color: white;\">\n",
    "        <td style=\"border: 0;\">&nbsp;</td>\n",
    "    </tr>\n",
    "    <tr style=\"background-color: #f2f2f2;\">\n",
    "        <td style=\"vertical-align: top; border: 0;\">\n",
    "            <p style=\"font-size: 48px; color: #555; margin-top: 0; margin-bottom: 10px; line-height: 1.4;\">- Add Polars where you can for speed</p>\n",
    "        </td>\n",
    "    </tr>\n",
    "    <tr style=\"background-color: white;\">\n",
    "        <td style=\"border: 0;\">&nbsp;</td>\n",
    "    </tr>\n",
    "    <tr style=\"background-color: #f2f2f2;\">\n",
    "        <td style=\"vertical-align: top; border: 0;\">\n",
    "            <p style=\"font-size: 48px; color: #555; margin-top: 0; margin-bottom: 10px; line-height: 1.4;\">- Both getting faster - Arrow is the driver</p>\n",
    "        </td>\n",
    "    </tr>\n",
    "    <tr style=\"background-color: white;\">\n",
    "        <td style=\"border: 0;\">&nbsp;</td>\n",
    "    </tr>\n",
    "    <tr style=\"background-color: #f2f2f2;\">\n",
    "        <td style=\"vertical-align: top; border: 0;\">\n",
    "            <p style=\"font-size: 48px; color: #555; margin-top: 0; line-height: 1.4;\">- Build better pipelines -- use together where it makes sense</p>\n",
    "        </td>\n",
    "    </tr>\n",
    "    <tr style=\"background-color: white;\">\n",
    "        <td style=\"border: 0;\">&nbsp;</td>\n",
    "    </tr>\n",
    "</table>\n"
   ]
  },
  {
   "cell_type": "markdown",
   "id": "b3ee82f0-8ff3-4f79-b191-5a1a4dae8791",
   "metadata": {
    "editable": true,
    "execution": {
     "iopub.execute_input": "2023-10-04T19:50:04.890206Z",
     "iopub.status.busy": "2023-10-04T19:50:04.889842Z",
     "iopub.status.idle": "2023-10-04T19:50:04.899025Z",
     "shell.execute_reply": "2023-10-04T19:50:04.898073Z",
     "shell.execute_reply.started": "2023-10-04T19:50:04.890181Z"
    },
    "jp-MarkdownHeadingCollapsed": true,
    "slideshow": {
     "slide_type": "slide"
    },
    "tags": []
   },
   "source": [
    "<h1>What is Apache Arrow?</h1>\n",
    "<table border=\"0\" style=\"width: auto; text-align: center\">\n",
    "    <tr style=\"font-size: 48px; font-weight: bold;\">\n",
    "      <th style=\"text-align: left; padding: 10px\">\n",
    "        <img src=\"images/arrow-logo_horizontal.1800x936.png\" alt=\"in-memory columnar format\"  width=900px; style=\"margin-left: 10px\">\n",
    "</table>\n",
    "<p style=\"font-size: 36px; line-height: 2;width: auto; text-align: center\">\n",
    "  -- <strong>Software platform for in-memory analytics & queries</strong><br>\n",
    "  -- <strong>In-memory columnar data format</strong> for tabular data<br>\n",
    "  -- Fast/language-agnostic messaging & bindings<br>\n",
    "  -- batch & streaming data<br>\n",
    "  -- IO to local/remote filesystems and other data structures<br>\n",
    "</p>"
   ]
  },
  {
   "cell_type": "markdown",
   "id": "9a061140-6ae9-46ce-a12f-6a9496fd75e2",
   "metadata": {
    "editable": true,
    "slideshow": {
     "slide_type": "slide"
    },
    "tags": []
   },
   "source": [
    "<h1>Why is Arrow a Game Changer?</h1>\n",
    "<table border=\"0\" style=\"width: 105%;\">\n",
    "    <tr>\n",
    "        <td style=\"width: 50%; vertical-align: top;\">\n",
    "            <img src=\"images/DALL·E_2023-11-29.game_changer.abstract_minimalist_positive.png\" alt=\"Apache Arrow is a game changer\" style=\"height: 125%;\">\n",
    "        </td>\n",
    "        <td style=\"width: 50%; vertical-align: center; text-align: left; height:auto\">\n",
    "            <div style=\"font-size: 48px;\">\n",
    "                <strong>Interoperability ==> Easier</strong><br>\n",
    "                data is program independent<br><br>\n",
    "                <strong>Speed ==> Faster</strong><br>\n",
    "                ...Columnar format; zero-copy pointers<br><br>\n",
    "                <strong>Datatypes ==> More + Better</strong><br>\n",
    "                ...Nullable; strings!<br><br>\n",
    "            </div>\n",
    "        </td>\n",
    "    </tr>\n",
    "</table>"
   ]
  },
  {
   "cell_type": "markdown",
   "id": "5ed1e472-2dfb-4bc1-8791-7c37858dd416",
   "metadata": {
    "editable": true,
    "slideshow": {
     "slide_type": "slide"
    },
    "tags": []
   },
   "source": [
    "<img src=\"./images/arrow_interop.jpg\" alt=\"Interoperability - full slide\" width=\"100%\">"
   ]
  },
  {
   "cell_type": "markdown",
   "id": "d6e62a39-e297-42ae-86ee-841b78716a42",
   "metadata": {
    "editable": true,
    "execution": {
     "iopub.execute_input": "2023-11-28T05:20:12.705965Z",
     "iopub.status.busy": "2023-11-28T05:20:12.704887Z",
     "iopub.status.idle": "2023-11-28T05:20:12.719007Z",
     "shell.execute_reply": "2023-11-28T05:20:12.716927Z",
     "shell.execute_reply.started": "2023-11-28T05:20:12.705895Z"
    },
    "slideshow": {
     "slide_type": "slide"
    },
    "tags": []
   },
   "source": [
    "<img src=\"./images/arrow_speed.jpg\" alt=\"Speed - full slide\"  width=\"100%\">"
   ]
  },
  {
   "cell_type": "markdown",
   "id": "a5772335-6580-4bbf-b849-85e22fb9ba9b",
   "metadata": {
    "editable": true,
    "slideshow": {
     "slide_type": "slide"
    },
    "tags": []
   },
   "source": [
    "<h1>In-Memory Columnar Format</h1>\n",
    "<br>\n",
    "<br>\n",
    "<br>\n",
    "<br>\n",
    "<div style=\"text-align: center; width:110%\">\n",
    "    <img src=\"./images/arrow_simd.948x651.png\" alt=\"in-memory columnar format\"  width=\"80%\">\n",
    "</div>"
   ]
  },
  {
   "cell_type": "markdown",
   "id": "ca8f85b7-a7a5-4f84-a81a-271bd5af202e",
   "metadata": {
    "editable": true,
    "slideshow": {
     "slide_type": "slide"
    },
    "tags": []
   },
   "source": [
    "<img src=\"./images/arrow_datatypes.jpg\" alt=\"Datatypes - full slide\"  width=\"100%\">"
   ]
  },
  {
   "cell_type": "markdown",
   "id": "050f356c-7b47-41e4-a92e-a6e1d2dee39d",
   "metadata": {
    "editable": true,
    "execution": {
     "iopub.execute_input": "2023-11-28T05:29:47.452078Z",
     "iopub.status.busy": "2023-11-28T05:29:47.451600Z",
     "iopub.status.idle": "2023-11-28T05:29:47.458275Z",
     "shell.execute_reply": "2023-11-28T05:29:47.457309Z",
     "shell.execute_reply.started": "2023-11-28T05:29:47.452061Z"
    },
    "slideshow": {
     "slide_type": "slide"
    },
    "tags": []
   },
   "source": [
    "<h1>Zero Copy Reads</h1>\r\n",
    "\r\n",
    "<table border=\"1\" style=\"width: 100%\">\r\n",
    "  <thead>\r\n",
    "    <tr style=\"font-weight: bold;\">\r\n",
    "      <th style=\"text-align: center; padding: 10px\">\r\n",
    "        <img src=\"./images/arrow_data_copy.574x318.png\" alt=\"current world copies data\" style=\"margin-left: 10px;\">\r\n",
    "      </th>\r\n",
    "      <th style=\"text-align: center; padding: 10px\">\r\n",
    "        <img src=\"./images/arrow_data_shared.png\" alt=\"arrow uses zero-copy reads\" style=\"margin-left: 10px;\">\r\n",
    "      </th>\r\n",
    "    </tr>\r\n",
    "  </thea\n",
    "display(\n",
    "    IFrame(\n",
    "        \"https://arrow.apache.org/docs/python/memory.html#input-and-output\",\n",
    "        width=\"105%\",\n",
    "        height=\"500px\",\n",
    "        scrolling=\"yes\"\n",
    "    )\n",
    ")d>\r\n",
    "</table>\r\n"
   ]
  },
  {
   "cell_type": "code",
   "execution_count": 3,
   "id": "988ff4f0-59c8-4d0e-8ebf-5df2070f617a",
   "metadata": {
    "editable": true,
    "execution": {
     "iopub.execute_input": "2023-11-30T18:49:42.413438Z",
     "iopub.status.busy": "2023-11-30T18:49:42.413111Z",
     "iopub.status.idle": "2023-11-30T18:49:42.420382Z",
     "shell.execute_reply": "2023-11-30T18:49:42.419666Z",
     "shell.execute_reply.started": "2023-11-30T18:49:42.413414Z"
    },
    "slideshow": {
     "slide_type": "fragment"
    },
    "tags": []
   },
   "outputs": [
    {
     "data": {
      "text/html": [
       "\n",
       "        <iframe\n",
       "            width=\"105%\"\n",
       "            height=\"500px\"\n",
       "            src=\"https://arrow.apache.org/docs/python/memory.html#input-and-output?scrolling=yes\"\n",
       "            frameborder=\"0\"\n",
       "            allowfullscreen\n",
       "            \n",
       "        ></iframe>\n",
       "        "
      ],
      "text/plain": [
       "<IPython.lib.display.IFrame at 0x7fed0252dc90>"
      ]
     },
     "metadata": {},
     "output_type": "display_data"
    }
   ],
   "source": [
    "display(\n",
    "    IFrame(\n",
    "        \"https://arrow.apache.org/docs/python/memory.html#input-and-output\",\n",
    "        width=\"105%\",\n",
    "        height=\"500px\",\n",
    "        scrolling=\"yes\",\n",
    "    )\n",
    ")"
   ]
  },
  {
   "cell_type": "markdown",
   "id": "c4df3f02-5a43-4044-8e55-9319f49f4a13",
   "metadata": {
    "editable": true,
    "slideshow": {
     "slide_type": "slide"
    },
    "tags": []
   },
   "source": [
    "# Into Pandas and Polars"
   ]
  },
  {
   "cell_type": "markdown",
   "id": "9fca268d-ff5e-45d2-8465-f8f95e932601",
   "metadata": {
    "editable": true,
    "execution": {
     "iopub.execute_input": "2023-10-02T18:10:08.550854Z",
     "iopub.status.busy": "2023-10-02T18:10:08.549735Z",
     "iopub.status.idle": "2023-10-02T18:10:08.574746Z",
     "shell.execute_reply": "2023-10-02T18:10:08.572358Z",
     "shell.execute_reply.started": "2023-10-02T18:10:08.550793Z"
    },
    "jp-MarkdownHeadingCollapsed": true,
    "slideshow": {
     "slide_type": "slide"
    },
    "tags": []
   },
   "source": [
    "<h1>Key Differences - Packages</h1>\n",
    "\n",
    "<table border=\"1\" style=\"width: 80%; font-size: 24px;\">\n",
    "  <thead>\n",
    "    <tr style=\"font-weight: bold;\">\n",
    "      <th style=\"vertical-align: bottom;\">Feature</th>\n",
    "      <th style=\"text-align: left;\">\n",
    "        <img src=\"./images/pandas_secondary.svg\" alt=\"Pandas\" style=\"width: 300px; max-width: 100%;\">\n",
    "      </th>\n",
    "      <th style=\"text-align: left;\">\n",
    "        <img src=\"./images/polars.round.400x400.png\" alt=\"Polars\" style=\"width: 200px; max-width: 100%;\">\n",
    "      </th>\n",
    "    </tr>\n",
    "  </thead>\n",
    "  <tbody>\n",
    "    <tr style=\"height:100px\"; style=\"background-color: #FFFFFF;\">\n",
    "      <td>First Release Date</td>\n",
    "      <td>2008</td>\n",
    "      <td>2019</td>\n",
    "    </tr>\n",
    "    <tr style=\"height:100px\"; style=\"background-color: #FFFFFF; vertical-align=top\">\n",
    "      <td>Project Goal</td>\n",
    "      <td><strong>To be the most powerful & flexible tool</strong> for python data analysis & manipulation - fundamental building block</td>\n",
    "      <td><strong>To provide lightning-fast dataframes</strong> that use all local resources</td>\n",
    "    </tr>\n",
    "    <tr style=\"height:100px\"; style=\"background-color: #F0F0F0;\">\n",
    "      <td>Current Release</td>\n",
    "      <td>2.1.3</td>\n",
    "      <td>0.19.18</td>\n",
    "    </tr>\n",
    "    <tr style=\"height:100px\"; style=\"background-color: #FFFFFF;\">\n",
    "      <td>Programming Language</td>\n",
    "      <td>C, Cython, Python</td>\n",
    "      <td>Rust</td>\n",
    "    </tr>\n",
    "    <tr style=\"height:100px\"; style=\"background-color: #F0F0F0;\">\n",
    "      <td>Memory / Scaling Design</td>\n",
    "      <td>In-memory</td>\n",
    "      <td>Out-of-Core</td>\n",
    "    </tr>\n",
    "    </tr>\n",
    "    <tr style=\"height:100px\"; style=\"background-color: #F0F0F0;\">\n",
    "      <td>Parallelization</td>\n",
    "      <td>Single threaded</td>\n",
    "      <td>Multithreaded</td>\n",
    "    </tr>\n",
    "    <tr style=\"height:70px\"; style=\"background-color: #F0F0F0;\">\n",
    "      <td>API mode</td>\n",
    "      <td>Eager</td>\n",
    "      <td>Eager + Lazy</td>\n",
    "    </tr>\n",
    "  </tbody>\n",
    "</table>\n"
   ]
  },
  {
   "cell_type": "markdown",
   "id": "900186c9-ac34-4229-ae9a-a01fdc0c8867",
   "metadata": {
    "editable": true,
    "execution": {
     "iopub.execute_input": "2023-10-02T18:10:08.550854Z",
     "iopub.status.busy": "2023-10-02T18:10:08.549735Z",
     "iopub.status.idle": "2023-10-02T18:10:08.574746Z",
     "shell.execute_reply": "2023-10-02T18:10:08.572358Z",
     "shell.execute_reply.started": "2023-10-02T18:10:08.550793Z"
    },
    "slideshow": {
     "slide_type": "slide"
    },
    "tags": []
   },
   "source": [
    "<h1>Key Differences - Memory</h1>\n",
    "\n",
    "<table border=\"1\" style=\"width: 80%; font-size: 24px;\">\n",
    "  <thead>\n",
    "    <tr style=\"font-weight: bold;\">\n",
    "      <th style=\"vertical-align: bottom;\">Feature</th>\n",
    "      <th style=\"text-align: left;\">\n",
    "        <img src=\"./images/pandas_secondary.svg\" alt=\"Pandas\" style=\"width: 300px; max-width: 100%;\">\n",
    "      </th>\n",
    "      <th style=\"text-align: left;\">\n",
    "        <img src=\"./images/polars.round.400x400.png\" alt=\"Polars\" style=\"width: 200px; max-width: 100%;\">\n",
    "      </th>\n",
    "    </tr>\n",
    "  </thead>\n",
    "  <tbody>\n",
    "    <tr style=\"height:100px\"; style=\"background-color: #F0F0F0; font-weight: bold\">\n",
    "      <td><strong>Memory</strong></td>\n",
    "      <td></td>\n",
    "      <td></td>\n",
    "    </tr>\n",
    "    <tr style=\"height:100px\"; style=\"background-color: #FFFFFF;\">\n",
    "      <td>Memory Backend</td>\n",
    "      <td>Numpy (default) or <strong>Apache Arrow</strong></td>\n",
    "      <td><strong>Apache Arrow</strong></td>\n",
    "    </tr>\n",
    "    <tr style=\"height:100px\"; style=\"background-color: #FFFFFF;\">\n",
    "      <td>Larger-than-Memory/ Out-of-Core</td>\n",
    "      <td>No - designed for in-memory <br><br>out-of-core via Dask</td>\n",
    "      <td><strong>Native on Lazy df only <br><br></strong>(`collect(streaming=True`);  chunking + spill</td>\n",
    "    </tr>\n",
    "    <tr style=\"height:100px\"; style=\"background-color: #F0F0F0;\">\n",
    "      <td>Represent Missing Data</td>\n",
    "      <td>\"NaN\" or \"None\"</td>\n",
    "      <td>\"null\"</td>\n",
    "    </tr>\n",
    "    <tr style=\"height:100px\"; style=\"background-color: #F0F0F0;\">\n",
    "      <td>Memory implementation</td>\n",
    "      <td>Pyarrow <br><br>(C++ wrapper on data)</td>\n",
    "      <td>Arrow2 <br><br>(Rust wrapper on data)</td>\n",
    "    </tr>\n",
    "  </tbody>\n",
    "</table>\n"
   ]
  },
  {
   "cell_type": "markdown",
   "id": "25e2837d-88f2-470f-83bc-4ce9caf57927",
   "metadata": {
    "editable": true,
    "execution": {
     "iopub.execute_input": "2023-10-02T18:10:08.550854Z",
     "iopub.status.busy": "2023-10-02T18:10:08.549735Z",
     "iopub.status.idle": "2023-10-02T18:10:08.574746Z",
     "shell.execute_reply": "2023-10-02T18:10:08.572358Z",
     "shell.execute_reply.started": "2023-10-02T18:10:08.550793Z"
    },
    "slideshow": {
     "slide_type": "slide"
    },
    "tags": []
   },
   "source": [
    "<h1>Key Differences - API</h1>\n",
    "\n",
    "<table border=\"1\" style=\"width: 80%; font-size: 24px;\">\n",
    "  <thead>\n",
    "    <tr style=\"font-weight: bold;\">\n",
    "      <th style=\"vertical-align: bottom;\">Feature</th>\n",
    "      <th style=\"text-align: left;\">\n",
    "        <img src=\"./images/pandas_secondary.svg\" alt=\"Pandas\" style=\"width: 300px; max-width: 100%;\">\n",
    "      </th>\n",
    "      <th style=\"text-align: left;\">\n",
    "        <img src=\"./images/polars.round.400x400.png\" alt=\"Polars\" style=\"width: 200px; max-width: 100%;\">\n",
    "      </th>\n",
    "    </tr>\n",
    "  </thead>\n",
    "  <tbody>\n",
    "    <tr style=\"height:70px\"; style=\"background-color: #FFFFFF;\">\n",
    "      <td>Number of Methods<br></td>\n",
    "      <td><strong><i>Many</i></strong><br></td>\n",
    "      <td><strong><i>not 1:1</i></strong><br></td>\n",
    "    </tr>\n",
    "    <tr style=\"height:70px\"; style=\"background-color: #F0F0F0;\">\n",
    "      <td>Index/Multindex</td>\n",
    "      <td>Yes</td>\n",
    "      <td><strong>No - \"index free\"</strong></td>\n",
    "    </tr>\n",
    "    <tr style=\"height:70px\"; style=\"background-color: #FFFFFF;\">\n",
    "      <td>Nullable dtype</td>\n",
    "      <td>Yes</td>\n",
    "      <td>Yes</td>\n",
    "    </tr>\n",
    "    <tr style=\"height:70px\"; style=\"background-color: #F0F0F0;\">\n",
    "      <td>API mode</td>\n",
    "      <td>Eager</td>\n",
    "      <td>Eager (+ Lazy)</td>\n",
    "    </tr>\n",
    "    <tr style=\"height:70px\"; style=\"background-color: #FFFFFF;\">\n",
    "      <td>Query Optimization</td>\n",
    "      <td>No</td>\n",
    "      <td>Yes (with Lazy)</td>\n",
    "    </tr>\n",
    "    <tr style=\"height:100px\"; style=\"background-color: #F0F0F0;\">\n",
    "      <td>Parallelization</td>\n",
    "      <td>No - single threaded</td>\n",
    "      <td><strong>Yes - multithreaded</td>\n",
    "    </tr>\n",
    "    <tr style=\"height:70px\"; style=\"background-color: #FFFFFF;\">\n",
    "      <td>SIMD</td>\n",
    "      <td>No</td>\n",
    "      <td><strong>Yes</td>\n",
    "    </tr>\n",
    "  </tbody>\n",
    "</table>\n"
   ]
  },
  {
   "cell_type": "markdown",
   "id": "e1bfe78b-fc92-4606-bfd7-0601347e3b5b",
   "metadata": {
    "editable": true,
    "execution": {
     "iopub.execute_input": "2023-10-04T18:59:44.986576Z",
     "iopub.status.busy": "2023-10-04T18:59:44.986266Z",
     "iopub.status.idle": "2023-10-04T18:59:44.995046Z",
     "shell.execute_reply": "2023-10-04T18:59:44.994090Z",
     "shell.execute_reply.started": "2023-10-04T18:59:44.986555Z"
    },
    "slideshow": {
     "slide_type": "slide"
    },
    "tags": []
   },
   "source": [
    "<h1>Recent Updates</h1>\n",
    "<table border=\"1\" style=\"width: 80%; font-size: 24px;\">\n",
    "  <thead>\n",
    "    <tr style=\"font-weight: bold;\">\n",
    "      <th style=\"vertical-align: bottom;\">2023 - Speed & Consistency</th>\n",
    "      <th style=\"text-align: left;\">\n",
    "        <img src=\"./images/pandas_secondary.svg\" alt=\"Pandas\" style=\"width: 300px; max-width: 100%;\">\n",
    "      </th>\n",
    "      <th style=\"text-align: left;\">\n",
    "        <img src=\"./images/polars.round.400x400.png\" alt=\"Polars\" style=\"width: 200px; max-width: 100%;\">\n",
    "      </th>\n",
    "    </tr>\n",
    "  </thead>\n",
    "  <tbody>\n",
    "    <tr style=\"background-color: #FFFFFF;\">\n",
    "      <td>Backend</td>\n",
    "      <td><strong>Apache Arrow<br> Arrow required after Pandas 3.0.0</strong></td>\n",
    "      <td><br>+cloud reading<br>+speed<br>+bugfix<br><br><br></td>\n",
    "    </tr>\n",
    "    <tr style=\"height:100px\"; style=\"background-color: #F0F0F0;\">\n",
    "      <td></td>\n",
    "      <td><strong>Lazy Copy-on-Write -- only mod one object</strong><br>+simplifies API<br>+less defensive copies<br>+faster<br><br></td>\n",
    "      <td></td>\n",
    "    </tr>\n",
    "    <tr style=\"height:100px\"; style=\"background-color: #FFFFFF;\">\n",
    "      <td>Feature Flags / optional dependencies</td>\n",
    "      <td>pip install<br><br>pandas[aws, performance]<br><br></td>\n",
    "      <td>pip install<br><br>polars[pandas, ffspec]<br><br></td>\n",
    "    </tr>\n",
    "    <tr style=\"height:100px\"; style=\"background-color: #F0F0F0;\">\n",
    "      <td>Reference</td>\n",
    "      <td><a href=\"https://pandas.pydata.org/docs/whatsnew/index.html\">pandas release notes<br></td>\n",
    "      <td><a href=\"https://github.com/pola-rs/polars/releases\">polars release notes<br></td>\n",
    "    </tr>\n",
    "  </tbody>\n",
    "</table>"
   ]
  },
  {
   "cell_type": "markdown",
   "id": "ca7b810f-b5aa-4c20-ba97-86e12aececa9",
   "metadata": {
    "editable": true,
    "execution": {
     "iopub.execute_input": "2023-10-05T23:36:30.124108Z",
     "iopub.status.busy": "2023-10-05T23:36:30.123723Z",
     "iopub.status.idle": "2023-10-05T23:36:30.130190Z",
     "shell.execute_reply": "2023-10-05T23:36:30.128887Z",
     "shell.execute_reply.started": "2023-10-05T23:36:30.124086Z"
    },
    "slideshow": {
     "slide_type": "slide"
    },
    "tags": []
   },
   "source": [
    "<h1>But how much faster?</h1>\n",
    "<table border=\"1\" style=\"width: 80%; \">\n",
    "  <thead>\n",
    "    <tr style=\"font-size: 24px; font-weight: bold;\">\n",
    "      <th style=\"vertical-align: bottom;\">Anecdotes & Considerations</th>\n",
    "      <th style=\"text-align: left;\">\n",
    "        <img src=\"./images/pandas_secondary.svg\" alt=\"Pandas\" style=\"width: 300px; max-width: 100%;\">\n",
    "      </th>\n",
    "      <th style=\"text-align: left;\">\n",
    "        <img src=\"./images/polars.round.400x400.png\" alt=\"Polars\" style=\"width: 200px; max-width: 100%;\">\n",
    "      </th>\n",
    "    </tr>\n",
    "  </thead>\n",
    "  <tbody>\n",
    "    <tr style=\"height:70px; font-size: 24px; background-color: #FFFFFF;\">\n",
    "      <td>read csv +csv.gz</td>\n",
    "      <td></td>\n",
    "      <td><strong>~2x-20x faster</strong><br><br></td>\n",
    "    </tr>\n",
    "    <tr style=\"height:70px; font-size: 24px; background-color: #F0F0F0;\">\n",
    "      <td>read parquet</td>\n",
    "      <td></td>\n",
    "      <td>~1x-5x faster<br><br></td>\n",
    "    </tr>\n",
    "    <tr style=\"height:70px; font-size: 24px; background-color: #FFFFFF;\">\n",
    "      <td>groupby<br><br><br></td>\n",
    "      <td><br><br><br></td>\n",
    "      <td>~10x faster<br><br><br><br><br></td>\n",
    "    </tr>\n",
    "    <tr style=\"height:70px;  font-size: 24px; background-color: #F0F0F0;\">\n",
    "      <td><strong></strong>Other Considerations</strong></td>\n",
    "      <td>Huge Ecosystem + examples</td>\n",
    "      <td>Smaller but growing Ecosystem</td>\n",
    "    <tr style=\"height:100px; font-size: 24px; background-color: #FFFFFF;\">\n",
    "      <td>API</td>\n",
    "      <td><strong>Stable</strong></td>\n",
    "      <td><strong>Less Stable - but improving<br>two releases this week</strong></td>\n",
    "    </tr>\n",
    "      <tr style=\"height:70px; font-size: 24px; background-color: #F0F0F0;\">\n",
    "      <td> </td>\n",
    "      <td> </td>\n",
    "      <td>Categorical; some window functions / plotting /etc.</td>\n",
    "    </tr>\n",
    "    <tr style=\"height:70px; font-size: 24px; background-color: #FFFFFF;\">\n",
    "      <td><strong>Reference - see repo</strong></td>\n",
    "      <td><a href=\"https://pandas.pydata.org/docs/reference/index.html\">pandas api</td>\n",
    "      <td><a href=\"https://pola-rs.github.io/polars/py-polars/html/reference/\">polars api</td>\n",
    "    </tr>\n",
    "  </tbody>\n",
    "</table>"
   ]
  },
  {
   "cell_type": "markdown",
   "id": "99fe2803-6458-4e11-a5f3-91dcb0050377",
   "metadata": {
    "editable": true,
    "slideshow": {
     "slide_type": "slide"
    },
    "tags": []
   },
   "source": [
    "<img src=\"./images/csv_read_speed_comparison_30_iter.jpg\" alt=\"A lot faster!\" >"
   ]
  },
  {
   "cell_type": "markdown",
   "id": "68fc6a15-2583-48b0-a7e3-ada6420e0285",
   "metadata": {
    "editable": true,
    "slideshow": {
     "slide_type": "slide"
    },
    "tags": []
   },
   "source": [
    "# Get the Best out of Pandas <br>\n",
    "<br>\n",
    "\n",
    "### 0- configure Pandas properly - huge performance improvement<br><br>\n",
    "\n",
    "### 1- use pyarrow for I/O & nullable dtypes (faster)\n",
    "pd.read_csv( my_datat.csv\",  engine=\"pyarrow\" dtype_backend=\"pyarrow\")<br>pd.read_parquet() <br> <br>\n",
    "<br>\n",
    "### 2- set pyarrow for all string data (faster/smaller)\n",
    "pd.options.future.infer_string = True   <br>\n",
    "<br>\n",
    "### 3- enable Copy-On-Write (lazy + more consistent api) -- just do this anyway; will be default!\n",
    "pd.options.mode.copy_on_write = True <br>\n",
    "<br>"
   ]
  },
  {
   "cell_type": "markdown",
   "id": "4fe6f500-2ad8-4b97-b0e8-ecd678e3521a",
   "metadata": {
    "editable": true,
    "slideshow": {
     "slide_type": "slide"
    },
    "tags": []
   },
   "source": [
    "# some syntax differences"
   ]
  },
  {
   "cell_type": "raw",
   "id": "3390c893-d652-4979-bf78-35080ec389eb",
   "metadata": {
    "editable": true,
    "execution": {
     "iopub.execute_input": "2023-10-07T20:34:31.072034Z",
     "iopub.status.busy": "2023-10-07T20:34:31.071494Z",
     "iopub.status.idle": "2023-10-07T20:35:12.118044Z",
     "shell.execute_reply": "2023-10-07T20:35:12.116065Z",
     "shell.execute_reply.started": "2023-10-07T20:34:31.071948Z"
    },
    "raw_mimetype": "",
    "slideshow": {
     "slide_type": "skip"
    },
    "tags": []
   },
   "source": [
    "# syntax example - reading  & data\n",
    "# assumes import pandas as pd; import polars as pl\n",
    "\n",
    "df_pandas = pd.read_parquet(data_parquet)\n",
    "df_polars = pl.read_parquet(data_parquet)\n",
    "\n",
    "df_pandas.head(5)\n",
    "df_polars.head(5)\n"
   ]
  },
  {
   "cell_type": "code",
   "execution_count": 4,
   "id": "2de7fae1-d9f4-4b75-93cc-b68fc32e103d",
   "metadata": {
    "editable": true,
    "execution": {
     "iopub.execute_input": "2023-11-30T18:49:42.421408Z",
     "iopub.status.busy": "2023-11-30T18:49:42.421167Z",
     "iopub.status.idle": "2023-11-30T18:49:42.433652Z",
     "shell.execute_reply": "2023-11-30T18:49:42.432340Z",
     "shell.execute_reply.started": "2023-11-30T18:49:42.421392Z"
    },
    "slideshow": {
     "slide_type": "slide"
    },
    "tags": []
   },
   "outputs": [],
   "source": [
    "# code for image displayed below\n",
    "syntax_compare_read_image = '<img src=\"./images_code/pandas_polars_syntax_compare_read_view.png\" style=\"width:100%\"/>'"
   ]
  },
  {
   "cell_type": "code",
   "execution_count": 5,
   "id": "d46f5768-b147-4d45-8838-fe237fd9511c",
   "metadata": {
    "editable": true,
    "execution": {
     "iopub.execute_input": "2023-11-30T18:49:42.435072Z",
     "iopub.status.busy": "2023-11-30T18:49:42.434724Z",
     "iopub.status.idle": "2023-11-30T18:49:42.450855Z",
     "shell.execute_reply": "2023-11-30T18:49:42.449723Z",
     "shell.execute_reply.started": "2023-11-30T18:49:42.435043Z"
    },
    "slideshow": {
     "slide_type": ""
    },
    "tags": []
   },
   "outputs": [
    {
     "data": {
      "text/html": [
       "<img src=\"./images_code/pandas_polars_syntax_compare_read_view.png\" style=\"width:100%\"/>"
      ],
      "text/plain": [
       "<IPython.core.display.HTML object>"
      ]
     },
     "metadata": {},
     "output_type": "display_data"
    }
   ],
   "source": [
    "display(HTML(syntax_compare_read_image))"
   ]
  },
  {
   "cell_type": "raw",
   "id": "d0c2a980-14d1-455f-bdbc-d2f436479471",
   "metadata": {
    "editable": true,
    "execution": {
     "iopub.execute_input": "2023-10-07T20:35:21.319487Z",
     "iopub.status.busy": "2023-10-07T20:35:21.318559Z",
     "iopub.status.idle": "2023-10-07T20:35:27.916678Z",
     "shell.execute_reply": "2023-10-07T20:35:27.914647Z",
     "shell.execute_reply.started": "2023-10-07T20:35:21.319424Z"
    },
    "raw_mimetype": "",
    "slideshow": {
     "slide_type": "skip"
    },
    "tags": []
   },
   "source": [
    "# syntax comparison:  counting\n",
    "\n",
    "df_pandas[\"customer_id\"].count()\n",
    "df_polars.select(pl.count(\"customer_id\"))"
   ]
  },
  {
   "cell_type": "code",
   "execution_count": 6,
   "id": "4ea2dcc1-b2a2-4c77-addf-ea16d230b021",
   "metadata": {
    "editable": true,
    "execution": {
     "iopub.execute_input": "2023-11-30T18:49:42.452906Z",
     "iopub.status.busy": "2023-11-30T18:49:42.452319Z",
     "iopub.status.idle": "2023-11-30T18:49:42.465007Z",
     "shell.execute_reply": "2023-11-30T18:49:42.464058Z",
     "shell.execute_reply.started": "2023-11-30T18:49:42.452875Z"
    },
    "slideshow": {
     "slide_type": "skip"
    },
    "tags": []
   },
   "outputs": [],
   "source": [
    "# code for image displayed below\n",
    "syntax_compare_count_image = '<img src=\"./images_code/pandas_polars_syntax_compare_count.png\" style=\"width:100%\"/>'"
   ]
  },
  {
   "cell_type": "code",
   "execution_count": 7,
   "id": "d7332f0c-590e-4fdf-ad72-200bfe7734dd",
   "metadata": {
    "editable": true,
    "execution": {
     "iopub.execute_input": "2023-11-30T18:49:42.468352Z",
     "iopub.status.busy": "2023-11-30T18:49:42.467941Z",
     "iopub.status.idle": "2023-11-30T18:49:42.478045Z",
     "shell.execute_reply": "2023-11-30T18:49:42.476984Z",
     "shell.execute_reply.started": "2023-11-30T18:49:42.468324Z"
    },
    "slideshow": {
     "slide_type": "slide"
    },
    "tags": []
   },
   "outputs": [
    {
     "data": {
      "text/html": [
       "<img src=\"./images_code/pandas_polars_syntax_compare_count.png\" style=\"width:100%\"/>"
      ],
      "text/plain": [
       "<IPython.core.display.HTML object>"
      ]
     },
     "metadata": {},
     "output_type": "display_data"
    }
   ],
   "source": [
    "display(HTML(syntax_compare_count_image))"
   ]
  },
  {
   "cell_type": "markdown",
   "id": "0b8f6fcd-d4ae-43c8-8498-41a9cc775bc4",
   "metadata": {
    "editable": true,
    "slideshow": {
     "slide_type": "slide"
    },
    "tags": []
   },
   "source": [
    "# Columnar Formats help speed a lot!\n"
   ]
  },
  {
   "cell_type": "raw",
   "id": "add5c4ab-ce68-479c-bf94-bec194a31af3",
   "metadata": {
    "editable": true,
    "execution": {
     "iopub.execute_input": "2023-11-30T06:32:07.241176Z",
     "iopub.status.busy": "2023-11-30T06:32:07.240462Z",
     "iopub.status.idle": "2023-11-30T06:32:31.005030Z",
     "shell.execute_reply": "2023-11-30T06:32:31.003890Z",
     "shell.execute_reply.started": "2023-11-30T06:32:07.241141Z"
    },
    "raw_mimetype": "",
    "slideshow": {
     "slide_type": "skip"
    },
    "tags": []
   },
   "source": [
    "# pandas typical read + filter\n",
    "df_pd1 = pd.read_parquet(data_parquet)\n",
    "df_pd1 = df_pd1[(df_pd1[\"occupation\"] == \"Data Engineer\") & (df_pd1[\"psf_membership_status\"] != \"Not Yet a Member\")]\n",
    "df_pd1.head(1)\n",
    "\n",
    "# runtime: 23.76s\n"
   ]
  },
  {
   "cell_type": "raw",
   "id": "8660cfca-8c88-4d89-b884-f5a8892be9a4",
   "metadata": {
    "editable": true,
    "execution": {
     "iopub.execute_input": "2023-11-30T06:32:53.676830Z",
     "iopub.status.busy": "2023-11-30T06:32:53.676440Z",
     "iopub.status.idle": "2023-11-30T06:32:56.511128Z",
     "shell.execute_reply": "2023-11-30T06:32:56.510268Z",
     "shell.execute_reply.started": "2023-11-30T06:32:53.676813Z"
    },
    "raw_mimetype": "",
    "slideshow": {
     "slide_type": "skip"
    },
    "tags": []
   },
   "source": [
    "# pandas predicate push-down with parquet helps speed\n",
    "df_pd2 = pd.read_parquet(\n",
    "    data_parquet,\n",
    "    filters=[\n",
    "        (\"occupation\", \"==\", \"Data Engineer\"),\n",
    "        (\"psf_membership_status\", \"!=\", \"Not Yet a Member\"),\n",
    "    ],\n",
    ")\n",
    "df_pd2.head(1)\n",
    "\n",
    "# runtime: 2.83s\n"
   ]
  },
  {
   "cell_type": "code",
   "execution_count": 8,
   "id": "b7aeec6f-f6f8-4ec1-a702-4a5540121255",
   "metadata": {
    "editable": true,
    "execution": {
     "iopub.execute_input": "2023-11-30T18:49:42.479640Z",
     "iopub.status.busy": "2023-11-30T18:49:42.479261Z",
     "iopub.status.idle": "2023-11-30T18:49:42.488880Z",
     "shell.execute_reply": "2023-11-30T18:49:42.488003Z",
     "shell.execute_reply.started": "2023-11-30T18:49:42.479613Z"
    },
    "slideshow": {
     "slide_type": "skip"
    },
    "tags": []
   },
   "outputs": [],
   "source": [
    "# code for image displayed below\n",
    "columnar_image = '<center><img src=\"./images_code/pandas_pred_pushdown.png\" style=\"width:90%\"/></center>'"
   ]
  },
  {
   "cell_type": "code",
   "execution_count": 9,
   "id": "b9fcfe65-4c42-4aa0-88b8-1722e84bf943",
   "metadata": {
    "editable": true,
    "execution": {
     "iopub.execute_input": "2023-11-30T18:49:42.490246Z",
     "iopub.status.busy": "2023-11-30T18:49:42.489824Z",
     "iopub.status.idle": "2023-11-30T18:49:42.501991Z",
     "shell.execute_reply": "2023-11-30T18:49:42.500882Z",
     "shell.execute_reply.started": "2023-11-30T18:49:42.490221Z"
    },
    "slideshow": {
     "slide_type": "slide"
    },
    "tags": []
   },
   "outputs": [
    {
     "data": {
      "text/html": [
       "<center><img src=\"./images_code/pandas_pred_pushdown.png\" style=\"width:90%\"/></center>"
      ],
      "text/plain": [
       "<IPython.core.display.HTML object>"
      ]
     },
     "metadata": {},
     "output_type": "display_data"
    }
   ],
   "source": [
    "display(HTML(columnar_image))"
   ]
  },
  {
   "cell_type": "markdown",
   "id": "8bc332ec-ed28-48cb-9e67-c6f2a3d468a9",
   "metadata": {
    "editable": true,
    "slideshow": {
     "slide_type": "skip"
    },
    "tags": []
   },
   "source": [
    "# Polars - Lazy Query is straightforward - can help speed in some complex cases"
   ]
  },
  {
   "cell_type": "code",
   "execution_count": 10,
   "id": "b949104f-ff9e-4895-8580-1d7e70cfda07",
   "metadata": {
    "editable": true,
    "execution": {
     "iopub.execute_input": "2023-11-30T18:49:42.503404Z",
     "iopub.status.busy": "2023-11-30T18:49:42.503043Z",
     "iopub.status.idle": "2023-11-30T18:49:45.164346Z",
     "shell.execute_reply": "2023-11-30T18:49:45.163439Z",
     "shell.execute_reply.started": "2023-11-30T18:49:42.503378Z"
    },
    "slideshow": {
     "slide_type": "skip"
    },
    "tags": []
   },
   "outputs": [],
   "source": [
    "# polars Eager API\n",
    "df_pl2 = pl.read_parquet(data_parquet).filter(\n",
    "    (pl.col(\"occupation\") == \"Data Engineer\")\n",
    "    & (pl.col(\"psf_membership_status\") != \"Not Yet a Member\")\n",
    ")"
   ]
  },
  {
   "cell_type": "code",
   "execution_count": 11,
   "id": "ea07dac3-03da-4ca9-9201-32c0cf0889fd",
   "metadata": {
    "editable": true,
    "execution": {
     "iopub.execute_input": "2023-11-30T18:49:45.165611Z",
     "iopub.status.busy": "2023-11-30T18:49:45.165346Z",
     "iopub.status.idle": "2023-11-30T18:49:47.843522Z",
     "shell.execute_reply": "2023-11-30T18:49:47.842497Z",
     "shell.execute_reply.started": "2023-11-30T18:49:45.165592Z"
    },
    "slideshow": {
     "slide_type": "skip"
    },
    "tags": []
   },
   "outputs": [],
   "source": [
    "# polars Lazy API - chain transformations then collect()\n",
    "\n",
    "df_pl2 = (\n",
    "    pl.read_parquet(data_parquet)\n",
    "    .lazy()\n",
    "    .filter(\n",
    "        (pl.col(\"occupation\") == \"Apache Arrow Understudy\")\n",
    "        & (pl.col(\"psf_membership_status\") == \"Contributing\")\n",
    "    )\n",
    "    .collect()\n",
    ")"
   ]
  },
  {
   "cell_type": "code",
   "execution_count": 12,
   "id": "ab94801c-40c9-4c73-8f90-38507fc5ce33",
   "metadata": {
    "editable": true,
    "execution": {
     "iopub.execute_input": "2023-11-30T18:49:47.845545Z",
     "iopub.status.busy": "2023-11-30T18:49:47.844768Z",
     "iopub.status.idle": "2023-11-30T18:49:47.851818Z",
     "shell.execute_reply": "2023-11-30T18:49:47.850125Z",
     "shell.execute_reply.started": "2023-11-30T18:49:47.845509Z"
    },
    "slideshow": {
     "slide_type": "skip"
    },
    "tags": []
   },
   "outputs": [],
   "source": [
    "eager_lazy_api_side_by_side = \"\"\"\n",
    "<table style=\"width:100%; table-layout: fixed;\">\n",
    "    <tr>\n",
    "        <td style=\"width:50%; vertical-align: top; background-color: white;\">\n",
    "            <img src=\"./images_code/polars_eager_api_match_lines.png\" style=\"width:100%;\"/>\n",
    "        </td>\n",
    "        <td style=\"width:50%; vertical-align: top; background-color: white;\">\n",
    "            <img src=\"./images_code/polars_lazy_api.png\" style=\"width:100%;\"/>\n",
    "        </td>\n",
    "    </tr>\n",
    "</table>\n",
    "\"\"\""
   ]
  },
  {
   "cell_type": "code",
   "execution_count": 13,
   "id": "e91fd090-323a-415f-a658-9977c7484746",
   "metadata": {
    "editable": true,
    "execution": {
     "iopub.execute_input": "2023-11-30T18:49:47.854007Z",
     "iopub.status.busy": "2023-11-30T18:49:47.853342Z",
     "iopub.status.idle": "2023-11-30T18:49:47.869169Z",
     "shell.execute_reply": "2023-11-30T18:49:47.867892Z",
     "shell.execute_reply.started": "2023-11-30T18:49:47.853965Z"
    },
    "slideshow": {
     "slide_type": "slide"
    },
    "tags": []
   },
   "outputs": [
    {
     "data": {
      "text/html": [
       "\n",
       "<table style=\"width:100%; table-layout: fixed;\">\n",
       "    <tr>\n",
       "        <td style=\"width:50%; vertical-align: top; background-color: white;\">\n",
       "            <img src=\"./images_code/polars_eager_api_match_lines.png\" style=\"width:100%;\"/>\n",
       "        </td>\n",
       "        <td style=\"width:50%; vertical-align: top; background-color: white;\">\n",
       "            <img src=\"./images_code/polars_lazy_api.png\" style=\"width:100%;\"/>\n",
       "        </td>\n",
       "    </tr>\n",
       "</table>\n"
      ],
      "text/plain": [
       "<IPython.core.display.HTML object>"
      ]
     },
     "metadata": {},
     "output_type": "display_data"
    }
   ],
   "source": [
    "display(HTML(eager_lazy_api_side_by_side))"
   ]
  },
  {
   "cell_type": "markdown",
   "id": "7b8b26a1-a7fc-4cf8-bb5b-8a1e38b8a3fd",
   "metadata": {
    "editable": true,
    "slideshow": {
     "slide_type": "skip"
    },
    "tags": []
   },
   "source": [
    "### Reminder: RAW cells used as input for Carbon slides, code not runnable as no active df to work with"
   ]
  },
  {
   "cell_type": "raw",
   "id": "3fb5dc63-5c70-4af9-9e87-b40b96f20684",
   "metadata": {
    "editable": true,
    "raw_mimetype": "",
    "slideshow": {
     "slide_type": "skip"
    },
    "tags": []
   },
   "source": [
    "# How to move data between Pandas and Polars directly\n",
    "\n",
    "polars.from_pandas(df_pandas_in)\n",
    "polars.to_pandas(df_pandas_out)\n",
    "\n",
    "# NOTE! ~4.2B row limit; need more rows? check out `pip install polars-u64-idx`\n",
    "# https://github.com/pola-rs/polars#going-big\n"
   ]
  },
  {
   "cell_type": "code",
   "execution_count": 14,
   "id": "7c8d3330-54f6-4ad5-bcae-05b713665f45",
   "metadata": {
    "editable": true,
    "execution": {
     "iopub.execute_input": "2023-11-30T18:49:47.871023Z",
     "iopub.status.busy": "2023-11-30T18:49:47.870500Z",
     "iopub.status.idle": "2023-11-30T18:49:47.883118Z",
     "shell.execute_reply": "2023-11-30T18:49:47.881502Z",
     "shell.execute_reply.started": "2023-11-30T18:49:47.870981Z"
    },
    "slideshow": {
     "slide_type": "skip"
    },
    "tags": []
   },
   "outputs": [],
   "source": [
    "# code for image displayed below\n",
    "polars_to_from_pandas = (\n",
    "    '<img src=\"./images_code/polars_to_from_pandas.png\" style=\"width:100%\"/>'\n",
    ")"
   ]
  },
  {
   "cell_type": "markdown",
   "id": "27c1884c-adcc-450f-b34a-bbf0705d8570",
   "metadata": {
    "editable": true,
    "slideshow": {
     "slide_type": "slide"
    },
    "tags": []
   },
   "source": [
    "# Moving Data between Pandas and Polars = Easy!\n"
   ]
  },
  {
   "cell_type": "code",
   "execution_count": 15,
   "id": "8cec761b-a858-4141-8a26-3c72e5379331",
   "metadata": {
    "editable": true,
    "execution": {
     "iopub.execute_input": "2023-11-30T18:49:47.885232Z",
     "iopub.status.busy": "2023-11-30T18:49:47.884726Z",
     "iopub.status.idle": "2023-11-30T18:49:47.898996Z",
     "shell.execute_reply": "2023-11-30T18:49:47.897679Z",
     "shell.execute_reply.started": "2023-11-30T18:49:47.885192Z"
    },
    "slideshow": {
     "slide_type": "slide"
    },
    "tags": []
   },
   "outputs": [
    {
     "data": {
      "text/html": [
       "<img src=\"./images_code/polars_to_from_pandas.png\" style=\"width:100%\"/>"
      ],
      "text/plain": [
       "<IPython.core.display.HTML object>"
      ]
     },
     "metadata": {},
     "output_type": "display_data"
    }
   ],
   "source": [
    "display(HTML(polars_to_from_pandas))"
   ]
  },
  {
   "cell_type": "raw",
   "id": "f2ea765b-ecdb-4b23-87b7-88851880e81f",
   "metadata": {
    "editable": true,
    "execution": {
     "iopub.execute_input": "2023-11-27T18:48:14.134491Z",
     "iopub.status.busy": "2023-11-27T18:48:14.134030Z",
     "iopub.status.idle": "2023-11-27T18:48:14.291677Z",
     "shell.execute_reply": "2023-11-27T18:48:14.290790Z",
     "shell.execute_reply.started": "2023-11-27T18:48:14.134463Z"
    },
    "raw_mimetype": "",
    "slideshow": {
     "slide_type": "skip"
    },
    "tags": []
   },
   "source": [
    "# Polars.from_pandas API detail\n",
    "\n",
    "polars.from_pandas(\n",
    "    data=df,\n",
    "    schema_overrides=None,\n",
    "    rechunk=True,\n",
    "    nan_to_null=True,\n",
    "    include_index=True\n",
    ")\n",
    "\n",
    "# https://pola-rs.github.io/polars/py-polars/html/reference/api/polars.from_pandas.html\n"
   ]
  },
  {
   "cell_type": "code",
   "execution_count": 16,
   "id": "e9d2dbd0-e780-46ea-ab9c-fef14b887605",
   "metadata": {
    "editable": true,
    "execution": {
     "iopub.execute_input": "2023-11-30T18:49:47.901314Z",
     "iopub.status.busy": "2023-11-30T18:49:47.900455Z",
     "iopub.status.idle": "2023-11-30T18:49:47.914997Z",
     "shell.execute_reply": "2023-11-30T18:49:47.913765Z",
     "shell.execute_reply.started": "2023-11-30T18:49:47.901272Z"
    },
    "slideshow": {
     "slide_type": "skip"
    },
    "tags": []
   },
   "outputs": [],
   "source": [
    "# code for image displayed below\n",
    "polars_from_pandas_detail = (\n",
    "    '<img src=\"./images_code/polars_from_pandas_detail.png\" style=\"width:100%\"/>'\n",
    ")"
   ]
  },
  {
   "cell_type": "code",
   "execution_count": 17,
   "id": "5651a8ed-d20e-4947-a4f8-997ff35b06aa",
   "metadata": {
    "editable": true,
    "execution": {
     "iopub.execute_input": "2023-11-30T18:49:47.916890Z",
     "iopub.status.busy": "2023-11-30T18:49:47.916426Z",
     "iopub.status.idle": "2023-11-30T18:49:47.933159Z",
     "shell.execute_reply": "2023-11-30T18:49:47.931809Z",
     "shell.execute_reply.started": "2023-11-30T18:49:47.916857Z"
    },
    "slideshow": {
     "slide_type": "slide"
    },
    "tags": []
   },
   "outputs": [
    {
     "data": {
      "text/html": [
       "<img src=\"./images_code/polars_from_pandas_detail.png\" style=\"width:100%\"/>"
      ],
      "text/plain": [
       "<IPython.core.display.HTML object>"
      ]
     },
     "metadata": {},
     "output_type": "display_data"
    }
   ],
   "source": [
    "display(HTML(polars_from_pandas_detail))"
   ]
  },
  {
   "cell_type": "raw",
   "id": "5afd1e6d-293e-4f53-a3a3-4b7754e16f18",
   "metadata": {
    "editable": true,
    "raw_mimetype": "",
    "slideshow": {
     "slide_type": "skip"
    },
    "tags": []
   },
   "source": [
    "# Polars.to_pandas API detail\n",
    "\n",
    "pandas_df_new = polars.to_pandas(\n",
    "                                 use_pyarrow_extension_array=True,\n",
    "                                 **kwargs\n",
    "                                )\n",
    "\n",
    "# uses Arrow in background\n",
    "# copies data unless: use_pyarrow_extension_array=True\n",
    "# **kwargs send to pyarrow.Table.to_pandas() \n",
    "# many options for mapping; self-destruct to free memory\n",
    "\n",
    "# https://pola-rs.github.io/polars/py-polars/html/reference/dataframe/api/polars.DataFrame.to_pandas.html#polars.DataFrame.to_pandas\n"
   ]
  },
  {
   "cell_type": "code",
   "execution_count": 18,
   "id": "513d7f83-06e4-49b7-b03d-eff6af6b24fb",
   "metadata": {
    "editable": true,
    "execution": {
     "iopub.execute_input": "2023-11-30T18:49:47.934773Z",
     "iopub.status.busy": "2023-11-30T18:49:47.934377Z",
     "iopub.status.idle": "2023-11-30T18:49:47.949675Z",
     "shell.execute_reply": "2023-11-30T18:49:47.948275Z",
     "shell.execute_reply.started": "2023-11-30T18:49:47.934749Z"
    },
    "slideshow": {
     "slide_type": "skip"
    },
    "tags": []
   },
   "outputs": [],
   "source": [
    "# code for image displayed below\n",
    "polars_to_pandas_detail = (\n",
    "    '<img src=\"./images_code/polars_to_pandas_detail.png\" style=\"width:100%\"/>'\n",
    ")"
   ]
  },
  {
   "cell_type": "code",
   "execution_count": 19,
   "id": "0980bcbb-1917-416c-be56-dd1719b484f1",
   "metadata": {
    "editable": true,
    "execution": {
     "iopub.execute_input": "2023-11-30T18:49:47.951840Z",
     "iopub.status.busy": "2023-11-30T18:49:47.951184Z",
     "iopub.status.idle": "2023-11-30T18:49:47.968874Z",
     "shell.execute_reply": "2023-11-30T18:49:47.967388Z",
     "shell.execute_reply.started": "2023-11-30T18:49:47.951801Z"
    },
    "slideshow": {
     "slide_type": "slide"
    },
    "tags": []
   },
   "outputs": [
    {
     "data": {
      "text/html": [
       "<img src=\"./images_code/polars_to_pandas_detail.png\" style=\"width:100%\"/>"
      ],
      "text/plain": [
       "<IPython.core.display.HTML object>"
      ]
     },
     "metadata": {},
     "output_type": "display_data"
    }
   ],
   "source": [
    "display(HTML(polars_to_pandas_detail))"
   ]
  },
  {
   "cell_type": "code",
   "execution_count": 20,
   "id": "76e0a3bb-da1e-4c0d-8ba9-325c17efd558",
   "metadata": {
    "editable": true,
    "execution": {
     "iopub.execute_input": "2023-11-30T18:49:47.970812Z",
     "iopub.status.busy": "2023-11-30T18:49:47.970369Z",
     "iopub.status.idle": "2023-11-30T18:49:47.982841Z",
     "shell.execute_reply": "2023-11-30T18:49:47.981621Z",
     "shell.execute_reply.started": "2023-11-30T18:49:47.970782Z"
    },
    "slideshow": {
     "slide_type": "slide"
    },
    "tags": []
   },
   "outputs": [
    {
     "data": {
      "text/html": [
       "\n",
       "        <iframe\n",
       "            width=\"105%\"\n",
       "            height=\"1000px\"\n",
       "            src=\"https://arrow.apache.org/docs/python/generated/pyarrow.Table.html#pyarrow.Table.to_pandas?scrolling=yes\"\n",
       "            frameborder=\"0\"\n",
       "            allowfullscreen\n",
       "            \n",
       "        ></iframe>\n",
       "        "
      ],
      "text/plain": [
       "<IPython.lib.display.IFrame at 0x7fed02555710>"
      ]
     },
     "metadata": {},
     "output_type": "display_data"
    }
   ],
   "source": [
    "display(\n",
    "    IFrame(\n",
    "        \"https://arrow.apache.org/docs/python/generated/pyarrow.Table.html#pyarrow.Table.to_pandas\",\n",
    "        width=\"105%\",\n",
    "        height=\"1000px\",\n",
    "        scrolling=\"yes\",\n",
    "    )\n",
    ")"
   ]
  },
  {
   "cell_type": "markdown",
   "id": "67f76d25-8fed-461e-b9fb-d03043c55e19",
   "metadata": {
    "editable": true,
    "slideshow": {
     "slide_type": "slide"
    },
    "tags": []
   },
   "source": [
    "# Transfers between Pandas and Polars - how fast are they?\n"
   ]
  },
  {
   "cell_type": "raw",
   "id": "9742947f-2d33-47cb-a443-15ac547634c7",
   "metadata": {
    "editable": true,
    "execution": {
     "iopub.execute_input": "2023-10-08T06:12:01.060743Z",
     "iopub.status.busy": "2023-10-08T06:12:01.059068Z",
     "iopub.status.idle": "2023-10-08T06:12:09.924971Z",
     "shell.execute_reply": "2023-10-08T06:12:09.920527Z",
     "shell.execute_reply.started": "2023-10-08T06:12:01.060671Z"
    },
    "raw_mimetype": "",
    "slideshow": {
     "slide_type": "skip"
    },
    "tags": []
   },
   "source": [
    "# Quick Example - transfers\n",
    "pd.options.future.infer_string = True\n",
    "pd.options.mode.copy_on_write = True\n",
    "\n",
    "df_pl3 = pl.read_parquet(data_parquet)  # ~680MB parquet\n"
   ]
  },
  {
   "cell_type": "code",
   "execution_count": 21,
   "id": "3459b22a-fa58-4a76-a909-c02b7a984a4f",
   "metadata": {
    "editable": true,
    "execution": {
     "iopub.execute_input": "2023-11-30T18:49:47.984892Z",
     "iopub.status.busy": "2023-11-30T18:49:47.984343Z",
     "iopub.status.idle": "2023-11-30T18:49:47.997852Z",
     "shell.execute_reply": "2023-11-30T18:49:47.996554Z",
     "shell.execute_reply.started": "2023-11-30T18:49:47.984826Z"
    },
    "slideshow": {
     "slide_type": "skip"
    },
    "tags": []
   },
   "outputs": [],
   "source": [
    "# code for image displayed below\n",
    "pl_pd_xfer_speed_setup = (\n",
    "    '<img src=\"./images_code/pl_pd_xfer_speed_setup.png\" style=\"width:100%\"/>'\n",
    ")"
   ]
  },
  {
   "cell_type": "code",
   "execution_count": 22,
   "id": "d92d6612-ddc9-4ee4-aee7-60d1f1aedd21",
   "metadata": {
    "editable": true,
    "execution": {
     "iopub.execute_input": "2023-11-30T18:49:48.013913Z",
     "iopub.status.busy": "2023-11-30T18:49:48.013200Z",
     "iopub.status.idle": "2023-11-30T18:49:48.045248Z",
     "shell.execute_reply": "2023-11-30T18:49:48.044037Z",
     "shell.execute_reply.started": "2023-11-30T18:49:48.013866Z"
    },
    "slideshow": {
     "slide_type": "slide"
    },
    "tags": []
   },
   "outputs": [
    {
     "data": {
      "text/html": [
       "<img src=\"./images_code/pl_pd_xfer_speed_setup.png\" style=\"width:100%\"/>"
      ],
      "text/plain": [
       "<IPython.core.display.HTML object>"
      ]
     },
     "metadata": {},
     "output_type": "display_data"
    }
   ],
   "source": [
    "display(HTML(pl_pd_xfer_speed_setup))"
   ]
  },
  {
   "cell_type": "raw",
   "id": "8c906a3f-7de7-48f8-b612-bbb41877154b",
   "metadata": {
    "editable": true,
    "execution": {
     "iopub.execute_input": "2023-10-08T06:12:09.931230Z",
     "iopub.status.busy": "2023-10-08T06:12:09.929855Z",
     "iopub.status.idle": "2023-10-08T06:13:53.903553Z",
     "shell.execute_reply": "2023-10-08T06:13:53.900534Z",
     "shell.execute_reply.started": "2023-10-08T06:12:09.931183Z"
    },
    "raw_mimetype": "",
    "slideshow": {
     "slide_type": "skip"
    },
    "tags": []
   },
   "source": [
    "# to_pandas (numpy)\n",
    "\n",
    "df_pd_xfered = df_pl3.to_pandas()  # copies data!  ~680MB\n",
    "# could do other ops in Pandas here...\n",
    "df_pd_xfered.head(2)\n",
    "\n",
    "# ~65.81s\n",
    "# this is expensive...\n",
    "\n",
    "del(df_pd_xfered)\n"
   ]
  },
  {
   "cell_type": "code",
   "execution_count": 23,
   "id": "0ef7afe7-1d64-4393-9af5-0815a7ba0b6a",
   "metadata": {
    "editable": true,
    "execution": {
     "iopub.execute_input": "2023-11-30T18:49:48.047379Z",
     "iopub.status.busy": "2023-11-30T18:49:48.046823Z",
     "iopub.status.idle": "2023-11-30T18:49:48.058175Z",
     "shell.execute_reply": "2023-11-30T18:49:48.056766Z",
     "shell.execute_reply.started": "2023-11-30T18:49:48.047347Z"
    },
    "slideshow": {
     "slide_type": "skip"
    },
    "tags": []
   },
   "outputs": [],
   "source": [
    "# code for image displayed below\n",
    "pl_to_pandas_slow = (\n",
    "    '<img src=\"./images_code/pl_to_pandas_slow.png\" style=\"width:100%\"/>'\n",
    ")"
   ]
  },
  {
   "cell_type": "code",
   "execution_count": 24,
   "id": "3c639f19-45df-45fe-ad46-e28acce5974a",
   "metadata": {
    "editable": true,
    "execution": {
     "iopub.execute_input": "2023-11-30T18:49:48.060216Z",
     "iopub.status.busy": "2023-11-30T18:49:48.059721Z",
     "iopub.status.idle": "2023-11-30T18:49:48.083421Z",
     "shell.execute_reply": "2023-11-30T18:49:48.082117Z",
     "shell.execute_reply.started": "2023-11-30T18:49:48.060183Z"
    },
    "slideshow": {
     "slide_type": "slide"
    },
    "tags": []
   },
   "outputs": [
    {
     "data": {
      "text/html": [
       "<img src=\"./images_code/pl_to_pandas_slow.png\" style=\"width:100%\"/>"
      ],
      "text/plain": [
       "<IPython.core.display.HTML object>"
      ]
     },
     "metadata": {},
     "output_type": "display_data"
    }
   ],
   "source": [
    "display(HTML(pl_to_pandas_slow))"
   ]
  },
  {
   "cell_type": "raw",
   "id": "6471c482-a848-4462-8c1a-3830f143c387",
   "metadata": {
    "editable": true,
    "execution": {
     "iopub.execute_input": "2023-10-08T06:15:11.537478Z",
     "iopub.status.busy": "2023-10-08T06:15:11.536887Z",
     "iopub.status.idle": "2023-10-08T06:15:13.886424Z",
     "shell.execute_reply": "2023-10-08T06:15:13.884002Z",
     "shell.execute_reply.started": "2023-10-08T06:15:11.537440Z"
    },
    "raw_mimetype": "",
    "slideshow": {
     "slide_type": "skip"
    },
    "tags": []
   },
   "source": [
    "# to_pandas (using pyarrow; no copy)\n",
    "\n",
    "df_pd_xfered = df_pl3.to_pandas(use_pyarrow_extension_array=True)  \n",
    "# does not copy data!\n",
    "df_pd_xfered.head(2)\n",
    "\n",
    "# 2.35s\n",
    "# ~28x faster than numpy/data copy\n"
   ]
  },
  {
   "cell_type": "code",
   "execution_count": 25,
   "id": "073ecab7-9bed-4ab8-9039-45bb6333101e",
   "metadata": {
    "editable": true,
    "execution": {
     "iopub.execute_input": "2023-11-30T18:49:48.085583Z",
     "iopub.status.busy": "2023-11-30T18:49:48.085065Z",
     "iopub.status.idle": "2023-11-30T18:49:48.097909Z",
     "shell.execute_reply": "2023-11-30T18:49:48.096620Z",
     "shell.execute_reply.started": "2023-11-30T18:49:48.085539Z"
    },
    "slideshow": {
     "slide_type": "skip"
    },
    "tags": []
   },
   "outputs": [],
   "source": [
    "# code for image displayed below\n",
    "pl_to_pandas_fast = (\n",
    "    '<img src=\"./images_code/pl_to_pandas_fast.png\" style=\"width:100%\"/>'\n",
    ")"
   ]
  },
  {
   "cell_type": "code",
   "execution_count": 26,
   "id": "c86941f7-612e-4c5f-ac5b-ed860954993a",
   "metadata": {
    "editable": true,
    "execution": {
     "iopub.execute_input": "2023-11-30T18:49:48.100403Z",
     "iopub.status.busy": "2023-11-30T18:49:48.099643Z",
     "iopub.status.idle": "2023-11-30T18:49:48.115185Z",
     "shell.execute_reply": "2023-11-30T18:49:48.113800Z",
     "shell.execute_reply.started": "2023-11-30T18:49:48.100373Z"
    },
    "slideshow": {
     "slide_type": "slide"
    },
    "tags": []
   },
   "outputs": [
    {
     "data": {
      "text/html": [
       "<img src=\"./images_code/pl_to_pandas_fast.png\" style=\"width:100%\"/>"
      ],
      "text/plain": [
       "<IPython.core.display.HTML object>"
      ]
     },
     "metadata": {},
     "output_type": "display_data"
    }
   ],
   "source": [
    "display(HTML(pl_to_pandas_fast))"
   ]
  },
  {
   "cell_type": "raw",
   "id": "7a634876-4869-4cd6-9d9b-25770a777417",
   "metadata": {
    "editable": true,
    "raw_mimetype": "",
    "slideshow": {
     "slide_type": "skip"
    },
    "tags": []
   },
   "source": [
    "# How to use Pandas directly with Arrow\n",
    "\n",
    "import pyarrow as pa\n",
    "import pandas as pd\n",
    "\n",
    "\n",
    "table = pa.Table.from_pandas(df)\n",
    "\n",
    "# do some ops in Arrow\n",
    "# ...join\n",
    "# ...flatten\n",
    "# ...cast\n",
    "# ...sort, groupby, etc.\n",
    "\n",
    "df_new = table.to_pandas()\n"
   ]
  },
  {
   "cell_type": "code",
   "execution_count": 27,
   "id": "b4f41b68-9fed-44de-b89f-8d4ddaf68361",
   "metadata": {
    "editable": true,
    "execution": {
     "iopub.execute_input": "2023-11-30T18:49:48.117548Z",
     "iopub.status.busy": "2023-11-30T18:49:48.116572Z",
     "iopub.status.idle": "2023-11-30T18:49:48.126835Z",
     "shell.execute_reply": "2023-11-30T18:49:48.125437Z",
     "shell.execute_reply.started": "2023-11-30T18:49:48.117510Z"
    },
    "slideshow": {
     "slide_type": "skip"
    },
    "tags": []
   },
   "outputs": [],
   "source": [
    "# code for image displayed below\n",
    "pandas_with_pyarrow = (\n",
    "    '<img src=\"./images_code/pandas_with_pyarrow.png\" style=\"width:100%\"/>'\n",
    ")"
   ]
  },
  {
   "cell_type": "code",
   "execution_count": 28,
   "id": "34121cdd-b675-4c02-ac6b-0ccc9ebf9955",
   "metadata": {
    "editable": true,
    "execution": {
     "iopub.execute_input": "2023-11-30T18:49:48.128550Z",
     "iopub.status.busy": "2023-11-30T18:49:48.128202Z",
     "iopub.status.idle": "2023-11-30T18:49:48.142560Z",
     "shell.execute_reply": "2023-11-30T18:49:48.141126Z",
     "shell.execute_reply.started": "2023-11-30T18:49:48.128525Z"
    },
    "slideshow": {
     "slide_type": "slide"
    },
    "tags": []
   },
   "outputs": [
    {
     "data": {
      "text/html": [
       "<img src=\"./images_code/pandas_with_pyarrow.png\" style=\"width:100%\"/>"
      ],
      "text/plain": [
       "<IPython.core.display.HTML object>"
      ]
     },
     "metadata": {},
     "output_type": "display_data"
    }
   ],
   "source": [
    "display(HTML(pandas_with_pyarrow))"
   ]
  },
  {
   "cell_type": "markdown",
   "id": "1fa58384-9b5f-4a19-b2e1-a79a7416764d",
   "metadata": {
    "editable": true,
    "slideshow": {
     "slide_type": "slide"
    },
    "tags": []
   },
   "source": [
    "<h1 style=\"font-size: 32px; color: #333; margin-bottom: 20px;\">When should I integrate Pandas and Polars?</h1>\n",
    "\n",
    "<table style=\"width: 100%; height: 100%; border-collapse: collapse;\">\n",
    "    <tr>\n",
    "        <!-- First Column with light mint green background -->\n",
    "        <td style=\"vertical-align: top; padding-right: 10px; width: 50%; background-color: #e0f7fa;\"> <!-- Light mint green -->\n",
    "            <h2 style=\"font-size: 32px; font-weight: bold; color: #555; margin: 15px 0;\">Yes!</h2>\n",
    "            <ul>\n",
    "                <li style=\"font-size: 24px; color: #777; margin: 10px 0;\">When you can use Arrow/pyarrow>=10.0.1</li>\n",
    "                <br>\n",
    "                <li style=\"font-size: 24px; color: #777; margin: 10px 0;\">Creating new pipeline (great time!)</li>\n",
    "                <li style=\"font-size: 24px; color: #777; margin: 10px 0;\">Existing pipe needs big speed improvements + worth your time + budget available</li>\n",
    "                <li style=\"font-size: 24px; color: #777; margin: 10px 0;\">Expensive Pandas ops with direct matches (e.g. select)</li>\n",
    "                <li style=\"font-size: 24px; color: #777; margin: 10px 0;\">Input data is Polars-friendly (a lot)</li>\n",
    "                <ul style=\"font-size: 24px; margin-left: 40px; list-style-type: disc;\">\n",
    "                    <li style=\"font-size: 24px;\"> Pandas df</li>\n",
    "                    <li style=\"font-size: 24px;\"> Flat files</li>\n",
    "                    <li style=\"font-size: 24px;\"> Standard db (sql) or supported datastore</li>\n",
    "                    <li style=\"font-size: 24px;\"> Already in Arrow (e.g. Spark >=3.2)</li>\n",
    "                </ul>\n",
    "            </ul>\n",
    "        </td>\n",
    "        <!-- Second Column with light red background -->\n",
    "        <td style=\"vertical-align: top; padding-left: 10px; width: 50%; background-color: #ffebee;\"> <!-- Light red -->\n",
    "            <h2 style=\"font-size: 32px; font-weight: bold; color: #555; margin: 15px 0;\">No!</h2>\n",
    "            <ul>\n",
    "                <li style=\"font-size: 24px; color: #777; margin: 10px 0;\">API requires pandas (e.g. Snowflake)</li>\n",
    "                <li style=\"font-size: 24px; color: #777; margin: 10px 0;\">No business case / too much refactoring</li>\n",
    "            </ul>\n",
    "        </td>\n",
    "    </tr>\n",
    "</table>\n"
   ]
  },
  {
   "cell_type": "markdown",
   "id": "513f8856-15b0-48fd-b765-fe01b1ececc2",
   "metadata": {
    "editable": true,
    "slideshow": {
     "slide_type": "slide"
    },
    "tags": []
   },
   "source": [
    "<table style=\"width: 70%; border-collapse: collapse; margin-left: auto; margin-right: auto; padding: 20px; border: 0;\">\n",
    "    <tr style=\"background-color: white;\"> <!-- White background for 'TLDR' row -->\n",
    "        <td style=\"vertical-align: top; border: 0;\">\n",
    "            <h1 style=\"font-size: 96px; color: #333; margin-top: 0; margin-bottom: 10px; line-height: 1.2;\">TLDR</h1>\n",
    "        </td>\n",
    "    </tr>\n",
    "    <tr style=\"background-color: white;\">\n",
    "        <td style=\"border: 0;\">&nbsp;</td>\n",
    "    </tr>\n",
    "    <tr style=\"background-color: #f2f2f2;\">\n",
    "        <td style=\"vertical-align: top; border: 0;\">\n",
    "            <p style=\"font-size: 48px; color: #555; margin-top: 0; margin-bottom: 10px; line-height: 1.4;\">- Continue using Pandas for power (completeness) / flexibility / stability</p>\n",
    "        </td>\n",
    "    </tr>\n",
    "    <tr style=\"background-color: white;\">\n",
    "        <td style=\"border: 0;\">&nbsp;</td>\n",
    "    </tr>\n",
    "    <tr style=\"background-color: #f2f2f2;\">\n",
    "        <td style=\"vertical-align: top; border: 0;\">\n",
    "            <p style=\"font-size: 48px; color: #555; margin-top: 0; margin-bottom: 10px; line-height: 1.4;\">- Add Polars where you can for speed</p>\n",
    "        </td>\n",
    "    </tr>\n",
    "    <tr style=\"background-color: white;\">\n",
    "        <td style=\"border: 0;\">&nbsp;</td>\n",
    "    </tr>\n",
    "    <tr style=\"background-color: #f2f2f2;\">\n",
    "        <td style=\"vertical-align: top; border: 0;\">\n",
    "            <p style=\"font-size: 48px; color: #555; margin-top: 0; margin-bottom: 10px; line-height: 1.4;\">- Both getting faster - Arrow is the driver</p>\n",
    "        </td>\n",
    "    </tr>\n",
    "    <tr style=\"background-color: white;\">\n",
    "        <td style=\"border: 0;\">&nbsp;</td>\n",
    "    </tr>\n",
    "    <tr style=\"background-color: #f2f2f2;\">\n",
    "        <td style=\"vertical-align: top; border: 0;\">\n",
    "            <p style=\"font-size: 48px; color: #555; margin-top: 0; line-height: 1.4;\">- Build better pipelines -- use together where it makes sense</p>\n",
    "        </td>\n",
    "    </tr>\n",
    "    <tr style=\"background-color: white;\">\n",
    "        <td style=\"border: 0;\">&nbsp;</td>\n",
    "    </tr>\n",
    "</table>\n"
   ]
  },
  {
   "cell_type": "markdown",
   "id": "475bd123-d69d-474a-a95e-f4495fe2a408",
   "metadata": {
    "editable": true,
    "slideshow": {
     "slide_type": "skip"
    },
    "tags": []
   },
   "source": [
    "# Thank You / Wrap Up\n"
   ]
  },
  {
   "cell_type": "markdown",
   "id": "074b29ac-9a5a-451b-a886-8d2caf1767e7",
   "metadata": {
    "editable": true,
    "execution": {
     "iopub.execute_input": "2023-11-30T16:58:09.503161Z",
     "iopub.status.busy": "2023-11-30T16:58:09.502585Z",
     "iopub.status.idle": "2023-11-30T16:58:09.509203Z",
     "shell.execute_reply": "2023-11-30T16:58:09.508288Z",
     "shell.execute_reply.started": "2023-11-30T16:58:09.503138Z"
    },
    "slideshow": {
     "slide_type": "slide"
    },
    "tags": []
   },
   "source": [
    "<h1>PyData 2023</h1>\n",
    "<table border=\"0\" style=\"width: 105%;\">\n",
    "    <tr>\n",
    "        <td style=\"width: 50%; vertical-align: top;\">\n",
    "            <img src=\"images/pydata-logo-800.png\" alt=\"PyData 2023\" style=\"height: 125%;\">\n",
    "        </td>\n",
    "        <td style=\"width: 50%; vertical-align: center; text-align: left; height:auto\">\n",
    "            <div style=\"font-size: 48px;\">\n",
    "                <strong>Next Week!</strong><br>\n",
    "                Wednesday - Friday; 6-8 Dec<br>\n",
    "                <br><br>\n",
    "                <strong>Virtual Conference</strong><br>\n",
    "                <br><br>\n",
    "                <strong>Paid</strong><br>\n",
    "                 pay-what-you-can; or Corporate Tix $200<br><br>\n",
    "                <i>https://pydata.org/global2023/schedule</i><br>\n",
    "                <br><br>\n",
    "            </div>\n",
    "        </td>\n",
    "    </tr>\n",
    "</table>"
   ]
  },
  {
   "cell_type": "code",
   "execution_count": 29,
   "id": "f718a3ca-13c2-4613-a51a-d228b48e8841",
   "metadata": {
    "editable": true,
    "execution": {
     "iopub.execute_input": "2023-11-30T18:49:48.144467Z",
     "iopub.status.busy": "2023-11-30T18:49:48.143971Z",
     "iopub.status.idle": "2023-11-30T18:49:48.157514Z",
     "shell.execute_reply": "2023-11-30T18:49:48.156405Z",
     "shell.execute_reply.started": "2023-11-30T18:49:48.144437Z"
    },
    "slideshow": {
     "slide_type": "skip"
    },
    "tags": []
   },
   "outputs": [
    {
     "name": "stdout",
     "output_type": "stream",
     "text": [
      "QR code exists\n"
     ]
    }
   ],
   "source": [
    "# check or create QR code for this github repo\n",
    "if not Path.is_file(qr_full_path):\n",
    "    print(f\"QR code missing; recreating {qr_full_path}\")\n",
    "    qr = qrcode.QRCode(error_correction=qrcode.constants.ERROR_CORRECT_M)\n",
    "    qr.add_data(git_url_for_this_talk)\n",
    "\n",
    "    qr_code_extended_talk = qr.make_image(\n",
    "        image_factory=StyledPilImage,\n",
    "        module_drawer=GappedSquareModuleDrawer(),\n",
    "    )\n",
    "    qr_code_extended_talk.save(qr_full_path)\n",
    "    qr_code_extended_talk\n",
    "else:\n",
    "    print(\"QR code exists\")"
   ]
  },
  {
   "cell_type": "markdown",
   "id": "80c81724-1050-4a23-aadf-6af5be2a247d",
   "metadata": {
    "editable": true,
    "slideshow": {
     "slide_type": "slide"
    },
    "tags": []
   },
   "source": [
    "<html>\n",
    "<head>\n",
    "    <link href=\"https://fonts.googleapis.com/css2?family=Architects+Daughter&display=swap\" rel=\"stylesheet\">\n",
    "</head>\n",
    "<body>\n",
    "    <table style=\"border-collapse: collapse; border: none; background-color: #F7F7F7; width: 105%; font-size: 148px;\">\n",
    "        <tr>\n",
    "            <td colspan=\"2\" style=\"border: none; background-color: #E0E0E0; text-align: center; font-weight: bold; font-family: 'Architects Daughter';\">Thank you!</td>\n",
    "        </tr>\n",
    "        <tr>\n",
    "            <td style=\"border: none; background-color: #F7F7F7; text-align: left; font-size: 48px;\">Chris Brousseau</td>\n",
    "        </tr>\n",
    "        <tr>\n",
    "            <td style=\"border: none; background-color: #F7F7F7; text-align: left; font-weight: bold; font-size: 36px;\">Data / ML & Data Science Consulting</td>\n",
    "        </tr>\n",
    "        <tr>\n",
    "            <td style=\"border: none; background-color: #F7F7F7; text-align: left; font-weight: bold; font-size: 36px;\">twitter @surfaceowl</td>\n",
    "        </tr>\n",
    "        <tr>\n",
    "            <td style=\"border: none; background-color: #F7F7F7; text-align: left; font-weight: bold; font-size: 36px;\">chris@surfaceowl.com</td>\n",
    "        </tr>\n",
    "        <tr>\n",
    "            <td style=\"padding: 8px; border: none; background-color: #F7F7F7; text-align: left; font-size: 24px;\">\n",
    "                <a href=\"https://github.com/surfaceowl/talk_nov2023_pandas_polars_arrow\" target=\"_blank\"> https://github.com/surfaceowl/talk_nov2023_pandas_polars_arrow</a>\n",
    "            </td>\n",
    "            <td style=\"padding: 8px; border: none; background-color: #F7F7F7; text-align: center;\">\n",
    "                <img src=\"./images/qr_code_extended_talk.png\" alt=\"QR Code for Extended Better Together Talk\" style=\"max-width: 100%; height: auto;\">\n",
    "            </td>\n",
    "        </tr>\n",
    "    </table>\n",
    "</body>\n",
    "</html>"
   ]
  },
  {
   "cell_type": "markdown",
   "id": "714acea8-514f-4ac9-843e-e2ece830daf8",
   "metadata": {
    "editable": true,
    "slideshow": {
     "slide_type": "slide"
    },
    "tags": []
   },
   "source": [
    "# Appendix"
   ]
  },
  {
   "cell_type": "markdown",
   "id": "4275700c-485e-4eb6-bbf4-af02de279aee",
   "metadata": {
    "editable": true,
    "execution": {
     "iopub.execute_input": "2023-11-29T04:57:21.184629Z",
     "iopub.status.busy": "2023-11-29T04:57:21.183129Z",
     "iopub.status.idle": "2023-11-29T04:57:21.193964Z",
     "shell.execute_reply": "2023-11-29T04:57:21.193009Z",
     "shell.execute_reply.started": "2023-11-29T04:57:21.184598Z"
    },
    "slideshow": {
     "slide_type": "slide"
    },
    "tags": []
   },
   "source": [
    "<div style=\"font-size: 48px; width: 75%; text-align: left;\">\n",
    "    <table style=\"font-size: 18px; width: 105%;\">\n",
    "        <tr>\n",
    "            <td style=\"vertical-align: top;\"><b>Arrow Revolution</b></td>\n",
    "            <td><a href=\"https://datapythonista.me/blog/pandas-20-and-the-arrow-revolution-part-i\">https://datapythonista.me/blog/pandas-20-and-the-arrow-revolution-part-i</a><br><br></td>\n",
    "        </tr>\n",
    "            <td style=\"vertical-align: top;\"><b>interesting articles/video</b></td>\n",
    "            <td>\n",
    "                <a href=\"https://www.youtube.com/watch?v=QfLzEp-yt_U\">Richey Vink; Polars Creator</a><br>\n",
    "                <a href=\"https://kyleake.medium.com/pandas-to-polars-a-comprehensive-transition-guide-81b6f50e9154\">https://kyleake.medium.com/pandas-to-polars-a-comprehensive-transition-guide-81b6f50e9154</a><br><br>\n",
    "            </td>\n",
    "        <tr>\n",
    "            <td style=\"vertical-align: top;\"><b>pandas</b></td>\n",
    "            <td><a href=\"https://pandas.pydata.org/docs/whatsnew/index.html\">https://pandas.pydata.org/docs/whatsnew/index.html</a><br><br></td>\n",
    "        </tr>\n",
    "        <tr>\n",
    "            <td style=\"vertical-align: top;\"><b>polars</b></td>\n",
    "            <td><a href=\"https://pola-rs.github.io/polars/\">https://pola-rs.github.io/polars/</a><br><br></td>\n",
    "        </tr>\n",
    "        <tr>\n",
    "            <td style=\"vertical-align: top;\"><b>convert to/from pandas/pyarrow</b></td>\n",
    "            <td><a href=\"https://arrow.apache.org/docs/python/pandas.html\">https://arrow.apache.org/docs/python/pandas.html</a><br><br></td>\n",
    "        </tr>\n",
    "        <tr>\n",
    "            <td style=\"vertical-align: top;\"><b>apache arrow</b></td>\n",
    "            <td>\n",
    "                <a href=\"https://arrow.apache.org/overview/\">https://arrow.apache.org/overview/</a><br><br>\n",
    "                <a href=\"https://arrow.apache.org/docs/python/index.html\">https://arrow.apache.org/docs/python/index.html</a><br><br>\n",
    "            </td>\n",
    "        </tr>\n",
    "        <tr>\n",
    "            <td style=\"vertical-align: top;\"><b>dataframe API standard</b></td>\n",
    "            <td>\n",
    "                <a href=\"https://data-apis.org/dataframe-api/draft/index.html\">https://data-apis.org/dataframe-api/draft/index.html</a><br>\n",
    "                <a href=\"https://ponder.io/how-the-python-dataframe-interchange-protocol-makes-life-better/\">https://ponder.io/how-the-python-dataframe-interchange-protocol-makes-life-better/</a><br><br>\n",
    "            </td>\n",
    "        </tr>\n",
    "        <tr>\n",
    "            <td style=\"vertical-align: top;\"><b>Reference - Datatypes</b></td>\n",
    "            <td>\n",
    "                <a href=\"https://pythonspeed.com/articles/pandas-string-dtype-memory/\">https://pythonspeed.com/articles/pandas-string-dtype-memory/</a><br>\n",
    "                <a href=\"https://arrow.apache.org/blog/2019/02/05/python-string-memory-0.12/\">https://arrow.apache.org/blog/2019/02/05/python-string-memory-0.12/</a><br>\n",
    "                <a href=\"https://pandas.pydata.org/docs/user_guide/basics.html#dtypes\">https://pandas.pydata.org/docs/user_guide/basics.html#dtypes</a><br>\n",
    "                <a href=\"https://pola-rs.github.io/polars/py-polars/html/reference/datatypes.html\">https://pola-rs.github.io/polars/py-polars/html/reference/datatypes.html</a><br>\n",
    "                <a href=\"https://arrow.apache.org/docs/python/pandas.html\">https://arrow.apache.org/docs/python/pandas.html</a><br><br>\n",
    "            </td>\n",
    "        </tr>\n",
    "    </table>\n",
    "</div>\n"
   ]
  },
  {
   "cell_type": "code",
   "execution_count": 30,
   "id": "05c19f86-bc89-4ef9-becc-711c5998982c",
   "metadata": {
    "editable": true,
    "execution": {
     "iopub.execute_input": "2023-11-30T18:49:48.158836Z",
     "iopub.status.busy": "2023-11-30T18:49:48.158528Z",
     "iopub.status.idle": "2023-11-30T18:49:49.535772Z",
     "shell.execute_reply": "2023-11-30T18:49:49.534427Z",
     "shell.execute_reply.started": "2023-11-30T18:49:48.158814Z"
    },
    "slideshow": {
     "slide_type": "slide"
    },
    "tags": []
   },
   "outputs": [
    {
     "name": "stdout",
     "output_type": "stream",
     "text": [
      "object 77270438\n",
      "string 77270438\n",
      "arrow  24270438\n"
     ]
    }
   ],
   "source": [
    "# string memory usage - credit to:  https://pythonspeed.com/articles/pandas-string-dtype-memory/\n",
    "from random import random\n",
    "import sys\n",
    "\n",
    "prefix = sys.argv[1]\n",
    "\n",
    "# A Python list of strings generated from random numbers:\n",
    "random_strings = [prefix + str(random()) for i in range(1_000_000)]\n",
    "\n",
    "# The default dtype, object:\n",
    "object_dtype = pd.Series(random_strings)\n",
    "print(\"object\", object_dtype.memory_usage(deep=True))\n",
    "\n",
    "# A normal Pandas string dtype:\n",
    "standard_dtype = pd.Series(random_strings, dtype=\"string\")\n",
    "print(\"string\", standard_dtype.memory_usage(deep=True))\n",
    "\n",
    "# The new Arrow string dtype from Pandas 2.1.3:\n",
    "arrow_dtype = pd.Series(random_strings, dtype=\"string[pyarrow]\")\n",
    "print(\"arrow \", arrow_dtype.memory_usage(deep=True))"
   ]
  },
  {
   "cell_type": "code",
   "execution_count": 31,
   "id": "92e33f75-b890-4bb9-8b09-6695294247c3",
   "metadata": {
    "editable": true,
    "execution": {
     "iopub.execute_input": "2023-11-30T18:49:49.537959Z",
     "iopub.status.busy": "2023-11-30T18:49:49.537569Z",
     "iopub.status.idle": "2023-11-30T18:49:49.865003Z",
     "shell.execute_reply": "2023-11-30T18:49:49.864092Z",
     "shell.execute_reply.started": "2023-11-30T18:49:49.537935Z"
    },
    "slideshow": {
     "slide_type": "fragment"
    },
    "tags": []
   },
   "outputs": [
    {
     "data": {
      "text/plain": [
       "69.0"
      ]
     },
     "execution_count": 31,
     "metadata": {},
     "output_type": "execute_result"
    }
   ],
   "source": [
    "arrow_string_savings_pct = (\n",
    "    (standard_dtype.memory_usage(deep=True)) - arrow_dtype.memory_usage(deep=True)\n",
    ") / standard_dtype.memory_usage(deep=True)\n",
    "\n",
    "arrow_string_savings_pct = round(arrow_string_savings_pct * 100, 0)\n",
    "arrow_string_savings_pct"
   ]
  },
  {
   "cell_type": "code",
   "execution_count": null,
   "id": "35d46036-11c5-4344-a36c-58a42541e54a",
   "metadata": {
    "editable": true,
    "slideshow": {
     "slide_type": ""
    },
    "tags": []
   },
   "outputs": [],
   "source": []
  }
 ],
 "metadata": {
  "kernelspec": {
   "display_name": "Python 3 (ipykernel)",
   "language": "python",
   "name": "python3"
  },
  "language_info": {
   "codemirror_mode": {
    "name": "ipython",
    "version": 3
   },
   "file_extension": ".py",
   "mimetype": "text/x-python",
   "name": "python",
   "nbconvert_exporter": "python",
   "pygments_lexer": "ipython3",
   "version": "3.11.6"
  },
  "toc": {
   "base_numbering": 1
  }
 },
 "nbformat": 4,
 "nbformat_minor": 5
}
