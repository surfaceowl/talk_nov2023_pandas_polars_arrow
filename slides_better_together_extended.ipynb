{
 "cells": [
  {
   "cell_type": "code",
   "execution_count": 1,
   "id": "4766d670-0f7b-442d-896c-5d20b61bb927",
   "metadata": {
    "editable": true,
    "execution": {
     "iopub.execute_input": "2023-11-27T22:56:00.960244Z",
     "iopub.status.busy": "2023-11-27T22:56:00.959859Z",
     "iopub.status.idle": "2023-11-27T22:56:01.416290Z",
     "shell.execute_reply": "2023-11-27T22:56:01.415572Z",
     "shell.execute_reply.started": "2023-11-27T22:56:00.960228Z"
    },
    "slideshow": {
     "slide_type": "skip"
    },
    "tags": []
   },
   "outputs": [],
   "source": [
    "# setup\n",
    "from IPython.display import display, HTML, Image\n",
    "from pathlib import Path\n",
    "\n",
    "# main notebook talk\n",
    "import numpy as np\n",
    "import pandas as pd\n",
    "import polars as pl\n",
    "\n",
    "# for QR code to github repo\n",
    "import qrcode\n",
    "from qrcode.image.styledpil import StyledPilImage\n",
    "from qrcode.image.styles.moduledrawers import GappedSquareModuleDrawer\n",
    "\n",
    "# important paths\n",
    "data_path = Path(\"data\")\n",
    "data_csv = Path(\"data\", \"python_dev_universe.csv\")\n",
    "data_csv_gz = Path(data_path, \"python_dev_universe.csv.gz\")\n",
    "data_parquet = Path(\"data\", \"python_dev_universe.parquet\")\n",
    "images_code_path = Path(\"images_code\")\n",
    "images_path = Path(\"images\")"
   ]
  },
  {
   "cell_type": "markdown",
   "id": "4cbb1aeb-328e-4cdf-bfa7-eeb6c8d18a59",
   "metadata": {
    "editable": true,
    "slideshow": {
     "slide_type": "slide"
    },
    "tags": []
   },
   "source": [
    "\n",
    "<html>\n",
    "<head>\n",
    "</head>\n",
    "<body style=\"background-color: #FFFFFF;\">\n",
    "  <h1 align=\"center\" style=\"font-weight: bold; font-style: italic; font-size: 390%;\">Better Together - Pandas + Polars</h1>\n",
    "  <table border=\"0\" align=\"center\" width=\"100%\" bgcolor=\"#FFFFFF\">\n",
    "    <tr>\n",
    "      <td align=\"center\" width=\"50%\" bgcolor=\"#FFFFFF\">\n",
    "        <img src=\"images/pandas_logo.1280x517.png\" width=\"620\" height=\"250\">\n",
    "      </td>\n",
    "      <td align=\"center\" width=\"50%\" bgcolor=\"#FFFFFF\">\n",
    "        <img src=\"images/polars.round.400x400.png\" width=\"250\" height=\"250\">\n",
    "      </td>\n",
    "    </tr>\n",
    "    <tr>\n",
    "      <td colspan=\"2\" align=\"center\" bgcolor=\"#FFFFFF\">\n",
    "        <img src=\"images/arrow-logo_horizontal.1800x936.png\" width=\"481\" height=\"250\">\n",
    "      </td>\n",
    "    </tr>\n",
    "  </table>\n",
    "  <br>\n",
    "  <div style=\"font-size: 300%;\">\n",
    "    <b>Better Together: Unleashing the Synergy of Pandas, Polars, and Apache Arrow</b><br>\n",
    "    <b>Speaker:  Chris Brousseau</b> <br>\n",
    "    <b>30 Nov 2023</b> \n",
    "  </div>\n",
    "</body>\n",
    "</html>\n",
    " </div>\n",
    "</body>\n",
    "</html>"
   ]
  },
  {
   "cell_type": "markdown",
   "id": "a24bbb8b-7769-4459-8d57-5fa6fb4f26f7",
   "metadata": {
    "editable": true,
    "execution": {
     "iopub.execute_input": "2023-10-05T17:41:45.618979Z",
     "iopub.status.busy": "2023-10-05T17:41:45.617699Z",
     "iopub.status.idle": "2023-10-05T17:41:45.629488Z",
     "shell.execute_reply": "2023-10-05T17:41:45.627405Z",
     "shell.execute_reply.started": "2023-10-05T17:41:45.618942Z"
    },
    "slideshow": {
     "slide_type": "slide"
    },
    "tags": []
   },
   "source": [
    "<table class=\"custom-slide-table\">\n",
    "    <tr>\n",
    "        <td class=\"image-content\">\n",
    "            <img src=\"./images/intro_slide_full.jpg\" alt=\"Images of me - full slide\">\n",
    "        </td>\n",
    "    </tr>\n",
    "</table>"
   ]
  },
  {
   "cell_type": "markdown",
   "id": "904f22c4-7938-45ee-ad23-b751980dabd5",
   "metadata": {
    "editable": true,
    "slideshow": {
     "slide_type": "slide"
    },
    "tags": []
   },
   "source": [
    "<table style=\"width: 100%; border-collapse: collapse; margin-top: 0;\">\n",
    "    <tr>\n",
    "        <td style=\"vertical-align: top;\">\n",
    "            <h1 style=\"font-size: 48px; color: #333; margin-top: 0; margin-bottom: 10px;\">TLDR</h1>\n",
    "        </td>\n",
    "    </tr>\n",
    "    <tr>\n",
    "        <td style=\"vertical-align: top;\">\n",
    "            <h2 style=\"font-size: 24px; color: #555; margin-top: 0; margin-bottom: 10px;\">- Use Pandas - power (completeness) / flexibility / stability</h2>\n",
    "        </td>\n",
    "    </tr>\n",
    "    <tr>\n",
    "        <td style=\"vertical-align: top;\">\n",
    "            <h2 style=\"font-size: 24px; color: #555; margin-top: 0; margin-bottom: 10px;\">- Add Polars where you can for speed / smaller less stable API</h2>\n",
    "        </td>\n",
    "    </tr>\n",
    "    <tr>\n",
    "        <td style=\"vertical-align: top;\">\n",
    "            <h2 style=\"font-size: 24px; color: #555; margin-top: 0; margin-bottom: 10px;\">- Both getting faster - Arrow is the driver</h2>\n",
    "        </td>\n",
    "    </tr>\n",
    "    <tr>\n",
    "        <td style=\"vertical-align: top;\">\n",
    "            <h2 style=\"font-size: 24px; color: #555; margin-top: 0;\">- Build better pipelines -- use together where it makes sense</h2>\n",
    "        </td>\n",
    "    </tr>\n",
    "</table>\n"
   ]
  },
  {
   "cell_type": "markdown",
   "id": "b3ee82f0-8ff3-4f79-b191-5a1a4dae8791",
   "metadata": {
    "editable": true,
    "execution": {
     "iopub.execute_input": "2023-10-04T19:50:04.890206Z",
     "iopub.status.busy": "2023-10-04T19:50:04.889842Z",
     "iopub.status.idle": "2023-10-04T19:50:04.899025Z",
     "shell.execute_reply": "2023-10-04T19:50:04.898073Z",
     "shell.execute_reply.started": "2023-10-04T19:50:04.890181Z"
    },
    "jp-MarkdownHeadingCollapsed": true,
    "slideshow": {
     "slide_type": "slide"
    },
    "tags": []
   },
   "source": [
    "<h1>What is Apache Arrow?</h1>\n",
    "<table border=\"0\" style=\"width: 95%\">\n",
    "    <tr style=\"font-weight: bold;\">\n",
    "      <th style=\"text-align: left; padding: 10px\">\n",
    "        <img src=\"images/arrow-logo_horizontal.1800x936.png\" alt=\"in-memory columnar format\" width=\"620\" height=\"150\" style=\"margin-left: 10px;\">\n",
    "</table>\n",
    "<p style=\"font-size: 24px; line-height: 2.5;\">\n",
    "  -- <strong>Software platform for in-memory analytics</strong><br>\n",
    "  -- <strong>In-memory columnar data format</strong> for tabular data<br>\n",
    "  -- Fast/language-agnostic messaging & bindings<br>\n",
    "  -- batch & streaming data<br>\n",
    "  -- IO to local/remote filesystems and other data structures<br>\n",
    "</p>"
   ]
  },
  {
   "cell_type": "markdown",
   "id": "98823da9-0a27-4bf6-97ab-5ad8d5a6e331",
   "metadata": {
    "editable": true,
    "execution": {
     "iopub.execute_input": "2023-10-04T19:50:04.890206Z",
     "iopub.status.busy": "2023-10-04T19:50:04.889842Z",
     "iopub.status.idle": "2023-10-04T19:50:04.899025Z",
     "shell.execute_reply": "2023-10-04T19:50:04.898073Z",
     "shell.execute_reply.started": "2023-10-04T19:50:04.890181Z"
    },
    "jp-MarkdownHeadingCollapsed": true,
    "slideshow": {
     "slide_type": "slide"
    },
    "tags": []
   },
   "source": [
    "<h1>Why is Arrow a Game Changer?</h1>\n",
    "\n",
    "<p style=\"font-size: 24px; line-height: 2;\">\n",
    "  <strong>Interoperability ==> Easier</strong> ...Arrow makes data program independent<br>\n",
    "  <strong>Datatypes ==> More + Better</strong>  ...Strings; Missing data support<br>\n",
    "  <strong>Speed ==> Faster</strong> ...Columnar format; zero-copy reads ==> transfer pointers + metadata<br>\n",
    "</p>\n",
    "\n",
    "<table border=\"1\" style=\"width: 95%\">\n",
    "  <thead>\n",
    "    <tr style=\"font-weight: bold;\">\n",
    "      <th style=\"text-align: center; padding: 10px\">\n",
    "        <img src=\"./images/arrow_simd.948x651.png\" alt=\"in-memory columnar format\" style=\"margin-right: 10px;\">\n",
    "      </th>\n",
    "      <th style=\"text-align: center; padding: 10px\">\n",
    "        <img src=\"./images/arrow_copy.574x318.png\" alt=\"zero-copy reads\" style=\"margin-left: 10px;\">\n",
    "      </th>\n",
    "    </tr>\n",
    "  </thead>\n",
    "  <tbody>\n",
    "    <tr style=\"background-color: #FFFFFF; ; font-size: 24px;\">\n",
    "      <td colspan=\"3\" style=\"font-weight: bold; text-align: center;\">\n",
    "        Image source: Apache Foundation\n",
    "      </td>\n",
    "    </tr>\n",
    "    <tr>\n",
    "      <td style=\"text-align: center; font-size: 18px;\">\n",
    "        <a href=\"https://arrow.apache.org/overview/\">Apache Arrow Overview</a>\n",
    "      </td>\n",
    "      <td style=\"text-align: center; font-size: 18px;\">\n",
    "        <a href=\"https://arrow.apache.org/docs/format/Columnar.html\">Columnar Format</a>\n",
    "      </td>\n",
    "      <td style=\"text-align: center; font-size: 18px;\">\n",
    "        <a href=\"https://pandas.pydata.org/docs/user_guide/pyarrow.html\">Pandas PyArrow</a>\n",
    "      </td>\n",
    "    </tr>\n",
    "  </tbody>\n",
    "</table>\n"
   ]
  },
  {
   "cell_type": "markdown",
   "id": "9fca268d-ff5e-45d2-8465-f8f95e932601",
   "metadata": {
    "editable": true,
    "execution": {
     "iopub.execute_input": "2023-10-02T18:10:08.550854Z",
     "iopub.status.busy": "2023-10-02T18:10:08.549735Z",
     "iopub.status.idle": "2023-10-02T18:10:08.574746Z",
     "shell.execute_reply": "2023-10-02T18:10:08.572358Z",
     "shell.execute_reply.started": "2023-10-02T18:10:08.550793Z"
    },
    "jp-MarkdownHeadingCollapsed": true,
    "slideshow": {
     "slide_type": "slide"
    },
    "tags": []
   },
   "source": [
    "<h1>Key Differences - Packages</h1>\n",
    "\n",
    "<table border=\"1\" style=\"width: 80%; font-size: 24px;\">\n",
    "  <thead>\n",
    "    <tr style=\"font-weight: bold;\">\n",
    "      <th style=\"vertical-align: bottom;\">Feature</th>\n",
    "      <th style=\"text-align: left;\">\n",
    "        <img src=\"./images/pandas_secondary.svg\" alt=\"Pandas\" style=\"width: 300px; max-width: 100%;\">\n",
    "      </th>\n",
    "      <th style=\"text-align: left;\">\n",
    "        <img src=\"./images/polars.round.400x400.png\" alt=\"Polars\" style=\"width: 200px; max-width: 100%;\">\n",
    "      </th>\n",
    "    </tr>\n",
    "  </thead>\n",
    "  <tbody>\n",
    "    <tr style=\"height:100px\"; style=\"background-color: #FFFFFF;\">\n",
    "      <td>First Release Date</td>\n",
    "      <td>2008</td>\n",
    "      <td>2019</td>\n",
    "    </tr>\n",
    "    <tr style=\"height:100px\"; style=\"background-color: #F0F0F0;\">\n",
    "      <td>Current Release</td>\n",
    "      <td>2.1.3</td>\n",
    "      <td>0.19.15</td>\n",
    "    </tr>\n",
    "    <tr style=\"height:100px\"; style=\"background-color: #FFFFFF;\">\n",
    "      <td>Programming Language</td>\n",
    "      <td>C, Cython, Python</td>\n",
    "      <td>Rust</td>\n",
    "    </tr>\n",
    "    <tr style=\"height:100px\"; style=\"background-color: #FFFFFF;\">\n",
    "      <td>Project Goal</td>\n",
    "      <td>To be the fundamental building block for python data analysis & manipulation - most powerful and flexible dataframe tool</td>\n",
    "      <td>To provide lightning-fast dataframes that use all local resources</td>\n",
    "    </tr>\n",
    "  </tbody>\n",
    "</table>\n"
   ]
  },
  {
   "cell_type": "markdown",
   "id": "900186c9-ac34-4229-ae9a-a01fdc0c8867",
   "metadata": {
    "editable": true,
    "execution": {
     "iopub.execute_input": "2023-10-02T18:10:08.550854Z",
     "iopub.status.busy": "2023-10-02T18:10:08.549735Z",
     "iopub.status.idle": "2023-10-02T18:10:08.574746Z",
     "shell.execute_reply": "2023-10-02T18:10:08.572358Z",
     "shell.execute_reply.started": "2023-10-02T18:10:08.550793Z"
    },
    "slideshow": {
     "slide_type": "slide"
    },
    "tags": []
   },
   "source": [
    "<h1>Key Differences - Memory</h1>\n",
    "\n",
    "<table border=\"1\" style=\"width: 80%; font-size: 24px;\">\n",
    "  <thead>\n",
    "    <tr style=\"font-weight: bold;\">\n",
    "      <th style=\"vertical-align: bottom;\">Feature</th>\n",
    "      <th style=\"text-align: left;\">\n",
    "        <img src=\"./images/pandas_secondary.svg\" alt=\"Pandas\" style=\"width: 300px; max-width: 100%;\">\n",
    "      </th>\n",
    "      <th style=\"text-align: left;\">\n",
    "        <img src=\"./images/polars.round.400x400.png\" alt=\"Polars\" style=\"width: 200px; max-width: 100%;\">\n",
    "      </th>\n",
    "    </tr>\n",
    "  </thead>\n",
    "  <tbody>\n",
    "    <tr style=\"height:100px\"; style=\"background-color: #F0F0F0; font-weight: bold\">\n",
    "      <td><strong>Memory</strong></td>\n",
    "      <td></td>\n",
    "      <td></td>\n",
    "    </tr>\n",
    "    <tr style=\"height:100px\"; style=\"background-color: #FFFFFF;\">\n",
    "      <td>Memory Backend</td>\n",
    "      <td>Numpy (default) or <strong>Apache Arrow</strong></td>\n",
    "      <td><strong>Apache Arrow</strong></td>\n",
    "    </tr>\n",
    "    <tr style=\"height:100px\"; style=\"background-color: #F0F0F0;\">\n",
    "      <td>Memory implementation</td>\n",
    "      <td>Pyarrow <br>(C++ wrapper on data)</td>\n",
    "      <td>Arrow2 <br>(Rust wrapper on data)</td>\n",
    "    </tr>\n",
    "    <tr style=\"height:100px\"; style=\"background-color: #FFFFFF;\">\n",
    "      <td>Larger-than-Memory/ Out-of-Core</td>\n",
    "      <td>No  (but via Dask)</td>\n",
    "      <td><strong>Native on Lazy df only (`collect(streaming=True`);  chunking + spill</strong></td>\n",
    "    </tr>\n",
    "    <tr style=\"height:100px\"; style=\"background-color: #F0F0F0;\">\n",
    "      <td>Represent Missing Data</td>\n",
    "      <td>\"NaN\" or \"None\"</td>\n",
    "      <td>\"null\"</td>\n",
    "    </tr>\n",
    "  </tbody>\n",
    "</table>\n"
   ]
  },
  {
   "cell_type": "markdown",
   "id": "25e2837d-88f2-470f-83bc-4ce9caf57927",
   "metadata": {
    "editable": true,
    "execution": {
     "iopub.execute_input": "2023-10-02T18:10:08.550854Z",
     "iopub.status.busy": "2023-10-02T18:10:08.549735Z",
     "iopub.status.idle": "2023-10-02T18:10:08.574746Z",
     "shell.execute_reply": "2023-10-02T18:10:08.572358Z",
     "shell.execute_reply.started": "2023-10-02T18:10:08.550793Z"
    },
    "slideshow": {
     "slide_type": "slide"
    },
    "tags": []
   },
   "source": [
    "<h1>Key Differences - API</h1>\n",
    "\n",
    "<table border=\"1\" style=\"width: 80%; font-size: 24px;\">\n",
    "  <thead>\n",
    "    <tr style=\"font-weight: bold;\">\n",
    "      <th style=\"vertical-align: bottom;\">Feature</th>\n",
    "      <th style=\"text-align: left;\">\n",
    "        <img src=\"./images/pandas_secondary.svg\" alt=\"Pandas\" style=\"width: 300px; max-width: 100%;\">\n",
    "      </th>\n",
    "      <th style=\"text-align: left;\">\n",
    "        <img src=\"./images/polars.round.400x400.png\" alt=\"Polars\" style=\"width: 200px; max-width: 100%;\">\n",
    "      </th>\n",
    "    </tr>\n",
    "  </thead>\n",
    "  <tbody>\n",
    "    <tr style=\"height:70px\"; style=\"background-color: #FFFFFF;\">\n",
    "      <td>Number of Methods</td>\n",
    "      <td><strong><i>Many</i></strong></td>\n",
    "      <td><strong><i>not 1:1</i></strong></td>\n",
    "    </tr>\n",
    "    <tr style=\"height:70px\"; style=\"background-color: #F0F0F0;\">\n",
    "      <td>Index/Multindex</td>\n",
    "      <td>Yes</td>\n",
    "      <td><strong>No - \"index free\"</strong></td>\n",
    "    </tr>\n",
    "    <tr style=\"height:70px\"; style=\"background-color: #FFFFFF;\">\n",
    "      <td>Nullable dtype</td>\n",
    "      <td>Yes</td>\n",
    "      <td>Yes</td>\n",
    "    </tr>\n",
    "    <tr style=\"height:70px\"; style=\"background-color: #F0F0F0;\">\n",
    "      <td>API mode</td>\n",
    "      <td>Eager</td>\n",
    "      <td>Eager (+ Lazy)</td>\n",
    "    </tr>\n",
    "    <tr style=\"height:70px\"; style=\"background-color: #FFFFFF;\">\n",
    "      <td>Query Optimization</td>\n",
    "      <td>No</td>\n",
    "      <td>Yes (with Lazy)</td>\n",
    "    </tr>\n",
    "    <tr style=\"height:100px\"; style=\"background-color: #F0F0F0;\">\n",
    "      <td>Parallelization</td>\n",
    "      <td>No - single threaded</td>\n",
    "      <td><strong>Yes - multithreaded</td>\n",
    "    </tr>\n",
    "    <tr style=\"height:70px\"; style=\"background-color: #FFFFFF;\">\n",
    "      <td>SIMD</td>\n",
    "      <td>No</td>\n",
    "      <td><strong>Yes</td>\n",
    "    </tr>\n",
    "  </tbody>\n",
    "</table>\n"
   ]
  },
  {
   "cell_type": "markdown",
   "id": "e1bfe78b-fc92-4606-bfd7-0601347e3b5b",
   "metadata": {
    "editable": true,
    "execution": {
     "iopub.execute_input": "2023-10-04T18:59:44.986576Z",
     "iopub.status.busy": "2023-10-04T18:59:44.986266Z",
     "iopub.status.idle": "2023-10-04T18:59:44.995046Z",
     "shell.execute_reply": "2023-10-04T18:59:44.994090Z",
     "shell.execute_reply.started": "2023-10-04T18:59:44.986555Z"
    },
    "slideshow": {
     "slide_type": "slide"
    },
    "tags": []
   },
   "source": [
    "<h1>Recent Updates</h1>\n",
    "<table border=\"1\" style=\"width: 80%; font-size: 24px;\">\n",
    "  <thead>\n",
    "    <tr style=\"font-weight: bold;\">\n",
    "      <th style=\"vertical-align: bottom;\">2023 - Speed & Consistency</th>\n",
    "      <th style=\"text-align: left;\">\n",
    "        <img src=\"./images/pandas_secondary.svg\" alt=\"Pandas\" style=\"width: 300px; max-width: 100%;\">\n",
    "      </th>\n",
    "      <th style=\"text-align: left;\">\n",
    "        <img src=\"./images/polars.round.400x400.png\" alt=\"Polars\" style=\"width: 200px; max-width: 100%;\">\n",
    "      </th>\n",
    "    </tr>\n",
    "  </thead>\n",
    "  <tbody>\n",
    "    <tr style=\"background-color: #FFFFFF;\">\n",
    "      <td>Backend</td>\n",
    "      <td>Apache Arrow. <strong>Pyarrow required after 3.0.0</strong></td>\n",
    "      <td>+cloud reading; +speed +bugfix</td>\n",
    "    </tr>\n",
    "    <tr style=\"height:100px\"; style=\"background-color: #F0F0F0;\">\n",
    "      <td></td>\n",
    "      <td><i>Lazy </i><strong>Copy-on-Write</strong><br>simplifies API<br>only mod one object</td>\n",
    "      <td></td>\n",
    "    </tr>\n",
    "    <tr style=\"height:100px\"; style=\"background-color: #FFFFFF;\">\n",
    "      <td>Feature Flags / optional dependencies</td>\n",
    "      <td>pip install <br>pandas[aws, performance]</td>\n",
    "      <td>pip install <br>polars[pandas, ffspec]</td>\n",
    "    </tr>\n",
    "    <tr style=\"height:100px\"; style=\"background-color: #F0F0F0;\">\n",
    "      <td>Reference</td>\n",
    "      <td><a href=\"https://pandas.pydata.org/docs/whatsnew/index.html\">pandas release notes</td>\n",
    "      <td><a href=\"https://github.com/pola-rs/polars/releases\">polars release notes</td>\n",
    "    </tr>\n",
    "  </tbody>\n",
    "</table>"
   ]
  },
  {
   "cell_type": "markdown",
   "id": "ca7b810f-b5aa-4c20-ba97-86e12aececa9",
   "metadata": {
    "editable": true,
    "execution": {
     "iopub.execute_input": "2023-10-05T23:36:30.124108Z",
     "iopub.status.busy": "2023-10-05T23:36:30.123723Z",
     "iopub.status.idle": "2023-10-05T23:36:30.130190Z",
     "shell.execute_reply": "2023-10-05T23:36:30.128887Z",
     "shell.execute_reply.started": "2023-10-05T23:36:30.124086Z"
    },
    "slideshow": {
     "slide_type": "slide"
    },
    "tags": []
   },
   "source": [
    "<h1>But how much faster?</h1>\n",
    "<table border=\"1\" style=\"width: 80%; \">\n",
    "  <thead>\n",
    "    <tr style=\"font-size: 24px; font-weight: bold;\">\n",
    "      <th style=\"vertical-align: bottom;\">Anecdotes & Considerations</th>\n",
    "      <th style=\"text-align: left;\">\n",
    "        <img src=\"./images/pandas_secondary.svg\" alt=\"Pandas\" style=\"width: 300px; max-width: 100%;\">\n",
    "      </th>\n",
    "      <th style=\"text-align: left;\">\n",
    "        <img src=\"./images/polars.round.400x400.png\" alt=\"Polars\" style=\"width: 200px; max-width: 100%;\">\n",
    "      </th>\n",
    "    </tr>\n",
    "  </thead>\n",
    "  <tbody>\n",
    "    <tr style=\"height:70px; font-size: 24px; background-color: #FFFFFF;\">\n",
    "      <td>read csv +csv.gz</td>\n",
    "      <td></td>\n",
    "      <td><strong>~2x-20x faster</strong></td>\n",
    "    </tr>\n",
    "    <tr style=\"height:70px; font-size: 24px; background-color: #F0F0F0;\">\n",
    "      <td>read parquet</td>\n",
    "      <td></td>\n",
    "      <td>~1x-5x</td>\n",
    "    </tr>\n",
    "    <tr style=\"height:70px; font-size: 24px; background-color: #FFFFFF;\">\n",
    "      <td>groupby</td>\n",
    "      <td></td>\n",
    "      <td>~10x</td>\n",
    "    </tr>\n",
    "    <tr style=\"height:70px;  font-size: 24px; background-color: #F0F0F0;\">\n",
    "      <td>Other Considerations</td>\n",
    "      <td>Huge Ecosystem / examples</td>\n",
    "      <td>Smaller but growing Ecosystem</td>\n",
    "    <tr style=\"height:100px; font-size: 24px; background-color: #FFFFFF;\">\n",
    "      <td>API</td>\n",
    "      <td><strong>Stable</strong></td>\n",
    "      <td><strong>Less Stable - but improving</strong></td>\n",
    "    </tr>\n",
    "      <tr style=\"height:70px; font-size: 24px; background-color: #F0F0F0;\">\n",
    "      <td> </td>\n",
    "      <td> </td>\n",
    "      <td>Categorical; some window functions / plotting /etc.</td>\n",
    "    </tr>\n",
    "    <tr style=\"height:70px; font-size: 24px; background-color: #FFFFFF;\">\n",
    "      <td><strong>Reference - see repo</strong></td>\n",
    "      <td><a href=\"https://pandas.pydata.org/docs/reference/index.html\">pandas api</td>\n",
    "      <td><a href=\"https://pola-rs.github.io/polars/py-polars/html/reference/\">polars api</td>\n",
    "    </tr>\n",
    "  </tbody>\n",
    "</table>"
   ]
  },
  {
   "cell_type": "markdown",
   "id": "7bce3aae-7543-4499-aa58-0454dbeccd91",
   "metadata": {
    "editable": true,
    "execution": {
     "iopub.execute_input": "2023-10-08T14:37:23.144023Z",
     "iopub.status.busy": "2023-10-08T14:37:23.142080Z",
     "iopub.status.idle": "2023-10-08T14:37:23.161236Z",
     "shell.execute_reply": "2023-10-08T14:37:23.158621Z",
     "shell.execute_reply.started": "2023-10-08T14:37:23.143910Z"
    },
    "slideshow": {
     "slide_type": "slide"
    },
    "tags": []
   },
   "source": [
    "<style>\n",
    "    .custom-slide-table {\n",
    "        width: 100%;\n",
    "        table-layout: fixed;\n",
    "    }\n",
    "\n",
    "    .custom-slide-table td {\n",
    "        vertical-align: middle;\n",
    "    }\n",
    "\n",
    "    .custom-title {\n",
    "        font-size: 32px;\n",
    "        text-align: left;\n",
    "        margin-top: 20px;\n",
    "        margin-bottom: 20px;\n",
    "    }\n",
    "</style>\n",
    "\n",
    "<h1 class=\"custom-title\">Caution when comparing baselines!  Configs have a big impact</h1>\n",
    "\n",
    "<table class=\"custom-slide-table\">\n",
    "    <tr>\n",
    "        <td class=\"image-content\">\n",
    "            <img src=\"./images/csv_read_speed_comparison.jpg\" alt=\"A lot faster!\">\n",
    "        </td>\n",
    "    </tr>\n",
    "</table>\n"
   ]
  },
  {
   "cell_type": "markdown",
   "id": "68fc6a15-2583-48b0-a7e3-ada6420e0285",
   "metadata": {
    "editable": true,
    "slideshow": {
     "slide_type": "slide"
    },
    "tags": []
   },
   "source": [
    "# Get the Best out of Pandas\n",
    "\n",
    "### 0- Configure Pandas properly - huge impact on performance\n",
    "\n",
    "### 1- use pyarrow for I/O & nullable dtypes (faster)\n",
    "pd.read_csv( my_datat.csv\",  engine=\"pyarrow\" dtype_backend=\"pyarrow\")<br>pd.read_parquet) <br>\n",
    "<br>\n",
    "### 2- set pyarrow for all string data (faster/smaller)\n",
    "pd.options.future.infer_string = True   <br>\n",
    "<br>\n",
    "### 3- enable Copy-On-Write (lazy + more consistent api) -- just do this anyway; will be default!\n",
    "pd.options.mode.copy_on_write = True <br>\n",
    "<br>"
   ]
  },
  {
   "cell_type": "markdown",
   "id": "4fe6f500-2ad8-4b97-b0e8-ecd678e3521a",
   "metadata": {
    "editable": true,
    "slideshow": {
     "slide_type": "slide"
    },
    "tags": []
   },
   "source": [
    "# some syntax differences"
   ]
  },
  {
   "cell_type": "raw",
   "id": "3390c893-d652-4979-bf78-35080ec389eb",
   "metadata": {
    "editable": true,
    "execution": {
     "iopub.execute_input": "2023-10-07T20:34:31.072034Z",
     "iopub.status.busy": "2023-10-07T20:34:31.071494Z",
     "iopub.status.idle": "2023-10-07T20:35:12.118044Z",
     "shell.execute_reply": "2023-10-07T20:35:12.116065Z",
     "shell.execute_reply.started": "2023-10-07T20:34:31.071948Z"
    },
    "raw_mimetype": "",
    "slideshow": {
     "slide_type": "skip"
    },
    "tags": []
   },
   "source": [
    "# syntax example - pandas\n",
    "df_pandas = pd.read_parquet(data_parquet)\n",
    "df_pandas.head(2)"
   ]
  },
  {
   "cell_type": "raw",
   "id": "2ae84aa5-d1bd-4709-8cf4-2baa3bf44015",
   "metadata": {
    "editable": true,
    "execution": {
     "iopub.execute_input": "2023-10-07T20:35:12.120566Z",
     "iopub.status.busy": "2023-10-07T20:35:12.120076Z",
     "iopub.status.idle": "2023-10-07T20:35:21.315218Z",
     "shell.execute_reply": "2023-10-07T20:35:21.312692Z",
     "shell.execute_reply.started": "2023-10-07T20:35:12.120526Z"
    },
    "raw_mimetype": "",
    "slideshow": {
     "slide_type": "skip"
    },
    "tags": []
   },
   "source": [
    "# syntax example - polars\n",
    "df_polars = pl.read_parquet(data_parquet)\n",
    "df_polars.head(2)"
   ]
  },
  {
   "cell_type": "raw",
   "id": "d0c2a980-14d1-455f-bdbc-d2f436479471",
   "metadata": {
    "editable": true,
    "execution": {
     "iopub.execute_input": "2023-10-07T20:35:21.319487Z",
     "iopub.status.busy": "2023-10-07T20:35:21.318559Z",
     "iopub.status.idle": "2023-10-07T20:35:27.916678Z",
     "shell.execute_reply": "2023-10-07T20:35:27.914647Z",
     "shell.execute_reply.started": "2023-10-07T20:35:21.319424Z"
    },
    "raw_mimetype": "",
    "slideshow": {
     "slide_type": "skip"
    },
    "tags": []
   },
   "source": [
    "# syntax comparison:  pandas vs polars\n",
    "\n",
    "df_pandas[\"customer_id\"].count()\n",
    "df_polars.select(pl.count(\"customer_id\"))"
   ]
  },
  {
   "cell_type": "code",
   "execution_count": 2,
   "id": "4ea2dcc1-b2a2-4c77-addf-ea16d230b021",
   "metadata": {
    "editable": true,
    "execution": {
     "iopub.execute_input": "2023-11-27T22:56:01.417764Z",
     "iopub.status.busy": "2023-11-27T22:56:01.417486Z",
     "iopub.status.idle": "2023-11-27T22:56:01.421463Z",
     "shell.execute_reply": "2023-11-27T22:56:01.420604Z",
     "shell.execute_reply.started": "2023-11-27T22:56:01.417749Z"
    },
    "slideshow": {
     "slide_type": "skip"
    },
    "tags": []
   },
   "outputs": [],
   "source": [
    "# code for image displayed below\n",
    "syntax_compare_image = (\n",
    "    '<img src=\"./images_code/pandas_polars_syntax_compare.png\" style=\"width:100%\"/>'\n",
    ")"
   ]
  },
  {
   "cell_type": "code",
   "execution_count": 3,
   "id": "d7332f0c-590e-4fdf-ad72-200bfe7734dd",
   "metadata": {
    "editable": true,
    "execution": {
     "iopub.execute_input": "2023-11-27T22:56:01.422463Z",
     "iopub.status.busy": "2023-11-27T22:56:01.422270Z",
     "iopub.status.idle": "2023-11-27T22:56:01.442183Z",
     "shell.execute_reply": "2023-11-27T22:56:01.441344Z",
     "shell.execute_reply.started": "2023-11-27T22:56:01.422448Z"
    },
    "slideshow": {
     "slide_type": ""
    },
    "tags": []
   },
   "outputs": [
    {
     "data": {
      "text/html": [
       "<img src=\"./images_code/pandas_polars_syntax_compare.png\" style=\"width:100%\"/>"
      ],
      "text/plain": [
       "<IPython.core.display.HTML object>"
      ]
     },
     "metadata": {},
     "output_type": "display_data"
    }
   ],
   "source": [
    "display(HTML(syntax_compare_image))"
   ]
  },
  {
   "cell_type": "markdown",
   "id": "0b8f6fcd-d4ae-43c8-8498-41a9cc775bc4",
   "metadata": {
    "editable": true,
    "slideshow": {
     "slide_type": "slide"
    },
    "tags": []
   },
   "source": [
    "# Use Columnar Example\n"
   ]
  },
  {
   "cell_type": "raw",
   "id": "48b242d4-6f55-4c47-bff2-1a4df5e7e0c0",
   "metadata": {
    "editable": true,
    "execution": {
     "iopub.execute_input": "2023-10-08T00:15:32.753325Z",
     "iopub.status.busy": "2023-10-08T00:15:32.752681Z",
     "iopub.status.idle": "2023-10-08T00:16:56.904332Z",
     "shell.execute_reply": "2023-10-08T00:16:56.899233Z",
     "shell.execute_reply.started": "2023-10-08T00:15:32.753279Z"
    },
    "raw_mimetype": "",
    "slideshow": {
     "slide_type": "skip"
    },
    "tags": []
   },
   "source": [
    "# pandas = parquet reads are faster because of columnar format\n",
    "df_pd1 = pd.read_parquet(data_parquet)\n",
    "df_pd1.head(1)\n",
    "\n",
    "# runtime: 84.15s"
   ]
  },
  {
   "cell_type": "raw",
   "id": "cb0ee36e-4bac-4ea7-99c6-5dea4d3d3ff9",
   "metadata": {
    "editable": true,
    "execution": {
     "iopub.execute_input": "2023-10-08T00:16:56.914172Z",
     "iopub.status.busy": "2023-10-08T00:16:56.912743Z",
     "iopub.status.idle": "2023-10-08T00:17:07.028403Z",
     "shell.execute_reply": "2023-10-08T00:17:07.025899Z",
     "shell.execute_reply.started": "2023-10-08T00:16:56.914100Z"
    },
    "raw_mimetype": "",
    "slideshow": {
     "slide_type": "skip"
    },
    "tags": []
   },
   "source": [
    "# pandas predicate push-down with parquet helps speed\n",
    "df_pd2 = pd.read_parquet(\n",
    "    data_parquet,\n",
    "    filters=[\n",
    "        (\"occupation\", \"==\", \"Data Engineer\"),\n",
    "        (\"psf_membership_status\", \"!=\", \"Not Yet a Member\"),\n",
    "    ],\n",
    ")\n",
    "df_pd2.head(1)\n",
    "# runtime: 10.1s\n"
   ]
  },
  {
   "cell_type": "code",
   "execution_count": 4,
   "id": "b7aeec6f-f6f8-4ec1-a702-4a5540121255",
   "metadata": {
    "editable": true,
    "execution": {
     "iopub.execute_input": "2023-11-27T22:56:01.444236Z",
     "iopub.status.busy": "2023-11-27T22:56:01.443495Z",
     "iopub.status.idle": "2023-11-27T22:56:01.454430Z",
     "shell.execute_reply": "2023-11-27T22:56:01.452843Z",
     "shell.execute_reply.started": "2023-11-27T22:56:01.444204Z"
    },
    "slideshow": {
     "slide_type": "skip"
    },
    "tags": []
   },
   "outputs": [],
   "source": [
    "# code for image displayed below\n",
    "columnar_image = (\n",
    "    '<img src=\"./images_code/pandas_pred_pushdown.png\" style=\"width:100%\"/>'\n",
    ")"
   ]
  },
  {
   "cell_type": "code",
   "execution_count": 5,
   "id": "b9fcfe65-4c42-4aa0-88b8-1722e84bf943",
   "metadata": {
    "editable": true,
    "execution": {
     "iopub.execute_input": "2023-11-27T22:56:01.456443Z",
     "iopub.status.busy": "2023-11-27T22:56:01.455715Z",
     "iopub.status.idle": "2023-11-27T22:56:01.466625Z",
     "shell.execute_reply": "2023-11-27T22:56:01.465539Z",
     "shell.execute_reply.started": "2023-11-27T22:56:01.456390Z"
    },
    "slideshow": {
     "slide_type": "slide"
    },
    "tags": []
   },
   "outputs": [
    {
     "data": {
      "text/html": [
       "<img src=\"./images_code/pandas_pred_pushdown.png\" style=\"width:100%\"/>"
      ],
      "text/plain": [
       "<IPython.core.display.HTML object>"
      ]
     },
     "metadata": {},
     "output_type": "display_data"
    }
   ],
   "source": [
    "display(HTML(columnar_image))"
   ]
  },
  {
   "cell_type": "markdown",
   "id": "8bc332ec-ed28-48cb-9e67-c6f2a3d468a9",
   "metadata": {
    "editable": true,
    "slideshow": {
     "slide_type": "skip"
    },
    "tags": []
   },
   "source": [
    "# Polars - Lazy Query Example"
   ]
  },
  {
   "cell_type": "code",
   "execution_count": 6,
   "id": "b949104f-ff9e-4895-8580-1d7e70cfda07",
   "metadata": {
    "editable": true,
    "execution": {
     "iopub.execute_input": "2023-11-27T22:56:01.468104Z",
     "iopub.status.busy": "2023-11-27T22:56:01.467772Z",
     "iopub.status.idle": "2023-11-27T22:56:04.239189Z",
     "shell.execute_reply": "2023-11-27T22:56:04.237960Z",
     "shell.execute_reply.started": "2023-11-27T22:56:01.468061Z"
    },
    "slideshow": {
     "slide_type": "skip"
    },
    "tags": []
   },
   "outputs": [],
   "source": [
    "# polars Eager API\n",
    "df_pl2 = pl.read_parquet(data_parquet).filter(\n",
    "    (pl.col(\"occupation\") == \"Data Engineer\")\n",
    "    & (pl.col(\"psf_membership_status\") != \"Not Yet a Member\")\n",
    ")"
   ]
  },
  {
   "cell_type": "code",
   "execution_count": 7,
   "id": "ea07dac3-03da-4ca9-9201-32c0cf0889fd",
   "metadata": {
    "editable": true,
    "execution": {
     "iopub.execute_input": "2023-11-27T22:56:04.243183Z",
     "iopub.status.busy": "2023-11-27T22:56:04.242869Z",
     "iopub.status.idle": "2023-11-27T22:56:06.996283Z",
     "shell.execute_reply": "2023-11-27T22:56:06.995001Z",
     "shell.execute_reply.started": "2023-11-27T22:56:04.243162Z"
    },
    "slideshow": {
     "slide_type": "skip"
    },
    "tags": []
   },
   "outputs": [],
   "source": [
    "# polars Lazy API - chain transformations then collect()\n",
    "\n",
    "df_pl2 = (\n",
    "    pl.read_parquet(data_parquet)\n",
    "    .lazy()\n",
    "    .filter(\n",
    "        (pl.col(\"occupation\") == \"Apache Arrow Understudy\")\n",
    "        & (pl.col(\"psf_membership_status\") == \"Contributing\")\n",
    "    )\n",
    "    .collect()\n",
    ")"
   ]
  },
  {
   "cell_type": "code",
   "execution_count": 8,
   "id": "ab94801c-40c9-4c73-8f90-38507fc5ce33",
   "metadata": {
    "editable": true,
    "execution": {
     "iopub.execute_input": "2023-11-27T22:56:06.998861Z",
     "iopub.status.busy": "2023-11-27T22:56:06.997837Z",
     "iopub.status.idle": "2023-11-27T22:56:07.004066Z",
     "shell.execute_reply": "2023-11-27T22:56:07.002766Z",
     "shell.execute_reply.started": "2023-11-27T22:56:06.998822Z"
    },
    "slideshow": {
     "slide_type": "skip"
    },
    "tags": []
   },
   "outputs": [],
   "source": [
    "eager_lazy_api_side_by_side = \"\"\"\n",
    "<table style=\"width:100%; table-layout: fixed;\">\n",
    "    <tr>\n",
    "        <td style=\"width:50%; vertical-align: top; background-color: white;\">\n",
    "            <img src=\"./images_code/polars_eager_api_match_lines.png\" style=\"width:100%;\"/>\n",
    "        </td>\n",
    "        <td style=\"width:50%; vertical-align: top; background-color: white;\">\n",
    "            <img src=\"./images_code/polars_lazy_api.png\" style=\"width:100%;\"/>\n",
    "        </td>\n",
    "    </tr>\n",
    "</table>\n",
    "\"\"\""
   ]
  },
  {
   "cell_type": "code",
   "execution_count": 9,
   "id": "e91fd090-323a-415f-a658-9977c7484746",
   "metadata": {
    "editable": true,
    "execution": {
     "iopub.execute_input": "2023-11-27T22:56:07.006043Z",
     "iopub.status.busy": "2023-11-27T22:56:07.005548Z",
     "iopub.status.idle": "2023-11-27T22:56:07.023775Z",
     "shell.execute_reply": "2023-11-27T22:56:07.022192Z",
     "shell.execute_reply.started": "2023-11-27T22:56:07.006002Z"
    },
    "slideshow": {
     "slide_type": "slide"
    },
    "tags": []
   },
   "outputs": [
    {
     "data": {
      "text/html": [
       "\n",
       "<table style=\"width:100%; table-layout: fixed;\">\n",
       "    <tr>\n",
       "        <td style=\"width:50%; vertical-align: top; background-color: white;\">\n",
       "            <img src=\"./images_code/polars_eager_api_match_lines.png\" style=\"width:100%;\"/>\n",
       "        </td>\n",
       "        <td style=\"width:50%; vertical-align: top; background-color: white;\">\n",
       "            <img src=\"./images_code/polars_lazy_api.png\" style=\"width:100%;\"/>\n",
       "        </td>\n",
       "    </tr>\n",
       "</table>\n"
      ],
      "text/plain": [
       "<IPython.core.display.HTML object>"
      ]
     },
     "metadata": {},
     "output_type": "display_data"
    }
   ],
   "source": [
    "display(HTML(eager_lazy_api_side_by_side))"
   ]
  },
  {
   "cell_type": "markdown",
   "id": "eb6e4160-4e6d-41d8-be62-d65e77a5ce1f",
   "metadata": {
    "editable": true,
    "slideshow": {
     "slide_type": "slide"
    },
    "tags": []
   },
   "source": [
    "<h1 style=\"font-size: 32px; color: #333; margin-bottom: 20px;\">Integrating Pandas and Polars</h1>\n",
    "\n",
    "<table style=\"width: 90%;\">\n",
    "    <tr>\n",
    "        <td style=\"vertical-align: top; padding-right: 10px;\">\n",
    "            <h2 style=\"font-size: 32px; font-weight: bold; color: #555; margin: 15px 0;\">Why</h2>\n",
    "            <ul>\n",
    "                <li style=\"font-size: 24px; color: #777; margin: 10px 0;\">Creating new pipeline (great!)</li>\n",
    "                <li style=\"font-size: 24px; color: #777; margin: 10px 0;\">Need big speed improvements + worth your time + budget</li>\n",
    "                <li style=\"font-size: 24px; color: #777; margin: 10px 0;\">Expensive Pandas ops with direct matches (e.g. select)</li>\n",
    "                <li style=\"font-size: 24px; color: #777; margin: 10px 0;\">Input data is Polars-friendly (a lot)</li>\n",
    "                <ul style=\"font-size: 24px; margin-left: 40px; list-style-type: disc;\">\n",
    "                    <li style=\"font-size: 24px;\"> Pandas df</li>\n",
    "                    <li style=\"font-size: 24px;\"> Flat files</li>\n",
    "                    <li style=\"font-size: 24px;\"> Standard db (sql) or supported datastore</li>\n",
    "                    <li style=\"font-size: 24px;\"> Already in Arrow (e.g. Spark)</li>\n",
    "                    <li style=\"font-size: 24px;\"> <strong> API does NOT require  pandas (e.g. Snowflake)</strong></li>\n",
    "                </ul>\n",
    "            </ul>\n",
    "        </td>\n",
    "    </tr>\n",
    "</table>\n"
   ]
  },
  {
   "cell_type": "markdown",
   "id": "7b8b26a1-a7fc-4cf8-bb5b-8a1e38b8a3fd",
   "metadata": {
    "editable": true,
    "slideshow": {
     "slide_type": "skip"
    },
    "tags": []
   },
   "source": [
    "### Note: RAW cells used as input for Carbon slides, code not runnable as no active df to work with"
   ]
  },
  {
   "cell_type": "raw",
   "id": "3fb5dc63-5c70-4af9-9e87-b40b96f20684",
   "metadata": {
    "editable": true,
    "raw_mimetype": "",
    "slideshow": {
     "slide_type": "skip"
    },
    "tags": []
   },
   "source": [
    "# How to move data between Pandas and Polars directly\n",
    "\n",
    "polars.from_pandas(df_pandas_in)\n",
    "polars.to_pandas(df_pandas_out)\n",
    "\n",
    "# NOTE! ~4.2B row limit; need more rows? check out `pip install polars-u64-idx`\n",
    "# https://github.com/pola-rs/polars#going-big\n"
   ]
  },
  {
   "cell_type": "code",
   "execution_count": 10,
   "id": "7c8d3330-54f6-4ad5-bcae-05b713665f45",
   "metadata": {
    "editable": true,
    "execution": {
     "iopub.execute_input": "2023-11-27T22:56:07.025769Z",
     "iopub.status.busy": "2023-11-27T22:56:07.025323Z",
     "iopub.status.idle": "2023-11-27T22:56:07.038497Z",
     "shell.execute_reply": "2023-11-27T22:56:07.036921Z",
     "shell.execute_reply.started": "2023-11-27T22:56:07.025737Z"
    },
    "slideshow": {
     "slide_type": "skip"
    },
    "tags": []
   },
   "outputs": [],
   "source": [
    "# code for image displayed below\n",
    "polars_to_from_pandas = (\n",
    "    '<img src=\"./images_code/polars_to_from_pandas.png\" style=\"width:100%\"/>'\n",
    ")"
   ]
  },
  {
   "cell_type": "code",
   "execution_count": 11,
   "id": "8cec761b-a858-4141-8a26-3c72e5379331",
   "metadata": {
    "editable": true,
    "execution": {
     "iopub.execute_input": "2023-11-27T22:56:07.040865Z",
     "iopub.status.busy": "2023-11-27T22:56:07.040015Z",
     "iopub.status.idle": "2023-11-27T22:56:07.062582Z",
     "shell.execute_reply": "2023-11-27T22:56:07.061146Z",
     "shell.execute_reply.started": "2023-11-27T22:56:07.040827Z"
    },
    "slideshow": {
     "slide_type": "slide"
    },
    "tags": []
   },
   "outputs": [
    {
     "data": {
      "text/html": [
       "<img src=\"./images_code/polars_to_from_pandas.png\" style=\"width:100%\"/>"
      ],
      "text/plain": [
       "<IPython.core.display.HTML object>"
      ]
     },
     "metadata": {},
     "output_type": "display_data"
    }
   ],
   "source": [
    "display(HTML(polars_to_from_pandas))"
   ]
  },
  {
   "cell_type": "raw",
   "id": "f2ea765b-ecdb-4b23-87b7-88851880e81f",
   "metadata": {
    "editable": true,
    "execution": {
     "iopub.execute_input": "2023-11-27T18:48:14.134491Z",
     "iopub.status.busy": "2023-11-27T18:48:14.134030Z",
     "iopub.status.idle": "2023-11-27T18:48:14.291677Z",
     "shell.execute_reply": "2023-11-27T18:48:14.290790Z",
     "shell.execute_reply.started": "2023-11-27T18:48:14.134463Z"
    },
    "raw_mimetype": "",
    "slideshow": {
     "slide_type": "skip"
    },
    "tags": []
   },
   "source": [
    "# Polars.from_pandas API detail\n",
    "\n",
    "polars.from_pandas(\n",
    "    data=df,\n",
    "    schema_overrides=None,\n",
    "    rechunk=True,\n",
    "    nan_to_null=True,\n",
    "    include_index=True\n",
    ")\n",
    "\n",
    "# https://pola-rs.github.io/polars/py-polars/html/reference/api/polars.from_pandas.html\n"
   ]
  },
  {
   "cell_type": "code",
   "execution_count": 12,
   "id": "e9d2dbd0-e780-46ea-ab9c-fef14b887605",
   "metadata": {
    "editable": true,
    "execution": {
     "iopub.execute_input": "2023-11-27T22:56:07.064399Z",
     "iopub.status.busy": "2023-11-27T22:56:07.064045Z",
     "iopub.status.idle": "2023-11-27T22:56:07.076985Z",
     "shell.execute_reply": "2023-11-27T22:56:07.075640Z",
     "shell.execute_reply.started": "2023-11-27T22:56:07.064367Z"
    },
    "slideshow": {
     "slide_type": "skip"
    },
    "tags": []
   },
   "outputs": [],
   "source": [
    "# code for image displayed below\n",
    "polars_from_pandas_detail = (\n",
    "    '<img src=\"./images_code/polars_from_pandas_detail.png\" style=\"width:100%\"/>'\n",
    ")"
   ]
  },
  {
   "cell_type": "code",
   "execution_count": 13,
   "id": "5651a8ed-d20e-4947-a4f8-997ff35b06aa",
   "metadata": {
    "editable": true,
    "execution": {
     "iopub.execute_input": "2023-11-27T22:56:07.079042Z",
     "iopub.status.busy": "2023-11-27T22:56:07.078486Z",
     "iopub.status.idle": "2023-11-27T22:56:07.095998Z",
     "shell.execute_reply": "2023-11-27T22:56:07.094582Z",
     "shell.execute_reply.started": "2023-11-27T22:56:07.079011Z"
    },
    "slideshow": {
     "slide_type": "slide"
    },
    "tags": []
   },
   "outputs": [
    {
     "data": {
      "text/html": [
       "<img src=\"./images_code/polars_from_pandas_detail.png\" style=\"width:100%\"/>"
      ],
      "text/plain": [
       "<IPython.core.display.HTML object>"
      ]
     },
     "metadata": {},
     "output_type": "display_data"
    }
   ],
   "source": [
    "display(HTML(polars_from_pandas_detail))"
   ]
  },
  {
   "cell_type": "raw",
   "id": "5afd1e6d-293e-4f53-a3a3-4b7754e16f18",
   "metadata": {
    "editable": true,
    "raw_mimetype": "",
    "slideshow": {
     "slide_type": "skip"
    },
    "tags": []
   },
   "source": [
    "# Polars.to_pandas API detail\n",
    "\n",
    "pandas_df_new = polars.to_pandas(\n",
    "                                 use_pyarrow_extension_array=True,\n",
    "                                 **kwargs\n",
    "                                )\n",
    "\n",
    "# uses Arrow in background\n",
    "# copies data unless: use_pyarrow_extension_array=True\n",
    "# **kwargs send to pyarrow.Table.to_pandas() \n",
    "# many options for mapping; self-destruct to free memory\n",
    "\n",
    "# https://pola-rs.github.io/polars/py-polars/html/reference/dataframe/api/polars.DataFrame.to_pandas.html#polars.DataFrame.to_pandas\n"
   ]
  },
  {
   "cell_type": "code",
   "execution_count": 14,
   "id": "513d7f83-06e4-49b7-b03d-eff6af6b24fb",
   "metadata": {
    "editable": true,
    "execution": {
     "iopub.execute_input": "2023-11-27T22:56:07.098321Z",
     "iopub.status.busy": "2023-11-27T22:56:07.097790Z",
     "iopub.status.idle": "2023-11-27T22:56:07.109991Z",
     "shell.execute_reply": "2023-11-27T22:56:07.108647Z",
     "shell.execute_reply.started": "2023-11-27T22:56:07.098287Z"
    },
    "slideshow": {
     "slide_type": "skip"
    },
    "tags": []
   },
   "outputs": [],
   "source": [
    "# code for image displayed below\n",
    "polars_to_pandas_detail = (\n",
    "    '<img src=\"./images_code/polars_to_pandas_detail.png\" style=\"width:100%\"/>'\n",
    ")"
   ]
  },
  {
   "cell_type": "code",
   "execution_count": 15,
   "id": "0980bcbb-1917-416c-be56-dd1719b484f1",
   "metadata": {
    "editable": true,
    "execution": {
     "iopub.execute_input": "2023-11-27T22:56:07.112021Z",
     "iopub.status.busy": "2023-11-27T22:56:07.111593Z",
     "iopub.status.idle": "2023-11-27T22:56:07.126892Z",
     "shell.execute_reply": "2023-11-27T22:56:07.125610Z",
     "shell.execute_reply.started": "2023-11-27T22:56:07.111989Z"
    },
    "slideshow": {
     "slide_type": "slide"
    },
    "tags": []
   },
   "outputs": [
    {
     "data": {
      "text/html": [
       "<img src=\"./images_code/polars_to_pandas_detail.png\" style=\"width:100%\"/>"
      ],
      "text/plain": [
       "<IPython.core.display.HTML object>"
      ]
     },
     "metadata": {},
     "output_type": "display_data"
    }
   ],
   "source": [
    "display(HTML(polars_to_pandas_detail))"
   ]
  },
  {
   "cell_type": "code",
   "execution_count": 16,
   "id": "76e0a3bb-da1e-4c0d-8ba9-325c17efd558",
   "metadata": {
    "editable": true,
    "execution": {
     "iopub.execute_input": "2023-11-27T22:56:07.129543Z",
     "iopub.status.busy": "2023-11-27T22:56:07.128849Z",
     "iopub.status.idle": "2023-11-27T22:56:07.142965Z",
     "shell.execute_reply": "2023-11-27T22:56:07.141554Z",
     "shell.execute_reply.started": "2023-11-27T22:56:07.129512Z"
    },
    "scrolled": true,
    "slideshow": {
     "slide_type": "slide"
    },
    "tags": []
   },
   "outputs": [
    {
     "data": {
      "text/html": [
       "\n",
       "<iframe src=\"https://arrow.apache.org/docs/python/generated/pyarrow.Table.html#pyarrow.Table.to_pandas\" style=\"width:100%; height:1000px\"></iframe>\n"
      ],
      "text/plain": [
       "<IPython.core.display.HTML object>"
      ]
     },
     "metadata": {},
     "output_type": "display_data"
    }
   ],
   "source": [
    "display(\n",
    "    HTML(\n",
    "        \"\"\"\n",
    "<iframe src=\"https://arrow.apache.org/docs/python/generated/pyarrow.Table.html#pyarrow.Table.to_pandas\" style=\"width:100%; height:1000px\"></iframe>\n",
    "\"\"\"\n",
    "    )\n",
    ")"
   ]
  },
  {
   "cell_type": "raw",
   "id": "7a634876-4869-4cd6-9d9b-25770a777417",
   "metadata": {
    "editable": true,
    "raw_mimetype": "",
    "slideshow": {
     "slide_type": "skip"
    },
    "tags": []
   },
   "source": [
    "# How to use Pandas directly with Arrow\n",
    "\n",
    "import pyarrow as pa\n",
    "import pandas as pd\n",
    "\n",
    "\n",
    "table = pa.Table.from_pandas(df)\n",
    "\n",
    "# do some ops in Arrow\n",
    "# ...join\n",
    "# ...flatten\n",
    "# ...cast\n",
    "# ...sort, groupby, etc.\n",
    "\n",
    "df_new = table.to_pandas()\n"
   ]
  },
  {
   "cell_type": "code",
   "execution_count": 17,
   "id": "b4f41b68-9fed-44de-b89f-8d4ddaf68361",
   "metadata": {
    "editable": true,
    "execution": {
     "iopub.execute_input": "2023-11-27T22:56:07.145086Z",
     "iopub.status.busy": "2023-11-27T22:56:07.144604Z",
     "iopub.status.idle": "2023-11-27T22:56:07.155876Z",
     "shell.execute_reply": "2023-11-27T22:56:07.154563Z",
     "shell.execute_reply.started": "2023-11-27T22:56:07.145054Z"
    },
    "slideshow": {
     "slide_type": ""
    },
    "tags": []
   },
   "outputs": [],
   "source": [
    "# code for image displayed below\n",
    "pandas_with_pyarrow = (\n",
    "    '<img src=\"./images_code/pandas_with_pyarrow.png\" style=\"width:100%\"/>'\n",
    ")"
   ]
  },
  {
   "cell_type": "code",
   "execution_count": 18,
   "id": "34121cdd-b675-4c02-ac6b-0ccc9ebf9955",
   "metadata": {
    "editable": true,
    "execution": {
     "iopub.execute_input": "2023-11-27T22:56:07.158281Z",
     "iopub.status.busy": "2023-11-27T22:56:07.157540Z",
     "iopub.status.idle": "2023-11-27T22:56:07.170914Z",
     "shell.execute_reply": "2023-11-27T22:56:07.169650Z",
     "shell.execute_reply.started": "2023-11-27T22:56:07.158250Z"
    },
    "slideshow": {
     "slide_type": "slide"
    },
    "tags": []
   },
   "outputs": [
    {
     "data": {
      "text/html": [
       "<img src=\"./images_code/pandas_with_pyarrow.png\" style=\"width:100%\"/>"
      ],
      "text/plain": [
       "<IPython.core.display.HTML object>"
      ]
     },
     "metadata": {},
     "output_type": "display_data"
    }
   ],
   "source": [
    "display(HTML(pandas_with_pyarrow))"
   ]
  },
  {
   "cell_type": "markdown",
   "id": "67f76d25-8fed-461e-b9fb-d03043c55e19",
   "metadata": {
    "editable": true,
    "slideshow": {
     "slide_type": "slide"
    },
    "tags": []
   },
   "source": [
    "## Re: Speed - what are practical implications of transfers to/from Arrow?\n"
   ]
  },
  {
   "cell_type": "raw",
   "id": "9742947f-2d33-47cb-a443-15ac547634c7",
   "metadata": {
    "editable": true,
    "execution": {
     "iopub.execute_input": "2023-10-08T06:12:01.060743Z",
     "iopub.status.busy": "2023-10-08T06:12:01.059068Z",
     "iopub.status.idle": "2023-10-08T06:12:09.924971Z",
     "shell.execute_reply": "2023-10-08T06:12:09.920527Z",
     "shell.execute_reply.started": "2023-10-08T06:12:01.060671Z"
    },
    "raw_mimetype": "",
    "slideshow": {
     "slide_type": "skip"
    },
    "tags": []
   },
   "source": [
    "# Quick Example - transfers\n",
    "pd.options.future.infer_string = True\n",
    "pd.options.mode.copy_on_write = True\n",
    "\n",
    "df_pl3 = pl.read_parquet(data_parquet)  # ~680MB parquet\n"
   ]
  },
  {
   "cell_type": "code",
   "execution_count": 19,
   "id": "3459b22a-fa58-4a76-a909-c02b7a984a4f",
   "metadata": {
    "editable": true,
    "execution": {
     "iopub.execute_input": "2023-11-27T22:56:07.172957Z",
     "iopub.status.busy": "2023-11-27T22:56:07.172477Z",
     "iopub.status.idle": "2023-11-27T22:56:07.185239Z",
     "shell.execute_reply": "2023-11-27T22:56:07.182215Z",
     "shell.execute_reply.started": "2023-11-27T22:56:07.172920Z"
    },
    "slideshow": {
     "slide_type": "skip"
    },
    "tags": []
   },
   "outputs": [],
   "source": [
    "# code for image displayed below\n",
    "pl_pd_xfer_speed_setup = (\n",
    "    '<img src=\"./images_code/pl_pd_xfer_speed_setup.png\" style=\"width:100%\"/>'\n",
    ")"
   ]
  },
  {
   "cell_type": "code",
   "execution_count": 20,
   "id": "d92d6612-ddc9-4ee4-aee7-60d1f1aedd21",
   "metadata": {
    "editable": true,
    "execution": {
     "iopub.execute_input": "2023-11-27T22:56:07.187286Z",
     "iopub.status.busy": "2023-11-27T22:56:07.186894Z",
     "iopub.status.idle": "2023-11-27T22:56:07.203114Z",
     "shell.execute_reply": "2023-11-27T22:56:07.201728Z",
     "shell.execute_reply.started": "2023-11-27T22:56:07.187252Z"
    },
    "slideshow": {
     "slide_type": "slide"
    },
    "tags": []
   },
   "outputs": [
    {
     "data": {
      "text/html": [
       "<img src=\"./images_code/pl_pd_xfer_speed_setup.png\" style=\"width:100%\"/>"
      ],
      "text/plain": [
       "<IPython.core.display.HTML object>"
      ]
     },
     "metadata": {},
     "output_type": "display_data"
    }
   ],
   "source": [
    "display(HTML(pl_pd_xfer_speed_setup))"
   ]
  },
  {
   "cell_type": "raw",
   "id": "8c906a3f-7de7-48f8-b612-bbb41877154b",
   "metadata": {
    "editable": true,
    "execution": {
     "iopub.execute_input": "2023-10-08T06:12:09.931230Z",
     "iopub.status.busy": "2023-10-08T06:12:09.929855Z",
     "iopub.status.idle": "2023-10-08T06:13:53.903553Z",
     "shell.execute_reply": "2023-10-08T06:13:53.900534Z",
     "shell.execute_reply.started": "2023-10-08T06:12:09.931183Z"
    },
    "raw_mimetype": "",
    "slideshow": {
     "slide_type": "skip"
    },
    "tags": []
   },
   "source": [
    "# to_pandas (numpy)\n",
    "\n",
    "df_pd_xfered = df_pl3.to_pandas()  # copies data!  ~680MB\n",
    "# could do other ops in Pandas here...\n",
    "df_pd_xfered.head(2)\n",
    "\n",
    "# ~65.81s\n",
    "# this is expensive...\n",
    "\n",
    "del(df_pd_xfered)\n"
   ]
  },
  {
   "cell_type": "code",
   "execution_count": 21,
   "id": "0ef7afe7-1d64-4393-9af5-0815a7ba0b6a",
   "metadata": {
    "editable": true,
    "execution": {
     "iopub.execute_input": "2023-11-27T22:56:07.205243Z",
     "iopub.status.busy": "2023-11-27T22:56:07.204728Z",
     "iopub.status.idle": "2023-11-27T22:56:07.216881Z",
     "shell.execute_reply": "2023-11-27T22:56:07.215499Z",
     "shell.execute_reply.started": "2023-11-27T22:56:07.205207Z"
    },
    "slideshow": {
     "slide_type": "skip"
    },
    "tags": []
   },
   "outputs": [],
   "source": [
    "# code for image displayed below\n",
    "pl_to_pandas_slow = (\n",
    "    '<img src=\"./images_code/pl_to_pandas_slow.png\" style=\"width:100%\"/>'\n",
    ")"
   ]
  },
  {
   "cell_type": "code",
   "execution_count": 22,
   "id": "3c639f19-45df-45fe-ad46-e28acce5974a",
   "metadata": {
    "editable": true,
    "execution": {
     "iopub.execute_input": "2023-11-27T22:56:07.224201Z",
     "iopub.status.busy": "2023-11-27T22:56:07.223749Z",
     "iopub.status.idle": "2023-11-27T22:56:07.235582Z",
     "shell.execute_reply": "2023-11-27T22:56:07.234304Z",
     "shell.execute_reply.started": "2023-11-27T22:56:07.224163Z"
    },
    "slideshow": {
     "slide_type": "slide"
    },
    "tags": []
   },
   "outputs": [
    {
     "data": {
      "text/html": [
       "<img src=\"./images_code/pl_to_pandas_slow.png\" style=\"width:100%\"/>"
      ],
      "text/plain": [
       "<IPython.core.display.HTML object>"
      ]
     },
     "metadata": {},
     "output_type": "display_data"
    }
   ],
   "source": [
    "display(HTML(pl_to_pandas_slow))"
   ]
  },
  {
   "cell_type": "raw",
   "id": "6471c482-a848-4462-8c1a-3830f143c387",
   "metadata": {
    "editable": true,
    "execution": {
     "iopub.execute_input": "2023-10-08T06:15:11.537478Z",
     "iopub.status.busy": "2023-10-08T06:15:11.536887Z",
     "iopub.status.idle": "2023-10-08T06:15:13.886424Z",
     "shell.execute_reply": "2023-10-08T06:15:13.884002Z",
     "shell.execute_reply.started": "2023-10-08T06:15:11.537440Z"
    },
    "raw_mimetype": "",
    "slideshow": {
     "slide_type": "skip"
    },
    "tags": []
   },
   "source": [
    "# to_pandas (using pyarrow; no copy)\n",
    "\n",
    "df_pd_xfered = df_pl3.to_pandas(use_pyarrow_extension_array=True)  \n",
    "# does not copy data!\n",
    "df_pd_xfered.head(2)\n",
    "\n",
    "# 2.35s\n",
    "# ~28x faster than numpy/data copy\n"
   ]
  },
  {
   "cell_type": "code",
   "execution_count": 23,
   "id": "073ecab7-9bed-4ab8-9039-45bb6333101e",
   "metadata": {
    "editable": true,
    "execution": {
     "iopub.execute_input": "2023-11-27T22:56:07.237321Z",
     "iopub.status.busy": "2023-11-27T22:56:07.236826Z",
     "iopub.status.idle": "2023-11-27T22:56:07.248649Z",
     "shell.execute_reply": "2023-11-27T22:56:07.247540Z",
     "shell.execute_reply.started": "2023-11-27T22:56:07.237292Z"
    },
    "slideshow": {
     "slide_type": "skip"
    },
    "tags": []
   },
   "outputs": [],
   "source": [
    "# code for image displayed below\n",
    "pl_to_pandas_fast = (\n",
    "    '<img src=\"./images_code/pl_to_pandas_fast.png\" style=\"width:100%\"/>'\n",
    ")"
   ]
  },
  {
   "cell_type": "code",
   "execution_count": 24,
   "id": "c86941f7-612e-4c5f-ac5b-ed860954993a",
   "metadata": {
    "editable": true,
    "execution": {
     "iopub.execute_input": "2023-11-27T22:56:07.251152Z",
     "iopub.status.busy": "2023-11-27T22:56:07.250533Z",
     "iopub.status.idle": "2023-11-27T22:56:07.265588Z",
     "shell.execute_reply": "2023-11-27T22:56:07.264083Z",
     "shell.execute_reply.started": "2023-11-27T22:56:07.251117Z"
    },
    "slideshow": {
     "slide_type": "slide"
    },
    "tags": []
   },
   "outputs": [
    {
     "data": {
      "text/html": [
       "<img src=\"./images_code/pl_to_pandas_fast.png\" style=\"width:100%\"/>"
      ],
      "text/plain": [
       "<IPython.core.display.HTML object>"
      ]
     },
     "metadata": {},
     "output_type": "display_data"
    }
   ],
   "source": [
    "display(HTML(pl_to_pandas_fast))"
   ]
  },
  {
   "cell_type": "markdown",
   "id": "1adb4b58-09fd-4fb3-84fa-325f0af6060e",
   "metadata": {
    "editable": true,
    "slideshow": {
     "slide_type": "slide"
    },
    "tags": []
   },
   "source": [
    "<table style=\"width: 100%; border-collapse: collapse; margin-top: 0;\">\n",
    "    <tr>\n",
    "        <td style=\"vertical-align: top;\">\n",
    "            <h1 style=\"font-size: 48px; color: #333; margin-top: 0; margin-bottom: 10px;\">TLDR</h1>\n",
    "        </td>\n",
    "    </tr>\n",
    "    <tr>\n",
    "        <td style=\"vertical-align: top;\">\n",
    "            <h2 style=\"font-size: 24px; color: #555; margin-top: 0; margin-bottom: 10px;\">- Use Pandas - power (completeness) / flexibility / stability</h2>\n",
    "        </td>\n",
    "    </tr>\n",
    "    <tr>\n",
    "        <td style=\"vertical-align: top;\">\n",
    "            <h2 style=\"font-size: 24px; color: #555; margin-top: 0; margin-bottom: 10px;\">- Add Polars where you can for speed / smaller less stable API</h2>\n",
    "        </td>\n",
    "    </tr>\n",
    "    <tr>\n",
    "        <td style=\"vertical-align: top;\">\n",
    "            <h2 style=\"font-size: 24px; color: #555; margin-top: 0; margin-bottom: 10px;\">- Both getting faster - Arrow is the driver</h2>\n",
    "        </td>\n",
    "    </tr>\n",
    "    <tr>\n",
    "        <td style=\"vertical-align: top;\">\n",
    "            <h2 style=\"font-size: 24px; color: #555; margin-top: 0;\">- Build better pipelines -- use together where it makes sense</h2>\n",
    "        </td>\n",
    "    </tr>\n",
    "</table>\n"
   ]
  },
  {
   "cell_type": "markdown",
   "id": "475bd123-d69d-474a-a95e-f4495fe2a408",
   "metadata": {
    "editable": true,
    "slideshow": {
     "slide_type": "skip"
    },
    "tags": []
   },
   "source": [
    "# Thank You / Wrap Up\n"
   ]
  },
  {
   "cell_type": "code",
   "execution_count": 25,
   "id": "f718a3ca-13c2-4613-a51a-d228b48e8841",
   "metadata": {
    "editable": true,
    "execution": {
     "iopub.execute_input": "2023-11-27T22:56:07.268277Z",
     "iopub.status.busy": "2023-11-27T22:56:07.267781Z",
     "iopub.status.idle": "2023-11-27T22:56:07.281529Z",
     "shell.execute_reply": "2023-11-27T22:56:07.280114Z",
     "shell.execute_reply.started": "2023-11-27T22:56:07.268231Z"
    },
    "slideshow": {
     "slide_type": "skip"
    },
    "tags": []
   },
   "outputs": [
    {
     "name": "stdout",
     "output_type": "stream",
     "text": [
      "QR code exists\n"
     ]
    }
   ],
   "source": [
    "# check or create QR code for this github repo\n",
    "qr_imagefile = \"qr_code_extended_talk.png\"\n",
    "qr_full_path = Path(images_path, qr_imagefile)\n",
    "\n",
    "if not Path.is_file(qr_full_path):\n",
    "    print(f\"QR code missing; recreating {qr_full_path}\")\n",
    "    qr = qrcode.QRCode(error_correction=qrcode.constants.ERROR_CORRECT_M)\n",
    "    qr.add_data(\"https://github.com/surfaceowl/talk_nov2023_pandas_polars_arrow.git\")\n",
    "\n",
    "    qr_code_extended_talk = qr.make_image(\n",
    "        image_factory=StyledPilImage,\n",
    "        module_drawer=GappedSquareModuleDrawer(),\n",
    "    )\n",
    "    qr_code_extended_talk.save(qr_full_path)\n",
    "    qr_code_extended_talk\n",
    "else:\n",
    "    print(\"QR code exists\")"
   ]
  },
  {
   "cell_type": "markdown",
   "id": "ddb1e09b-1757-4ee1-9c3f-6c4ff1a91c41",
   "metadata": {
    "editable": true,
    "slideshow": {
     "slide_type": "skip"
    },
    "tags": []
   },
   "source": [
    "### custom HTML for thank you page to display properly in jupyter"
   ]
  },
  {
   "cell_type": "code",
   "execution_count": 26,
   "id": "2c1760e1-4d06-4a70-b80e-a92fca54add8",
   "metadata": {
    "editable": true,
    "execution": {
     "iopub.execute_input": "2023-11-27T22:56:07.285013Z",
     "iopub.status.busy": "2023-11-27T22:56:07.282904Z",
     "iopub.status.idle": "2023-11-27T22:56:07.304759Z",
     "shell.execute_reply": "2023-11-27T22:56:07.303415Z",
     "shell.execute_reply.started": "2023-11-27T22:56:07.283677Z"
    },
    "slideshow": {
     "slide_type": ""
    },
    "tags": []
   },
   "outputs": [],
   "source": [
    "# requires use of display(HTML) to enable head/link to new font; pure markdown won't work\n",
    "# hide here in separate variable due to jupyter\n",
    "thank_you = \"\"\"\n",
    "<!DOCTYPE html>\n",
    "<html>\n",
    "<head>\n",
    "    <link href=\"https://fonts.googleapis.com/css2?family=Architects+Daughter&display=swap\" rel=\"stylesheet\">\n",
    "</head>\n",
    "<body>\n",
    "    <table style=\"border-collapse: collapse; border: none; background-color: #F7F7F7; width: 100%; font-size: 148px;\">\n",
    "        <tr>\n",
    "            <td colspan=\"2\" style=\"border: none; background-color: #E0E0E0; text-align: center; font-weight: bold; font-family: 'Architects Daughter';\">Thank you!</td>\n",
    "        </tr>\n",
    "        <tr>\n",
    "            <td style=\"border: none; background-color: #F7F7F7; text-align: left; font-size: 48px;\">Chris Brousseau</td>\n",
    "        </tr>\n",
    "        <tr>\n",
    "            <td style=\"border: none; background-color: #F7F7F7; text-align: left; font-weight: bold; font-size: 36px;\">Data / ML & Data Science Consulting</td>\n",
    "        </tr>\n",
    "        <tr>\n",
    "            <td style=\"border: none; background-color: #F7F7F7; text-align: left; font-weight: bold; font-size: 36px;\">chris@surfaceowl.com</td>\n",
    "        </tr>\n",
    "        <tr>\n",
    "            <td style=\"padding: 8px; border: none; background-color: #F7F7F7; text-align: left; font-size: 24px;\">\n",
    "                <a href=\"https://github.com/surfaceowl/talk_nov2023_pandas_polars_arrow\" target=\"_blank\"> https://github.com/surfaceowl/talk_nov2023_pandas_polars_arrow</a>\n",
    "            </td>\n",
    "            <td style=\"padding: 8px; border: none; background-color: #F7F7F7; text-align: center;\">\n",
    "                <img src=\"./images/qr_code_extended_talk.png\" alt=\"QR Code for Extended Better Together Talk\" style=\"max-width: 100%; height: auto;\">\n",
    "            </td>\n",
    "        </tr>\n",
    "    </table>\n",
    "</body>\n",
    "</html>\n",
    "\"\"\""
   ]
  },
  {
   "cell_type": "code",
   "execution_count": 27,
   "id": "c7a2c1ea-a8d2-4772-a87f-2a92f29be077",
   "metadata": {
    "editable": true,
    "execution": {
     "iopub.execute_input": "2023-11-27T22:56:07.307636Z",
     "iopub.status.busy": "2023-11-27T22:56:07.306081Z",
     "iopub.status.idle": "2023-11-27T22:56:07.328493Z",
     "shell.execute_reply": "2023-11-27T22:56:07.327154Z",
     "shell.execute_reply.started": "2023-11-27T22:56:07.307601Z"
    },
    "slideshow": {
     "slide_type": "slide"
    },
    "tags": []
   },
   "outputs": [
    {
     "data": {
      "text/html": [
       "\n",
       "<!DOCTYPE html>\n",
       "<html>\n",
       "<head>\n",
       "    <link href=\"https://fonts.googleapis.com/css2?family=Architects+Daughter&display=swap\" rel=\"stylesheet\">\n",
       "</head>\n",
       "<body>\n",
       "    <table style=\"border-collapse: collapse; border: none; background-color: #F7F7F7; width: 100%; font-size: 148px;\">\n",
       "        <tr>\n",
       "            <td colspan=\"2\" style=\"border: none; background-color: #E0E0E0; text-align: center; font-weight: bold; font-family: 'Architects Daughter';\">Thank you!</td>\n",
       "        </tr>\n",
       "        <tr>\n",
       "            <td style=\"border: none; background-color: #F7F7F7; text-align: left; font-size: 48px;\">Chris Brousseau</td>\n",
       "        </tr>\n",
       "        <tr>\n",
       "            <td style=\"border: none; background-color: #F7F7F7; text-align: left; font-weight: bold; font-size: 36px;\">Data / ML & Data Science Consulting</td>\n",
       "        </tr>\n",
       "        <tr>\n",
       "            <td style=\"border: none; background-color: #F7F7F7; text-align: left; font-weight: bold; font-size: 36px;\">chris@surfaceowl.com</td>\n",
       "        </tr>\n",
       "        <tr>\n",
       "            <td style=\"padding: 8px; border: none; background-color: #F7F7F7; text-align: left; font-size: 24px;\">\n",
       "                <a href=\"https://github.com/surfaceowl/talk_nov2023_pandas_polars_arrow\" target=\"_blank\"> https://github.com/surfaceowl/talk_nov2023_pandas_polars_arrow</a>\n",
       "            </td>\n",
       "            <td style=\"padding: 8px; border: none; background-color: #F7F7F7; text-align: center;\">\n",
       "                <img src=\"./images/qr_code_extended_talk.png\" alt=\"QR Code for Extended Better Together Talk\" style=\"max-width: 100%; height: auto;\">\n",
       "            </td>\n",
       "        </tr>\n",
       "    </table>\n",
       "</body>\n",
       "</html>\n"
      ],
      "text/plain": [
       "<IPython.core.display.HTML object>"
      ]
     },
     "metadata": {},
     "output_type": "display_data"
    }
   ],
   "source": [
    "display(HTML(thank_you))"
   ]
  },
  {
   "cell_type": "markdown",
   "id": "17ec5a2d-e4ce-4e25-85e9-94cc5d6bdf22",
   "metadata": {
    "editable": true,
    "slideshow": {
     "slide_type": "slide"
    },
    "tags": []
   },
   "source": [
    "# Appendix\n"
   ]
  },
  {
   "cell_type": "markdown",
   "id": "3d059353-8a67-4c35-ab0b-7961367c5b7d",
   "metadata": {
    "editable": true,
    "execution": {
     "iopub.execute_input": "2023-10-02T17:12:37.365803Z",
     "iopub.status.busy": "2023-10-02T17:12:37.365178Z",
     "iopub.status.idle": "2023-10-02T17:12:37.373475Z",
     "shell.execute_reply": "2023-10-02T17:12:37.371396Z",
     "shell.execute_reply.started": "2023-10-02T17:12:37.365781Z"
    },
    "slideshow": {
     "slide_type": "slide"
    },
    "tags": []
   },
   "source": [
    "# Reference - Links\n",
    "\n",
    "pandas\n",
    "https://pandas.pydata.org/docs/whatsnew/index.html\n",
    "\n",
    "polars\n",
    "https://pola-rs.github.io/polars/\n",
    "\n",
    "apache arrow\n",
    "https://arrow.apache.org/overview/\n",
    "\n",
    "pyarrrow\n",
    "https://arrow.apache.org/docs/python/index.html\n",
    "\n",
    "dataframe API standard\n",
    "https://data-apis.org/dataframe-api/draft/index.html\n",
    "https://ponder.io/how-the-python-dataframe-interchange-protocol-makes-life-better/\n",
    "\n",
    "Arrow Revolution\n",
    "https://datapythonista.me/blog/pandas-20-and-the-arrow-revolution-part-i\n",
    "\n",
    "# interesting articles/video\n",
    "https://www.youtube.com/watch?v=QfLzEp-yt_U  # Richey Vink; Polars Creator\n",
    "https://kyleake.medium.com/pandas-to-polars-a-comprehensive-transition-guide-81b6f50e9154\n",
    "\n",
    "# convert to/from pandas/pyarrow\n",
    "https://arrow.apache.org/docs/python/pandas.html\n",
    "\n",
    "# Reference - Datatypes\n",
    "https://pandas.pydata.org/docs/user_guide/basics.html#dtypes\n",
    "https://pola-rs.github.io/polars/py-polars/html/reference/datatypes.html\n",
    "https://arrow.apache.org/docs/python/pandas.html\n"
   ]
  },
  {
   "cell_type": "code",
   "execution_count": null,
   "id": "7dfee747-8bca-4bde-9562-234c44f6a2f8",
   "metadata": {
    "editable": true,
    "slideshow": {
     "slide_type": ""
    },
    "tags": []
   },
   "outputs": [],
   "source": []
  }
 ],
 "metadata": {
  "kernelspec": {
   "display_name": "Python 3 (ipykernel)",
   "language": "python",
   "name": "python3"
  },
  "language_info": {
   "codemirror_mode": {
    "name": "ipython",
    "version": 3
   },
   "file_extension": ".py",
   "mimetype": "text/x-python",
   "name": "python",
   "nbconvert_exporter": "python",
   "pygments_lexer": "ipython3",
   "version": "3.11.6"
  }
 },
 "nbformat": 4,
 "nbformat_minor": 5
}
