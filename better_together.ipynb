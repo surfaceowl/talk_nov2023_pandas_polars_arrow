{
 "cells": [
  {
   "cell_type": "code",
   "execution_count": 1,
   "id": "4766d670-0f7b-442d-896c-5d20b61bb927",
   "metadata": {
    "editable": true,
    "execution": {
     "iopub.execute_input": "2023-10-02T18:08:31.376473Z",
     "iopub.status.busy": "2023-10-02T18:08:31.375775Z",
     "iopub.status.idle": "2023-10-02T18:08:31.738213Z",
     "shell.execute_reply": "2023-10-02T18:08:31.737478Z",
     "shell.execute_reply.started": "2023-10-02T18:08:31.376446Z"
    },
    "slideshow": {
     "slide_type": "skip"
    },
    "tags": []
   },
   "outputs": [],
   "source": [
    "# setup\n",
    "from IPython.display import display, HTML\n",
    "from pathlib import Path\n",
    "\n",
    "import numpy as np\n",
    "import pandas as pd\n",
    "import polars as pl\n",
    "\n",
    "data_path = Path(\"data\")"
   ]
  },
  {
   "cell_type": "markdown",
   "id": "4cbb1aeb-328e-4cdf-bfa7-eeb6c8d18a59",
   "metadata": {
    "editable": true,
    "slideshow": {
     "slide_type": "slide"
    },
    "tags": []
   },
   "source": [
    "\n",
    "<html>\r\n",
    "<head>\r\n",
    "</head>\r\n",
    "<body style=\"background-color: #FFFFFF;\">\r\n",
    "  <h1 align=\"center\" style=\"font-weight: bold; font-style: italic; font-size: 390%;\">Better Together</h1>\r\n",
    "  <table border=\"0\" align=\"center\" width=\"100%\" bgcolor=\"#FFFFFF\">\r\n",
    "    <tr>\r\n",
    "      <td align=\"center\" width=\"50%\" bgcolor=\"#FFFFFF\">\r\n",
    "        <img src=\"images/pandas_logo.1280x517.png\" width=\"620\" height=\"250\">\r\n",
    "      </td>\r\n",
    "      <td align=\"center\" width=\"50%\" bgcolor=\"#FFFFFF\">\r\n",
    "        <img src=\"images/polars.round.400x400.png\" width=\"250\" height=\"250\">\r\n",
    "      </td>\r\n",
    "    </tr>\r\n",
    "    <tr>\r\n",
    "      <td colspan=\"2\" align=\"center\" bgcolor=\"#FFFFFF\">\r\n",
    "        <img src=\"images/arrow-logo_horizontal.1800x936.png\" width=\"481\" height=\"250\">\r\n",
    "      </td>\r\n",
    "    </tr>\r\n",
    "  </table>\r\n",
    "  <br>\r\n",
    "  <div style=\"font-size: 300%;\">\r\n",
    "    <b>Better Together: Unleashing the Synergy of Pandas, Polars, and Apache Arrow</b><br>\r\n",
    "    <b>Speaker:</b> Chris Brousseau<br>\r\n",
    "    <b>Date:</b> 8 Oct 2023\r\n",
    "  </div>\r\n",
    "</body>\r\n",
    "</html>\r\n",
    " </div>\r\n",
    "</body>\r\n",
    "</html>"
   ]
  },
  {
   "cell_type": "markdown",
   "id": "33d32b50-28a2-4fd7-a1a5-6fede41cc183",
   "metadata": {
    "editable": true,
    "slideshow": {
     "slide_type": "slide"
    },
    "tags": []
   },
   "source": [
    "## About Me:\n",
    "copy from 500 AI talk\n"
   ]
  },
  {
   "cell_type": "markdown",
   "id": "71db076d-1685-471a-ba1b-dc344aa38902",
   "metadata": {
    "editable": true,
    "execution": {
     "iopub.execute_input": "2023-09-28T17:47:16.458680Z",
     "iopub.status.busy": "2023-09-28T17:47:16.458208Z",
     "iopub.status.idle": "2023-09-28T17:47:16.462796Z",
     "shell.execute_reply": "2023-09-28T17:47:16.461727Z",
     "shell.execute_reply.started": "2023-09-28T17:47:16.458658Z"
    },
    "slideshow": {
     "slide_type": "slide"
    },
    "tags": []
   },
   "source": [
    "# Talk Tagline:<br>\n",
    "Supercharge your data engineering workflows by merging the **robustness of Pandas** with the **high-speed capabilities of Polars**, \n",
    "all underpinned by Apache Arrow's in-memory technology. <br>\n",
    "This technical deep-dive will unravel the nuances between Pandas and Polars, showcase their newest features, and demonstrate how to integrate them for optimal performance. \n",
    "Learn actionable techniques to make your data pipelines faster, more efficient, and ready for scale. Join us to see how you might elevate your data engineering toolkit!<br>\n",
    "\n",
    "Key Differences and Updates: Get up to speed with the latest features and differences between Pandas and Polars. (5 min)\r\n",
    "Introducing Apache Arrow: Discover what Arrow is and why it's a game-changer in the Python data ecosystem. (5 min)\r\n",
    "Synergizing Pandas and Polars: Detailed walkthrough on how and why to integrate Pandas and Polars for high-efficiency data manipulation. (15 min)"
   ]
  },
  {
   "cell_type": "markdown",
   "id": "49f74b22-fb64-4285-aa53-3fbc3cb8ea88",
   "metadata": {
    "editable": true,
    "execution": {
     "iopub.execute_input": "2023-10-02T18:10:08.550854Z",
     "iopub.status.busy": "2023-10-02T18:10:08.549735Z",
     "iopub.status.idle": "2023-10-02T18:10:08.574746Z",
     "shell.execute_reply": "2023-10-02T18:10:08.572358Z",
     "shell.execute_reply.started": "2023-10-02T18:10:08.550793Z"
    },
    "slideshow": {
     "slide_type": "slide"
    },
    "tags": []
   },
   "source": [
    "<h1>Key Differences and Updates</h1>\n",
    "\n",
    "<table border=\"1\" style=\"width: 80%; font-size: 24px;\">\n",
    "  <thead>\n",
    "    <tr style=\"font-weight: bold;\">\n",
    "      <th>Feature</th>\n",
    "      <th>Pandas</th>\n",
    "      <th>Polars</th>\n",
    "    </tr>\n",
    "  </thead>\n",
    "  <tbody>\n",
    "    <tr style=\"background-color: #FFFFFF;\">\n",
    "      <td>First Release</td>\n",
    "      <td>2008</td>\n",
    "      <td>2019</td>\n",
    "    </tr>\n",
    "    <tr style=\"background-color: #F0F0F0;\">\n",
    "      <td>Programming Language</td>\n",
    "      <td>C, Cython, Python</td>\n",
    "      <td>Rust</td>\n",
    "    </tr>\n",
    "    <tr style=\"background-color: #FFFFFF; font-weight: bold\">\n",
    "      <td>Memory</td>\n",
    "      <td></td>\n",
    "      <td></td>\n",
    "    </tr>\n",
    "    <tr style=\"background-color: #F0F0F0;\">\n",
    "      <td>Memory Backend</td>\n",
    "      <td>Numpy or <strong>Apache Arrow</td>\n",
    "      <td><strong>Apache Arrow</td>\n",
    "    </tr>\n",
    "    <tr style=\"background-color: #FFFFFF;\">\n",
    "      <td>Memory implementation</td>\n",
    "      <td>Pyarrow (C++ wrapper on data)</td>\n",
    "      <td>Arrow2 (Rust wrapper on data)</td>\n",
    "    </tr>\n",
    "    <tr style=\"background-color: #F0F0F0;\">\n",
    "      <td>Use Index/Multindex</td>\n",
    "      <td>Yes</td>\n",
    "      <td><strong>No</td>\n",
    "    </tr>\n",
    "    <tr style=\"background-color: #FFFFFF;\">\n",
    "      <td>Larger-than-Memory Support</td>\n",
    "      <td>No  (but via Dask)</td>\n",
    "      <td><strong>Native</td>\n",
    "    </tr>\n",
    "    <tr style=\"background-color: #F0F0F0;\">\n",
    "      <td>Represent Missing Data</td>\n",
    "      <td>\"Nan\" or \"None\"</td>\n",
    "      <td>\"null\"</td>\n",
    "    </tr>\n",
    "    <tr style=\"background-color: #FFFFFF; font-weight: bold;\">\n",
    "      <td>API</td>\n",
    "      <td></td>\n",
    "      <td></td>\n",
    "    </tr>\n",
    "    <tr style=\"background-color: #F0F0F0;\">\n",
    "      <td>Number of Methods</td>\n",
    "      <td><strong><i>TBD</i></strong></td>\n",
    "      <td><strong><i>TBD</i></strong></td>\n",
    "    </tr>\n",
    "    <tr style=\"background-color: #FFFFFF;\">\n",
    "      <td>API mode</td>\n",
    "      <td>Eager</td>\n",
    "      <td>Eager or Lazy</td>\n",
    "    </tr>\n",
    "    <tr style=\"background-color: #F0F0F0;\">\n",
    "      <td>Query Optimization</td>\n",
    "      <td>No</td>\n",
    "      <td>Yes - with Lazy</td>\n",
    "    </tr>\n",
    "    <tr style=\"background-color: #FFFFFF;\">\n",
    "      <td>Multithreading</td>\n",
    "      <td>Limited</td>\n",
    "      <td><strong>Most operations</td>\n",
    "    </tr>\n",
    "    <tr style=\"background-color: #F0F0F0; font-weight: bold;\">\n",
    "      <td>How to transfer df?</td>\n",
    "      <td></td>\n",
    "      <td>polars.from_pandas</td>\n",
    "    </tr>\n",
    "    <tr style=\"background-color: #FFFFFF;\">\n",
    "      <td></td>\n",
    "      <td></td>\n",
    "      <td>polars.to_pandas</td>\n",
    "    </tr>\n",
    "  </tbody>\n",
    "</table>\n"
   ]
  },
  {
   "cell_type": "markdown",
   "id": "c0ae7cd8-8592-492d-b745-9d42956e9c9a",
   "metadata": {
    "editable": true,
    "slideshow": {
     "slide_type": "slide"
    },
    "tags": []
   },
   "source": [
    "# Why is Apache Arrow a Game Changer?\n",
    "\n",
    "**Speed** -  in-memory columnar format; avoids costly serialization and deserialization ==> transfer pointers + metadata vs. copying data <br>\n",
    "**Interoperability** - arrow is program independent <br>\n",
    "**Datatypes** - more + better datatypes than numpy; Missing data support (NA) for all data types <br>\n",
    "\n",
    "https://pandas.pydata.org/docs/user_guide/pyarrow.html <br>\n",
    "\n",
    "python dataframe interchange protocol <br>"
   ]
  },
  {
   "cell_type": "markdown",
   "id": "0ed0de54-5d10-46fc-87be-adc8b208d46a",
   "metadata": {
    "editable": true,
    "execution": {
     "iopub.execute_input": "2023-09-28T19:03:53.363132Z",
     "iopub.status.busy": "2023-09-28T19:03:53.362681Z",
     "iopub.status.idle": "2023-09-28T19:03:53.367099Z",
     "shell.execute_reply": "2023-09-28T19:03:53.366236Z",
     "shell.execute_reply.started": "2023-09-28T19:03:53.363109Z"
    },
    "slideshow": {
     "slide_type": "slide"
    },
    "tags": []
   },
   "source": [
    "# Key Differences and Updates\n",
    "features\n",
    "performance\n",
    "\n",
    "4 views:  pandas numpy, pandas arrow, polars, polars-lazy eval"
   ]
  },
  {
   "cell_type": "markdown",
   "id": "4e2f9e5c-521e-414f-a92d-54cb066e883e",
   "metadata": {
    "editable": true,
    "slideshow": {
     "slide_type": "slide"
    },
    "tags": []
   },
   "source": [
    "# TBD - python dataframe interchange protocol"
   ]
  },
  {
   "cell_type": "markdown",
   "id": "68fc6a15-2583-48b0-a7e3-ada6420e0285",
   "metadata": {
    "editable": true,
    "slideshow": {
     "slide_type": "slide"
    },
    "tags": []
   },
   "source": [
    "# Synergizing Pandas and Polars\n",
    "\n",
    "setup tips - Pandas\n",
    "# enable Copy-On-Write\n",
    "pd.options.mode.copy_on_write = True\n",
    "\n",
    "# set pyarrow for all string data\n",
    "pd.options.future.infer_string = True  \n",
    "\n",
    "# use pyarrow for I/O\n",
    "pd.read_csv( my_datat.csv\",  engine=\"pyarrow\"   dtype_backend=\"pyarrow\")\n",
    "pd.read_parquet,\r\n",
    ")"
   ]
  },
  {
   "cell_type": "markdown",
   "id": "1adb4b58-09fd-4fb3-84fa-325f0af6060e",
   "metadata": {
    "editable": true,
    "slideshow": {
     "slide_type": "slide"
    },
    "tags": []
   },
   "source": [
    "# Recap"
   ]
  },
  {
   "cell_type": "markdown",
   "id": "16df54c5-d7b9-43f6-be58-118bfe78af87",
   "metadata": {
    "editable": true,
    "slideshow": {
     "slide_type": "slide"
    },
    "tags": []
   },
   "source": [
    "# Thank you!"
   ]
  },
  {
   "cell_type": "markdown",
   "id": "3d059353-8a67-4c35-ab0b-7961367c5b7d",
   "metadata": {
    "editable": true,
    "execution": {
     "iopub.execute_input": "2023-10-02T17:12:37.365803Z",
     "iopub.status.busy": "2023-10-02T17:12:37.365178Z",
     "iopub.status.idle": "2023-10-02T17:12:37.373475Z",
     "shell.execute_reply": "2023-10-02T17:12:37.371396Z",
     "shell.execute_reply.started": "2023-10-02T17:12:37.365781Z"
    },
    "slideshow": {
     "slide_type": "slide"
    },
    "tags": []
   },
   "source": [
    "# Reference Material\n",
    "\n",
    "pandas\n",
    "https://pandas.pydata.org/docs/whatsnew/index.html\n",
    "\n",
    "polars\n",
    "https://pola-rs.github.io/polars/\n",
    "\n",
    "apache arrow\n",
    "https://arrow.apache.org/overview/\n",
    "\n",
    "pyarrrow\n",
    "https://arrow.apache.org/docs/python/index.html\n",
    "\n",
    "dataframe API standard\n",
    "https://data-apis.org/dataframe-api/draft/index.html\n",
    "https://ponder.io/how-the-python-dataframe-interchange-protocol-makes-life-better/\n",
    "\n",
    "Arrow Revolution\n",
    "https://datapythonista.me/blog/pandas-20-and-the-arrow-revolution-part-i\n",
    "\n",
    "# convert to/from pandas/pyarrow\n",
    "https://arrow.apache.org/docs/python/pandas.html"
   ]
  },
  {
   "cell_type": "markdown",
   "id": "d46b66b4-65b1-429e-a022-dedd41a1641b",
   "metadata": {
    "editable": true,
    "execution": {
     "iopub.status.busy": "2023-10-02T17:12:37.374516Z",
     "iopub.status.idle": "2023-10-02T17:12:37.374958Z",
     "shell.execute_reply": "2023-10-02T17:12:37.374776Z",
     "shell.execute_reply.started": "2023-10-02T17:12:37.374758Z"
    },
    "slideshow": {
     "slide_type": "slide"
    },
    "tags": []
   },
   "source": [
    "# syntax examples\n",
    "https://www.rhosignal.com/posts/polars-pandas-cheatsheet/\n"
   ]
  },
  {
   "cell_type": "code",
   "execution_count": null,
   "id": "07f528ed-47d1-4d59-9e85-ed55d1d61db8",
   "metadata": {
    "editable": true,
    "slideshow": {
     "slide_type": "slide"
    },
    "tags": []
   },
   "outputs": [],
   "source": [
    "# synthetic data for tests\n",
    "import synthetic_data\n",
    "\n",
    "if not Path.is_file(Path(data_path, \"python_dev_universe.csv\")):\n",
    "    print(\"not there - generating synthetic data now (please wait...)\")\n",
    "    synthetic_data\n",
    "else:\n",
    "    print(\"found it!\")\n",
    "    print(Path(data_path, \"python_dev_universe.csv\").stat().st_size)"
   ]
  },
  {
   "cell_type": "code",
   "execution_count": null,
   "id": "7ad18d58-8017-4074-9c04-08e98d4dbbff",
   "metadata": {
    "editable": true,
    "slideshow": {
     "slide_type": "slide"
    },
    "tags": []
   },
   "outputs": [],
   "source": [
    "def count_apis(library):\n",
    "    \"\"\"\n",
    "    Count the number of public APIs in a given library and return additional information.\n",
    "\n",
    "    Parameters:\n",
    "        library: The imported library module for which to count APIs.\n",
    "\n",
    "    Returns:\n",
    "        dict: Dictionary containing the library name, number of public APIs, and a list of public APIs.\n",
    "    \"\"\"\n",
    "    # Get all attributes and methods\n",
    "    all_attributes = dir(library)\n",
    "\n",
    "    # Filter out private and special attributes (those starting with '_')\n",
    "    public_apis = [attr for attr in all_attributes if not attr.startswith(\"_\")]\n",
    "\n",
    "    # Prepare the result dictionary\n",
    "    result = {\n",
    "        \"library\": library.__name__,  # Get the library name\n",
    "        \"num_public_apis\": len(public_apis),\n",
    "        \"list_public_api\": sorted(public_apis, key=str.lower),\n",
    "    }\n",
    "\n",
    "    return result\n",
    "\n",
    "\n",
    "# Example usage:\n",
    "import pandas as pd\n",
    "import polars as pl  # Assuming Polars is imported as 'pl'\n",
    "\n",
    "print(f\"Number of public APIs in Pandas: {count_apis(pd)['num_public_apis']}\")\n",
    "print(f\"Number of public APIs in Polars: {count_apis(pl)['num_public_apis']}\")"
   ]
  },
  {
   "cell_type": "code",
   "execution_count": null,
   "id": "d409e2b4-9b1b-475d-8b0c-6845c82dbb5c",
   "metadata": {
    "editable": true,
    "slideshow": {
     "slide_type": "slide"
    },
    "tags": []
   },
   "outputs": [],
   "source": [
    "def count_apis_dataframe(libraries):\n",
    "    \"\"\"\n",
    "    Count the APIs for a list of libraries and return the information in a DataFrame.\n",
    "\n",
    "    Parameters:\n",
    "        libraries: List of imported library modules to inspect.\n",
    "\n",
    "    Returns:\n",
    "        DataFrame: Each column represents a library. The first two rows contain the library name and number of public APIs.\n",
    "                   Additional rows contain the sorted list of public APIs.\n",
    "    \"\"\"\n",
    "    data = {}\n",
    "    for lib in libraries:\n",
    "        api_info = count_apis(lib)\n",
    "        col_name = api_info[\"library\"]\n",
    "        col_values = [col_name, api_info[\"num_public_apis\"]] + api_info[\n",
    "            \"list_public_api\"\n",
    "        ]\n",
    "        data[col_name] = col_values\n",
    "\n",
    "    # Create DataFrame, filling NaN values for uneven column lengths\n",
    "    df = pd.DataFrame.from_dict(data, orient=\"index\").T.fillna(\"\")\n",
    "\n",
    "    return df"
   ]
  },
  {
   "cell_type": "code",
   "execution_count": null,
   "id": "3da533c7-45f8-47f8-a45e-998c15205307",
   "metadata": {
    "editable": true,
    "slideshow": {
     "slide_type": "slide"
    },
    "tags": []
   },
   "outputs": [],
   "source": [
    "pd.set_option(\"display.max_rows\", 500)\n",
    "df = count_apis_dataframe([pd, pl])\n",
    "print(df)"
   ]
  },
  {
   "cell_type": "code",
   "execution_count": null,
   "id": "e6daf2df-4e98-4507-9bfa-91874ef63461",
   "metadata": {
    "editable": true,
    "slideshow": {
     "slide_type": "slide"
    },
    "tags": []
   },
   "outputs": [],
   "source": [
    "def count_apis_dataframe_v4(libraries):\n",
    "    \"\"\"\n",
    "    Count the APIs for a list of libraries and return the information in a DataFrame.\n",
    "\n",
    "    Parameters:\n",
    "        libraries: List of imported library modules to inspect.\n",
    "\n",
    "    Returns:\n",
    "        DataFrame: Each column represents a library. Rows are grouped by 'library', 'num_public_api', and the first letter of public APIs.\n",
    "    \"\"\"\n",
    "\n",
    "    # Create initial rows for 'library' and 'num_public_api'\n",
    "    library_info = {\n",
    "        lib.__name__: [\n",
    "            lib.__name__,\n",
    "            len([attr for attr in dir(lib) if not attr.startswith(\"_\")]),\n",
    "        ]\n",
    "        for lib in libraries\n",
    "    }\n",
    "    df1 = pd.DataFrame.from_dict(\n",
    "        library_info, orient=\"index\", columns=[\"library\", \"num_public_api\"]\n",
    "    ).T\n",
    "\n",
    "    # Initialize list to hold individual API records\n",
    "    api_records = []\n",
    "\n",
    "    # Populate the list with public APIs, grouped by first letter\n",
    "    for lib in libraries:\n",
    "        lib_name = lib.__name__\n",
    "        public_apis = sorted(\n",
    "            [attr for attr in dir(lib) if not attr.startswith(\"_\")], key=str.lower\n",
    "        )\n",
    "        for api in public_apis:\n",
    "            first_letter = api[0].upper()\n",
    "            api_records.append({\"library\": lib_name, \"group\": first_letter, \"api\": api})\n",
    "\n",
    "    # Create a DataFrame from the API records\n",
    "    df_api = pd.DataFrame(api_records)\n",
    "\n",
    "    # Create the cross-tabulation\n",
    "    df2 = pd.crosstab(\n",
    "        index=df_api[\"group\"],\n",
    "        columns=df_api[\"library\"],\n",
    "        values=df_api[\"api\"],\n",
    "        aggfunc=list,\n",
    "    ).fillna(\"\")\n",
    "\n",
    "    # Concatenate the two DataFrames\n",
    "    result_df = pd.concat([df1, df2], keys=[\"group\", \"\"])\n",
    "\n",
    "    return result_df"
   ]
  },
  {
   "cell_type": "code",
   "execution_count": null,
   "id": "ec9d9e3e-5d40-424f-b018-ec2d4253ce1d",
   "metadata": {
    "editable": true,
    "slideshow": {
     "slide_type": "slide"
    },
    "tags": []
   },
   "outputs": [],
   "source": [
    "pd.set_option(\"display.max_rows\", 5000)\n",
    "df4 = count_apis_dataframe_v4([pd, pl])\n",
    "df4"
   ]
  },
  {
   "cell_type": "code",
   "execution_count": null,
   "id": "ed616389-c209-4408-a934-8b2bee684b02",
   "metadata": {
    "editable": true,
    "slideshow": {
     "slide_type": "slide"
    },
    "tags": []
   },
   "outputs": [],
   "source": [
    "def custom_explode(df, list_cols):\n",
    "    # Identify rows where all specified columns contain lists\n",
    "    all_list_rows = df[list_cols].apply(\n",
    "        lambda row: all(isinstance(x, list) for x in row), axis=1\n",
    "    )\n",
    "\n",
    "    # Explode rows containing lists\n",
    "    exploded_list_rows = (\n",
    "        df[all_list_rows]\n",
    "        .apply(lambda x: x.apply(lambda y: y if isinstance(y, list) else [y]))\n",
    "        .explode(list_cols)\n",
    "    )\n",
    "\n",
    "    # Keep rows not containing lists as they are\n",
    "    non_list_rows = df[~all_list_rows]\n",
    "\n",
    "    # Concatenate both DataFrames\n",
    "    result_df = (\n",
    "        pd.concat([exploded_list_rows, non_list_rows])\n",
    "        .sort_index()\n",
    "        .reset_index(drop=True)\n",
    "    )\n",
    "\n",
    "    return result_df"
   ]
  },
  {
   "cell_type": "code",
   "execution_count": 8,
   "id": "a14178b2-7e56-4b05-a9b3-431f9c63cea3",
   "metadata": {
    "editable": true,
    "execution": {
     "iopub.execute_input": "2023-10-03T00:11:15.768911Z",
     "iopub.status.busy": "2023-10-03T00:11:15.768334Z",
     "iopub.status.idle": "2023-10-03T00:11:15.943714Z",
     "shell.execute_reply": "2023-10-03T00:11:15.942713Z",
     "shell.execute_reply.started": "2023-10-03T00:11:15.768888Z"
    },
    "slideshow": {
     "slide_type": "slide"
    },
    "tags": []
   },
   "outputs": [
    {
     "ename": "NameError",
     "evalue": "name 'custom_explode' is not defined",
     "output_type": "error",
     "traceback": [
      "\u001b[0;31m---------------------------------------------------------------------------\u001b[0m",
      "\u001b[0;31mNameError\u001b[0m                                 Traceback (most recent call last)",
      "Cell \u001b[0;32mIn[8], line 4\u001b[0m\n\u001b[1;32m      1\u001b[0m pd\u001b[38;5;241m.\u001b[39mset_option(\u001b[38;5;124m\"\u001b[39m\u001b[38;5;124mdisplay.max_rows\u001b[39m\u001b[38;5;124m\"\u001b[39m, \u001b[38;5;241m5000\u001b[39m)\n\u001b[1;32m      3\u001b[0m \u001b[38;5;66;03m# Explode using custom function\u001b[39;00m\n\u001b[0;32m----> 4\u001b[0m df1 \u001b[38;5;241m=\u001b[39m \u001b[43mcustom_explode\u001b[49m(df4\u001b[38;5;241m.\u001b[39miloc[\u001b[38;5;241m2\u001b[39m:], [\u001b[38;5;124m\"\u001b[39m\u001b[38;5;124mpandas\u001b[39m\u001b[38;5;124m\"\u001b[39m])\n\u001b[1;32m      5\u001b[0m df2 \u001b[38;5;241m=\u001b[39m custom_explode(df4\u001b[38;5;241m.\u001b[39miloc[\u001b[38;5;241m2\u001b[39m:], [\u001b[38;5;124m\"\u001b[39m\u001b[38;5;124mpolars\u001b[39m\u001b[38;5;124m\"\u001b[39m])\n\u001b[1;32m      7\u001b[0m \u001b[38;5;66;03m# Merge on the index\u001b[39;00m\n",
      "\u001b[0;31mNameError\u001b[0m: name 'custom_explode' is not defined"
     ]
    }
   ],
   "source": [
    "pd.set_option(\"display.max_rows\", 5000)\n",
    "\n",
    "# Explode using custom function\n",
    "df1 = custom_explode(df4.iloc[2:], [\"pandas\"])\n",
    "df2 = custom_explode(df4.iloc[2:], [\"polars\"])\n",
    "\n",
    "# Merge on the index\n",
    "merged_df4 = (\n",
    "    pd.merge(df1, df2, left_index=True, right_index=True, how=\"inner\")\n",
    "    .drop(labels=[\"pandas_y\", \"polars_x\"], axis=1)\n",
    "    .rename(columns={\"pandas_x\": \"pandas\", \"polars_y\": \"polars\"})\n",
    ")\n",
    "merged_df4"
   ]
  },
  {
   "cell_type": "code",
   "execution_count": 9,
   "id": "6a55d560-6196-49fc-8646-927671bf9450",
   "metadata": {
    "editable": true,
    "execution": {
     "iopub.execute_input": "2023-10-03T00:11:22.425438Z",
     "iopub.status.busy": "2023-10-03T00:11:22.425114Z",
     "iopub.status.idle": "2023-10-03T00:11:22.435194Z",
     "shell.execute_reply": "2023-10-03T00:11:22.434352Z",
     "shell.execute_reply.started": "2023-10-03T00:11:22.425419Z"
    },
    "slideshow": {
     "slide_type": ""
    },
    "tags": []
   },
   "outputs": [],
   "source": [
    "from log_timer_results import log_to_csv\n",
    "\n",
    "data_csv = Path(\"data\", \"python_dev_universe.csv\")\n",
    "data_parquet = Path(\"data\", \"python_dev_universe.parquet\")\n",
    "\n",
    "@log_to_csv(filename=\"timer_log_results\", buffer_size=10, flush_on_return=True)\n",
    "def pandas_read_csv_default(datafile=data_csv):\n",
    "    df = pd.read_csv(datafile)\n",
    "    print(df.head(1))\n",
    "    return True\n",
    "\n",
    "@log_to_csv(filename=\"timer_log_results\", buffer_size=10, flush_on_return=True)\n",
    "def pandas_read_csv_engine_c(datafile=data_csv):\n",
    "    df = pd.read_csv(datafile, engine=\"c\")\n",
    "    print(df.head(1))\n",
    "    return True\n",
    "\n",
    "@log_to_csv(filename=\"timer_log_results\", buffer_size=10, flush_on_return=True)\n",
    "def pandas_read_csv_engine_python(datafile=data_csv):\n",
    "    df = pd.read_csv(datafile, engine=\"python\")\n",
    "    print(df.head(1))\n",
    "    return True\n",
    "\n",
    "@log_to_csv(filename=\"timer_log_results\", buffer_size=10, flush_on_return=True)\n",
    "def pandas_read_csv_default_dtype_numpy(datafile=data_csv, dtype_backend=\"numpy_nullable\"):\n",
    "    df = pd.read_csv(datafile)\n",
    "    print(df.head(1))\n",
    "    return True\n",
    "\n",
    "@log_to_csv(filename=\"timer_log_results\", buffer_size=10, flush_on_return=True)\n",
    "def pandas_read_csv_engine__c_dtype_numpy(datafile=data_csv):\n",
    "    df = pd.read_csv(datafile, engine=\"c\", dtype_backend=\"numpy_nullable\")\n",
    "    print(df.head(1))\n",
    "    return True\n",
    "\n",
    "@log_to_csv(filename=\"timer_log_results\", buffer_size=10, flush_on_return=True)\n",
    "def pandas_read_csv_engine_python__dtype_numpy(datafile=data_csv):\n",
    "    df = pd.read_csv(datafile, engine=\"python\", dtype_backend=\"numpy_nullable\")\n",
    "    print(df.head(1))\n",
    "    return True\n",
    "\n",
    "    \n",
    "@log_to_csv(filename=\"timer_log_results\", buffer_size=10, flush_on_return=True)\n",
    "def pandas_read_csv_engine_pyarrow(datafile=data_csv, engine=\"pyarrow\"):\n",
    "    df = pd.read_csv(datafile)\n",
    "    print(df.head(1))\n",
    "    return True\n",
    "\n",
    "@log_to_csv(filename=\"timer_log_results\", buffer_size=10, flush_on_return=True)\n",
    "def pandas_read_csv_engine_pyarrow_dtype_numpy(datafile=data_csv, engine=\"pyarrow\", dtype_backend=\"numpy_nullable\"):\n",
    "    df = pd.read_csv(datafile)\n",
    "    print(df.head(1))\n",
    "    return True\n",
    "    \n",
    "@log_to_csv(filename=\"timer_log_results\", buffer_size=10, flush_on_return=True)\n",
    "def pandas_read_csv_engine_pyarrow_dtype_pyarrow(datafile=data_csv, engine=\"pyarrow\", dtype_backend=\"pyarrow\"):\n",
    "    df = pd.read_csv(datafile)\n",
    "    print(df.head(1))\n",
    "    return True\n",
    "    \n",
    "@log_to_csv(filename=\"timer_log_results\", buffer_size=10, flush_on_return=True)\n",
    "def pandas_read_parquet(datafile=data_parquet):\n",
    "    df = pd.read_parquet(datafile)\n",
    "    print(df.head(1))\n",
    "    return True\n"
   ]
  },
  {
   "cell_type": "code",
   "execution_count": 10,
   "id": "00930e93-077c-42e4-930f-435e5fa26063",
   "metadata": {
    "editable": true,
    "execution": {
     "iopub.execute_input": "2023-10-03T00:11:28.505909Z",
     "iopub.status.busy": "2023-10-03T00:11:28.505430Z",
     "iopub.status.idle": "2023-10-03T00:26:07.273396Z",
     "shell.execute_reply": "2023-10-03T00:26:07.272416Z",
     "shell.execute_reply.started": "2023-10-03T00:11:28.505890Z"
    },
    "slideshow": {
     "slide_type": ""
    },
    "tags": []
   },
   "outputs": [
    {
     "name": "stdout",
     "output_type": "stream",
     "text": [
      "  customer_id  age  their_lucky_number     occupation psf_membership_status  \\\n",
      "0   A43321819   47                   0  Data Engineer          Contributing   \n",
      "\n",
      "     education date_started_python  \n",
      "0  High School          1924-07-20  \n",
      "  customer_id  age  their_lucky_number     occupation psf_membership_status  \\\n",
      "0   A43321819   47                   0  Data Engineer          Contributing   \n",
      "\n",
      "     education date_started_python  \n",
      "0  High School          1924-07-20  \n",
      "  customer_id  age  their_lucky_number     occupation psf_membership_status  \\\n",
      "0   A43321819   47                   0  Data Engineer          Contributing   \n",
      "\n",
      "     education date_started_python  \n",
      "0  High School          1924-07-20  \n",
      "  customer_id  age  their_lucky_number     occupation psf_membership_status  \\\n",
      "0   A43321819   47                   0  Data Engineer          Contributing   \n",
      "\n",
      "     education date_started_python  \n",
      "0  High School          1924-07-20  \n",
      "  customer_id  age  their_lucky_number     occupation psf_membership_status  \\\n",
      "0   A43321819   47                   0  Data Engineer          Contributing   \n",
      "\n",
      "     education date_started_python  \n",
      "0  High School          1924-07-20  \n",
      "  customer_id  age  their_lucky_number     occupation psf_membership_status  \\\n",
      "0   A43321819   47                   0  Data Engineer          Contributing   \n",
      "\n",
      "     education date_started_python  \n",
      "0  High School          1924-07-20  \n",
      "  customer_id  age  their_lucky_number     occupation psf_membership_status  \\\n",
      "0   A43321819   47                   0  Data Engineer          Contributing   \n",
      "\n",
      "     education date_started_python  \n",
      "0  High School          1924-07-20  \n",
      "  customer_id  age  their_lucky_number     occupation psf_membership_status  \\\n",
      "0   A43321819   47                   0  Data Engineer          Contributing   \n",
      "\n",
      "     education date_started_python  \n",
      "0  High School          1924-07-20  \n",
      "  customer_id  age  their_lucky_number     occupation psf_membership_status  \\\n",
      "0   A43321819   47                   0  Data Engineer          Contributing   \n",
      "\n",
      "     education date_started_python  \n",
      "0  High School          1924-07-20  \n",
      "  customer_id  age  their_lucky_number     occupation psf_membership_status  \\\n",
      "0   A43321819   47                   0  Data Engineer          Contributing   \n",
      "\n",
      "     education date_started_python  \n",
      "0  High School          1924-07-20  \n"
     ]
    },
    {
     "data": {
      "text/plain": [
       "True"
      ]
     },
     "execution_count": 10,
     "metadata": {},
     "output_type": "execute_result"
    }
   ],
   "source": [
    "pandas_read_csv_default()\n",
    "pandas_read_csv_engine_c()\n",
    "pandas_read_csv_engine_python()\n",
    "pandas_read_csv_default_dtype_numpy()\n",
    "pandas_read_csv_engine__c_dtype_numpy()\n",
    "pandas_read_csv_engine_python__dtype_numpy()\n",
    "pandas_read_csv_engine_pyarrow()\n",
    "pandas_read_csv_engine_pyarrow_dtype_numpy()\n",
    "pandas_read_csv_engine_pyarrow_dtype_pyarrow()\n",
    "pandas_read_parquet()"
   ]
  },
  {
   "cell_type": "code",
   "execution_count": 11,
   "id": "4ebf3201-dc19-4659-974f-342b537ae4c7",
   "metadata": {
    "editable": true,
    "execution": {
     "iopub.execute_input": "2023-10-03T00:29:53.590819Z",
     "iopub.status.busy": "2023-10-03T00:29:53.590363Z",
     "iopub.status.idle": "2023-10-03T00:29:53.596726Z",
     "shell.execute_reply": "2023-10-03T00:29:53.595845Z",
     "shell.execute_reply.started": "2023-10-03T00:29:53.590802Z"
    },
    "slideshow": {
     "slide_type": ""
    },
    "tags": []
   },
   "outputs": [],
   "source": [
    "@log_to_csv(filename=\"timer_log_results\", buffer_size=10, flush_on_return=True)\n",
    "def polars_read_csv(datafile=data_csv):\n",
    "    df = pl.read_csv(source=datafile)\n",
    "    print(df.head(1))\n",
    "    return True\n",
    "\n",
    "@log_to_csv(filename=\"timer_log_results\", buffer_size=10, flush_on_return=True)\n",
    "def polars_read_parquet(datafile=data_parquet):\n",
    "    df = pl.read_parquet(source=datafile)\n",
    "    print(df.head(1))\n",
    "    return True"
   ]
  },
  {
   "cell_type": "code",
   "execution_count": 13,
   "id": "891366bb-9d9e-4f70-a012-672a04af1554",
   "metadata": {
    "editable": true,
    "execution": {
     "iopub.execute_input": "2023-10-03T00:30:17.794547Z",
     "iopub.status.busy": "2023-10-03T00:30:17.794268Z",
     "iopub.status.idle": "2023-10-03T00:30:22.405059Z",
     "shell.execute_reply": "2023-10-03T00:30:22.403540Z",
     "shell.execute_reply.started": "2023-10-03T00:30:17.794527Z"
    },
    "slideshow": {
     "slide_type": ""
    },
    "tags": []
   },
   "outputs": [
    {
     "name": "stdout",
     "output_type": "stream",
     "text": [
      "shape: (1, 7)\n",
      "┌─────────────┬─────┬────────────────┬───────────────┬───────────────┬─────────────┬───────────────┐\n",
      "│ customer_id ┆ age ┆ their_lucky_nu ┆ occupation    ┆ psf_membershi ┆ education   ┆ date_started_ │\n",
      "│ ---         ┆ --- ┆ mber           ┆ ---           ┆ p_status      ┆ ---         ┆ python        │\n",
      "│ str         ┆ i64 ┆ ---            ┆ str           ┆ ---           ┆ str         ┆ ---           │\n",
      "│             ┆     ┆ i64            ┆               ┆ str           ┆             ┆ str           │\n",
      "╞═════════════╪═════╪════════════════╪═══════════════╪═══════════════╪═════════════╪═══════════════╡\n",
      "│ A43321819   ┆ 47  ┆ 0              ┆ Data Engineer ┆ Contributing  ┆ High School ┆ 1924-07-20    │\n",
      "└─────────────┴─────┴────────────────┴───────────────┴───────────────┴─────────────┴───────────────┘\n",
      "shape: (1, 7)\n",
      "┌─────────────┬─────┬────────────────┬───────────────┬───────────────┬─────────────┬───────────────┐\n",
      "│ customer_id ┆ age ┆ their_lucky_nu ┆ occupation    ┆ psf_membershi ┆ education   ┆ date_started_ │\n",
      "│ ---         ┆ --- ┆ mber           ┆ ---           ┆ p_status      ┆ ---         ┆ python        │\n",
      "│ str         ┆ i64 ┆ ---            ┆ str           ┆ ---           ┆ str         ┆ ---           │\n",
      "│             ┆     ┆ i64            ┆               ┆ str           ┆             ┆ datetime[ns]  │\n",
      "╞═════════════╪═════╪════════════════╪═══════════════╪═══════════════╪═════════════╪═══════════════╡\n",
      "│ A43321819   ┆ 47  ┆ 0              ┆ Data Engineer ┆ Contributing  ┆ High School ┆ 1924-07-20    │\n",
      "│             ┆     ┆                ┆               ┆               ┆             ┆ 00:00:00      │\n",
      "└─────────────┴─────┴────────────────┴───────────────┴───────────────┴─────────────┴───────────────┘\n"
     ]
    },
    {
     "data": {
      "text/plain": [
       "True"
      ]
     },
     "execution_count": 13,
     "metadata": {},
     "output_type": "execute_result"
    }
   ],
   "source": [
    "polars_read_csv()\n",
    "polars_read_parquet()"
   ]
  },
  {
   "cell_type": "code",
   "execution_count": null,
   "id": "d720c7bc-64d7-42e6-9859-722dd5ea6684",
   "metadata": {
    "editable": true,
    "slideshow": {
     "slide_type": ""
    },
    "tags": []
   },
   "outputs": [],
   "source": []
  }
 ],
 "metadata": {
  "kernelspec": {
   "display_name": "Python 3 (ipykernel)",
   "language": "python",
   "name": "python3"
  },
  "language_info": {
   "codemirror_mode": {
    "name": "ipython",
    "version": 3
   },
   "file_extension": ".py",
   "mimetype": "text/x-python",
   "name": "python",
   "nbconvert_exporter": "python",
   "pygments_lexer": "ipython3",
   "version": "3.11.4"
  }
 },
 "nbformat": 4,
 "nbformat_minor": 5
}
