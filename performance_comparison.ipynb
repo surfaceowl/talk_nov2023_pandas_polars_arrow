{
 "cells": [
  {
   "cell_type": "code",
   "execution_count": 1,
   "id": "4766d670-0f7b-442d-896c-5d20b61bb927",
   "metadata": {
    "editable": true,
    "execution": {
     "iopub.execute_input": "2023-10-02T18:08:31.376473Z",
     "iopub.status.busy": "2023-10-02T18:08:31.375775Z",
     "iopub.status.idle": "2023-10-02T18:08:31.738213Z",
     "shell.execute_reply": "2023-10-02T18:08:31.737478Z",
     "shell.execute_reply.started": "2023-10-02T18:08:31.376446Z"
    },
    "slideshow": {
     "slide_type": "skip"
    },
    "tags": []
   },
   "outputs": [],
   "source": [
    "# setup\n",
    "from IPython.display import display, HTML\n",
    "from pathlib import Path\n",
    "\n",
    "import numpy as np\n",
    "import pandas as pd\n",
    "import polars as pl\n",
    "\n",
    "data_path = Path(\"data\")"
   ]
  },
  {
   "cell_type": "code",
   "execution_count": 9,
   "id": "6a55d560-6196-49fc-8646-927671bf9450",
   "metadata": {
    "editable": true,
    "execution": {
     "iopub.execute_input": "2023-10-03T00:11:22.425438Z",
     "iopub.status.busy": "2023-10-03T00:11:22.425114Z",
     "iopub.status.idle": "2023-10-03T00:11:22.435194Z",
     "shell.execute_reply": "2023-10-03T00:11:22.434352Z",
     "shell.execute_reply.started": "2023-10-03T00:11:22.425419Z"
    },
    "slideshow": {
     "slide_type": ""
    },
    "tags": []
   },
   "outputs": [],
   "source": [
    "from log_timer_results import log_to_csv\n",
    "\n",
    "data_csv = Path(\"data\", \"python_dev_universe.csv\")\n",
    "data_parquet = Path(\"data\", \"python_dev_universe.parquet\")\n",
    "\n",
    "@log_to_csv(filename=\"timer_log_results.csv\", buffer_size=10, flush_on_return=True)\n",
    "def pandas_read_csv_default(datafile=data_csv):\n",
    "    df = pd.read_csv(datafile)\n",
    "    print(df.head(1))\n",
    "    return True\n",
    "\n",
    "@log_to_csv(filename=\"timer_log_results.csv\", buffer_size=10, flush_on_return=True)\n",
    "def pandas_read_csv_engine_c(datafile=data_csv):\n",
    "    df = pd.read_csv(datafile, engine=\"c\")\n",
    "    print(df.head(1))\n",
    "    return True\n",
    "\n",
    "@log_to_csv(filename=\"timer_log_results.csv\", buffer_size=10, flush_on_return=True)\n",
    "def pandas_read_csv_engine_python(datafile=data_csv):\n",
    "    df = pd.read_csv(datafile, engine=\"python\")\n",
    "    print(df.head(1))\n",
    "    return True\n",
    "\n",
    "@log_to_csv(filename=\"timer_log_results.csv\", buffer_size=10, flush_on_return=True)\n",
    "def pandas_read_csv_default_dtype_numpy(datafile=data_csv, dtype_backend=\"numpy_nullable\"):\n",
    "    df = pd.read_csv(datafile)\n",
    "    print(df.head(1))\n",
    "    return True\n",
    "\n",
    "@log_to_csv(filename=\"timer_log_results.csv\", buffer_size=10, flush_on_return=True)\n",
    "def pandas_read_csv_engine__c_dtype_numpy(datafile=data_csv):\n",
    "    df = pd.read_csv(datafile, engine=\"c\", dtype_backend=\"numpy_nullable\")\n",
    "    print(df.head(1))\n",
    "    return True\n",
    "\n",
    "@log_to_csv(filename=\"timer_log_results.csv\", buffer_size=10, flush_on_return=True)\n",
    "def pandas_read_csv_engine_python__dtype_numpy(datafile=data_csv):\n",
    "    df = pd.read_csv(datafile, engine=\"python\", dtype_backend=\"numpy_nullable\")\n",
    "    print(df.head(1))\n",
    "    return True\n",
    "\n",
    "    \n",
    "@log_to_csv(filename=\"timer_log_results.csv\", buffer_size=10, flush_on_return=True)\n",
    "def pandas_read_csv_engine_pyarrow(datafile=data_csv, engine=\"pyarrow\"):\n",
    "    df = pd.read_csv(datafile)\n",
    "    print(df.head(1))\n",
    "    return True\n",
    "\n",
    "@log_to_csv(filename=\"timer_log_results.csv\", buffer_size=10, flush_on_return=True)\n",
    "def pandas_read_csv_engine_pyarrow_dtype_numpy(datafile=data_csv, engine=\"pyarrow\", dtype_backend=\"numpy_nullable\"):\n",
    "    df = pd.read_csv(datafile)\n",
    "    print(df.head(1))\n",
    "    return True\n",
    "    \n",
    "@log_to_csv(filename=\"timer_log_results.csv\", buffer_size=10, flush_on_return=True)\n",
    "def pandas_read_csv_engine_pyarrow_dtype_pyarrow(datafile=data_csv, engine=\"pyarrow\", dtype_backend=\"pyarrow\"):\n",
    "    df = pd.read_csv(datafile)\n",
    "    print(df.head(1))\n",
    "    return True\n",
    "    \n",
    "@log_to_csv(filename=\"timer_log_results.csv\", buffer_size=10, flush_on_return=True)\n",
    "def pandas_read_parquet(datafile=data_parquet):\n",
    "    df = pd.read_parquet(datafile)\n",
    "    print(df.head(1))\n",
    "    return True\n"
   ]
  },
  {
   "cell_type": "code",
   "execution_count": 10,
   "id": "00930e93-077c-42e4-930f-435e5fa26063",
   "metadata": {
    "editable": true,
    "execution": {
     "iopub.execute_input": "2023-10-03T00:11:28.505909Z",
     "iopub.status.busy": "2023-10-03T00:11:28.505430Z",
     "iopub.status.idle": "2023-10-03T00:26:07.273396Z",
     "shell.execute_reply": "2023-10-03T00:26:07.272416Z",
     "shell.execute_reply.started": "2023-10-03T00:11:28.505890Z"
    },
    "slideshow": {
     "slide_type": ""
    },
    "tags": []
   },
   "outputs": [
    {
     "name": "stdout",
     "output_type": "stream",
     "text": [
      "  customer_id  age  their_lucky_number     occupation psf_membership_status  \\\n",
      "0   A43321819   47                   0  Data Engineer          Contributing   \n",
      "\n",
      "     education date_started_python  \n",
      "0  High School          1924-07-20  \n",
      "  customer_id  age  their_lucky_number     occupation psf_membership_status  \\\n",
      "0   A43321819   47                   0  Data Engineer          Contributing   \n",
      "\n",
      "     education date_started_python  \n",
      "0  High School          1924-07-20  \n",
      "  customer_id  age  their_lucky_number     occupation psf_membership_status  \\\n",
      "0   A43321819   47                   0  Data Engineer          Contributing   \n",
      "\n",
      "     education date_started_python  \n",
      "0  High School          1924-07-20  \n",
      "  customer_id  age  their_lucky_number     occupation psf_membership_status  \\\n",
      "0   A43321819   47                   0  Data Engineer          Contributing   \n",
      "\n",
      "     education date_started_python  \n",
      "0  High School          1924-07-20  \n",
      "  customer_id  age  their_lucky_number     occupation psf_membership_status  \\\n",
      "0   A43321819   47                   0  Data Engineer          Contributing   \n",
      "\n",
      "     education date_started_python  \n",
      "0  High School          1924-07-20  \n",
      "  customer_id  age  their_lucky_number     occupation psf_membership_status  \\\n",
      "0   A43321819   47                   0  Data Engineer          Contributing   \n",
      "\n",
      "     education date_started_python  \n",
      "0  High School          1924-07-20  \n",
      "  customer_id  age  their_lucky_number     occupation psf_membership_status  \\\n",
      "0   A43321819   47                   0  Data Engineer          Contributing   \n",
      "\n",
      "     education date_started_python  \n",
      "0  High School          1924-07-20  \n",
      "  customer_id  age  their_lucky_number     occupation psf_membership_status  \\\n",
      "0   A43321819   47                   0  Data Engineer          Contributing   \n",
      "\n",
      "     education date_started_python  \n",
      "0  High School          1924-07-20  \n",
      "  customer_id  age  their_lucky_number     occupation psf_membership_status  \\\n",
      "0   A43321819   47                   0  Data Engineer          Contributing   \n",
      "\n",
      "     education date_started_python  \n",
      "0  High School          1924-07-20  \n",
      "  customer_id  age  their_lucky_number     occupation psf_membership_status  \\\n",
      "0   A43321819   47                   0  Data Engineer          Contributing   \n",
      "\n",
      "     education date_started_python  \n",
      "0  High School          1924-07-20  \n"
     ]
    },
    {
     "data": {
      "text/plain": [
       "True"
      ]
     },
     "execution_count": 10,
     "metadata": {},
     "output_type": "execute_result"
    }
   ],
   "source": [
    "pandas_read_csv_default()\n",
    "pandas_read_csv_engine_c()\n",
    "pandas_read_csv_engine_python()\n",
    "pandas_read_csv_default_dtype_numpy()\n",
    "pandas_read_csv_engine__c_dtype_numpy()\n",
    "pandas_read_csv_engine_python__dtype_numpy()\n",
    "pandas_read_csv_engine_pyarrow()\n",
    "pandas_read_csv_engine_pyarrow_dtype_numpy()\n",
    "pandas_read_csv_engine_pyarrow_dtype_pyarrow()\n",
    "pandas_read_parquet()"
   ]
  },
  {
   "cell_type": "code",
   "execution_count": 11,
   "id": "4ebf3201-dc19-4659-974f-342b537ae4c7",
   "metadata": {
    "editable": true,
    "execution": {
     "iopub.execute_input": "2023-10-03T00:29:53.590819Z",
     "iopub.status.busy": "2023-10-03T00:29:53.590363Z",
     "iopub.status.idle": "2023-10-03T00:29:53.596726Z",
     "shell.execute_reply": "2023-10-03T00:29:53.595845Z",
     "shell.execute_reply.started": "2023-10-03T00:29:53.590802Z"
    },
    "slideshow": {
     "slide_type": ""
    },
    "tags": []
   },
   "outputs": [],
   "source": [
    "@log_to_csv(filename=\"timer_log_results.csv\", buffer_size=10, flush_on_return=True)\n",
    "def polars_read_csv(datafile=data_csv):\n",
    "    df = pl.read_csv(source=datafile)\n",
    "    print(df.head(1))\n",
    "    return True\n",
    "\n",
    "@log_to_csv(filename=\"timer_log_results.csv\", buffer_size=10, flush_on_return=True)\n",
    "def polars_read_parquet(datafile=data_parquet):\n",
    "    df = pl.read_parquet(source=datafile)\n",
    "    print(df.head(1))\n",
    "    return True"
   ]
  },
  {
   "cell_type": "code",
   "execution_count": 13,
   "id": "891366bb-9d9e-4f70-a012-672a04af1554",
   "metadata": {
    "editable": true,
    "execution": {
     "iopub.execute_input": "2023-10-03T00:30:17.794547Z",
     "iopub.status.busy": "2023-10-03T00:30:17.794268Z",
     "iopub.status.idle": "2023-10-03T00:30:22.405059Z",
     "shell.execute_reply": "2023-10-03T00:30:22.403540Z",
     "shell.execute_reply.started": "2023-10-03T00:30:17.794527Z"
    },
    "slideshow": {
     "slide_type": ""
    },
    "tags": []
   },
   "outputs": [
    {
     "name": "stdout",
     "output_type": "stream",
     "text": [
      "shape: (1, 7)\n",
      "┌─────────────┬─────┬────────────────┬───────────────┬───────────────┬─────────────┬───────────────┐\n",
      "│ customer_id ┆ age ┆ their_lucky_nu ┆ occupation    ┆ psf_membershi ┆ education   ┆ date_started_ │\n",
      "│ ---         ┆ --- ┆ mber           ┆ ---           ┆ p_status      ┆ ---         ┆ python        │\n",
      "│ str         ┆ i64 ┆ ---            ┆ str           ┆ ---           ┆ str         ┆ ---           │\n",
      "│             ┆     ┆ i64            ┆               ┆ str           ┆             ┆ str           │\n",
      "╞═════════════╪═════╪════════════════╪═══════════════╪═══════════════╪═════════════╪═══════════════╡\n",
      "│ A43321819   ┆ 47  ┆ 0              ┆ Data Engineer ┆ Contributing  ┆ High School ┆ 1924-07-20    │\n",
      "└─────────────┴─────┴────────────────┴───────────────┴───────────────┴─────────────┴───────────────┘\n",
      "shape: (1, 7)\n",
      "┌─────────────┬─────┬────────────────┬───────────────┬───────────────┬─────────────┬───────────────┐\n",
      "│ customer_id ┆ age ┆ their_lucky_nu ┆ occupation    ┆ psf_membershi ┆ education   ┆ date_started_ │\n",
      "│ ---         ┆ --- ┆ mber           ┆ ---           ┆ p_status      ┆ ---         ┆ python        │\n",
      "│ str         ┆ i64 ┆ ---            ┆ str           ┆ ---           ┆ str         ┆ ---           │\n",
      "│             ┆     ┆ i64            ┆               ┆ str           ┆             ┆ datetime[ns]  │\n",
      "╞═════════════╪═════╪════════════════╪═══════════════╪═══════════════╪═════════════╪═══════════════╡\n",
      "│ A43321819   ┆ 47  ┆ 0              ┆ Data Engineer ┆ Contributing  ┆ High School ┆ 1924-07-20    │\n",
      "│             ┆     ┆                ┆               ┆               ┆             ┆ 00:00:00      │\n",
      "└─────────────┴─────┴────────────────┴───────────────┴───────────────┴─────────────┴───────────────┘\n"
     ]
    },
    {
     "data": {
      "text/plain": [
       "True"
      ]
     },
     "execution_count": 13,
     "metadata": {},
     "output_type": "execute_result"
    }
   ],
   "source": [
    "polars_read_csv()\n",
    "polars_read_parquet()"
   ]
  },
  {
   "cell_type": "code",
   "execution_count": null,
   "id": "d720c7bc-64d7-42e6-9859-722dd5ea6684",
   "metadata": {
    "editable": true,
    "slideshow": {
     "slide_type": ""
    },
    "tags": []
   },
   "outputs": [],
   "source": []
  }
 ],
 "metadata": {
  "kernelspec": {
   "display_name": "Python 3 (ipykernel)",
   "language": "python",
   "name": "python3"
  },
  "language_info": {
   "codemirror_mode": {
    "name": "ipython",
    "version": 3
   },
   "file_extension": ".py",
   "mimetype": "text/x-python",
   "name": "python",
   "nbconvert_exporter": "python",
   "pygments_lexer": "ipython3",
   "version": "3.11.4"
  }
 },
 "nbformat": 4,
 "nbformat_minor": 5
}
