{
 "cells": [
  {
   "cell_type": "markdown",
   "id": "2c2bcfc2-378b-4b64-804c-8ea7f85524ea",
   "metadata": {
    "editable": true,
    "slideshow": {
     "slide_type": "fragment"
    },
    "tags": []
   },
   "source": [
    "# Setup"
   ]
  },
  {
   "cell_type": "code",
   "execution_count": 1,
   "id": "4766d670-0f7b-442d-896c-5d20b61bb927",
   "metadata": {
    "editable": true,
    "execution": {
     "iopub.execute_input": "2023-10-06T16:27:14.008727Z",
     "iopub.status.busy": "2023-10-06T16:27:14.008467Z",
     "iopub.status.idle": "2023-10-06T16:27:14.837058Z",
     "shell.execute_reply": "2023-10-06T16:27:14.836293Z",
     "shell.execute_reply.started": "2023-10-06T16:27:14.008709Z"
    },
    "slideshow": {
     "slide_type": "skip"
    },
    "tags": []
   },
   "outputs": [],
   "source": [
    "# imports\n",
    "from IPython.display import display, HTML\n",
    "from pathlib import Path\n",
    "\n",
    "import gzip\n",
    "\n",
    "# graphing\n",
    "import matplotlib.pyplot as plt\n",
    "import numpy as np\n",
    "import pandas as pd\n",
    "import polars as pl\n",
    "import shutil\n",
    "\n",
    "%matplotlib inline"
   ]
  },
  {
   "cell_type": "code",
   "execution_count": 2,
   "id": "ef2876cc-fbde-4ef5-b11b-65b271449de7",
   "metadata": {
    "editable": true,
    "execution": {
     "iopub.execute_input": "2023-10-06T16:27:14.838249Z",
     "iopub.status.busy": "2023-10-06T16:27:14.837820Z",
     "iopub.status.idle": "2023-10-06T16:27:15.602235Z",
     "shell.execute_reply": "2023-10-06T16:27:15.601148Z",
     "shell.execute_reply.started": "2023-10-06T16:27:14.838229Z"
    },
    "slideshow": {
     "slide_type": ""
    },
    "tags": []
   },
   "outputs": [
    {
     "name": "stdout",
     "output_type": "stream",
     "text": [
      "Test data exists in multiple formats.\n"
     ]
    }
   ],
   "source": [
    "# generate synthetic data for performance testsing\n",
    "!python -m synthetic_data"
   ]
  },
  {
   "cell_type": "code",
   "execution_count": 3,
   "id": "cfa02cab-1fbb-43b9-b319-cfc7af03fc50",
   "metadata": {
    "editable": true,
    "execution": {
     "iopub.execute_input": "2023-10-06T16:27:15.604984Z",
     "iopub.status.busy": "2023-10-06T16:27:15.604574Z",
     "iopub.status.idle": "2023-10-06T16:27:15.611551Z",
     "shell.execute_reply": "2023-10-06T16:27:15.610193Z",
     "shell.execute_reply.started": "2023-10-06T16:27:15.604956Z"
    },
    "slideshow": {
     "slide_type": ""
    },
    "tags": []
   },
   "outputs": [],
   "source": [
    "# data paths\n",
    "data_path = Path(\"data\")\n",
    "\n",
    "# list paths for data here for convenience\n",
    "data_csv = Path(\"data\", \"python_dev_universe.csv\")\n",
    "data_csv_gz = Path(data_path, \"python_dev_universe.csv.gz\")\n",
    "data_parquet = Path(\"data\", \"python_dev_universe.parquet\")"
   ]
  },
  {
   "cell_type": "markdown",
   "id": "ae501f65-a3f4-497c-a6da-568c7cc8869d",
   "metadata": {
    "editable": true,
    "slideshow": {
     "slide_type": ""
    },
    "tags": []
   },
   "source": [
    "# test pandas/polars read CSV and compressed CSV"
   ]
  },
  {
   "cell_type": "code",
   "execution_count": 4,
   "id": "871284f7-3913-4109-b260-c9fe685b08a4",
   "metadata": {
    "editable": true,
    "execution": {
     "iopub.execute_input": "2023-10-06T16:27:15.613297Z",
     "iopub.status.busy": "2023-10-06T16:27:15.612892Z",
     "iopub.status.idle": "2023-10-06T16:28:15.268495Z",
     "shell.execute_reply": "2023-10-06T16:28:15.267745Z",
     "shell.execute_reply.started": "2023-10-06T16:27:15.613257Z"
    },
    "slideshow": {
     "slide_type": ""
    },
    "tags": []
   },
   "outputs": [],
   "source": [
    "data_csv_gz = Path(\"data\", \"python_dev_universe.csv.gz\")\n",
    "df_pandas = pd.read_csv(data_csv_gz, compression=\"gzip\")"
   ]
  },
  {
   "cell_type": "code",
   "execution_count": 5,
   "id": "5b2a42d1-be6e-4f4e-94cf-6b3e9107e78b",
   "metadata": {
    "editable": true,
    "execution": {
     "iopub.execute_input": "2023-10-06T16:28:15.269760Z",
     "iopub.status.busy": "2023-10-06T16:28:15.269451Z",
     "iopub.status.idle": "2023-10-06T16:28:15.282024Z",
     "shell.execute_reply": "2023-10-06T16:28:15.281268Z",
     "shell.execute_reply.started": "2023-10-06T16:28:15.269740Z"
    },
    "slideshow": {
     "slide_type": ""
    },
    "tags": []
   },
   "outputs": [
    {
     "data": {
      "text/html": [
       "<div>\n",
       "<style scoped>\n",
       "    .dataframe tbody tr th:only-of-type {\n",
       "        vertical-align: middle;\n",
       "    }\n",
       "\n",
       "    .dataframe tbody tr th {\n",
       "        vertical-align: top;\n",
       "    }\n",
       "\n",
       "    .dataframe thead th {\n",
       "        text-align: right;\n",
       "    }\n",
       "</style>\n",
       "<table border=\"1\" class=\"dataframe\">\n",
       "  <thead>\n",
       "    <tr style=\"text-align: right;\">\n",
       "      <th></th>\n",
       "      <th>customer_id</th>\n",
       "      <th>age</th>\n",
       "      <th>their_lucky_number</th>\n",
       "      <th>occupation</th>\n",
       "      <th>psf_membership_status</th>\n",
       "      <th>education</th>\n",
       "      <th>date_started_python</th>\n",
       "    </tr>\n",
       "  </thead>\n",
       "  <tbody>\n",
       "    <tr>\n",
       "      <th>0</th>\n",
       "      <td>A43321819</td>\n",
       "      <td>47</td>\n",
       "      <td>0</td>\n",
       "      <td>Data Engineer</td>\n",
       "      <td>Contributing</td>\n",
       "      <td>High School</td>\n",
       "      <td>1924-07-20</td>\n",
       "    </tr>\n",
       "    <tr>\n",
       "      <th>1</th>\n",
       "      <td>001338908</td>\n",
       "      <td>37</td>\n",
       "      <td>0</td>\n",
       "      <td>Rustacean</td>\n",
       "      <td>Managing</td>\n",
       "      <td>High School</td>\n",
       "      <td>2004-03-09</td>\n",
       "    </tr>\n",
       "  </tbody>\n",
       "</table>\n",
       "</div>"
      ],
      "text/plain": [
       "  customer_id  age  their_lucky_number     occupation psf_membership_status  \\\n",
       "0   A43321819   47                   0  Data Engineer          Contributing   \n",
       "1   001338908   37                   0      Rustacean              Managing   \n",
       "\n",
       "     education date_started_python  \n",
       "0  High School          1924-07-20  \n",
       "1  High School          2004-03-09  "
      ]
     },
     "execution_count": 5,
     "metadata": {},
     "output_type": "execute_result"
    }
   ],
   "source": [
    "df_pandas.head(2)"
   ]
  },
  {
   "cell_type": "code",
   "execution_count": 6,
   "id": "b610dbab-995c-46a6-87ee-2dd5a7a5ef2b",
   "metadata": {
    "editable": true,
    "execution": {
     "iopub.execute_input": "2023-10-06T16:28:15.283132Z",
     "iopub.status.busy": "2023-10-06T16:28:15.282893Z",
     "iopub.status.idle": "2023-10-06T16:28:23.044824Z",
     "shell.execute_reply": "2023-10-06T16:28:23.044007Z",
     "shell.execute_reply.started": "2023-10-06T16:28:15.283115Z"
    },
    "slideshow": {
     "slide_type": ""
    },
    "tags": []
   },
   "outputs": [],
   "source": [
    "df_polars = pl.read_csv(source=data_csv_gz)"
   ]
  },
  {
   "cell_type": "code",
   "execution_count": 7,
   "id": "d4bc7d4a-3662-4350-a5b4-050bbee8f223",
   "metadata": {
    "editable": true,
    "execution": {
     "iopub.execute_input": "2023-10-06T16:28:23.046270Z",
     "iopub.status.busy": "2023-10-06T16:28:23.045873Z",
     "iopub.status.idle": "2023-10-06T16:28:23.063397Z",
     "shell.execute_reply": "2023-10-06T16:28:23.062429Z",
     "shell.execute_reply.started": "2023-10-06T16:28:23.046250Z"
    },
    "slideshow": {
     "slide_type": ""
    },
    "tags": []
   },
   "outputs": [
    {
     "data": {
      "text/html": [
       "<div><style>\n",
       ".dataframe > thead > tr > th,\n",
       ".dataframe > tbody > tr > td {\n",
       "  text-align: right;\n",
       "  white-space: pre-wrap;\n",
       "}\n",
       "</style>\n",
       "<small>shape: (2, 7)</small><table border=\"1\" class=\"dataframe\"><thead><tr><th>customer_id</th><th>age</th><th>their_lucky_number</th><th>occupation</th><th>psf_membership_status</th><th>education</th><th>date_started_python</th></tr><tr><td>str</td><td>i64</td><td>i64</td><td>str</td><td>str</td><td>str</td><td>str</td></tr></thead><tbody><tr><td>&quot;A43321819&quot;</td><td>47</td><td>0</td><td>&quot;Data Engineer&quot;</td><td>&quot;Contributing&quot;</td><td>&quot;High School&quot;</td><td>&quot;1924-07-20&quot;</td></tr><tr><td>&quot;001338908&quot;</td><td>37</td><td>0</td><td>&quot;Rustacean&quot;</td><td>&quot;Managing&quot;</td><td>&quot;High School&quot;</td><td>&quot;2004-03-09&quot;</td></tr></tbody></table></div>"
      ],
      "text/plain": [
       "shape: (2, 7)\n",
       "┌─────────────┬─────┬────────────────┬───────────────┬───────────────┬─────────────┬───────────────┐\n",
       "│ customer_id ┆ age ┆ their_lucky_nu ┆ occupation    ┆ psf_membershi ┆ education   ┆ date_started_ │\n",
       "│ ---         ┆ --- ┆ mber           ┆ ---           ┆ p_status      ┆ ---         ┆ python        │\n",
       "│ str         ┆ i64 ┆ ---            ┆ str           ┆ ---           ┆ str         ┆ ---           │\n",
       "│             ┆     ┆ i64            ┆               ┆ str           ┆             ┆ str           │\n",
       "╞═════════════╪═════╪════════════════╪═══════════════╪═══════════════╪═════════════╪═══════════════╡\n",
       "│ A43321819   ┆ 47  ┆ 0              ┆ Data Engineer ┆ Contributing  ┆ High School ┆ 1924-07-20    │\n",
       "│ 001338908   ┆ 37  ┆ 0              ┆ Rustacean     ┆ Managing      ┆ High School ┆ 2004-03-09    │\n",
       "└─────────────┴─────┴────────────────┴───────────────┴───────────────┴─────────────┴───────────────┘"
      ]
     },
     "execution_count": 7,
     "metadata": {},
     "output_type": "execute_result"
    }
   ],
   "source": [
    "df_polars.head(2)"
   ]
  },
  {
   "cell_type": "markdown",
   "id": "2067b452-f67f-4aae-a53e-af19d7a3850e",
   "metadata": {
    "editable": true,
    "slideshow": {
     "slide_type": ""
    },
    "tags": []
   },
   "source": [
    "# Write functions to test elapsed time for multiple configurations - done manually to illustrate different combinations of parameters"
   ]
  },
  {
   "cell_type": "markdown",
   "id": "6906cbfc-4210-42f0-9fbf-ad8d3f52e25b",
   "metadata": {
    "editable": true,
    "slideshow": {
     "slide_type": ""
    },
    "tags": []
   },
   "source": [
    "## Pandas functions - more kwarg options"
   ]
  },
  {
   "cell_type": "code",
   "execution_count": 8,
   "id": "6a55d560-6196-49fc-8646-927671bf9450",
   "metadata": {
    "editable": true,
    "execution": {
     "iopub.execute_input": "2023-10-06T16:28:23.065268Z",
     "iopub.status.busy": "2023-10-06T16:28:23.064611Z",
     "iopub.status.idle": "2023-10-06T16:28:23.083242Z",
     "shell.execute_reply": "2023-10-06T16:28:23.081735Z",
     "shell.execute_reply.started": "2023-10-06T16:28:23.065242Z"
    },
    "slideshow": {
     "slide_type": ""
    },
    "tags": []
   },
   "outputs": [],
   "source": [
    "from log_timer_results import log_to_csv\n",
    "\n",
    "\n",
    "@log_to_csv(log_filename=\"time_csv_results.csv\", buffer_size=10, flush_on_return=True)\n",
    "def pandas_read_csv_default(datafile=data_csv):\n",
    "    df = pd.read_csv(datafile)\n",
    "    print(df.head(1))\n",
    "    return True\n",
    "\n",
    "\n",
    "@log_to_csv(log_filename=\"time_csv_results.csv\", buffer_size=10, flush_on_return=True)\n",
    "def pandas_read_csv_gz(datafile=data_csv):\n",
    "    df = pd.read_csv(data_csv_gz, compression=\"gzip\")  # NOTE: gzipped file here\n",
    "    print(df.head(1))\n",
    "    return True\n",
    "\n",
    "\n",
    "@log_to_csv(log_filename=\"time_csv_results.csv\", buffer_size=10, flush_on_return=True)\n",
    "def pandas_read_csv_engine_c(datafile=data_csv):\n",
    "    df = pd.read_csv(datafile, engine=\"c\")\n",
    "    print(df.head(1))\n",
    "    return True\n",
    "\n",
    "\n",
    "@log_to_csv(log_filename=\"time_csv_results.csv\", buffer_size=10, flush_on_return=True)\n",
    "def pandas_read_csv_engine_python(datafile=data_csv):\n",
    "    df = pd.read_csv(datafile, engine=\"python\")\n",
    "    print(df.head(1))\n",
    "    return True\n",
    "\n",
    "\n",
    "@log_to_csv(log_filename=\"time_csv_results.csv\", buffer_size=10, flush_on_return=True)\n",
    "def pandas_read_csv_default_dtype_numpy(datafile=data_csv):\n",
    "    df = pd.read_csv(datafile, dtype_backend=\"numpy_nullable\")\n",
    "    print(df.head(1))\n",
    "    return True\n",
    "\n",
    "\n",
    "@log_to_csv(log_filename=\"time_csv_results.csv\", buffer_size=10, flush_on_return=True)\n",
    "def pandas_read_csv_engine__c_dtype_numpy(datafile=data_csv):\n",
    "    df = pd.read_csv(datafile, engine=\"c\", dtype_backend=\"numpy_nullable\")\n",
    "    print(df.head(1))\n",
    "    return True\n",
    "\n",
    "\n",
    "@log_to_csv(log_filename=\"time_csv_results.csv\", buffer_size=10, flush_on_return=True)\n",
    "def pandas_read_csv_engine_python__dtype_numpy(datafile=data_csv):\n",
    "    df = pd.read_csv(datafile, engine=\"python\", dtype_backend=\"numpy_nullable\")\n",
    "    print(df.head(1))\n",
    "    return True\n",
    "\n",
    "\n",
    "@log_to_csv(log_filename=\"time_csv_results.csv\", buffer_size=10, flush_on_return=True)\n",
    "def pandas_read_csv_engine_pyarrow(datafile=data_csv):\n",
    "    df = pd.read_csv(datafile, engine=\"pyarrow\")\n",
    "    print(df.head(1))\n",
    "    return True\n",
    "\n",
    "\n",
    "@log_to_csv(log_filename=\"time_csv_results.csv\", buffer_size=10, flush_on_return=True)\n",
    "def pandas_read_csv_engine_pyarrow_dtype_numpy(datafile=data_csv):\n",
    "    df = pd.read_csv(datafile, engine=\"pyarrow\", dtype_backend=\"numpy_nullable\")\n",
    "    print(df.head(1))\n",
    "    return True\n",
    "\n",
    "\n",
    "@log_to_csv(log_filename=\"time_csv_results.csv\", buffer_size=10, flush_on_return=True)\n",
    "def pandas_read_csv_engine_pyarrow_dtype_pyarrow(datafile=data_csv):\n",
    "    df = pd.read_csv(datafile, engine=\"pyarrow\", dtype_backend=\"pyarrow\")\n",
    "    print(df.head(1))\n",
    "    return True\n",
    "\n",
    "\n",
    "@log_to_csv(log_filename=\"time_parquet_results.csv\", buffer_size=10, flush_on_return=True)\n",
    "def pandas_read_parquet(datafile=data_parquet):\n",
    "    df = pd.read_parquet(datafile)\n",
    "    print(df.head(1))\n",
    "    return True"
   ]
  },
  {
   "cell_type": "markdown",
   "id": "f56fc96e-9b05-4aea-8cda-3866f98a5237",
   "metadata": {
    "editable": true,
    "slideshow": {
     "slide_type": ""
    },
    "tags": []
   },
   "source": [
    "## Polars options"
   ]
  },
  {
   "cell_type": "code",
   "execution_count": 11,
   "id": "4ebf3201-dc19-4659-974f-342b537ae4c7",
   "metadata": {
    "editable": true,
    "execution": {
     "iopub.execute_input": "2023-10-06T17:02:29.351039Z",
     "iopub.status.busy": "2023-10-06T17:02:29.350203Z",
     "iopub.status.idle": "2023-10-06T17:02:29.360022Z",
     "shell.execute_reply": "2023-10-06T17:02:29.358719Z",
     "shell.execute_reply.started": "2023-10-06T17:02:29.351004Z"
    },
    "slideshow": {
     "slide_type": ""
    },
    "tags": []
   },
   "outputs": [],
   "source": [
    "@log_to_csv(log_filename=\"time_csv_results.csv\", buffer_size=10, flush_on_return=True)\n",
    "def polars_read_csv(datafile=data_csv):\n",
    "    df = pl.read_csv(source=datafile)\n",
    "    print(df.head(1))\n",
    "    return True\n",
    "\n",
    "@log_to_csv(log_filename=\"time_csv_results.csv\", buffer_size=10, flush_on_return=True)\n",
    "def polars_read_csv_singlethread(datafile=data_csv):\n",
    "    df = pl.read_csv(source=datafile, n_threads=1)\n",
    "    print(df.head(1))\n",
    "    return True\n",
    "    \n",
    "@log_to_csv(log_filename=\"time_csv_results.csv\", buffer_size=10, flush_on_return=True)\n",
    "def polars_read_csv_gz(datafile=data_csv_gz):\n",
    "    df = pl.read_csv(data_csv_gz)  # NOTE: gzipped file here\n",
    "    print(df.head(1))\n",
    "    return True\n",
    "\n",
    "@log_to_csv(log_filename=\"time_parquet_results.csv\", buffer_size=10, flush_on_return=True)\n",
    "def polars_read_parquet(datafile=data_parquet):\n",
    "    df = pl.read_parquet(source=datafile)\n",
    "    print(df.head(1))\n",
    "    return True"
   ]
  },
  {
   "cell_type": "markdown",
   "id": "855917eb-3485-45e2-b8a1-4e8b7a93fc19",
   "metadata": {
    "editable": true,
    "slideshow": {
     "slide_type": ""
    },
    "tags": []
   },
   "source": [
    "# Quick result - run each read function once"
   ]
  },
  {
   "cell_type": "code",
   "execution_count": 10,
   "id": "00930e93-077c-42e4-930f-435e5fa26063",
   "metadata": {
    "editable": true,
    "execution": {
     "iopub.execute_input": "2023-10-06T16:28:23.099790Z",
     "iopub.status.busy": "2023-10-06T16:28:23.098452Z",
     "iopub.status.idle": "2023-10-06T16:42:50.738529Z",
     "shell.execute_reply": "2023-10-06T16:42:50.737343Z",
     "shell.execute_reply.started": "2023-10-06T16:28:23.099708Z"
    },
    "slideshow": {
     "slide_type": ""
    },
    "tags": []
   },
   "outputs": [
    {
     "name": "stdout",
     "output_type": "stream",
     "text": [
      "  customer_id  age  their_lucky_number     occupation psf_membership_status  \\\n",
      "0   A43321819   47                   0  Data Engineer          Contributing   \n",
      "\n",
      "     education date_started_python  \n",
      "0  High School          1924-07-20  \n",
      "saving results: pandas_read_csv_default\n",
      "  customer_id  age  their_lucky_number     occupation psf_membership_status  \\\n",
      "0   A43321819   47                   0  Data Engineer          Contributing   \n",
      "\n",
      "     education date_started_python  \n",
      "0  High School          1924-07-20  \n",
      "saving results: pandas_read_csv_engine_c\n",
      "  customer_id  age  their_lucky_number     occupation psf_membership_status  \\\n",
      "0   A43321819   47                   0  Data Engineer          Contributing   \n",
      "\n",
      "     education date_started_python  \n",
      "0  High School          1924-07-20  \n",
      "saving results: pandas_read_csv_engine_python\n",
      "  customer_id  age  their_lucky_number     occupation psf_membership_status  \\\n",
      "0   A43321819   47                   0  Data Engineer          Contributing   \n",
      "\n",
      "     education date_started_python  \n",
      "0  High School          1924-07-20  \n",
      "saving results: pandas_read_csv_default_dtype_numpy\n",
      "  customer_id  age  their_lucky_number     occupation psf_membership_status  \\\n",
      "0   A43321819   47                   0  Data Engineer          Contributing   \n",
      "\n",
      "     education date_started_python  \n",
      "0  High School          1924-07-20  \n",
      "saving results: pandas_read_csv_engine__c_dtype_numpy\n",
      "  customer_id  age  their_lucky_number     occupation psf_membership_status  \\\n",
      "0   A43321819   47                   0  Data Engineer          Contributing   \n",
      "\n",
      "     education date_started_python  \n",
      "0  High School          1924-07-20  \n",
      "saving results: pandas_read_csv_engine_python__dtype_numpy\n",
      "  customer_id  age  their_lucky_number     occupation psf_membership_status  \\\n",
      "0   A43321819   47                   0  Data Engineer          Contributing   \n",
      "\n",
      "     education date_started_python  \n",
      "0  High School          1924-07-20  \n",
      "saving results: pandas_read_csv_engine_pyarrow\n",
      "  customer_id  age  their_lucky_number     occupation psf_membership_status  \\\n",
      "0   A43321819   47                   0  Data Engineer          Contributing   \n",
      "\n",
      "     education date_started_python  \n",
      "0  High School          1924-07-20  \n",
      "saving results: pandas_read_csv_engine_pyarrow_dtype_numpy\n",
      "  customer_id  age  their_lucky_number     occupation psf_membership_status  \\\n",
      "0   A43321819   47                   0  Data Engineer          Contributing   \n",
      "\n",
      "     education date_started_python  \n",
      "0  High School          1924-07-20  \n",
      "saving results: pandas_read_csv_engine_pyarrow_dtype_pyarrow\n",
      "shape: (1, 7)\n",
      "┌─────────────┬─────┬────────────────┬───────────────┬───────────────┬─────────────┬───────────────┐\n",
      "│ customer_id ┆ age ┆ their_lucky_nu ┆ occupation    ┆ psf_membershi ┆ education   ┆ date_started_ │\n",
      "│ ---         ┆ --- ┆ mber           ┆ ---           ┆ p_status      ┆ ---         ┆ python        │\n",
      "│ str         ┆ i64 ┆ ---            ┆ str           ┆ ---           ┆ str         ┆ ---           │\n",
      "│             ┆     ┆ i64            ┆               ┆ str           ┆             ┆ str           │\n",
      "╞═════════════╪═════╪════════════════╪═══════════════╪═══════════════╪═════════════╪═══════════════╡\n",
      "│ A43321819   ┆ 47  ┆ 0              ┆ Data Engineer ┆ Contributing  ┆ High School ┆ 1924-07-20    │\n",
      "└─────────────┴─────┴────────────────┴───────────────┴───────────────┴─────────────┴───────────────┘\n",
      "saving results: polars_read_csv_singlethread\n",
      "shape: (1, 7)\n",
      "┌─────────────┬─────┬────────────────┬───────────────┬───────────────┬─────────────┬───────────────┐\n",
      "│ customer_id ┆ age ┆ their_lucky_nu ┆ occupation    ┆ psf_membershi ┆ education   ┆ date_started_ │\n",
      "│ ---         ┆ --- ┆ mber           ┆ ---           ┆ p_status      ┆ ---         ┆ python        │\n",
      "│ str         ┆ i64 ┆ ---            ┆ str           ┆ ---           ┆ str         ┆ ---           │\n",
      "│             ┆     ┆ i64            ┆               ┆ str           ┆             ┆ str           │\n",
      "╞═════════════╪═════╪════════════════╪═══════════════╪═══════════════╪═════════════╪═══════════════╡\n",
      "│ A43321819   ┆ 47  ┆ 0              ┆ Data Engineer ┆ Contributing  ┆ High School ┆ 1924-07-20    │\n",
      "└─────────────┴─────┴────────────────┴───────────────┴───────────────┴─────────────┴───────────────┘\n",
      "saving results: polars_read_csv\n",
      "  customer_id  age  their_lucky_number     occupation psf_membership_status  \\\n",
      "0   A43321819   47                   0  Data Engineer          Contributing   \n",
      "\n",
      "     education date_started_python  \n",
      "0  High School          1924-07-20  \n",
      "saving results: pandas_read_csv_gz\n",
      "shape: (1, 7)\n",
      "┌─────────────┬─────┬────────────────┬───────────────┬───────────────┬─────────────┬───────────────┐\n",
      "│ customer_id ┆ age ┆ their_lucky_nu ┆ occupation    ┆ psf_membershi ┆ education   ┆ date_started_ │\n",
      "│ ---         ┆ --- ┆ mber           ┆ ---           ┆ p_status      ┆ ---         ┆ python        │\n",
      "│ str         ┆ i64 ┆ ---            ┆ str           ┆ ---           ┆ str         ┆ ---           │\n",
      "│             ┆     ┆ i64            ┆               ┆ str           ┆             ┆ str           │\n",
      "╞═════════════╪═════╪════════════════╪═══════════════╪═══════════════╪═════════════╪═══════════════╡\n",
      "│ A43321819   ┆ 47  ┆ 0              ┆ Data Engineer ┆ Contributing  ┆ High School ┆ 1924-07-20    │\n",
      "└─────────────┴─────┴────────────────┴───────────────┴───────────────┴─────────────┴───────────────┘\n",
      "saving results: polars_read_csv_gz\n",
      "  customer_id  age  their_lucky_number     occupation psf_membership_status  \\\n",
      "0   A43321819   47                   0  Data Engineer          Contributing   \n",
      "\n",
      "     education date_started_python  \n",
      "0  High School          1924-07-20  \n",
      "saving results: pandas_read_parquet\n"
     ]
    },
    {
     "ename": "NameError",
     "evalue": "name 'polars_read_parquet' is not defined",
     "output_type": "error",
     "traceback": [
      "\u001b[0;31m---------------------------------------------------------------------------\u001b[0m",
      "\u001b[0;31mNameError\u001b[0m                                 Traceback (most recent call last)",
      "Cell \u001b[0;32mIn[10], line 22\u001b[0m\n\u001b[1;32m     20\u001b[0m \u001b[38;5;66;03m# read parquet tiles\u001b[39;00m\n\u001b[1;32m     21\u001b[0m pandas_read_parquet()\n\u001b[0;32m---> 22\u001b[0m \u001b[43mpolars_read_parquet\u001b[49m()\n",
      "\u001b[0;31mNameError\u001b[0m: name 'polars_read_parquet' is not defined"
     ]
    }
   ],
   "source": [
    "# read csv with a variety of configs\n",
    "pandas_read_csv_default()\n",
    "pandas_read_csv_engine_c()\n",
    "pandas_read_csv_engine_python()\n",
    "pandas_read_csv_default_dtype_numpy()\n",
    "pandas_read_csv_engine__c_dtype_numpy()\n",
    "pandas_read_csv_engine_python__dtype_numpy()\n",
    "pandas_read_csv_engine_pyarrow()\n",
    "pandas_read_csv_engine_pyarrow_dtype_numpy()\n",
    "pandas_read_csv_engine_pyarrow_dtype_pyarrow()\n",
    "\n",
    "# polars\n",
    "polars_read_csv_singlethread()\n",
    "polars_read_csv()\n",
    "\n",
    "# reading compressed files\n",
    "pandas_read_csv_gz()\n",
    "polars_read_csv_gz()\n",
    "\n",
    "# read parquet tiles\n",
    "pandas_read_parquet()\n",
    "polars_read_parquet()"
   ]
  },
  {
   "cell_type": "code",
   "execution_count": 13,
   "id": "fe8b645f-64ff-4120-97b2-93f13def9855",
   "metadata": {
    "editable": true,
    "execution": {
     "iopub.execute_input": "2023-10-06T17:02:52.454569Z",
     "iopub.status.busy": "2023-10-06T17:02:52.454131Z",
     "iopub.status.idle": "2023-10-06T17:02:52.474273Z",
     "shell.execute_reply": "2023-10-06T17:02:52.473071Z",
     "shell.execute_reply.started": "2023-10-06T17:02:52.454540Z"
    },
    "slideshow": {
     "slide_type": ""
    },
    "tags": []
   },
   "outputs": [
    {
     "data": {
      "text/html": [
       "<div>\n",
       "<style scoped>\n",
       "    .dataframe tbody tr th:only-of-type {\n",
       "        vertical-align: middle;\n",
       "    }\n",
       "\n",
       "    .dataframe tbody tr th {\n",
       "        vertical-align: top;\n",
       "    }\n",
       "\n",
       "    .dataframe thead th {\n",
       "        text-align: right;\n",
       "    }\n",
       "</style>\n",
       "<table border=\"1\" class=\"dataframe\">\n",
       "  <thead>\n",
       "    <tr style=\"text-align: right;\">\n",
       "      <th></th>\n",
       "      <th>function_name</th>\n",
       "      <th>elapsed_time</th>\n",
       "      <th>iteration</th>\n",
       "    </tr>\n",
       "  </thead>\n",
       "  <tbody>\n",
       "    <tr>\n",
       "      <th>0</th>\n",
       "      <td>pandas_read_csv_default</td>\n",
       "      <td>50.754199</td>\n",
       "      <td>0</td>\n",
       "    </tr>\n",
       "    <tr>\n",
       "      <th>1</th>\n",
       "      <td>pandas_read_csv_engine_c</td>\n",
       "      <td>50.454714</td>\n",
       "      <td>0</td>\n",
       "    </tr>\n",
       "    <tr>\n",
       "      <th>2</th>\n",
       "      <td>pandas_read_csv_engine_python</td>\n",
       "      <td>256.138989</td>\n",
       "      <td>0</td>\n",
       "    </tr>\n",
       "    <tr>\n",
       "      <th>3</th>\n",
       "      <td>pandas_read_csv_default_dtype_numpy</td>\n",
       "      <td>60.678965</td>\n",
       "      <td>0</td>\n",
       "    </tr>\n",
       "    <tr>\n",
       "      <th>4</th>\n",
       "      <td>pandas_read_csv_engine__c_dtype_numpy</td>\n",
       "      <td>53.267463</td>\n",
       "      <td>0</td>\n",
       "    </tr>\n",
       "    <tr>\n",
       "      <th>5</th>\n",
       "      <td>pandas_read_csv_engine_python__dtype_numpy</td>\n",
       "      <td>239.646672</td>\n",
       "      <td>0</td>\n",
       "    </tr>\n",
       "    <tr>\n",
       "      <th>6</th>\n",
       "      <td>pandas_read_csv_engine_pyarrow</td>\n",
       "      <td>22.002287</td>\n",
       "      <td>0</td>\n",
       "    </tr>\n",
       "    <tr>\n",
       "      <th>7</th>\n",
       "      <td>pandas_read_csv_engine_pyarrow_dtype_numpy</td>\n",
       "      <td>24.820781</td>\n",
       "      <td>0</td>\n",
       "    </tr>\n",
       "    <tr>\n",
       "      <th>8</th>\n",
       "      <td>pandas_read_csv_engine_pyarrow_dtype_pyarrow</td>\n",
       "      <td>4.607117</td>\n",
       "      <td>0</td>\n",
       "    </tr>\n",
       "    <tr>\n",
       "      <th>9</th>\n",
       "      <td>polars_read_csv_singlethread</td>\n",
       "      <td>8.385164</td>\n",
       "      <td>0</td>\n",
       "    </tr>\n",
       "    <tr>\n",
       "      <th>10</th>\n",
       "      <td>polars_read_csv</td>\n",
       "      <td>2.866689</td>\n",
       "      <td>0</td>\n",
       "    </tr>\n",
       "    <tr>\n",
       "      <th>11</th>\n",
       "      <td>pandas_read_csv_gz</td>\n",
       "      <td>63.895592</td>\n",
       "      <td>0</td>\n",
       "    </tr>\n",
       "    <tr>\n",
       "      <th>12</th>\n",
       "      <td>polars_read_csv_gz</td>\n",
       "      <td>8.285140</td>\n",
       "      <td>0</td>\n",
       "    </tr>\n",
       "  </tbody>\n",
       "</table>\n",
       "</div>"
      ],
      "text/plain": [
       "                                   function_name  elapsed_time  iteration\n",
       "0                        pandas_read_csv_default     50.754199          0\n",
       "1                       pandas_read_csv_engine_c     50.454714          0\n",
       "2                  pandas_read_csv_engine_python    256.138989          0\n",
       "3            pandas_read_csv_default_dtype_numpy     60.678965          0\n",
       "4          pandas_read_csv_engine__c_dtype_numpy     53.267463          0\n",
       "5     pandas_read_csv_engine_python__dtype_numpy    239.646672          0\n",
       "6                 pandas_read_csv_engine_pyarrow     22.002287          0\n",
       "7     pandas_read_csv_engine_pyarrow_dtype_numpy     24.820781          0\n",
       "8   pandas_read_csv_engine_pyarrow_dtype_pyarrow      4.607117          0\n",
       "9                   polars_read_csv_singlethread      8.385164          0\n",
       "10                               polars_read_csv      2.866689          0\n",
       "11                            pandas_read_csv_gz     63.895592          0\n",
       "12                            polars_read_csv_gz      8.285140          0"
      ]
     },
     "execution_count": 13,
     "metadata": {},
     "output_type": "execute_result"
    }
   ],
   "source": [
    "df_csv_results = pd.read_csv(\n",
    "    \"time_csv_results.csv\", header=0, engine=\"pyarrow\", dtype_backend=\"pyarrow\"\n",
    ")\n",
    "df_csv_results"
   ]
  },
  {
   "cell_type": "code",
   "execution_count": 16,
   "id": "9ea7c4a3-f372-404a-b13c-04e5a85b2f34",
   "metadata": {
    "editable": true,
    "execution": {
     "iopub.execute_input": "2023-10-06T17:03:22.179857Z",
     "iopub.status.busy": "2023-10-06T17:03:22.179101Z",
     "iopub.status.idle": "2023-10-06T17:03:22.502723Z",
     "shell.execute_reply": "2023-10-06T17:03:22.501601Z",
     "shell.execute_reply.started": "2023-10-06T17:03:22.179827Z"
    },
    "slideshow": {
     "slide_type": "slide"
    },
    "tags": []
   },
   "outputs": [
    {
     "data": {
      "text/plain": [
       "<Axes: xlabel='function_name'>"
      ]
     },
     "execution_count": 16,
     "metadata": {},
     "output_type": "execute_result"
    },
    {
     "data": {
      "image/png": "[encoded data removed]",
      "text/plain": [
       "<Figure size 2500x800 with 1 Axes>"
      ]
     },
     "metadata": {},
     "output_type": "display_data"
    }
   ],
   "source": [
    "# graph results - csv\n",
    "ax_csv = df_csv_results.sort_values([\"elapsed_time\", \"function_name\"], ascending=[False, True]).plot(\n",
    "    kind=\"bar\", x=\"function_name\", y=\"elapsed_time\", figsize=(25, 8)\n",
    ");\n",
    "ax_csv.bar_label(ax_csv.containers[0], fmt='%.2f')\n",
    "ax_csv"
   ]
  },
  {
   "cell_type": "code",
   "execution_count": 17,
   "id": "4c67f9a2-be3a-41c7-8ba6-e797dcff732b",
   "metadata": {
    "execution": {
     "iopub.execute_input": "2023-10-06T17:03:28.533048Z",
     "iopub.status.busy": "2023-10-06T17:03:28.532181Z",
     "iopub.status.idle": "2023-10-06T17:03:28.537234Z",
     "shell.execute_reply": "2023-10-06T17:03:28.536363Z",
     "shell.execute_reply.started": "2023-10-06T17:03:28.532994Z"
    }
   },
   "outputs": [],
   "source": [
    "pd.options.future.infer_string = True"
   ]
  },
  {
   "cell_type": "code",
   "execution_count": 18,
   "id": "66ad9d8e-a00d-430a-b1b9-9d74c8ec9ea2",
   "metadata": {
    "execution": {
     "iopub.execute_input": "2023-10-06T17:04:03.427567Z",
     "iopub.status.busy": "2023-10-06T17:04:03.427046Z",
     "iopub.status.idle": "2023-10-06T17:18:59.223090Z",
     "shell.execute_reply": "2023-10-06T17:18:59.222175Z",
     "shell.execute_reply.started": "2023-10-06T17:04:03.427530Z"
    }
   },
   "outputs": [
    {
     "name": "stdout",
     "output_type": "stream",
     "text": [
      "  customer_id  age  their_lucky_number     occupation psf_membership_status  \\\n",
      "0   A43321819   47                   0  Data Engineer          Contributing   \n",
      "\n",
      "     education date_started_python  \n",
      "0  High School          1924-07-20  \n",
      "saving results: pandas_read_csv_default\n",
      "  customer_id  age  their_lucky_number     occupation psf_membership_status  \\\n",
      "0   A43321819   47                   0  Data Engineer          Contributing   \n",
      "\n",
      "     education date_started_python  \n",
      "0  High School          1924-07-20  \n",
      "saving results: pandas_read_csv_engine_c\n",
      "  customer_id  age  their_lucky_number     occupation psf_membership_status  \\\n",
      "0   A43321819   47                   0  Data Engineer          Contributing   \n",
      "\n",
      "     education date_started_python  \n",
      "0  High School          1924-07-20  \n",
      "saving results: pandas_read_csv_engine_python\n",
      "  customer_id  age  their_lucky_number     occupation psf_membership_status  \\\n",
      "0   A43321819   47                   0  Data Engineer          Contributing   \n",
      "\n",
      "     education date_started_python  \n",
      "0  High School          1924-07-20  \n",
      "saving results: pandas_read_csv_default_dtype_numpy\n",
      "  customer_id  age  their_lucky_number     occupation psf_membership_status  \\\n",
      "0   A43321819   47                   0  Data Engineer          Contributing   \n",
      "\n",
      "     education date_started_python  \n",
      "0  High School          1924-07-20  \n",
      "saving results: pandas_read_csv_engine__c_dtype_numpy\n",
      "  customer_id  age  their_lucky_number     occupation psf_membership_status  \\\n",
      "0   A43321819   47                   0  Data Engineer          Contributing   \n",
      "\n",
      "     education date_started_python  \n",
      "0  High School          1924-07-20  \n",
      "saving results: pandas_read_csv_engine_python__dtype_numpy\n",
      "  customer_id  age  their_lucky_number     occupation psf_membership_status  \\\n",
      "0   A43321819   47                   0  Data Engineer          Contributing   \n",
      "\n",
      "     education date_started_python  \n",
      "0  High School          1924-07-20  \n",
      "saving results: pandas_read_csv_engine_pyarrow\n",
      "  customer_id  age  their_lucky_number     occupation psf_membership_status  \\\n",
      "0   A43321819   47                   0  Data Engineer          Contributing   \n",
      "\n",
      "     education date_started_python  \n",
      "0  High School          1924-07-20  \n",
      "saving results: pandas_read_csv_engine_pyarrow_dtype_numpy\n",
      "  customer_id  age  their_lucky_number     occupation psf_membership_status  \\\n",
      "0   A43321819   47                   0  Data Engineer          Contributing   \n",
      "\n",
      "     education date_started_python  \n",
      "0  High School          1924-07-20  \n",
      "saving results: pandas_read_csv_engine_pyarrow_dtype_pyarrow\n",
      "  customer_id  age  their_lucky_number     occupation psf_membership_status  \\\n",
      "0   A43321819   47                   0  Data Engineer          Contributing   \n",
      "\n",
      "     education date_started_python  \n",
      "0  High School          1924-07-20  \n",
      "saving results: pandas_read_csv_gz\n"
     ]
    },
    {
     "data": {
      "text/plain": [
       "True"
      ]
     },
     "execution_count": 18,
     "metadata": {},
     "output_type": "execute_result"
    }
   ],
   "source": [
    "# re-run csv tests\n",
    "# read csv with a variety of configs\n",
    "pandas_read_csv_default()\n",
    "pandas_read_csv_engine_c()\n",
    "pandas_read_csv_engine_python()\n",
    "pandas_read_csv_default_dtype_numpy()\n",
    "pandas_read_csv_engine__c_dtype_numpy()\n",
    "pandas_read_csv_engine_python__dtype_numpy()\n",
    "pandas_read_csv_engine_pyarrow()\n",
    "pandas_read_csv_engine_pyarrow_dtype_numpy()\n",
    "pandas_read_csv_engine_pyarrow_dtype_pyarrow()\n",
    "\n",
    "# reading compressed files\n",
    "pandas_read_csv_gz()"
   ]
  },
  {
   "cell_type": "code",
   "execution_count": 19,
   "id": "fab47af8-4248-4649-8f27-107595dca0aa",
   "metadata": {
    "execution": {
     "iopub.execute_input": "2023-10-06T17:18:59.225007Z",
     "iopub.status.busy": "2023-10-06T17:18:59.224708Z",
     "iopub.status.idle": "2023-10-06T17:18:59.240198Z",
     "shell.execute_reply": "2023-10-06T17:18:59.239461Z",
     "shell.execute_reply.started": "2023-10-06T17:18:59.224988Z"
    }
   },
   "outputs": [
    {
     "data": {
      "text/html": [
       "<div>\n",
       "<style scoped>\n",
       "    .dataframe tbody tr th:only-of-type {\n",
       "        vertical-align: middle;\n",
       "    }\n",
       "\n",
       "    .dataframe tbody tr th {\n",
       "        vertical-align: top;\n",
       "    }\n",
       "\n",
       "    .dataframe thead th {\n",
       "        text-align: right;\n",
       "    }\n",
       "</style>\n",
       "<table border=\"1\" class=\"dataframe\">\n",
       "  <thead>\n",
       "    <tr style=\"text-align: right;\">\n",
       "      <th></th>\n",
       "      <th>function_name</th>\n",
       "      <th>elapsed_time</th>\n",
       "      <th>iteration</th>\n",
       "    </tr>\n",
       "  </thead>\n",
       "  <tbody>\n",
       "    <tr>\n",
       "      <th>0</th>\n",
       "      <td>pandas_read_csv_default</td>\n",
       "      <td>50.754199</td>\n",
       "      <td>0</td>\n",
       "    </tr>\n",
       "    <tr>\n",
       "      <th>1</th>\n",
       "      <td>pandas_read_csv_engine_c</td>\n",
       "      <td>50.454714</td>\n",
       "      <td>0</td>\n",
       "    </tr>\n",
       "    <tr>\n",
       "      <th>2</th>\n",
       "      <td>pandas_read_csv_engine_python</td>\n",
       "      <td>256.138989</td>\n",
       "      <td>0</td>\n",
       "    </tr>\n",
       "    <tr>\n",
       "      <th>3</th>\n",
       "      <td>pandas_read_csv_default_dtype_numpy</td>\n",
       "      <td>60.678965</td>\n",
       "      <td>0</td>\n",
       "    </tr>\n",
       "    <tr>\n",
       "      <th>4</th>\n",
       "      <td>pandas_read_csv_engine__c_dtype_numpy</td>\n",
       "      <td>53.267463</td>\n",
       "      <td>0</td>\n",
       "    </tr>\n",
       "    <tr>\n",
       "      <th>5</th>\n",
       "      <td>pandas_read_csv_engine_python__dtype_numpy</td>\n",
       "      <td>239.646672</td>\n",
       "      <td>0</td>\n",
       "    </tr>\n",
       "    <tr>\n",
       "      <th>6</th>\n",
       "      <td>pandas_read_csv_engine_pyarrow</td>\n",
       "      <td>22.002287</td>\n",
       "      <td>0</td>\n",
       "    </tr>\n",
       "    <tr>\n",
       "      <th>7</th>\n",
       "      <td>pandas_read_csv_engine_pyarrow_dtype_numpy</td>\n",
       "      <td>24.820781</td>\n",
       "      <td>0</td>\n",
       "    </tr>\n",
       "    <tr>\n",
       "      <th>8</th>\n",
       "      <td>pandas_read_csv_engine_pyarrow_dtype_pyarrow</td>\n",
       "      <td>4.607117</td>\n",
       "      <td>0</td>\n",
       "    </tr>\n",
       "    <tr>\n",
       "      <th>9</th>\n",
       "      <td>polars_read_csv_singlethread</td>\n",
       "      <td>8.385164</td>\n",
       "      <td>0</td>\n",
       "    </tr>\n",
       "    <tr>\n",
       "      <th>10</th>\n",
       "      <td>polars_read_csv</td>\n",
       "      <td>2.866689</td>\n",
       "      <td>0</td>\n",
       "    </tr>\n",
       "    <tr>\n",
       "      <th>11</th>\n",
       "      <td>pandas_read_csv_gz</td>\n",
       "      <td>63.895592</td>\n",
       "      <td>0</td>\n",
       "    </tr>\n",
       "    <tr>\n",
       "      <th>12</th>\n",
       "      <td>polars_read_csv_gz</td>\n",
       "      <td>8.285140</td>\n",
       "      <td>0</td>\n",
       "    </tr>\n",
       "    <tr>\n",
       "      <th>13</th>\n",
       "      <td>pandas_read_csv_default</td>\n",
       "      <td>51.176931</td>\n",
       "      <td>0</td>\n",
       "    </tr>\n",
       "    <tr>\n",
       "      <th>14</th>\n",
       "      <td>pandas_read_csv_engine_c</td>\n",
       "      <td>52.402536</td>\n",
       "      <td>0</td>\n",
       "    </tr>\n",
       "    <tr>\n",
       "      <th>15</th>\n",
       "      <td>pandas_read_csv_engine_python</td>\n",
       "      <td>290.058394</td>\n",
       "      <td>0</td>\n",
       "    </tr>\n",
       "    <tr>\n",
       "      <th>16</th>\n",
       "      <td>pandas_read_csv_default_dtype_numpy</td>\n",
       "      <td>72.141015</td>\n",
       "      <td>0</td>\n",
       "    </tr>\n",
       "    <tr>\n",
       "      <th>17</th>\n",
       "      <td>pandas_read_csv_engine__c_dtype_numpy</td>\n",
       "      <td>69.938442</td>\n",
       "      <td>0</td>\n",
       "    </tr>\n",
       "    <tr>\n",
       "      <th>18</th>\n",
       "      <td>pandas_read_csv_engine_python__dtype_numpy</td>\n",
       "      <td>280.789196</td>\n",
       "      <td>0</td>\n",
       "    </tr>\n",
       "    <tr>\n",
       "      <th>19</th>\n",
       "      <td>pandas_read_csv_engine_pyarrow</td>\n",
       "      <td>5.431352</td>\n",
       "      <td>0</td>\n",
       "    </tr>\n",
       "    <tr>\n",
       "      <th>20</th>\n",
       "      <td>pandas_read_csv_engine_pyarrow_dtype_numpy</td>\n",
       "      <td>5.893842</td>\n",
       "      <td>0</td>\n",
       "    </tr>\n",
       "    <tr>\n",
       "      <th>21</th>\n",
       "      <td>pandas_read_csv_engine_pyarrow_dtype_pyarrow</td>\n",
       "      <td>4.497570</td>\n",
       "      <td>0</td>\n",
       "    </tr>\n",
       "    <tr>\n",
       "      <th>22</th>\n",
       "      <td>pandas_read_csv_gz</td>\n",
       "      <td>63.454506</td>\n",
       "      <td>0</td>\n",
       "    </tr>\n",
       "  </tbody>\n",
       "</table>\n",
       "</div>"
      ],
      "text/plain": [
       "                                   function_name  elapsed_time  iteration\n",
       "0                        pandas_read_csv_default     50.754199          0\n",
       "1                       pandas_read_csv_engine_c     50.454714          0\n",
       "2                  pandas_read_csv_engine_python    256.138989          0\n",
       "3            pandas_read_csv_default_dtype_numpy     60.678965          0\n",
       "4          pandas_read_csv_engine__c_dtype_numpy     53.267463          0\n",
       "5     pandas_read_csv_engine_python__dtype_numpy    239.646672          0\n",
       "6                 pandas_read_csv_engine_pyarrow     22.002287          0\n",
       "7     pandas_read_csv_engine_pyarrow_dtype_numpy     24.820781          0\n",
       "8   pandas_read_csv_engine_pyarrow_dtype_pyarrow      4.607117          0\n",
       "9                   polars_read_csv_singlethread      8.385164          0\n",
       "10                               polars_read_csv      2.866689          0\n",
       "11                            pandas_read_csv_gz     63.895592          0\n",
       "12                            polars_read_csv_gz      8.285140          0\n",
       "13                       pandas_read_csv_default     51.176931          0\n",
       "14                      pandas_read_csv_engine_c     52.402536          0\n",
       "15                 pandas_read_csv_engine_python    290.058394          0\n",
       "16           pandas_read_csv_default_dtype_numpy     72.141015          0\n",
       "17         pandas_read_csv_engine__c_dtype_numpy     69.938442          0\n",
       "18    pandas_read_csv_engine_python__dtype_numpy    280.789196          0\n",
       "19                pandas_read_csv_engine_pyarrow      5.431352          0\n",
       "20    pandas_read_csv_engine_pyarrow_dtype_numpy      5.893842          0\n",
       "21  pandas_read_csv_engine_pyarrow_dtype_pyarrow      4.497570          0\n",
       "22                            pandas_read_csv_gz     63.454506          0"
      ]
     },
     "execution_count": 19,
     "metadata": {},
     "output_type": "execute_result"
    }
   ],
   "source": [
    "# re-read datafile and repeat plot\n",
    "df_csv_results_v2 = pd.read_csv(\n",
    "    \"time_csv_results.csv\", header=0, engine=\"pyarrow\", dtype_backend=\"pyarrow\"\n",
    ")\n",
    "df_csv_results_v2\n"
   ]
  },
  {
   "cell_type": "code",
   "execution_count": 21,
   "id": "d04c7f0b-87d6-48b2-b1a0-6d45cedf1fe8",
   "metadata": {
    "editable": true,
    "execution": {
     "iopub.execute_input": "2023-10-06T17:43:39.241773Z",
     "iopub.status.busy": "2023-10-06T17:43:39.241160Z",
     "iopub.status.idle": "2023-10-06T17:43:39.666176Z",
     "shell.execute_reply": "2023-10-06T17:43:39.665325Z",
     "shell.execute_reply.started": "2023-10-06T17:43:39.241755Z"
    },
    "slideshow": {
     "slide_type": ""
    },
    "tags": []
   },
   "outputs": [
    {
     "data": {
      "text/plain": [
       "<Axes: xlabel='function_name'>"
      ]
     },
     "execution_count": 21,
     "metadata": {},
     "output_type": "execute_result"
    },
    {
     "data": {
      "image/png": "[encoded data removed]",
      "text/plain": [
       "<Figure size 2500x800 with 1 Axes>"
      ]
     },
     "metadata": {},
     "output_type": "display_data"
    }
   ],
   "source": [
    "ax_csv_v2 = df_csv_results_v2.sort_values([\"elapsed_time\", \"function_name\"], ascending=[False, True]).plot(\n",
    "    kind=\"bar\", x=\"function_name\", y=\"elapsed_time\", figsize=(25, 8)\n",
    ");\n",
    "ax_csv_v2.bar_label(ax_csv_v2.containers[0], fmt='%.2f')\n",
    "ax_csv_v2"
   ]
  },
  {
   "cell_type": "markdown",
   "id": "eca0bb1f-fa31-4c4a-956c-40bc19d59ea1",
   "metadata": {},
   "source": [
    "# Read Parquet files"
   ]
  },
  {
   "cell_type": "code",
   "execution_count": 22,
   "id": "a283ded2-f6d6-4fde-9c51-a90ab23017e2",
   "metadata": {
    "execution": {
     "iopub.execute_input": "2023-10-07T02:16:02.208576Z",
     "iopub.status.busy": "2023-10-07T02:16:02.208130Z",
     "iopub.status.idle": "2023-10-07T02:16:02.223221Z",
     "shell.execute_reply": "2023-10-07T02:16:02.221542Z",
     "shell.execute_reply.started": "2023-10-07T02:16:02.208555Z"
    }
   },
   "outputs": [
    {
     "data": {
      "text/html": [
       "<div>\n",
       "<style scoped>\n",
       "    .dataframe tbody tr th:only-of-type {\n",
       "        vertical-align: middle;\n",
       "    }\n",
       "\n",
       "    .dataframe tbody tr th {\n",
       "        vertical-align: top;\n",
       "    }\n",
       "\n",
       "    .dataframe thead th {\n",
       "        text-align: right;\n",
       "    }\n",
       "</style>\n",
       "<table border=\"1\" class=\"dataframe\">\n",
       "  <thead>\n",
       "    <tr style=\"text-align: right;\">\n",
       "      <th></th>\n",
       "      <th>function_name</th>\n",
       "      <th>elapsed_time</th>\n",
       "      <th>iteration</th>\n",
       "    </tr>\n",
       "  </thead>\n",
       "  <tbody>\n",
       "    <tr>\n",
       "      <th>0</th>\n",
       "      <td>pandas_read_parquet</td>\n",
       "      <td>21.648859</td>\n",
       "      <td>0</td>\n",
       "    </tr>\n",
       "    <tr>\n",
       "      <th>1</th>\n",
       "      <td>polars_read_parquet</td>\n",
       "      <td>2.156311</td>\n",
       "      <td>0</td>\n",
       "    </tr>\n",
       "  </tbody>\n",
       "</table>\n",
       "</div>"
      ],
      "text/plain": [
       "         function_name  elapsed_time  iteration\n",
       "0  pandas_read_parquet     21.648859          0\n",
       "1  polars_read_parquet      2.156311          0"
      ]
     },
     "execution_count": 22,
     "metadata": {},
     "output_type": "execute_result"
    }
   ],
   "source": [
    "df_parquet_results = pd.read_csv(\n",
    "    \"time_parquet_results.csv\", header=0, engine=\"pyarrow\", dtype_backend=\"pyarrow\"\n",
    ")\n",
    "df_parquet_results"
   ]
  },
  {
   "cell_type": "code",
   "execution_count": 24,
   "id": "6f7b1202-1160-49c9-8a55-06243451780a",
   "metadata": {
    "execution": {
     "iopub.execute_input": "2023-10-07T02:16:11.713704Z",
     "iopub.status.busy": "2023-10-07T02:16:11.713169Z",
     "iopub.status.idle": "2023-10-07T02:16:11.914360Z",
     "shell.execute_reply": "2023-10-07T02:16:11.913542Z",
     "shell.execute_reply.started": "2023-10-07T02:16:11.713674Z"
    }
   },
   "outputs": [
    {
     "data": {
      "text/plain": [
       "<Axes: xlabel='function_name'>"
      ]
     },
     "execution_count": 24,
     "metadata": {},
     "output_type": "execute_result"
    },
    {
     "data": {
      "image/png": "[encoded data removed]",
      "text/plain": [
       "<Figure size 2500x800 with 1 Axes>"
      ]
     },
     "metadata": {},
     "output_type": "display_data"
    }
   ],
   "source": [
    "# graph results - csv\n",
    "ax_parquet = df_parquet_results.sort_values([\"elapsed_time\", \"function_name\"], ascending=[False, True]).plot(\n",
    "    kind=\"bar\", x=\"function_name\", y=\"elapsed_time\", figsize=(25, 8)\n",
    ");\n",
    "ax_parquet.bar_label(ax_parquet.containers[0], fmt='%.2f')\n",
    "ax_parquet"
   ]
  },
  {
   "cell_type": "markdown",
   "id": "bf732236-0433-4be2-b10b-1a7a3699a68e",
   "metadata": {
    "editable": true,
    "slideshow": {
     "slide_type": "slide"
    },
    "tags": []
   },
   "source": [
    "# slower, but more complete result \n",
    "## run each function multiple times, then average the result in a dataframe and graph it\n",
    "\n",
    "## note - cells below set as `raw` in jupyter to avoid long runtimes; change to `code` and run the notebook again"
   ]
  },
  {
   "cell_type": "raw",
   "id": "5b49505e-c450-48be-88cf-1893a1ce0c33",
   "metadata": {
    "editable": true,
    "raw_mimetype": "",
    "slideshow": {
     "slide_type": ""
    },
    "tags": []
   },
   "source": [
    "# helper function to iterate on each function multiple times\n",
    "def run_with_iterations(func, datafile, **kwargs):\n",
    "    num_iterations = kwargs.get('num_iterations', 5)\n",
    "    for idx in range(num_iterations):\n",
    "        func(datafile=datafile, iteration=idx)\n"
   ]
  },
  {
   "cell_type": "raw",
   "id": "a999d90d-ecf0-4fc2-a5f0-29d0dacd13d8",
   "metadata": {
    "editable": true,
    "raw_mimetype": "",
    "slideshow": {
     "slide_type": ""
    },
    "tags": []
   },
   "source": [
    "# run multiple iterations of all functions\n",
    "\n",
    "\n",
    "num_iterations=5:\n",
    "# read csv with a variety of configs \n",
    "run_with_iterations(pandas_read_csv_default, data_csv, num_iterations=num_iterations)  # num of iterations requested is popped out by timing decorator\n",
    "run_with_iterations(pandas_read_csv_engine_c, data_csv, num_iterations=num_iterations\n",
    "run_with_iterations(pandas_read_csv_engine_python, data_csv, num_iterations=num_iterations\n",
    "run_with_iterations(pandas_read_csv_default_dtype_numpy, data_csv, num_iterations=num_iterations\n",
    "run_with_iterations(pandas_read_csv_engine__c_dtype_numpy, data_csv, num_iterations=num_iterations\n",
    "run_with_iterations(pandas_read_csv_engine_python__dtype_numpy, data_csv, num_iterations=num_iterations\n",
    "run_with_iterations(pandas_read_csv_engine_pyarrow, data_csv, num_iterations=num_iterations\n",
    "run_with_iterations(pandas_read_csv_engine_pyarrow_dtype_numpy, data_csv, num_iterations=num_iterations\n",
    "run_with_iterations(pandas_read_csv_engine_pyarrow_dtype_pyarrow, data_csv, num_iterations=num_iterations\n",
    "run_with_iterations(polars_read_csv_singlethread, data_csv, num_iterations=num_iterations\n",
    "run_with_iterations(polars_read_csv, data_csv, num_iterations=num_iterations\n",
    "\n",
    "# read gzipped csv\n",
    "run_with_iterations(pandas_read_csv_gz, data_csv_gz, num_iterations=num_iterations\n",
    "run_with_iterations(polars_read_csv_gz, data_csv_gz, num_iterations=num_iterations\n",
    "\n",
    "# read parquet\n",
    "run_with_iterations(pandas_read_parquet, data_parquet, num_iterations=num_iterations\n",
    "run_with_iterations(polars_read_parquet, data_parquet, num_iterations=num_iterations\n",
    "    "
   ]
  },
  {
   "cell_type": "markdown",
   "id": "3939ddfe-2be6-41d2-ad13-1f93374f3554",
   "metadata": {},
   "source": [
    "# Look at Groupby performance"
   ]
  },
  {
   "cell_type": "code",
   "execution_count": 30,
   "id": "d7accfab-77d4-44ff-9c61-a9a0d2d05c11",
   "metadata": {
    "execution": {
     "iopub.execute_input": "2023-10-07T02:20:09.692988Z",
     "iopub.status.busy": "2023-10-07T02:20:09.692213Z",
     "iopub.status.idle": "2023-10-07T02:20:12.362199Z",
     "shell.execute_reply": "2023-10-07T02:20:12.361335Z",
     "shell.execute_reply.started": "2023-10-07T02:20:09.692962Z"
    }
   },
   "outputs": [
    {
     "data": {
      "text/html": [
       "<div>\n",
       "<style scoped>\n",
       "    .dataframe tbody tr th:only-of-type {\n",
       "        vertical-align: middle;\n",
       "    }\n",
       "\n",
       "    .dataframe tbody tr th {\n",
       "        vertical-align: top;\n",
       "    }\n",
       "\n",
       "    .dataframe thead th {\n",
       "        text-align: right;\n",
       "    }\n",
       "</style>\n",
       "<table border=\"1\" class=\"dataframe\">\n",
       "  <thead>\n",
       "    <tr style=\"text-align: right;\">\n",
       "      <th></th>\n",
       "      <th>customer_id</th>\n",
       "      <th>age</th>\n",
       "      <th>their_lucky_number</th>\n",
       "      <th>occupation</th>\n",
       "      <th>psf_membership_status</th>\n",
       "      <th>education</th>\n",
       "      <th>date_started_python</th>\n",
       "    </tr>\n",
       "  </thead>\n",
       "  <tbody>\n",
       "    <tr>\n",
       "      <th>0</th>\n",
       "      <td>A43321819</td>\n",
       "      <td>47</td>\n",
       "      <td>0</td>\n",
       "      <td>Data Engineer</td>\n",
       "      <td>Contributing</td>\n",
       "      <td>High School</td>\n",
       "      <td>1924-07-20 00:00:00</td>\n",
       "    </tr>\n",
       "    <tr>\n",
       "      <th>1</th>\n",
       "      <td>001338908</td>\n",
       "      <td>37</td>\n",
       "      <td>0</td>\n",
       "      <td>Rustacean</td>\n",
       "      <td>Managing</td>\n",
       "      <td>High School</td>\n",
       "      <td>2004-03-09 00:00:00</td>\n",
       "    </tr>\n",
       "  </tbody>\n",
       "</table>\n",
       "</div>"
      ],
      "text/plain": [
       "  customer_id  age  their_lucky_number     occupation psf_membership_status  \\\n",
       "0   A43321819   47                   0  Data Engineer          Contributing   \n",
       "1   001338908   37                   0      Rustacean              Managing   \n",
       "\n",
       "     education  date_started_python  \n",
       "0  High School  1924-07-20 00:00:00  \n",
       "1  High School  2004-03-09 00:00:00  "
      ]
     },
     "execution_count": 30,
     "metadata": {},
     "output_type": "execute_result"
    }
   ],
   "source": [
    "# df_data = pl.read_parquet(source=data_parquet).to_pandas()  # loses dtypes\n",
    "df_data = pd.read_parquet(data_parquet, engine=\"pyarrow\", dtype_backend=\"pyarrow\")\n",
    "df_data.head(2)"
   ]
  },
  {
   "cell_type": "code",
   "execution_count": 31,
   "id": "806c28f6-b7b0-4964-bfe7-4b55e41d967f",
   "metadata": {
    "execution": {
     "iopub.execute_input": "2023-10-07T02:20:14.743471Z",
     "iopub.status.busy": "2023-10-07T02:20:14.742948Z",
     "iopub.status.idle": "2023-10-07T02:20:14.767747Z",
     "shell.execute_reply": "2023-10-07T02:20:14.766258Z",
     "shell.execute_reply.started": "2023-10-07T02:20:14.743453Z"
    }
   },
   "outputs": [
    {
     "name": "stdout",
     "output_type": "stream",
     "text": [
      "<class 'pandas.core.frame.DataFrame'>\n",
      "RangeIndex: 50000000 entries, 0 to 49999999\n",
      "Data columns (total 7 columns):\n",
      " #   Column                 Dtype                 \n",
      "---  ------                 -----                 \n",
      " 0   customer_id            string[pyarrow]       \n",
      " 1   age                    int64[pyarrow]        \n",
      " 2   their_lucky_number     int64[pyarrow]        \n",
      " 3   occupation             string[pyarrow]       \n",
      " 4   psf_membership_status  string[pyarrow]       \n",
      " 5   education              string[pyarrow]       \n",
      " 6   date_started_python    timestamp[ns][pyarrow]\n",
      "dtypes: int64[pyarrow](2), string[pyarrow](4), timestamp[ns][pyarrow](1)\n",
      "memory usage: 3.9 GB\n"
     ]
    }
   ],
   "source": [
    "df_data.info()"
   ]
  },
  {
   "cell_type": "code",
   "execution_count": 32,
   "id": "c3bd5185-1d7f-4297-b435-febc4b8647af",
   "metadata": {
    "execution": {
     "iopub.execute_input": "2023-10-07T02:20:32.164183Z",
     "iopub.status.busy": "2023-10-07T02:20:32.163717Z",
     "iopub.status.idle": "2023-10-07T02:20:53.828887Z",
     "shell.execute_reply": "2023-10-07T02:20:53.827683Z",
     "shell.execute_reply.started": "2023-10-07T02:20:32.164162Z"
    }
   },
   "outputs": [
    {
     "data": {
      "text/plain": [
       "psf_membership_status  occupation             \n",
       "Contributing           Apache Arrow Understudy    1111796\n",
       "                       Data Engineer              1109760\n",
       "                       Data Scientist             1110921\n",
       "                       DevOps Savior              1110223\n",
       "                       Machine Learning Eng       1109665\n",
       "                       Pandas Guru                1109656\n",
       "                       Polars Guru                1111091\n",
       "                       Python Dev                 1111130\n",
       "                       Rustacean                  1110305\n",
       "Fellow                 Apache Arrow Understudy    1110755\n",
       "                       Data Engineer              1111217\n",
       "                       Data Scientist             1111422\n",
       "                       DevOps Savior              1111875\n",
       "                       Machine Learning Eng       1111758\n",
       "                       Pandas Guru                1111270\n",
       "                       Polars Guru                1111762\n",
       "                       Python Dev                 1112358\n",
       "                       Rustacean                  1108700\n",
       "Managing               Apache Arrow Understudy    1111101\n",
       "                       Data Engineer              1109387\n",
       "                       Data Scientist             1111491\n",
       "                       DevOps Savior              1111261\n",
       "                       Machine Learning Eng       1112105\n",
       "                       Pandas Guru                1110562\n",
       "                       Polars Guru                1110608\n",
       "                       Python Dev                 1109546\n",
       "                       Rustacean                  1110438\n",
       "Not Yet a Member       Apache Arrow Understudy    1110303\n",
       "                       Data Engineer              1109742\n",
       "                       Data Scientist             1111200\n",
       "                       DevOps Savior              1113543\n",
       "                       Machine Learning Eng       1113743\n",
       "                       Pandas Guru                1111676\n",
       "                       Polars Guru                1110154\n",
       "                       Python Dev                 1111738\n",
       "                       Rustacean                  1111863\n",
       "Supporting             Apache Arrow Understudy    1110570\n",
       "                       Data Engineer              1109738\n",
       "                       Data Scientist             1108931\n",
       "                       DevOps Savior              1109791\n",
       "                       Machine Learning Eng       1110746\n",
       "                       Pandas Guru                1111733\n",
       "                       Polars Guru                1111338\n",
       "                       Python Dev                 1110562\n",
       "                       Rustacean                  1110958\n",
       "Name: customer_id, dtype: int64"
      ]
     },
     "execution_count": 32,
     "metadata": {},
     "output_type": "execute_result"
    }
   ],
   "source": [
    "df_pd_grouped = df_data.groupby([\"psf_membership_status\", \"occupation\"], sort=True)[\n",
    "    \"customer_id\"\n",
    "].nunique()\n",
    "df_pd_grouped"
   ]
  },
  {
   "cell_type": "code",
   "execution_count": 34,
   "id": "315473a3-87b7-4edc-b20b-50598e097905",
   "metadata": {
    "execution": {
     "iopub.execute_input": "2023-10-07T02:21:19.975487Z",
     "iopub.status.busy": "2023-10-07T02:21:19.975036Z",
     "iopub.status.idle": "2023-10-07T02:21:21.863402Z",
     "shell.execute_reply": "2023-10-07T02:21:21.862571Z",
     "shell.execute_reply.started": "2023-10-07T02:21:19.975464Z"
    }
   },
   "outputs": [
    {
     "data": {
      "text/plain": [
       "<bound method DataFrame.describe of shape: (50_000_000, 7)\n",
       "┌─────────────┬─────┬───────────────┬───────────────┬───────────────┬───────────────┬──────────────┐\n",
       "│ customer_id ┆ age ┆ their_lucky_n ┆ occupation    ┆ psf_membershi ┆ education     ┆ date_started │\n",
       "│ ---         ┆ --- ┆ umber         ┆ ---           ┆ p_status      ┆ ---           ┆ _python      │\n",
       "│ str         ┆ i64 ┆ ---           ┆ str           ┆ ---           ┆ str           ┆ ---          │\n",
       "│             ┆     ┆ i64           ┆               ┆ str           ┆               ┆ datetime[ns] │\n",
       "╞═════════════╪═════╪═══════════════╪═══════════════╪═══════════════╪═══════════════╪══════════════╡\n",
       "│ A43321819   ┆ 47  ┆ 0             ┆ Data Engineer ┆ Contributing  ┆ High School   ┆ 1924-07-20   │\n",
       "│             ┆     ┆               ┆               ┆               ┆               ┆ 00:00:00     │\n",
       "│ 001338908   ┆ 37  ┆ 0             ┆ Rustacean     ┆ Managing      ┆ High School   ┆ 2004-03-09   │\n",
       "│             ┆     ┆               ┆               ┆               ┆               ┆ 00:00:00     │\n",
       "│ W86379402   ┆ 49  ┆ 0             ┆ Machine       ┆ Fellow        ┆ Leetcode +    ┆ 1936-02-09   │\n",
       "│             ┆     ┆               ┆ Learning Eng  ┆               ┆ sweat         ┆ 00:00:00     │\n",
       "│ 542351161   ┆ 62  ┆ 1             ┆ Polars Guru   ┆ Not Yet a     ┆ Graduate      ┆ 1962-09-24   │\n",
       "│             ┆     ┆               ┆               ┆ Member        ┆               ┆ 00:00:00     │\n",
       "│ …           ┆ …   ┆ …             ┆ …             ┆ …             ┆ …             ┆ …            │\n",
       "│ 225537912   ┆ 48  ┆ 2             ┆ DevOps Savior ┆ Supporting    ┆ College       ┆ 2008-03-29   │\n",
       "│             ┆     ┆               ┆               ┆               ┆               ┆ 00:00:00     │\n",
       "│ 434168770   ┆ 18  ┆ 2             ┆ Rustacean     ┆ Not Yet a     ┆ High School   ┆ 1985-08-16   │\n",
       "│             ┆     ┆               ┆               ┆ Member        ┆               ┆ 00:00:00     │\n",
       "│ 468479208   ┆ 51  ┆ 1             ┆ Rustacean     ┆ Contributing  ┆ Leetcode +    ┆ 2011-08-05   │\n",
       "│             ┆     ┆               ┆               ┆               ┆ sweat         ┆ 00:00:00     │\n",
       "│ 911686815   ┆ 20  ┆ 1             ┆ Machine       ┆ Contributing  ┆ High School   ┆ 1983-10-27   │\n",
       "│             ┆     ┆               ┆ Learning Eng  ┆               ┆               ┆ 00:00:00     │\n",
       "└─────────────┴─────┴───────────────┴───────────────┴───────────────┴───────────────┴──────────────┘>"
      ]
     },
     "execution_count": 34,
     "metadata": {},
     "output_type": "execute_result"
    }
   ],
   "source": [
    "df_pl = pl.from_pandas(df_data)\n",
    "df_pl.describe"
   ]
  },
  {
   "cell_type": "code",
   "execution_count": 35,
   "id": "c194cc01-fe4f-4dcd-85a7-b7b8bbd503de",
   "metadata": {
    "execution": {
     "iopub.execute_input": "2023-10-07T02:21:59.134611Z",
     "iopub.status.busy": "2023-10-07T02:21:59.134091Z",
     "iopub.status.idle": "2023-10-07T02:22:01.492466Z",
     "shell.execute_reply": "2023-10-07T02:22:01.491686Z",
     "shell.execute_reply.started": "2023-10-07T02:21:59.134568Z"
    }
   },
   "outputs": [
    {
     "data": {
      "text/html": [
       "<div><style>\n",
       ".dataframe > thead > tr > th,\n",
       ".dataframe > tbody > tr > td {\n",
       "  text-align: right;\n",
       "  white-space: pre-wrap;\n",
       "}\n",
       "</style>\n",
       "<small>shape: (45, 3)</small><table border=\"1\" class=\"dataframe\"><thead><tr><th>psf_membership_status</th><th>occupation</th><th>unique_customer_count</th></tr><tr><td>str</td><td>str</td><td>u32</td></tr></thead><tbody><tr><td>&quot;Contributing&quot;</td><td>&quot;Apache Arrow U…</td><td>1111796</td></tr><tr><td>&quot;Contributing&quot;</td><td>&quot;Data Engineer&quot;</td><td>1109760</td></tr><tr><td>&quot;Contributing&quot;</td><td>&quot;Data Scientist…</td><td>1110921</td></tr><tr><td>&quot;Contributing&quot;</td><td>&quot;DevOps Savior&quot;</td><td>1110223</td></tr><tr><td>&quot;Contributing&quot;</td><td>&quot;Machine Learni…</td><td>1109665</td></tr><tr><td>&quot;Contributing&quot;</td><td>&quot;Pandas Guru&quot;</td><td>1109656</td></tr><tr><td>&quot;Contributing&quot;</td><td>&quot;Polars Guru&quot;</td><td>1111091</td></tr><tr><td>&quot;Contributing&quot;</td><td>&quot;Python Dev&quot;</td><td>1111130</td></tr><tr><td>&quot;Contributing&quot;</td><td>&quot;Rustacean&quot;</td><td>1110305</td></tr><tr><td>&quot;Fellow&quot;</td><td>&quot;Apache Arrow U…</td><td>1110755</td></tr><tr><td>&quot;Fellow&quot;</td><td>&quot;Data Engineer&quot;</td><td>1111217</td></tr><tr><td>&quot;Fellow&quot;</td><td>&quot;Data Scientist…</td><td>1111422</td></tr><tr><td>&hellip;</td><td>&hellip;</td><td>&hellip;</td></tr><tr><td>&quot;Not Yet a Memb…</td><td>&quot;Polars Guru&quot;</td><td>1110154</td></tr><tr><td>&quot;Not Yet a Memb…</td><td>&quot;Python Dev&quot;</td><td>1111738</td></tr><tr><td>&quot;Not Yet a Memb…</td><td>&quot;Rustacean&quot;</td><td>1111863</td></tr><tr><td>&quot;Supporting&quot;</td><td>&quot;Apache Arrow U…</td><td>1110570</td></tr><tr><td>&quot;Supporting&quot;</td><td>&quot;Data Engineer&quot;</td><td>1109738</td></tr><tr><td>&quot;Supporting&quot;</td><td>&quot;Data Scientist…</td><td>1108931</td></tr><tr><td>&quot;Supporting&quot;</td><td>&quot;DevOps Savior&quot;</td><td>1109791</td></tr><tr><td>&quot;Supporting&quot;</td><td>&quot;Machine Learni…</td><td>1110746</td></tr><tr><td>&quot;Supporting&quot;</td><td>&quot;Pandas Guru&quot;</td><td>1111733</td></tr><tr><td>&quot;Supporting&quot;</td><td>&quot;Polars Guru&quot;</td><td>1111338</td></tr><tr><td>&quot;Supporting&quot;</td><td>&quot;Python Dev&quot;</td><td>1110562</td></tr><tr><td>&quot;Supporting&quot;</td><td>&quot;Rustacean&quot;</td><td>1110958</td></tr></tbody></table></div>"
      ],
      "text/plain": [
       "shape: (45, 3)\n",
       "┌───────────────────────┬─────────────────────────┬───────────────────────┐\n",
       "│ psf_membership_status ┆ occupation              ┆ unique_customer_count │\n",
       "│ ---                   ┆ ---                     ┆ ---                   │\n",
       "│ str                   ┆ str                     ┆ u32                   │\n",
       "╞═══════════════════════╪═════════════════════════╪═══════════════════════╡\n",
       "│ Contributing          ┆ Apache Arrow Understudy ┆ 1111796               │\n",
       "│ Contributing          ┆ Data Engineer           ┆ 1109760               │\n",
       "│ Contributing          ┆ Data Scientist          ┆ 1110921               │\n",
       "│ Contributing          ┆ DevOps Savior           ┆ 1110223               │\n",
       "│ …                     ┆ …                       ┆ …                     │\n",
       "│ Supporting            ┆ Pandas Guru             ┆ 1111733               │\n",
       "│ Supporting            ┆ Polars Guru             ┆ 1111338               │\n",
       "│ Supporting            ┆ Python Dev              ┆ 1110562               │\n",
       "│ Supporting            ┆ Rustacean               ┆ 1110958               │\n",
       "└───────────────────────┴─────────────────────────┴───────────────────────┘"
      ]
     },
     "execution_count": 35,
     "metadata": {},
     "output_type": "execute_result"
    }
   ],
   "source": [
    "df_pl_grouped = grouped_pl_df = (\n",
    "    df_pl.group_by([\"psf_membership_status\", \"occupation\"])\n",
    "    .agg(pl.col(\"customer_id\").n_unique().alias(\"unique_customer_count\"))\n",
    "    .sort([\"psf_membership_status\", \"occupation\"])\n",
    ")\n",
    "df_pl_grouped"
   ]
  },
  {
   "cell_type": "code",
   "execution_count": null,
   "id": "470bae5d-f903-483e-8e66-8fb98310f8c7",
   "metadata": {},
   "outputs": [],
   "source": []
  }
 ],
 "metadata": {
  "kernelspec": {
   "display_name": "Python 3 (ipykernel)",
   "language": "python",
   "name": "python3"
  },
  "language_info": {
   "codemirror_mode": {
    "name": "ipython",
    "version": 3
   },
   "file_extension": ".py",
   "mimetype": "text/x-python",
   "name": "python",
   "nbconvert_exporter": "python",
   "pygments_lexer": "ipython3",
   "version": "3.11.4"
  }
 },
 "nbformat": 4,
 "nbformat_minor": 5
}
