{
 "cells": [
  {
   "cell_type": "markdown",
   "id": "2c2bcfc2-378b-4b64-804c-8ea7f85524ea",
   "metadata": {
    "editable": true,
    "slideshow": {
     "slide_type": ""
    },
    "tags": []
   },
   "source": [
    "# Setup"
   ]
  },
  {
   "cell_type": "code",
   "execution_count": 13,
   "id": "4766d670-0f7b-442d-896c-5d20b61bb927",
   "metadata": {
    "editable": true,
    "execution": {
     "iopub.execute_input": "2023-10-05T21:56:31.140938Z",
     "iopub.status.busy": "2023-10-05T21:56:31.139837Z",
     "iopub.status.idle": "2023-10-05T21:56:31.149964Z",
     "shell.execute_reply": "2023-10-05T21:56:31.148210Z",
     "shell.execute_reply.started": "2023-10-05T21:56:31.140886Z"
    },
    "slideshow": {
     "slide_type": "skip"
    },
    "tags": []
   },
   "outputs": [],
   "source": [
    "# imports\n",
    "from IPython.display import display, HTML\n",
    "from pathlib import Path\n",
    "\n",
    "import numpy as np\n",
    "import pandas as pd\n",
    "import polars as pl\n",
    "\n",
    "import gzip\n",
    "import shutil\n",
    "from pathlib import Path\n"
   ]
  },
  {
   "cell_type": "code",
   "execution_count": 14,
   "id": "ef2876cc-fbde-4ef5-b11b-65b271449de7",
   "metadata": {
    "editable": true,
    "execution": {
     "iopub.execute_input": "2023-10-05T21:56:32.711244Z",
     "iopub.status.busy": "2023-10-05T21:56:32.710909Z",
     "iopub.status.idle": "2023-10-05T21:56:33.396392Z",
     "shell.execute_reply": "2023-10-05T21:56:33.394527Z",
     "shell.execute_reply.started": "2023-10-05T21:56:32.711210Z"
    },
    "slideshow": {
     "slide_type": ""
    },
    "tags": []
   },
   "outputs": [
    {
     "name": "stdout",
     "output_type": "stream",
     "text": [
      "Test data exists in multiple formats.\n"
     ]
    }
   ],
   "source": [
    "# generate synthetic data for performance testsing\n",
    "!python -m synthetic_data"
   ]
  },
  {
   "cell_type": "code",
   "execution_count": null,
   "id": "cfa02cab-1fbb-43b9-b319-cfc7af03fc50",
   "metadata": {
    "editable": true,
    "slideshow": {
     "slide_type": ""
    },
    "tags": []
   },
   "outputs": [],
   "source": [
    "# data paths\n",
    "data_path = Path(\"data\")\n",
    "\n",
    "# list paths for data here for convenience\n",
    "data_csv = Path(\"data\", \"python_dev_universe.csv\")\n",
    "data_csv_gz = Path(data_path, \"python_dev_universe.csv.gz\")\n",
    "data_parquet = Path(\"data\", \"python_dev_universe.parquet\")"
   ]
  },
  {
   "cell_type": "markdown",
   "id": "ae501f65-a3f4-497c-a6da-568c7cc8869d",
   "metadata": {
    "editable": true,
    "slideshow": {
     "slide_type": ""
    },
    "tags": []
   },
   "source": [
    "# test pandas/polars read CSV and compressed CSV"
   ]
  },
  {
   "cell_type": "code",
   "execution_count": 5,
   "id": "871284f7-3913-4109-b260-c9fe685b08a4",
   "metadata": {
    "editable": true,
    "execution": {
     "iopub.execute_input": "2023-10-05T21:31:10.279471Z",
     "iopub.status.busy": "2023-10-05T21:31:10.278907Z",
     "iopub.status.idle": "2023-10-05T21:32:13.348840Z",
     "shell.execute_reply": "2023-10-05T21:32:13.348024Z",
     "shell.execute_reply.started": "2023-10-05T21:31:10.279447Z"
    },
    "slideshow": {
     "slide_type": ""
    },
    "tags": []
   },
   "outputs": [],
   "source": [
    "data_csv_gz = Path(\"data\", \"python_dev_universe.csv.gz\")\n",
    "df_pandas = pd.read_csv(data_csv_gz, compression=\"gzip\")"
   ]
  },
  {
   "cell_type": "code",
   "execution_count": 7,
   "id": "5b2a42d1-be6e-4f4e-94cf-6b3e9107e78b",
   "metadata": {
    "editable": true,
    "execution": {
     "iopub.execute_input": "2023-10-05T21:33:05.564727Z",
     "iopub.status.busy": "2023-10-05T21:33:05.564256Z",
     "iopub.status.idle": "2023-10-05T21:33:05.593388Z",
     "shell.execute_reply": "2023-10-05T21:33:05.592243Z",
     "shell.execute_reply.started": "2023-10-05T21:33:05.564704Z"
    },
    "slideshow": {
     "slide_type": ""
    },
    "tags": []
   },
   "outputs": [
    {
     "data": {
      "text/html": [
       "<div>\n",
       "<style scoped>\n",
       "    .dataframe tbody tr th:only-of-type {\n",
       "        vertical-align: middle;\n",
       "    }\n",
       "\n",
       "    .dataframe tbody tr th {\n",
       "        vertical-align: top;\n",
       "    }\n",
       "\n",
       "    .dataframe thead th {\n",
       "        text-align: right;\n",
       "    }\n",
       "</style>\n",
       "<table border=\"1\" class=\"dataframe\">\n",
       "  <thead>\n",
       "    <tr style=\"text-align: right;\">\n",
       "      <th></th>\n",
       "      <th>customer_id</th>\n",
       "      <th>age</th>\n",
       "      <th>their_lucky_number</th>\n",
       "      <th>occupation</th>\n",
       "      <th>psf_membership_status</th>\n",
       "      <th>education</th>\n",
       "      <th>date_started_python</th>\n",
       "    </tr>\n",
       "  </thead>\n",
       "  <tbody>\n",
       "    <tr>\n",
       "      <th>0</th>\n",
       "      <td>A43321819</td>\n",
       "      <td>47</td>\n",
       "      <td>0</td>\n",
       "      <td>Data Engineer</td>\n",
       "      <td>Contributing</td>\n",
       "      <td>High School</td>\n",
       "      <td>1924-07-20</td>\n",
       "    </tr>\n",
       "    <tr>\n",
       "      <th>1</th>\n",
       "      <td>001338908</td>\n",
       "      <td>37</td>\n",
       "      <td>0</td>\n",
       "      <td>Rustacean</td>\n",
       "      <td>Managing</td>\n",
       "      <td>High School</td>\n",
       "      <td>2004-03-09</td>\n",
       "    </tr>\n",
       "  </tbody>\n",
       "</table>\n",
       "</div>"
      ],
      "text/plain": [
       "  customer_id  age  their_lucky_number     occupation psf_membership_status  \\\n",
       "0   A43321819   47                   0  Data Engineer          Contributing   \n",
       "1   001338908   37                   0      Rustacean              Managing   \n",
       "\n",
       "     education date_started_python  \n",
       "0  High School          1924-07-20  \n",
       "1  High School          2004-03-09  "
      ]
     },
     "execution_count": 7,
     "metadata": {},
     "output_type": "execute_result"
    }
   ],
   "source": [
    "df_pandas.head(2)"
   ]
  },
  {
   "cell_type": "code",
   "execution_count": 6,
   "id": "b610dbab-995c-46a6-87ee-2dd5a7a5ef2b",
   "metadata": {
    "editable": true,
    "execution": {
     "iopub.execute_input": "2023-10-05T21:32:48.497455Z",
     "iopub.status.busy": "2023-10-05T21:32:48.496579Z",
     "iopub.status.idle": "2023-10-05T21:32:58.262088Z",
     "shell.execute_reply": "2023-10-05T21:32:58.259147Z",
     "shell.execute_reply.started": "2023-10-05T21:32:48.497404Z"
    },
    "slideshow": {
     "slide_type": ""
    },
    "tags": []
   },
   "outputs": [],
   "source": [
    "df_polars = pl.read_csv(source=data_csv_gz)"
   ]
  },
  {
   "cell_type": "code",
   "execution_count": 8,
   "id": "d4bc7d4a-3662-4350-a5b4-050bbee8f223",
   "metadata": {
    "editable": true,
    "execution": {
     "iopub.execute_input": "2023-10-05T21:33:16.153295Z",
     "iopub.status.busy": "2023-10-05T21:33:16.151604Z",
     "iopub.status.idle": "2023-10-05T21:33:16.171019Z",
     "shell.execute_reply": "2023-10-05T21:33:16.169520Z",
     "shell.execute_reply.started": "2023-10-05T21:33:16.153213Z"
    },
    "slideshow": {
     "slide_type": ""
    },
    "tags": []
   },
   "outputs": [
    {
     "data": {
      "text/html": [
       "<div><style>\n",
       ".dataframe > thead > tr > th,\n",
       ".dataframe > tbody > tr > td {\n",
       "  text-align: right;\n",
       "  white-space: pre-wrap;\n",
       "}\n",
       "</style>\n",
       "<small>shape: (2, 7)</small><table border=\"1\" class=\"dataframe\"><thead><tr><th>customer_id</th><th>age</th><th>their_lucky_number</th><th>occupation</th><th>psf_membership_status</th><th>education</th><th>date_started_python</th></tr><tr><td>str</td><td>i64</td><td>i64</td><td>str</td><td>str</td><td>str</td><td>str</td></tr></thead><tbody><tr><td>&quot;A43321819&quot;</td><td>47</td><td>0</td><td>&quot;Data Engineer&quot;</td><td>&quot;Contributing&quot;</td><td>&quot;High School&quot;</td><td>&quot;1924-07-20&quot;</td></tr><tr><td>&quot;001338908&quot;</td><td>37</td><td>0</td><td>&quot;Rustacean&quot;</td><td>&quot;Managing&quot;</td><td>&quot;High School&quot;</td><td>&quot;2004-03-09&quot;</td></tr></tbody></table></div>"
      ],
      "text/plain": [
       "shape: (2, 7)\n",
       "┌─────────────┬─────┬────────────────┬───────────────┬───────────────┬─────────────┬───────────────┐\n",
       "│ customer_id ┆ age ┆ their_lucky_nu ┆ occupation    ┆ psf_membershi ┆ education   ┆ date_started_ │\n",
       "│ ---         ┆ --- ┆ mber           ┆ ---           ┆ p_status      ┆ ---         ┆ python        │\n",
       "│ str         ┆ i64 ┆ ---            ┆ str           ┆ ---           ┆ str         ┆ ---           │\n",
       "│             ┆     ┆ i64            ┆               ┆ str           ┆             ┆ str           │\n",
       "╞═════════════╪═════╪════════════════╪═══════════════╪═══════════════╪═════════════╪═══════════════╡\n",
       "│ A43321819   ┆ 47  ┆ 0              ┆ Data Engineer ┆ Contributing  ┆ High School ┆ 1924-07-20    │\n",
       "│ 001338908   ┆ 37  ┆ 0              ┆ Rustacean     ┆ Managing      ┆ High School ┆ 2004-03-09    │\n",
       "└─────────────┴─────┴────────────────┴───────────────┴───────────────┴─────────────┴───────────────┘"
      ]
     },
     "execution_count": 8,
     "metadata": {},
     "output_type": "execute_result"
    }
   ],
   "source": [
    "df_polars.head(2)"
   ]
  },
  {
   "cell_type": "code",
   "execution_count": 9,
   "id": "9ea18708-203c-4058-9c7d-e36e08eebae0",
   "metadata": {
    "editable": true,
    "execution": {
     "iopub.execute_input": "2023-10-05T21:34:33.170612Z",
     "iopub.status.busy": "2023-10-05T21:34:33.170123Z",
     "iopub.status.idle": "2023-10-05T21:34:48.285792Z",
     "shell.execute_reply": "2023-10-05T21:34:48.283968Z",
     "shell.execute_reply.started": "2023-10-05T21:34:33.170580Z"
    },
    "slideshow": {
     "slide_type": ""
    },
    "tags": []
   },
   "outputs": [
    {
     "data": {
      "text/html": [
       "<div><style>\n",
       ".dataframe > thead > tr > th,\n",
       ".dataframe > tbody > tr > td {\n",
       "  text-align: right;\n",
       "  white-space: pre-wrap;\n",
       "}\n",
       "</style>\n",
       "<small>shape: (2, 7)</small><table border=\"1\" class=\"dataframe\"><thead><tr><th>customer_id</th><th>age</th><th>their_lucky_number</th><th>occupation</th><th>psf_membership_status</th><th>education</th><th>date_started_python</th></tr><tr><td>str</td><td>i64</td><td>i64</td><td>str</td><td>str</td><td>str</td><td>str</td></tr></thead><tbody><tr><td>&quot;A43321819&quot;</td><td>47</td><td>0</td><td>&quot;Data Engineer&quot;</td><td>&quot;Contributing&quot;</td><td>&quot;High School&quot;</td><td>&quot;1924-07-20&quot;</td></tr><tr><td>&quot;001338908&quot;</td><td>37</td><td>0</td><td>&quot;Rustacean&quot;</td><td>&quot;Managing&quot;</td><td>&quot;High School&quot;</td><td>&quot;2004-03-09&quot;</td></tr></tbody></table></div>"
      ],
      "text/plain": [
       "shape: (2, 7)\n",
       "┌─────────────┬─────┬────────────────┬───────────────┬───────────────┬─────────────┬───────────────┐\n",
       "│ customer_id ┆ age ┆ their_lucky_nu ┆ occupation    ┆ psf_membershi ┆ education   ┆ date_started_ │\n",
       "│ ---         ┆ --- ┆ mber           ┆ ---           ┆ p_status      ┆ ---         ┆ python        │\n",
       "│ str         ┆ i64 ┆ ---            ┆ str           ┆ ---           ┆ str         ┆ ---           │\n",
       "│             ┆     ┆ i64            ┆               ┆ str           ┆             ┆ str           │\n",
       "╞═════════════╪═════╪════════════════╪═══════════════╪═══════════════╪═════════════╪═══════════════╡\n",
       "│ A43321819   ┆ 47  ┆ 0              ┆ Data Engineer ┆ Contributing  ┆ High School ┆ 1924-07-20    │\n",
       "│ 001338908   ┆ 37  ┆ 0              ┆ Rustacean     ┆ Managing      ┆ High School ┆ 2004-03-09    │\n",
       "└─────────────┴─────┴────────────────┴───────────────┴───────────────┴─────────────┴───────────────┘"
      ]
     },
     "execution_count": 9,
     "metadata": {},
     "output_type": "execute_result"
    }
   ],
   "source": [
    "df_polars = pl.read_csv(source=data_csv_gz, n_threads=1)\n",
    "df_polars.head(2)"
   ]
  },
  {
   "cell_type": "code",
   "execution_count": null,
   "id": "856d16bf-fcf8-423b-a100-026bc5c4569a",
   "metadata": {
    "editable": true,
    "slideshow": {
     "slide_type": ""
    },
    "tags": []
   },
   "outputs": [],
   "source": [
    "# Test elapsed time for multiple configurations"
   ]
  },
  {
   "cell_type": "code",
   "execution_count": 9,
   "id": "6a55d560-6196-49fc-8646-927671bf9450",
   "metadata": {
    "editable": true,
    "execution": {
     "iopub.execute_input": "2023-10-03T00:11:22.425438Z",
     "iopub.status.busy": "2023-10-03T00:11:22.425114Z",
     "iopub.status.idle": "2023-10-03T00:11:22.435194Z",
     "shell.execute_reply": "2023-10-03T00:11:22.434352Z",
     "shell.execute_reply.started": "2023-10-03T00:11:22.425419Z"
    },
    "slideshow": {
     "slide_type": ""
    },
    "tags": []
   },
   "outputs": [],
   "source": [
    "from log_timer_results import log_to_csv\n",
    "\n",
    "\n",
    "@log_to_csv(filename=\"timer_log_results.csv\", buffer_size=10, flush_on_return=True)\n",
    "def pandas_read_csv_default(datafile=data_csv):\n",
    "    df = pd.read_csv(datafile)\n",
    "    print(df.head(1))\n",
    "    return True\n",
    "\n",
    "@log_to_csv(filename=\"timer_log_results.csv\", buffer_size=10, flush_on_return=True)\n",
    "def pandas_read_csv_gz(datafile=data_csv, compression=\"gzip\"):\n",
    "    df = pd.read_csv(data_csv_gz) # NOTE: gzipped file here\n",
    "    print(df.head(1))\n",
    "    return True\n",
    "    \n",
    "@log_to_csv(filename=\"timer_log_results.csv\", buffer_size=10, flush_on_return=True)\n",
    "def pandas_read_csv_engine_c(datafile=data_csv):\n",
    "    df = pd.read_csv(datafile, engine=\"c\")\n",
    "    print(df.head(1))\n",
    "    return True\n",
    "\n",
    "@log_to_csv(filename=\"timer_log_results.csv\", buffer_size=10, flush_on_return=True)\n",
    "def pandas_read_csv_engine_python(datafile=data_csv):\n",
    "    df = pd.read_csv(datafile, engine=\"python\")\n",
    "    print(df.head(1))\n",
    "    return True\n",
    "\n",
    "@log_to_csv(filename=\"timer_log_results.csv\", buffer_size=10, flush_on_return=True)\n",
    "def pandas_read_csv_default_dtype_numpy(datafile=data_csv, dtype_backend=\"numpy_nullable\"):\n",
    "    df = pd.read_csv(datafile)\n",
    "    print(df.head(1))\n",
    "    return True\n",
    "\n",
    "@log_to_csv(filename=\"timer_log_results.csv\", buffer_size=10, flush_on_return=True)\n",
    "def pandas_read_csv_engine__c_dtype_numpy(datafile=data_csv):\n",
    "    df = pd.read_csv(datafile, engine=\"c\", dtype_backend=\"numpy_nullable\")\n",
    "    print(df.head(1))\n",
    "    return True\n",
    "\n",
    "@log_to_csv(filename=\"timer_log_results.csv\", buffer_size=10, flush_on_return=True)\n",
    "def pandas_read_csv_engine_python__dtype_numpy(datafile=data_csv):\n",
    "    df = pd.read_csv(datafile, engine=\"python\", dtype_backend=\"numpy_nullable\")\n",
    "    print(df.head(1))\n",
    "    return True\n",
    "    \n",
    "@log_to_csv(filename=\"timer_log_results.csv\", buffer_size=10, flush_on_return=True)\n",
    "def pandas_read_csv_engine_pyarrow(datafile=data_csv, engine=\"pyarrow\"):\n",
    "    df = pd.read_csv(datafile)\n",
    "    print(df.head(1))\n",
    "    return True\n",
    "\n",
    "@log_to_csv(filename=\"timer_log_results.csv\", buffer_size=10, flush_on_return=True)\n",
    "def pandas_read_csv_engine_pyarrow_dtype_numpy(datafile=data_csv, engine=\"pyarrow\", dtype_backend=\"numpy_nullable\"):\n",
    "    df = pd.read_csv(datafile)\n",
    "    print(df.head(1))\n",
    "    return True\n",
    "    \n",
    "@log_to_csv(filename=\"timer_log_results.csv\", buffer_size=10, flush_on_return=True)\n",
    "def pandas_read_csv_engine_pyarrow_dtype_pyarrow(datafile=data_csv, engine=\"pyarrow\", dtype_backend=\"pyarrow\"):\n",
    "    df = pd.read_csv(datafile)\n",
    "    print(df.head(1))\n",
    "    return True\n",
    "    \n",
    "@log_to_csv(filename=\"timer_log_results.csv\", buffer_size=10, flush_on_return=True)\n",
    "def pandas_read_parquet(datafile=data_parquet):\n",
    "    df = pd.read_parquet(datafile)\n",
    "    print(df.head(1))\n",
    "    return True\n"
   ]
  },
  {
   "cell_type": "code",
   "execution_count": 10,
   "id": "00930e93-077c-42e4-930f-435e5fa26063",
   "metadata": {
    "editable": true,
    "execution": {
     "iopub.execute_input": "2023-10-03T00:11:28.505909Z",
     "iopub.status.busy": "2023-10-03T00:11:28.505430Z",
     "iopub.status.idle": "2023-10-03T00:26:07.273396Z",
     "shell.execute_reply": "2023-10-03T00:26:07.272416Z",
     "shell.execute_reply.started": "2023-10-03T00:11:28.505890Z"
    },
    "slideshow": {
     "slide_type": ""
    },
    "tags": []
   },
   "outputs": [
    {
     "name": "stdout",
     "output_type": "stream",
     "text": [
      "  customer_id  age  their_lucky_number     occupation psf_membership_status  \\\n",
      "0   A43321819   47                   0  Data Engineer          Contributing   \n",
      "\n",
      "     education date_started_python  \n",
      "0  High School          1924-07-20  \n",
      "  customer_id  age  their_lucky_number     occupation psf_membership_status  \\\n",
      "0   A43321819   47                   0  Data Engineer          Contributing   \n",
      "\n",
      "     education date_started_python  \n",
      "0  High School          1924-07-20  \n",
      "  customer_id  age  their_lucky_number     occupation psf_membership_status  \\\n",
      "0   A43321819   47                   0  Data Engineer          Contributing   \n",
      "\n",
      "     education date_started_python  \n",
      "0  High School          1924-07-20  \n",
      "  customer_id  age  their_lucky_number     occupation psf_membership_status  \\\n",
      "0   A43321819   47                   0  Data Engineer          Contributing   \n",
      "\n",
      "     education date_started_python  \n",
      "0  High School          1924-07-20  \n",
      "  customer_id  age  their_lucky_number     occupation psf_membership_status  \\\n",
      "0   A43321819   47                   0  Data Engineer          Contributing   \n",
      "\n",
      "     education date_started_python  \n",
      "0  High School          1924-07-20  \n",
      "  customer_id  age  their_lucky_number     occupation psf_membership_status  \\\n",
      "0   A43321819   47                   0  Data Engineer          Contributing   \n",
      "\n",
      "     education date_started_python  \n",
      "0  High School          1924-07-20  \n",
      "  customer_id  age  their_lucky_number     occupation psf_membership_status  \\\n",
      "0   A43321819   47                   0  Data Engineer          Contributing   \n",
      "\n",
      "     education date_started_python  \n",
      "0  High School          1924-07-20  \n",
      "  customer_id  age  their_lucky_number     occupation psf_membership_status  \\\n",
      "0   A43321819   47                   0  Data Engineer          Contributing   \n",
      "\n",
      "     education date_started_python  \n",
      "0  High School          1924-07-20  \n",
      "  customer_id  age  their_lucky_number     occupation psf_membership_status  \\\n",
      "0   A43321819   47                   0  Data Engineer          Contributing   \n",
      "\n",
      "     education date_started_python  \n",
      "0  High School          1924-07-20  \n",
      "  customer_id  age  their_lucky_number     occupation psf_membership_status  \\\n",
      "0   A43321819   47                   0  Data Engineer          Contributing   \n",
      "\n",
      "     education date_started_python  \n",
      "0  High School          1924-07-20  \n"
     ]
    },
    {
     "data": {
      "text/plain": [
       "True"
      ]
     },
     "execution_count": 10,
     "metadata": {},
     "output_type": "execute_result"
    }
   ],
   "source": [
    "pandas_read_csv_default()\n",
    "pandas_read_csv_engine_c()\n",
    "pandas_read_csv_engine_python()\n",
    "pandas_read_csv_default_dtype_numpy()\n",
    "pandas_read_csv_engine__c_dtype_numpy()\n",
    "pandas_read_csv_engine_python__dtype_numpy()\n",
    "pandas_read_csv_engine_pyarrow()\n",
    "pandas_read_csv_engine_pyarrow_dtype_numpy()\n",
    "pandas_read_csv_engine_pyarrow_dtype_pyarrow()\n",
    "pandas_read_parquet()"
   ]
  },
  {
   "cell_type": "code",
   "execution_count": 11,
   "id": "4ebf3201-dc19-4659-974f-342b537ae4c7",
   "metadata": {
    "editable": true,
    "execution": {
     "iopub.execute_input": "2023-10-03T00:29:53.590819Z",
     "iopub.status.busy": "2023-10-03T00:29:53.590363Z",
     "iopub.status.idle": "2023-10-03T00:29:53.596726Z",
     "shell.execute_reply": "2023-10-03T00:29:53.595845Z",
     "shell.execute_reply.started": "2023-10-03T00:29:53.590802Z"
    },
    "slideshow": {
     "slide_type": ""
    },
    "tags": []
   },
   "outputs": [],
   "source": [
    "@log_to_csv(filename=\"timer_log_results.csv\", buffer_size=10, flush_on_return=True)\n",
    "def polars_read_csv(datafile=data_csv):\n",
    "    df = pl.read_csv(source=datafile)\n",
    "    print(df.head(1))\n",
    "    return True\n",
    "\n",
    "@log_to_csv(filename=\"timer_log_results.csv\", buffer_size=10, flush_on_return=True)\n",
    "def polars_read_csv_gz(datafile=data_csv):\n",
    "    df = pl.data_csv_gz) # NOTE: gzipped file here\n",
    "    print(df.head(1))\n",
    "    return True\n",
    "    \n",
    "@log_to_csv(filename=\"timer_log_results.csv\", buffer_size=10, flush_on_return=True)\n",
    "def polars_read_parquet(datafile=data_parquet):\n",
    "    df = pl.read_parquet(source=datafile)\n",
    "    print(df.head(1))\n",
    "    return True"
   ]
  },
  {
   "cell_type": "code",
   "execution_count": 13,
   "id": "891366bb-9d9e-4f70-a012-672a04af1554",
   "metadata": {
    "editable": true,
    "execution": {
     "iopub.execute_input": "2023-10-03T00:30:17.794547Z",
     "iopub.status.busy": "2023-10-03T00:30:17.794268Z",
     "iopub.status.idle": "2023-10-03T00:30:22.405059Z",
     "shell.execute_reply": "2023-10-03T00:30:22.403540Z",
     "shell.execute_reply.started": "2023-10-03T00:30:17.794527Z"
    },
    "slideshow": {
     "slide_type": ""
    },
    "tags": []
   },
   "outputs": [
    {
     "name": "stdout",
     "output_type": "stream",
     "text": [
      "shape: (1, 7)\n",
      "┌─────────────┬─────┬────────────────┬───────────────┬───────────────┬─────────────┬───────────────┐\n",
      "│ customer_id ┆ age ┆ their_lucky_nu ┆ occupation    ┆ psf_membershi ┆ education   ┆ date_started_ │\n",
      "│ ---         ┆ --- ┆ mber           ┆ ---           ┆ p_status      ┆ ---         ┆ python        │\n",
      "│ str         ┆ i64 ┆ ---            ┆ str           ┆ ---           ┆ str         ┆ ---           │\n",
      "│             ┆     ┆ i64            ┆               ┆ str           ┆             ┆ str           │\n",
      "╞═════════════╪═════╪════════════════╪═══════════════╪═══════════════╪═════════════╪═══════════════╡\n",
      "│ A43321819   ┆ 47  ┆ 0              ┆ Data Engineer ┆ Contributing  ┆ High School ┆ 1924-07-20    │\n",
      "└─────────────┴─────┴────────────────┴───────────────┴───────────────┴─────────────┴───────────────┘\n",
      "shape: (1, 7)\n",
      "┌─────────────┬─────┬────────────────┬───────────────┬───────────────┬─────────────┬───────────────┐\n",
      "│ customer_id ┆ age ┆ their_lucky_nu ┆ occupation    ┆ psf_membershi ┆ education   ┆ date_started_ │\n",
      "│ ---         ┆ --- ┆ mber           ┆ ---           ┆ p_status      ┆ ---         ┆ python        │\n",
      "│ str         ┆ i64 ┆ ---            ┆ str           ┆ ---           ┆ str         ┆ ---           │\n",
      "│             ┆     ┆ i64            ┆               ┆ str           ┆             ┆ datetime[ns]  │\n",
      "╞═════════════╪═════╪════════════════╪═══════════════╪═══════════════╪═════════════╪═══════════════╡\n",
      "│ A43321819   ┆ 47  ┆ 0              ┆ Data Engineer ┆ Contributing  ┆ High School ┆ 1924-07-20    │\n",
      "│             ┆     ┆                ┆               ┆               ┆             ┆ 00:00:00      │\n",
      "└─────────────┴─────┴────────────────┴───────────────┴───────────────┴─────────────┴───────────────┘\n"
     ]
    },
    {
     "data": {
      "text/plain": [
       "True"
      ]
     },
     "execution_count": 13,
     "metadata": {},
     "output_type": "execute_result"
    }
   ],
   "source": [
    "polars_read_csv()\n",
    "polars_read_parquet()"
   ]
  },
  {
   "cell_type": "code",
   "execution_count": null,
   "id": "d720c7bc-64d7-42e6-9859-722dd5ea6684",
   "metadata": {
    "editable": true,
    "slideshow": {
     "slide_type": ""
    },
    "tags": []
   },
   "outputs": [],
   "source": []
  }
 ],
 "metadata": {
  "kernelspec": {
   "display_name": "Python 3 (ipykernel)",
   "language": "python",
   "name": "python3"
  },
  "language_info": {
   "codemirror_mode": {
    "name": "ipython",
    "version": 3
   },
   "file_extension": ".py",
   "mimetype": "text/x-python",
   "name": "python",
   "nbconvert_exporter": "python",
   "pygments_lexer": "ipython3",
   "version": "3.11.4"
  }
 },
 "nbformat": 4,
 "nbformat_minor": 5
}
