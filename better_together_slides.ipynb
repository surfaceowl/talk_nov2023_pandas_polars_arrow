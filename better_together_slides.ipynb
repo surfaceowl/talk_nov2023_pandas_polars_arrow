{
 "cells": [
  {
   "cell_type": "code",
   "execution_count": 1,
   "id": "3151912a-d471-45fe-bad0-29d5e29ff732",
   "metadata": {
    "editable": true,
    "execution": {
     "iopub.execute_input": "2023-10-05T17:41:02.680807Z",
     "iopub.status.busy": "2023-10-05T17:41:02.679383Z",
     "iopub.status.idle": "2023-10-05T17:41:03.668791Z",
     "shell.execute_reply": "2023-10-05T17:41:03.667537Z",
     "shell.execute_reply.started": "2023-10-05T17:41:02.680702Z"
    },
    "slideshow": {
     "slide_type": ""
    },
    "tags": []
   },
   "outputs": [
    {
     "name": "stdout",
     "output_type": "stream",
     "text": [
      "[LabCleanApp] Cleaning /home/chris/dev/talk_pandas_polars_arrow/venv/share/jupyter/lab...\n",
      "[LabCleanApp] staging not present, skipping...\n",
      "[LabCleanApp] Success!\n"
     ]
    }
   ],
   "source": [
    "!jupyter lab clean"
   ]
  },
  {
   "cell_type": "code",
   "execution_count": 2,
   "id": "4766d670-0f7b-442d-896c-5d20b61bb927",
   "metadata": {
    "editable": true,
    "execution": {
     "iopub.execute_input": "2023-10-05T17:41:03.671957Z",
     "iopub.status.busy": "2023-10-05T17:41:03.671175Z",
     "iopub.status.idle": "2023-10-05T17:41:04.085195Z",
     "shell.execute_reply": "2023-10-05T17:41:04.084410Z",
     "shell.execute_reply.started": "2023-10-05T17:41:03.671900Z"
    },
    "slideshow": {
     "slide_type": "skip"
    },
    "tags": []
   },
   "outputs": [],
   "source": [
    "# setup\n",
    "from IPython.display import display, HTML\n",
    "from pathlib import Path\n",
    "\n",
    "import numpy as np\n",
    "import pandas as pd\n",
    "import polars as pl\n",
    "\n",
    "data_path = Path(\"data\")"
   ]
  },
  {
   "cell_type": "markdown",
   "id": "71db076d-1685-471a-ba1b-dc344aa38902",
   "metadata": {
    "editable": true,
    "execution": {
     "iopub.execute_input": "2023-09-28T17:47:16.458680Z",
     "iopub.status.busy": "2023-09-28T17:47:16.458208Z",
     "iopub.status.idle": "2023-09-28T17:47:16.462796Z",
     "shell.execute_reply": "2023-09-28T17:47:16.461727Z",
     "shell.execute_reply.started": "2023-09-28T17:47:16.458658Z"
    },
    "slideshow": {
     "slide_type": "skip"
    },
    "tags": []
   },
   "source": [
    "# Talk Tagline:<br>\n",
    "Supercharge your data engineering workflows by merging the **robustness of Pandas** with the **high-speed capabilities of Polars**, \n",
    "all underpinned by **Apache Arrow's in-memory technology.** <br>\n",
    "<br>\n",
    "This technical deep-dive will unravel the nuances between Pandas and Polars, showcase their newest features, and **demonstrate how to integrate them for optimal performance**. <br>\n",
    "<br>\n",
    "TO DELETE:  Key Differences and Updates: Get up to speed with the latest features and differences between Pandas and Polars. (5 min)<br>\n",
    "Introducing Apache Arrow: Discover what Arrow is and why it's a game-changer in the Python data ecosystem. (5 min)<br>\n",
    "Synergizing Pandas and Polars: Detailed walkthrough on how and why to integrate Pandas and Polars for high-efficiency data manipulation. (15 min) <br>"
   ]
  },
  {
   "cell_type": "markdown",
   "id": "4cbb1aeb-328e-4cdf-bfa7-eeb6c8d18a59",
   "metadata": {
    "editable": true,
    "slideshow": {
     "slide_type": "slide"
    },
    "tags": []
   },
   "source": [
    "\n",
    "<html>\n",
    "<head>\n",
    "</head>\n",
    "<body style=\"background-color: #FFFFFF;\">\n",
    "  <h1 align=\"center\" style=\"font-weight: bold; font-style: italic; font-size: 390%;\">Better Together</h1>\n",
    "  <table border=\"0\" align=\"center\" width=\"100%\" bgcolor=\"#FFFFFF\">\n",
    "    <tr>\n",
    "      <td align=\"center\" width=\"50%\" bgcolor=\"#FFFFFF\">\n",
    "        <img src=\"images/pandas_logo.1280x517.png\" width=\"620\" height=\"250\">\n",
    "      </td>\n",
    "      <td align=\"center\" width=\"50%\" bgcolor=\"#FFFFFF\">\n",
    "        <img src=\"images/polars.round.400x400.png\" width=\"250\" height=\"250\">\n",
    "      </td>\n",
    "    </tr>\n",
    "    <tr>\n",
    "      <td colspan=\"2\" align=\"center\" bgcolor=\"#FFFFFF\">\n",
    "        <img src=\"images/arrow-logo_horizontal.1800x936.png\" width=\"481\" height=\"250\">\n",
    "      </td>\n",
    "    </tr>\n",
    "  </table>\n",
    "  <br>\n",
    "  <div style=\"font-size: 300%;\">\n",
    "    <b>Better Together: Unleashing the Synergy of Pandas, Polars, and Apache Arrow</b><br>\n",
    "    <b>Speaker:</b> Chris Brousseau<br>\n",
    "    <b>Date:</b> 8 Oct 2023\n",
    "  </div>\n",
    "</body>\n",
    "</html>\n",
    " </div>\n",
    "</body>\n",
    "</html>"
   ]
  },
  {
   "cell_type": "markdown",
   "id": "a24bbb8b-7769-4459-8d57-5fa6fb4f26f7",
   "metadata": {
    "editable": true,
    "execution": {
     "iopub.execute_input": "2023-10-05T17:41:45.618979Z",
     "iopub.status.busy": "2023-10-05T17:41:45.617699Z",
     "iopub.status.idle": "2023-10-05T17:41:45.629488Z",
     "shell.execute_reply": "2023-10-05T17:41:45.627405Z",
     "shell.execute_reply.started": "2023-10-05T17:41:45.618942Z"
    },
    "slideshow": {
     "slide_type": ""
    },
    "tags": []
   },
   "source": [
    "<style>\n",
    "    .custom-slide-table {\n",
    "        width: 100%;\n",
    "        table-layout: fixed;\n",
    "    }\n",
    "\n",
    "    .custom-slide-table td {\n",
    "        vertical-align: middle;\n",
    "    }\n",
    "</style>\n",
    "\n",
    "<table class=\"custom-slide-table\">\n",
    "    <tr>\n",
    "        <td class=\"image-content\">\n",
    "            <img src=\"./images/intro_slide_full.jpg\" alt=\"Images of me - full slide\">\n",
    "        </td>\n",
    "    </tr>\n",
    "</table>"
   ]
  },
  {
   "cell_type": "markdown",
   "id": "ff1e4754-4c9b-4c24-903a-993de5bba28c",
   "metadata": {
    "editable": true,
    "slideshow": {
     "slide_type": "slide"
    },
    "tags": []
   },
   "source": [
    "# TLDR: \n",
    "##\n",
    "## Pandas API is more complete and speed improving\n",
    "##\n",
    "## Polars already fast.\n",
    "##\n",
    "## Arrow enables both + Easy to transfer data back and forth with Arrow.\n",
    "##\n",
    "## Build better pipelines -- use each when it makes sense"
   ]
  },
  {
   "cell_type": "markdown",
   "id": "98823da9-0a27-4bf6-97ab-5ad8d5a6e331",
   "metadata": {
    "editable": true,
    "execution": {
     "iopub.execute_input": "2023-10-04T19:50:04.890206Z",
     "iopub.status.busy": "2023-10-04T19:50:04.889842Z",
     "iopub.status.idle": "2023-10-04T19:50:04.899025Z",
     "shell.execute_reply": "2023-10-04T19:50:04.898073Z",
     "shell.execute_reply.started": "2023-10-04T19:50:04.890181Z"
    },
    "slideshow": {
     "slide_type": ""
    },
    "tags": []
   },
   "source": [
    "<h1>What is Apache Arrow / Why is it a Game Changer?</h1>\n",
    "\n",
    "<p style=\"font-size: 30px; line-height: 2;\">\n",
    "  <strong>In-memory data format for tabular data</strong><br><br>\n",
    "  <strong>Interoperability ==> Easier</strong> Arrow is program independent<br>\n",
    "  <strong>Datatypes ==> More + Better</strong>  ..vs Numpy. String dtype; Missing data support (NA) for all data types<br>\n",
    "  <strong>Speed ==> Faster</strong> Columnar format; zero-copy reads ==> transfer pointers + metadata vs copy data<br>\n",
    "</p>\n",
    "\n",
    "<table border=\"1\" style=\"width: 80%; font-size: 18px;\">\n",
    "  <thead>\n",
    "    <tr style=\"font-weight: bold;\">\n",
    "      <th style=\"text-align: center; padding: 20px; height: 100px;\">\n",
    "        <img src=\"./images/arrow_simd.948x651.png\" alt=\"in-memory columnar format\" style=\"width: 600px; margin-right: 20px;\">\n",
    "      </th>\n",
    "      <th style=\"text-align: center; padding: 20px; height: 100px;\">\n",
    "        <img src=\"./images/arrow_copy.574x318.png\" alt=\"zero-copy reads\" style=\"width: 500px; margin-left: 20px;\">\n",
    "      </th>\n",
    "    </tr>\n",
    "  </thead>\n",
    "  <tbody>\n",
    "    <tr style=\"background-color: #FFFFFF;\">\n",
    "      <td colspan=\"3\" style=\"font-weight: bold; text-align: center;\">\n",
    "        Image source: Apache Foundation\n",
    "      </td>\n",
    "    </tr>\n",
    "    <tr>\n",
    "      <td style=\"text-align: center;\">\n",
    "        <a href=\"https://arrow.apache.org/overview/\">Apache Arrow Overview</a>\n",
    "      </td>\n",
    "      <td style=\"text-align: center;\">\n",
    "        <a href=\"https://arrow.apache.org/docs/format/Columnar.html\">Columnar Format</a>\n",
    "      </td>\n",
    "      <td style=\"text-align: center;\">\n",
    "        <a href=\"https://pandas.pydata.org/docs/user_guide/pyarrow.html\">Pandas PyArrow</a>\n",
    "      </td>\n",
    "    </tr>\n",
    "  </tbody>\n",
    "</table>\n"
   ]
  },
  {
   "cell_type": "markdown",
   "id": "9fca268d-ff5e-45d2-8465-f8f95e932601",
   "metadata": {
    "editable": true,
    "execution": {
     "iopub.execute_input": "2023-10-02T18:10:08.550854Z",
     "iopub.status.busy": "2023-10-02T18:10:08.549735Z",
     "iopub.status.idle": "2023-10-02T18:10:08.574746Z",
     "shell.execute_reply": "2023-10-02T18:10:08.572358Z",
     "shell.execute_reply.started": "2023-10-02T18:10:08.550793Z"
    },
    "slideshow": {
     "slide_type": "slide"
    },
    "tags": []
   },
   "source": [
    "<h1>Key Differences - Package & Memory</h1>\n",
    "\n",
    "<table border=\"1\" style=\"width: 80%; font-size: 24px;\">\n",
    "  <thead>\n",
    "    <tr style=\"font-weight: bold;\">\n",
    "      <th style=\"vertical-align: bottom;\">Feature</th>\n",
    "      <th style=\"text-align: left;\">\n",
    "        <img src=\"./images/pandas_secondary.svg\" alt=\"Pandas\" style=\"width: 300px; max-width: 100%;\">\n",
    "      </th>\n",
    "      <th style=\"text-align: left;\">\n",
    "        <img src=\"./images/polars.round.400x400.png\" alt=\"Polars\" style=\"width: 200px; max-width: 100%;\">\n",
    "      </th>\n",
    "    </tr>\n",
    "  </thead>\n",
    "  <tbody>\n",
    "    <tr style=\"height:100px\"; style=\"background-color: #FFFFFF;\">\n",
    "      <td>First Release Date</td>\n",
    "      <td>2008</td>\n",
    "      <td>2019</td>\n",
    "    </tr>\n",
    "    <tr style=\"height:100px\"; style=\"background-color: #F0F0F0;\">\n",
    "      <td>Current Release</td>\n",
    "      <td>2.1.1</td>\n",
    "      <td>0.19.7</td>\n",
    "    </tr>\n",
    "    <tr style=\"height:100px\"; style=\"background-color: #FFFFFF;\">\n",
    "      <td>Programming Language</td>\n",
    "      <td>C, Cython, Python</td>\n",
    "      <td>Rust</td>\n",
    "    </tr>\n",
    "    <tr style=\"height:100px\"; style=\"background-color: #F0F0F0; font-weight: bold\">\n",
    "      <td>Memory</td>\n",
    "      <td></td>\n",
    "      <td></td>\n",
    "    </tr>\n",
    "    <tr style=\"height:100px\"; style=\"background-color: #FFFFFF;\">\n",
    "      <td>Memory Backend</td>\n",
    "      <td>Numpy or <strong>Apache Arrow</strong></td>\n",
    "      <td><strong>Apache Arrow</strong></td>\n",
    "    </tr>\n",
    "    <tr style=\"height:100px\"; style=\"background-color: #F0F0F0;\">\n",
    "      <td>Memory implementation</td>\n",
    "      <td>Pyarrow (C++ wrapper on data)</td>\n",
    "      <td>Arrow2 (Rust wrapper on data)</td>\n",
    "    </tr>\n",
    "    <tr style=\"height:100px\"; style=\"background-color: #FFFFFF;\">\n",
    "      <td>Use Index/Multindex</td>\n",
    "      <td>Yes</td>\n",
    "      <td><strong>No</strong></td>\n",
    "    </tr>\n",
    "    <tr style=\"height:100px\"; style=\"background-color: #F0F0F0;\">\n",
    "      <td>Larger-than-Memory/ Out-of-Core</td>\n",
    "      <td>No  (but via Dask)</td>\n",
    "      <td><strong>Native</strong></td>\n",
    "    </tr>\n",
    "    <tr style=\"height:100px\"; style=\"background-color: #FFFFFF;\">\n",
    "      <td>Represent Missing Data</td>\n",
    "      <td>\"Nan\" or \"None\"</td>\n",
    "      <td>\"null\"</td>\n",
    "    </tr>\n",
    "  </tbody>\n",
    "</table>\n"
   ]
  },
  {
   "cell_type": "markdown",
   "id": "25e2837d-88f2-470f-83bc-4ce9caf57927",
   "metadata": {
    "editable": true,
    "execution": {
     "iopub.execute_input": "2023-10-02T18:10:08.550854Z",
     "iopub.status.busy": "2023-10-02T18:10:08.549735Z",
     "iopub.status.idle": "2023-10-02T18:10:08.574746Z",
     "shell.execute_reply": "2023-10-02T18:10:08.572358Z",
     "shell.execute_reply.started": "2023-10-02T18:10:08.550793Z"
    },
    "slideshow": {
     "slide_type": "slide"
    },
    "tags": []
   },
   "source": [
    "<h1>Key Differences - API</h1>\n",
    "\n",
    "<table border=\"1\" style=\"width: 80%; font-size: 24px;\">\n",
    "  <thead>\n",
    "    <tr style=\"font-weight: bold;\">\n",
    "      <th style=\"vertical-align: bottom;\">Feature</th>\n",
    "      <th style=\"text-align: left;\">\n",
    "        <img src=\"./images/pandas_secondary.svg\" alt=\"Pandas\" style=\"width: 300px; max-width: 100%;\">\n",
    "      </th>\n",
    "      <th style=\"text-align: left;\">\n",
    "        <img src=\"./images/polars.round.400x400.png\" alt=\"Polars\" style=\"width: 200px; max-width: 100%;\">\n",
    "      </th>\n",
    "    </tr>\n",
    "  </thead>\n",
    "  <tbody>\n",
    "    <tr style=\"height:100px\"; style=\"background-color: #FFFFFF; font-weight: bold;\">\n",
    "      <td>API</td>\n",
    "      <td></td>\n",
    "      <td></td>\n",
    "    </tr>\n",
    "    <tr style=\"height:100px\"; style=\"background-color: #F0F0F0;\">\n",
    "      <td>Number of Methods</td>\n",
    "      <td><strong><i>TBD</i></strong></td>\n",
    "      <td><strong><i>TBD</i></strong></td>\n",
    "    </tr>\n",
    "    <tr style=\"height:100px\"; style=\"background-color: #FFFFFF;\">\n",
    "      <td>API mode</td>\n",
    "      <td>Eager</td>\n",
    "      <td>Eager or Lazy</td>\n",
    "    </tr>\n",
    "    <tr style=\"height:100px\"; style=\"background-color: #F0F0F0;\">\n",
    "      <td>Query Optimization</td>\n",
    "      <td>No</td>\n",
    "      <td>Yes - with Lazy</td>\n",
    "    </tr>\n",
    "    <tr style=\"height:100px\"; style=\"background-color: #FFFFFF;\">\n",
    "      <td>Parallelization</td>\n",
    "      <td>No - single threaded</td>\n",
    "      <td><strong>Yes - multithreaded (most ops)</td>\n",
    "    </tr>\n",
    "    <tr style=\"height:100px\"; style=\"background-color: #FFFFFF;\">\n",
    "      <td>SIMD</td>\n",
    "      <td>No</td>\n",
    "      <td><strong>Yes</td>\n",
    "    </tr>\n",
    "    <tr style=\"height:100px\"; style=\"background-color: #F0F0F0; font-weight: bold;\">\n",
    "      <td><strong>How to transfer df?</strong></td>\n",
    "      <td></td>\n",
    "      <td>polars.from_pandas</td>\n",
    "    </tr>\n",
    "    <tr style=\"height:100px\"; style=\"background-color: #FFFFFF; font-weight: bold;\">\n",
    "      <td></td>\n",
    "      <td></td>\n",
    "      <td>polars.to_pandas</td>\n",
    "    </tr>\n",
    "  </tbody>\n",
    "</table>\n"
   ]
  },
  {
   "cell_type": "markdown",
   "id": "e1bfe78b-fc92-4606-bfd7-0601347e3b5b",
   "metadata": {
    "editable": true,
    "execution": {
     "iopub.execute_input": "2023-10-04T18:59:44.986576Z",
     "iopub.status.busy": "2023-10-04T18:59:44.986266Z",
     "iopub.status.idle": "2023-10-04T18:59:44.995046Z",
     "shell.execute_reply": "2023-10-04T18:59:44.994090Z",
     "shell.execute_reply.started": "2023-10-04T18:59:44.986555Z"
    },
    "slideshow": {
     "slide_type": "slide"
    },
    "tags": []
   },
   "source": [
    "<h1>Recent Updates</h1>\n",
    "<table border=\"1\" style=\"width: 80%; font-size: 24px;\">\n",
    "  <thead>\n",
    "    <tr style=\"font-weight: bold;\">\n",
    "      <th style=\"vertical-align: bottom;\">Feature</th>\n",
    "      <th style=\"text-align: left;\">\n",
    "        <img src=\"./images/pandas_secondary.svg\" alt=\"Pandas\" style=\"width: 300px; max-width: 100%;\">\n",
    "      </th>\n",
    "      <th style=\"text-align: left;\">\n",
    "        <img src=\"./images/polars.round.400x400.png\" alt=\"Polars\" style=\"width: 200px; max-width: 100%;\">\n",
    "      </th>\n",
    "    </tr>\n",
    "  </thead>\n",
    "  <tbody>\n",
    "    <tr style=\"height:100px\"; style=\"background-color: #FFFFFF; font-weight: bold;\">\n",
    "      <td>Speed - 2023</td>\n",
    "      <td></td>\n",
    "      <td></td>\n",
    "    </tr>\n",
    "    <tr style=\"background-color: #F0F0F0;\">\n",
    "      <td>Backend</td>\n",
    "      <td>Apache Arrow (kwargs: dtype_backend; engine)</td>\n",
    "      <td>+cloud reading formats/speed; bugfix</td>\n",
    "    </tr>\n",
    "    <tr style=\"height:100px\"; style=\"background-color: #FFFFFF;\">\n",
    "      <td></td>\n",
    "      <td>PyArrow <strong>required </strong>after Pandas 3.0.0</td>\n",
    "      <td></td>\n",
    "    </tr>\n",
    "    <tr style=\"height:100px\"; style=\"background-color: #F0F0F0;\">\n",
    "      <td></td>\n",
    "      <td>Copy-on-Write</td>\n",
    "      <td></td>\n",
    "    </tr>\n",
    "    <tr style=\"height:100px\"; style=\"background-color: #FFFFFF;\">\n",
    "      <td>Feature Flags / optional dependencies</td>\n",
    "      <td>new: pip install pandas[aws, performance]</td>\n",
    "      <td>pip install polars[pandas, pyarrow, ffspec]</td>\n",
    "    </tr>\n",
    "    <tr style=\"height:100px\"; style=\"background-color: #FFFFFF;\">\n",
    "      <td>Reference</td>\n",
    "      <td><a href=\"https://pandas.pydata.org/docs/whatsnew/index.html\">pandas release notes</td>\n",
    "      <td><a href=\"https://github.com/pola-rs/polars/releases\">polars release notes</td>\n",
    "    </tr>\n",
    "  </tbody>\n",
    "</table>"
   ]
  },
  {
   "cell_type": "code",
   "execution_count": null,
   "id": "8159f439-9203-49b0-9806-bbb8e249fe2a",
   "metadata": {
    "editable": true,
    "slideshow": {
     "slide_type": "slide"
    },
    "tags": []
   },
   "outputs": [],
   "source": [
    "# but how much faster is it?\n",
    "\n",
    "\n",
    "\n"
   ]
  },
  {
   "cell_type": "code",
   "execution_count": null,
   "id": "20a4685e-d898-414f-bd54-114947a7f876",
   "metadata": {
    "editable": true,
    "slideshow": {
     "slide_type": "slide"
    },
    "tags": []
   },
   "outputs": [],
   "source": [
    "# syntax example - pandas\n",
    "data = Path(\"data\", \"python_dev_universe.parquet\")\n",
    "import pandas as pd\n",
    "df_pandas = pd.read_parquet(data)\n",
    "df_pandas.head(2)"
   ]
  },
  {
   "cell_type": "code",
   "execution_count": null,
   "id": "de0bb46a-d820-49ec-a207-f599fa366e54",
   "metadata": {
    "editable": true,
    "slideshow": {
     "slide_type": "fragment"
    },
    "tags": []
   },
   "outputs": [],
   "source": [
    "# syntax example - polars\n",
    "import polars as pl\n",
    "df_polars = pl.read_parquet(data)\n",
    "df_polars.head(2)"
   ]
  },
  {
   "cell_type": "code",
   "execution_count": null,
   "id": "251a5b9b-a330-459f-a304-f3e0248b6b84",
   "metadata": {
    "editable": true,
    "slideshow": {
     "slide_type": "fragment"
    },
    "tags": []
   },
   "outputs": [],
   "source": [
    "df_pandas[\"customer_id\"].count()"
   ]
  },
  {
   "cell_type": "code",
   "execution_count": null,
   "id": "0602eb8b-b747-49db-a51a-1daab374d5dd",
   "metadata": {
    "editable": true,
    "slideshow": {
     "slide_type": "fragment"
    },
    "tags": []
   },
   "outputs": [],
   "source": [
    "df_polars.select(pl.count(\"customer_id\"))"
   ]
  },
  {
   "cell_type": "markdown",
   "id": "0ed0de54-5d10-46fc-87be-adc8b208d46a",
   "metadata": {
    "editable": true,
    "execution": {
     "iopub.execute_input": "2023-09-28T19:03:53.363132Z",
     "iopub.status.busy": "2023-09-28T19:03:53.362681Z",
     "iopub.status.idle": "2023-09-28T19:03:53.367099Z",
     "shell.execute_reply": "2023-09-28T19:03:53.366236Z",
     "shell.execute_reply.started": "2023-09-28T19:03:53.363109Z"
    },
    "slideshow": {
     "slide_type": "slide"
    },
    "tags": []
   },
   "source": [
    "# Key Differences and Updates\n",
    "features\n",
    "performance\n",
    "\n",
    "4 views:  pandas numpy, pandas arrow, polars, polars-lazy eval"
   ]
  },
  {
   "cell_type": "code",
   "execution_count": null,
   "id": "c5f5b168-a16e-429e-9601-03397e5014f4",
   "metadata": {
    "editable": true,
    "slideshow": {
     "slide_type": ""
    },
    "tags": []
   },
   "outputs": [],
   "source": [
    "# how and why to integrate Pandas and Polars for high-efficiency"
   ]
  },
  {
   "cell_type": "markdown",
   "id": "4e2f9e5c-521e-414f-a92d-54cb066e883e",
   "metadata": {
    "editable": true,
    "slideshow": {
     "slide_type": "slide"
    },
    "tags": []
   },
   "source": [
    "# TBD - python dataframe interchange protocol"
   ]
  },
  {
   "cell_type": "markdown",
   "id": "30e31c18-a387-4ba2-b254-4ba4c00f8f2b",
   "metadata": {
    "editable": true,
    "slideshow": {
     "slide_type": "slide"
    },
    "tags": []
   },
   "source": [
    "# How to integrate them for optimal performance"
   ]
  },
  {
   "cell_type": "markdown",
   "id": "68fc6a15-2583-48b0-a7e3-ada6420e0285",
   "metadata": {
    "editable": true,
    "slideshow": {
     "slide_type": "slide"
    },
    "tags": []
   },
   "source": [
    "# Nuances - Get the Best out of Pandas and Polars\n",
    "\n",
    "setup tips - Pandas\n",
    "### enable Copy-On-Write\n",
    "pd.options.mode.copy_on_write = True\n",
    "\n",
    "### set pyarrow for all string data\n",
    "pd.options.future.infer_string = True  \n",
    "\n",
    "### use pyarrow for I/O\n",
    "pd.read_csv( my_datat.csv\",  engine=\"pyarrow\"   dtype_backend=\"pyarrow\")\n",
    "pd.read_parquet,\n",
    ")"
   ]
  },
  {
   "cell_type": "markdown",
   "id": "1adb4b58-09fd-4fb3-84fa-325f0af6060e",
   "metadata": {
    "editable": true,
    "slideshow": {
     "slide_type": "slide"
    },
    "tags": []
   },
   "source": [
    "# Recap\n",
    "##\n",
    "## Pandas API is more complete and speed improving\n",
    "##\n",
    "## Polars already fast.\n",
    "##\n",
    "## Arrow enables both + Easy to transfer data back and forth with Arrow.\n",
    "##\n",
    "## Build better pipelines -- use each when it makes sense"
   ]
  },
  {
   "cell_type": "markdown",
   "id": "16df54c5-d7b9-43f6-be58-118bfe78af87",
   "metadata": {
    "editable": true,
    "slideshow": {
     "slide_type": "slide"
    },
    "tags": []
   },
   "source": [
    "# Thank you!"
   ]
  },
  {
   "cell_type": "markdown",
   "id": "3d059353-8a67-4c35-ab0b-7961367c5b7d",
   "metadata": {
    "editable": true,
    "execution": {
     "iopub.execute_input": "2023-10-02T17:12:37.365803Z",
     "iopub.status.busy": "2023-10-02T17:12:37.365178Z",
     "iopub.status.idle": "2023-10-02T17:12:37.373475Z",
     "shell.execute_reply": "2023-10-02T17:12:37.371396Z",
     "shell.execute_reply.started": "2023-10-02T17:12:37.365781Z"
    },
    "slideshow": {
     "slide_type": "slide"
    },
    "tags": []
   },
   "source": [
    "# Reference - Links\n",
    "\n",
    "pandas\n",
    "https://pandas.pydata.org/docs/whatsnew/index.html\n",
    "\n",
    "polars\n",
    "https://pola-rs.github.io/polars/\n",
    "\n",
    "apache arrow\n",
    "https://arrow.apache.org/overview/\n",
    "\n",
    "pyarrrow\n",
    "https://arrow.apache.org/docs/python/index.html\n",
    "\n",
    "dataframe API standard\n",
    "https://data-apis.org/dataframe-api/draft/index.html\n",
    "https://ponder.io/how-the-python-dataframe-interchange-protocol-makes-life-better/\n",
    "\n",
    "Arrow Revolution\n",
    "https://datapythonista.me/blog/pandas-20-and-the-arrow-revolution-part-i\n",
    "\n",
    "# convert to/from pandas/pyarrow\n",
    "https://arrow.apache.org/docs/python/pandas.html"
   ]
  },
  {
   "cell_type": "markdown",
   "id": "f4e3f341-ccb7-4434-90fc-08fcbb548545",
   "metadata": {
    "editable": true,
    "slideshow": {
     "slide_type": "slide"
    },
    "tags": []
   },
   "source": [
    "# Reference - Datatypes"
   ]
  },
  {
   "cell_type": "markdown",
   "id": "d46b66b4-65b1-429e-a022-dedd41a1641b",
   "metadata": {
    "editable": true,
    "execution": {
     "iopub.status.busy": "2023-10-02T17:12:37.374516Z",
     "iopub.status.idle": "2023-10-02T17:12:37.374958Z",
     "shell.execute_reply": "2023-10-02T17:12:37.374776Z",
     "shell.execute_reply.started": "2023-10-02T17:12:37.374758Z"
    },
    "slideshow": {
     "slide_type": "slide"
    },
    "tags": []
   },
   "source": [
    "# Reference - Syntax examples\n",
    "https://www.rhosignal.com/posts/polars-pandas-cheatsheet/\n"
   ]
  }
 ],
 "metadata": {
  "kernelspec": {
   "display_name": "Python 3 (ipykernel)",
   "language": "python",
   "name": "python3"
  },
  "language_info": {
   "codemirror_mode": {
    "name": "ipython",
    "version": 3
   },
   "file_extension": ".py",
   "mimetype": "text/x-python",
   "name": "python",
   "nbconvert_exporter": "python",
   "pygments_lexer": "ipython3",
   "version": "3.11.4"
  }
 },
 "nbformat": 4,
 "nbformat_minor": 5
}
