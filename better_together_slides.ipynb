{
 "cells": [
  {
   "cell_type": "code",
   "execution_count": 1,
   "id": "4766d670-0f7b-442d-896c-5d20b61bb927",
   "metadata": {
    "editable": true,
    "execution": {
     "iopub.execute_input": "2023-10-02T18:08:31.376473Z",
     "iopub.status.busy": "2023-10-02T18:08:31.375775Z",
     "iopub.status.idle": "2023-10-02T18:08:31.738213Z",
     "shell.execute_reply": "2023-10-02T18:08:31.737478Z",
     "shell.execute_reply.started": "2023-10-02T18:08:31.376446Z"
    },
    "slideshow": {
     "slide_type": "skip"
    },
    "tags": []
   },
   "outputs": [],
   "source": [
    "# setup\n",
    "from IPython.display import display, HTML\n",
    "from pathlib import Path\n",
    "\n",
    "import numpy as np\n",
    "import pandas as pd\n",
    "import polars as pl\n",
    "\n",
    "data_path = Path(\"data\")"
   ]
  },
  {
   "cell_type": "markdown",
   "id": "4cbb1aeb-328e-4cdf-bfa7-eeb6c8d18a59",
   "metadata": {
    "editable": true,
    "slideshow": {
     "slide_type": "slide"
    },
    "tags": []
   },
   "source": [
    "\n",
    "<html>\r\n",
    "<head>\r\n",
    "</head>\r\n",
    "<body style=\"background-color: #FFFFFF;\">\r\n",
    "  <h1 align=\"center\" style=\"font-weight: bold; font-style: italic; font-size: 390%;\">Better Together</h1>\r\n",
    "  <table border=\"0\" align=\"center\" width=\"100%\" bgcolor=\"#FFFFFF\">\r\n",
    "    <tr>\r\n",
    "      <td align=\"center\" width=\"50%\" bgcolor=\"#FFFFFF\">\r\n",
    "        <img src=\"images/pandas_logo.1280x517.png\" width=\"620\" height=\"250\">\r\n",
    "      </td>\r\n",
    "      <td align=\"center\" width=\"50%\" bgcolor=\"#FFFFFF\">\r\n",
    "        <img src=\"images/polars.round.400x400.png\" width=\"250\" height=\"250\">\r\n",
    "      </td>\r\n",
    "    </tr>\r\n",
    "    <tr>\r\n",
    "      <td colspan=\"2\" align=\"center\" bgcolor=\"#FFFFFF\">\r\n",
    "        <img src=\"images/arrow-logo_horizontal.1800x936.png\" width=\"481\" height=\"250\">\r\n",
    "      </td>\r\n",
    "    </tr>\r\n",
    "  </table>\r\n",
    "  <br>\r\n",
    "  <div style=\"font-size: 300%;\">\r\n",
    "    <b>Better Together: Unleashing the Synergy of Pandas, Polars, and Apache Arrow</b><br>\r\n",
    "    <b>Speaker:</b> Chris Brousseau<br>\r\n",
    "    <b>Date:</b> 8 Oct 2023\r\n",
    "  </div>\r\n",
    "</body>\r\n",
    "</html>\r\n",
    " </div>\r\n",
    "</body>\r\n",
    "</html>"
   ]
  },
  {
   "cell_type": "markdown",
   "id": "33d32b50-28a2-4fd7-a1a5-6fede41cc183",
   "metadata": {
    "editable": true,
    "slideshow": {
     "slide_type": "slide"
    },
    "tags": []
   },
   "source": [
    "## About Me:\n",
    "copy from 500 AI talk\n"
   ]
  },
  {
   "cell_type": "markdown",
   "id": "71db076d-1685-471a-ba1b-dc344aa38902",
   "metadata": {
    "editable": true,
    "execution": {
     "iopub.execute_input": "2023-09-28T17:47:16.458680Z",
     "iopub.status.busy": "2023-09-28T17:47:16.458208Z",
     "iopub.status.idle": "2023-09-28T17:47:16.462796Z",
     "shell.execute_reply": "2023-09-28T17:47:16.461727Z",
     "shell.execute_reply.started": "2023-09-28T17:47:16.458658Z"
    },
    "slideshow": {
     "slide_type": "slide"
    },
    "tags": []
   },
   "source": [
    "# Talk Tagline:<br>\n",
    "Supercharge your data engineering workflows by merging the **robustness of Pandas** with the **high-speed capabilities of Polars**, \n",
    "all underpinned by Apache Arrow's in-memory technology. <br>\n",
    "This technical deep-dive will unravel the nuances between Pandas and Polars, showcase their newest features, and demonstrate how to integrate them for optimal performance. \n",
    "Learn actionable techniques to make your data pipelines faster, more efficient, and ready for scale. Join us to see how you might elevate your data engineering toolkit!<br>\n",
    "\n",
    "Key Differences and Updates: Get up to speed with the latest features and differences between Pandas and Polars. (5 min)\r\n",
    "Introducing Apache Arrow: Discover what Arrow is and why it's a game-changer in the Python data ecosystem. (5 min)\r\n",
    "Synergizing Pandas and Polars: Detailed walkthrough on how and why to integrate Pandas and Polars for high-efficiency data manipulation. (15 min)"
   ]
  },
  {
   "cell_type": "markdown",
   "id": "49f74b22-fb64-4285-aa53-3fbc3cb8ea88",
   "metadata": {
    "editable": true,
    "execution": {
     "iopub.execute_input": "2023-10-02T18:10:08.550854Z",
     "iopub.status.busy": "2023-10-02T18:10:08.549735Z",
     "iopub.status.idle": "2023-10-02T18:10:08.574746Z",
     "shell.execute_reply": "2023-10-02T18:10:08.572358Z",
     "shell.execute_reply.started": "2023-10-02T18:10:08.550793Z"
    },
    "slideshow": {
     "slide_type": "slide"
    },
    "tags": []
   },
   "source": [
    "<h1>Key Differences and Updates</h1>\n",
    "\n",
    "<table border=\"1\" style=\"width: 80%; font-size: 24px;\">\n",
    "  <thead>\n",
    "    <tr style=\"font-weight: bold;\">\n",
    "      <th>Feature</th>\n",
    "      <th>Pandas</th>\n",
    "      <th>Polars</th>\n",
    "    </tr>\n",
    "  </thead>\n",
    "  <tbody>\n",
    "    <tr style=\"background-color: #FFFFFF;\">\n",
    "      <td>First Release</td>\n",
    "      <td>2008</td>\n",
    "      <td>2019</td>\n",
    "    </tr>\n",
    "    <tr style=\"background-color: #F0F0F0;\">\n",
    "      <td>Programming Language</td>\n",
    "      <td>C, Cython, Python</td>\n",
    "      <td>Rust</td>\n",
    "    </tr>\n",
    "    <tr style=\"background-color: #FFFFFF; font-weight: bold\">\n",
    "      <td>Memory</td>\n",
    "      <td></td>\n",
    "      <td></td>\n",
    "    </tr>\n",
    "    <tr style=\"background-color: #F0F0F0;\">\n",
    "      <td>Memory Backend</td>\n",
    "      <td>Numpy or <strong>Apache Arrow</td>\n",
    "      <td><strong>Apache Arrow</td>\n",
    "    </tr>\n",
    "    <tr style=\"background-color: #FFFFFF;\">\n",
    "      <td>Memory implementation</td>\n",
    "      <td>Pyarrow (C++ wrapper on data)</td>\n",
    "      <td>Arrow2 (Rust wrapper on data)</td>\n",
    "    </tr>\n",
    "    <tr style=\"background-color: #F0F0F0;\">\n",
    "      <td>Use Index/Multindex</td>\n",
    "      <td>Yes</td>\n",
    "      <td><strong>No</td>\n",
    "    </tr>\n",
    "    <tr style=\"background-color: #FFFFFF;\">\n",
    "      <td>Larger-than-Memory Support</td>\n",
    "      <td>No  (but via Dask)</td>\n",
    "      <td><strong>Native</td>\n",
    "    </tr>\n",
    "    <tr style=\"background-color: #F0F0F0;\">\n",
    "      <td>Represent Missing Data</td>\n",
    "      <td>\"Nan\" or \"None\"</td>\n",
    "      <td>\"null\"</td>\n",
    "    </tr>\n",
    "    <tr style=\"background-color: #FFFFFF; font-weight: bold;\">\n",
    "      <td>API</td>\n",
    "      <td></td>\n",
    "      <td></td>\n",
    "    </tr>\n",
    "    <tr style=\"background-color: #F0F0F0;\">\n",
    "      <td>Number of Methods</td>\n",
    "      <td><strong><i>TBD</i></strong></td>\n",
    "      <td><strong><i>TBD</i></strong></td>\n",
    "    </tr>\n",
    "    <tr style=\"background-color: #FFFFFF;\">\n",
    "      <td>API mode</td>\n",
    "      <td>Eager</td>\n",
    "      <td>Eager or Lazy</td>\n",
    "    </tr>\n",
    "    <tr style=\"background-color: #F0F0F0;\">\n",
    "      <td>Query Optimization</td>\n",
    "      <td>No</td>\n",
    "      <td>Yes - with Lazy</td>\n",
    "    </tr>\n",
    "    <tr style=\"background-color: #FFFFFF;\">\n",
    "      <td>Multithreading</td>\n",
    "      <td>Limited</td>\n",
    "      <td><strong>Most operations</td>\n",
    "    </tr>\n",
    "    <tr style=\"background-color: #F0F0F0; font-weight: bold;\">\n",
    "      <td>How to transfer df?</td>\n",
    "      <td></td>\n",
    "      <td>polars.from_pandas</td>\n",
    "    </tr>\n",
    "    <tr style=\"background-color: #FFFFFF;\">\n",
    "      <td></td>\n",
    "      <td></td>\n",
    "      <td>polars.to_pandas</td>\n",
    "    </tr>\n",
    "  </tbody>\n",
    "</table>\n"
   ]
  },
  {
   "cell_type": "markdown",
   "id": "c0ae7cd8-8592-492d-b745-9d42956e9c9a",
   "metadata": {
    "editable": true,
    "slideshow": {
     "slide_type": "slide"
    },
    "tags": []
   },
   "source": [
    "# Why is Apache Arrow a Game Changer?\n",
    "\n",
    "**Speed** -  in-memory columnar format; avoids costly serialization and deserialization ==> transfer pointers + metadata vs. copying data <br>\n",
    "**Interoperability** - arrow is program independent <br>\n",
    "**Datatypes** - more + better datatypes than numpy; Missing data support (NA) for all data types <br>\n",
    "\n",
    "https://pandas.pydata.org/docs/user_guide/pyarrow.html <br>\n",
    "\n",
    "python dataframe interchange protocol <br>"
   ]
  },
  {
   "cell_type": "markdown",
   "id": "0ed0de54-5d10-46fc-87be-adc8b208d46a",
   "metadata": {
    "editable": true,
    "execution": {
     "iopub.execute_input": "2023-09-28T19:03:53.363132Z",
     "iopub.status.busy": "2023-09-28T19:03:53.362681Z",
     "iopub.status.idle": "2023-09-28T19:03:53.367099Z",
     "shell.execute_reply": "2023-09-28T19:03:53.366236Z",
     "shell.execute_reply.started": "2023-09-28T19:03:53.363109Z"
    },
    "slideshow": {
     "slide_type": "slide"
    },
    "tags": []
   },
   "source": [
    "# Key Differences and Updates\n",
    "features\n",
    "performance\n",
    "\n",
    "4 views:  pandas numpy, pandas arrow, polars, polars-lazy eval"
   ]
  },
  {
   "cell_type": "markdown",
   "id": "4e2f9e5c-521e-414f-a92d-54cb066e883e",
   "metadata": {
    "editable": true,
    "slideshow": {
     "slide_type": "slide"
    },
    "tags": []
   },
   "source": [
    "# TBD - python dataframe interchange protocol"
   ]
  },
  {
   "cell_type": "markdown",
   "id": "68fc6a15-2583-48b0-a7e3-ada6420e0285",
   "metadata": {
    "editable": true,
    "slideshow": {
     "slide_type": "slide"
    },
    "tags": []
   },
   "source": [
    "# Synergizing Pandas and Polars\n",
    "\n",
    "setup tips - Pandas\n",
    "# enable Copy-On-Write\n",
    "pd.options.mode.copy_on_write = True\n",
    "\n",
    "# set pyarrow for all string data\n",
    "pd.options.future.infer_string = True  \n",
    "\n",
    "# use pyarrow for I/O\n",
    "pd.read_csv( my_datat.csv\",  engine=\"pyarrow\"   dtype_backend=\"pyarrow\")\n",
    "pd.read_parquet,\r\n",
    ")"
   ]
  },
  {
   "cell_type": "markdown",
   "id": "1adb4b58-09fd-4fb3-84fa-325f0af6060e",
   "metadata": {
    "editable": true,
    "slideshow": {
     "slide_type": "slide"
    },
    "tags": []
   },
   "source": [
    "# Recap"
   ]
  },
  {
   "cell_type": "markdown",
   "id": "16df54c5-d7b9-43f6-be58-118bfe78af87",
   "metadata": {
    "editable": true,
    "slideshow": {
     "slide_type": "slide"
    },
    "tags": []
   },
   "source": [
    "# Thank you!"
   ]
  },
  {
   "cell_type": "markdown",
   "id": "3d059353-8a67-4c35-ab0b-7961367c5b7d",
   "metadata": {
    "editable": true,
    "execution": {
     "iopub.execute_input": "2023-10-02T17:12:37.365803Z",
     "iopub.status.busy": "2023-10-02T17:12:37.365178Z",
     "iopub.status.idle": "2023-10-02T17:12:37.373475Z",
     "shell.execute_reply": "2023-10-02T17:12:37.371396Z",
     "shell.execute_reply.started": "2023-10-02T17:12:37.365781Z"
    },
    "slideshow": {
     "slide_type": "slide"
    },
    "tags": []
   },
   "source": [
    "# Reference Material\n",
    "\n",
    "pandas\n",
    "https://pandas.pydata.org/docs/whatsnew/index.html\n",
    "\n",
    "polars\n",
    "https://pola-rs.github.io/polars/\n",
    "\n",
    "apache arrow\n",
    "https://arrow.apache.org/overview/\n",
    "\n",
    "pyarrrow\n",
    "https://arrow.apache.org/docs/python/index.html\n",
    "\n",
    "dataframe API standard\n",
    "https://data-apis.org/dataframe-api/draft/index.html\n",
    "https://ponder.io/how-the-python-dataframe-interchange-protocol-makes-life-better/\n",
    "\n",
    "Arrow Revolution\n",
    "https://datapythonista.me/blog/pandas-20-and-the-arrow-revolution-part-i\n",
    "\n",
    "# convert to/from pandas/pyarrow\n",
    "https://arrow.apache.org/docs/python/pandas.html"
   ]
  },
  {
   "cell_type": "markdown",
   "id": "d46b66b4-65b1-429e-a022-dedd41a1641b",
   "metadata": {
    "editable": true,
    "execution": {
     "iopub.status.busy": "2023-10-02T17:12:37.374516Z",
     "iopub.status.idle": "2023-10-02T17:12:37.374958Z",
     "shell.execute_reply": "2023-10-02T17:12:37.374776Z",
     "shell.execute_reply.started": "2023-10-02T17:12:37.374758Z"
    },
    "slideshow": {
     "slide_type": "slide"
    },
    "tags": []
   },
   "source": [
    "# syntax examples\n",
    "https://www.rhosignal.com/posts/polars-pandas-cheatsheet/\n"
   ]
  }
 ],
 "metadata": {
  "kernelspec": {
   "display_name": "Python 3 (ipykernel)",
   "language": "python",
   "name": "python3"
  },
  "language_info": {
   "codemirror_mode": {
    "name": "ipython",
    "version": 3
   },
   "file_extension": ".py",
   "mimetype": "text/x-python",
   "name": "python",
   "nbconvert_exporter": "python",
   "pygments_lexer": "ipython3",
   "version": "3.11.4"
  }
 },
 "nbformat": 4,
 "nbformat_minor": 5
}
