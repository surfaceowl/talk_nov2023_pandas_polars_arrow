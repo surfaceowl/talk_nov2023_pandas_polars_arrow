{
 "cells": [
  {
   "cell_type": "code",
   "execution_count": 1,
   "id": "4766d670-0f7b-442d-896c-5d20b61bb927",
   "metadata": {
    "editable": true,
    "execution": {
     "iopub.execute_input": "2023-10-07T20:34:30.135136Z",
     "iopub.status.busy": "2023-10-07T20:34:30.134720Z",
     "iopub.status.idle": "2023-10-07T20:34:31.054456Z",
     "shell.execute_reply": "2023-10-07T20:34:31.052417Z",
     "shell.execute_reply.started": "2023-10-07T20:34:30.135102Z"
    },
    "slideshow": {
     "slide_type": "skip"
    },
    "tags": []
   },
   "outputs": [],
   "source": [
    "# setup\n",
    "from pathlib import Path\n",
    "\n",
    "import numpy as np\n",
    "import pandas as pd\n",
    "import polars as pl\n",
    "from IPython.display import HTML, display\n",
    "\n",
    "data_path = Path(\"data\")\n",
    "data_csv = Path(\"data\", \"python_dev_universe.csv\")\n",
    "data_csv_gz = Path(data_path, \"python_dev_universe.csv.gz\")\n",
    "data_parquet = Path(\"data\", \"python_dev_universe.parquet\")"
   ]
  },
  {
   "cell_type": "markdown",
   "id": "71db076d-1685-471a-ba1b-dc344aa38902",
   "metadata": {
    "editable": true,
    "execution": {
     "iopub.execute_input": "2023-09-28T17:47:16.458680Z",
     "iopub.status.busy": "2023-09-28T17:47:16.458208Z",
     "iopub.status.idle": "2023-09-28T17:47:16.462796Z",
     "shell.execute_reply": "2023-09-28T17:47:16.461727Z",
     "shell.execute_reply.started": "2023-09-28T17:47:16.458658Z"
    },
    "slideshow": {
     "slide_type": "skip"
    },
    "tags": []
   },
   "source": [
    "# Talk Tagline:<br>\n",
    "Supercharge your data engineering workflows by merging the **robustness of Pandas** with the **high-speed capabilities of Polars**, \n",
    "all underpinned by **Apache Arrow's in-memory technology.** <br>\n",
    "<br>\n",
    "This technical deep-dive will unravel the nuances between Pandas and Polars, showcase their newest features, and **demonstrate how to integrate them for optimal performance**. <br>\n",
    "<br>\n",
    "TO DELETE:  Key Differences and Updates: Get up to speed with the latest features and differences between Pandas and Polars. (5 min)<br>\n",
    "Introducing Apache Arrow: Discover what Arrow is and why it's a game-changer in the Python data ecosystem. (5 min)<br>\n",
    "Synergizing Pandas and Polars: Detailed walkthrough on how and why to integrate Pandas and Polars for high-efficiency data manipulation. (15 min) <br>"
   ]
  },
  {
   "cell_type": "markdown",
   "id": "4cbb1aeb-328e-4cdf-bfa7-eeb6c8d18a59",
   "metadata": {
    "editable": true,
    "slideshow": {
     "slide_type": "slide"
    },
    "tags": []
   },
   "source": [
    "\n",
    "<html>\n",
    "<head>\n",
    "</head>\n",
    "<body style=\"background-color: #FFFFFF;\">\n",
    "  <h1 align=\"center\" style=\"font-weight: bold; font-style: italic; font-size: 390%;\">Better Together - Pandas + Polars</h1>\n",
    "  <table border=\"0\" align=\"center\" width=\"100%\" bgcolor=\"#FFFFFF\">\n",
    "    <tr>\n",
    "      <td align=\"center\" width=\"50%\" bgcolor=\"#FFFFFF\">\n",
    "        <img src=\"images/pandas_logo.1280x517.png\" width=\"620\" height=\"250\">\n",
    "      </td>\n",
    "      <td align=\"center\" width=\"50%\" bgcolor=\"#FFFFFF\">\n",
    "        <img src=\"images/polars.round.400x400.png\" width=\"250\" height=\"250\">\n",
    "      </td>\n",
    "    </tr>\n",
    "    <tr>\n",
    "      <td colspan=\"2\" align=\"center\" bgcolor=\"#FFFFFF\">\n",
    "        <img src=\"images/arrow-logo_horizontal.1800x936.png\" width=\"481\" height=\"250\">\n",
    "      </td>\n",
    "    </tr>\n",
    "  </table>\n",
    "  <br>\n",
    "  <div style=\"font-size: 300%;\">\n",
    "    <b>Better Together: Unleashing the Synergy of Pandas, Polars, and Apache Arrow</b><br>\n",
    "    <b>Speaker:  Chris Brousseau</b> <br>\n",
    "    <b>PyBay 8 Oct 2023</b> \n",
    "  </div>\n",
    "</body>\n",
    "</html>\n",
    " </div>\n",
    "</body>\n",
    "</html>"
   ]
  },
  {
   "cell_type": "markdown",
   "id": "a24bbb8b-7769-4459-8d57-5fa6fb4f26f7",
   "metadata": {
    "editable": true,
    "execution": {
     "iopub.execute_input": "2023-10-05T17:41:45.618979Z",
     "iopub.status.busy": "2023-10-05T17:41:45.617699Z",
     "iopub.status.idle": "2023-10-05T17:41:45.629488Z",
     "shell.execute_reply": "2023-10-05T17:41:45.627405Z",
     "shell.execute_reply.started": "2023-10-05T17:41:45.618942Z"
    },
    "slideshow": {
     "slide_type": "slide"
    },
    "tags": []
   },
   "source": [
    "<table class=\"custom-slide-table\">\n",
    "    <tr>\n",
    "        <td class=\"image-content\">\n",
    "            <img src=\"./images/intro_slide_full.jpg\" alt=\"Images of me - full slide\">\n",
    "        </td>\n",
    "    </tr>\n",
    "</table>"
   ]
  },
  {
   "cell_type": "markdown",
   "id": "83ca1c82-9d7c-4e79-8e13-0d89d993a276",
   "metadata": {
    "editable": true,
    "slideshow": {
     "slide_type": "slide"
    },
    "tags": []
   },
   "source": [
    "<div style=\"padding-top: 0; margin-top: 0;\">\n",
    "    <h1 style=\"font-size: 32px; color: #333; margin-top: 0; margin-bottom: 10px;\">TLDR</h1>\n",
    "    <h2 style=\"font-size: 24px; color: #555; margin-top: 0; margin-bottom: 10px;\">Arrow enables great speedups for both Pandas + Polars</h2>\n",
    "    <h2 style=\"font-size: 24px; color: #555; margin-top: 0;\">Build better pipelines -- use them together</h2>\n",
    "</div>"
   ]
  },
  {
   "cell_type": "markdown",
   "id": "98823da9-0a27-4bf6-97ab-5ad8d5a6e331",
   "metadata": {
    "editable": true,
    "execution": {
     "iopub.execute_input": "2023-10-04T19:50:04.890206Z",
     "iopub.status.busy": "2023-10-04T19:50:04.889842Z",
     "iopub.status.idle": "2023-10-04T19:50:04.899025Z",
     "shell.execute_reply": "2023-10-04T19:50:04.898073Z",
     "shell.execute_reply.started": "2023-10-04T19:50:04.890181Z"
    },
    "jp-MarkdownHeadingCollapsed": true,
    "slideshow": {
     "slide_type": "slide"
    },
    "tags": []
   },
   "source": [
    "<h1>What is Apache Arrow / Why is it a Game Changer?</h1>\n",
    "\n",
    "<p style=\"font-size: 24px; line-height: 2;\">\n",
    "  <strong>In-memory data format for tabular data</strong><br><br>\n",
    "  <strong>Interoperability ==> Easier</strong> ...Arrow makes data program independent<br>\n",
    "  <strong>Datatypes ==> More + Better</strong>  ...Strings; Missing data support<br>\n",
    "  <strong>Speed ==> Faster</strong> ...Columnar format; zero-copy reads ==> transfer pointers + metadata<br>\n",
    "</p>\n",
    "\n",
    "<table border=\"1\" style=\"width: 95%\">\n",
    "  <thead>\n",
    "    <tr style=\"font-weight: bold;\">\n",
    "      <th style=\"text-align: center; padding: 10px\">\n",
    "        <img src=\"./images/arrow_simd.948x651.png\" alt=\"in-memory columnar format\" style=\"margin-right: 10px;\">\n",
    "      </th>\n",
    "      <th style=\"text-align: center; padding: 10px\">\n",
    "        <img src=\"./images/arrow_copy.574x318.png\" alt=\"zero-copy reads\" style=\"margin-left: 10px;\">\n",
    "      </th>\n",
    "    </tr>\n",
    "  </thead>\n",
    "  <tbody>\n",
    "    <tr style=\"background-color: #FFFFFF; ; font-size: 24px;\">\n",
    "      <td colspan=\"3\" style=\"font-weight: bold; text-align: center;\">\n",
    "        Image source: Apache Foundation\n",
    "      </td>\n",
    "    </tr>\n",
    "    <tr>\n",
    "      <td style=\"text-align: center; font-size: 18px;\">\n",
    "        <a href=\"https://arrow.apache.org/overview/\">Apache Arrow Overview</a>\n",
    "      </td>\n",
    "      <td style=\"text-align: center; font-size: 18px;\">\n",
    "        <a href=\"https://arrow.apache.org/docs/format/Columnar.html\">Columnar Format</a>\n",
    "      </td>\n",
    "      <td style=\"text-align: center; font-size: 18px;\">\n",
    "        <a href=\"https://pandas.pydata.org/docs/user_guide/pyarrow.html\">Pandas PyArrow</a>\n",
    "      </td>\n",
    "    </tr>\n",
    "  </tbody>\n",
    "</table>\n"
   ]
  },
  {
   "cell_type": "markdown",
   "id": "9fca268d-ff5e-45d2-8465-f8f95e932601",
   "metadata": {
    "editable": true,
    "execution": {
     "iopub.execute_input": "2023-10-02T18:10:08.550854Z",
     "iopub.status.busy": "2023-10-02T18:10:08.549735Z",
     "iopub.status.idle": "2023-10-02T18:10:08.574746Z",
     "shell.execute_reply": "2023-10-02T18:10:08.572358Z",
     "shell.execute_reply.started": "2023-10-02T18:10:08.550793Z"
    },
    "jp-MarkdownHeadingCollapsed": true,
    "slideshow": {
     "slide_type": "slide"
    },
    "tags": []
   },
   "source": [
    "<h1>Key Differences - Packages</h1>\n",
    "\n",
    "<table border=\"1\" style=\"width: 80%; font-size: 24px;\">\n",
    "  <thead>\n",
    "    <tr style=\"font-weight: bold;\">\n",
    "      <th style=\"vertical-align: bottom;\">Feature</th>\n",
    "      <th style=\"text-align: left;\">\n",
    "        <img src=\"./images/pandas_secondary.svg\" alt=\"Pandas\" style=\"width: 300px; max-width: 100%;\">\n",
    "      </th>\n",
    "      <th style=\"text-align: left;\">\n",
    "        <img src=\"./images/polars.round.400x400.png\" alt=\"Polars\" style=\"width: 200px; max-width: 100%;\">\n",
    "      </th>\n",
    "    </tr>\n",
    "  </thead>\n",
    "  <tbody>\n",
    "    <tr style=\"height:100px\"; style=\"background-color: #FFFFFF;\">\n",
    "      <td>First Release Date</td>\n",
    "      <td>2008</td>\n",
    "      <td>2019</td>\n",
    "    </tr>\n",
    "    <tr style=\"height:100px\"; style=\"background-color: #F0F0F0;\">\n",
    "      <td>Current Release</td>\n",
    "      <td>2.1.1</td>\n",
    "      <td>0.19.7</td>\n",
    "    </tr>\n",
    "    <tr style=\"height:100px\"; style=\"background-color: #FFFFFF;\">\n",
    "      <td>Programming Language</td>\n",
    "      <td>C, Cython, Python</td>\n",
    "      <td>Rust</td>\n",
    "    </tr>\n",
    "  </tbody>\n",
    "</table>\n"
   ]
  },
  {
   "cell_type": "markdown",
   "id": "900186c9-ac34-4229-ae9a-a01fdc0c8867",
   "metadata": {
    "editable": true,
    "execution": {
     "iopub.execute_input": "2023-10-02T18:10:08.550854Z",
     "iopub.status.busy": "2023-10-02T18:10:08.549735Z",
     "iopub.status.idle": "2023-10-02T18:10:08.574746Z",
     "shell.execute_reply": "2023-10-02T18:10:08.572358Z",
     "shell.execute_reply.started": "2023-10-02T18:10:08.550793Z"
    },
    "slideshow": {
     "slide_type": "slide"
    },
    "tags": []
   },
   "source": [
    "<h1>Key Differences - Memory</h1>\n",
    "\n",
    "<table border=\"1\" style=\"width: 80%; font-size: 24px;\">\n",
    "  <thead>\n",
    "    <tr style=\"font-weight: bold;\">\n",
    "      <th style=\"vertical-align: bottom;\">Feature</th>\n",
    "      <th style=\"text-align: left;\">\n",
    "        <img src=\"./images/pandas_secondary.svg\" alt=\"Pandas\" style=\"width: 300px; max-width: 100%;\">\n",
    "      </th>\n",
    "      <th style=\"text-align: left;\">\n",
    "        <img src=\"./images/polars.round.400x400.png\" alt=\"Polars\" style=\"width: 200px; max-width: 100%;\">\n",
    "      </th>\n",
    "    </tr>\n",
    "  </thead>\n",
    "  <tbody>\n",
    "    <tr style=\"height:100px\"; style=\"background-color: #F0F0F0; font-weight: bold\">\n",
    "      <td><strong>Memory</strong></td>\n",
    "      <td></td>\n",
    "      <td></td>\n",
    "    </tr>\n",
    "    <tr style=\"height:100px\"; style=\"background-color: #FFFFFF;\">\n",
    "      <td>Memory Backend</td>\n",
    "      <td>Numpy (default) or <strong>Apache Arrow</strong></td>\n",
    "      <td><strong>Apache Arrow</strong></td>\n",
    "    </tr>\n",
    "    <tr style=\"height:100px\"; style=\"background-color: #F0F0F0;\">\n",
    "      <td>Memory implementation</td>\n",
    "      <td>Pyarrow (C++ wrapper on data)</td>\n",
    "      <td>Arrow2 (Rust wrapper on data)</td>\n",
    "    </tr>\n",
    "    <tr style=\"height:100px\"; style=\"background-color: #FFFFFF;\">\n",
    "      <td>Larger-than-Memory/ Out-of-Core</td>\n",
    "      <td>No  (but via Dask)</td>\n",
    "      <td><strong>Native on Lazy df only (`collect(streaming=True`);  chunking + spill</strong></td>\n",
    "    </tr>\n",
    "    <tr style=\"height:100px\"; style=\"background-color: #F0F0F0;\">\n",
    "      <td>Represent Missing Data</td>\n",
    "      <td>\"NaN\" or \"None\"</td>\n",
    "      <td>\"null\"</td>\n",
    "    </tr>\n",
    "  </tbody>\n",
    "</table>\n"
   ]
  },
  {
   "cell_type": "markdown",
   "id": "25e2837d-88f2-470f-83bc-4ce9caf57927",
   "metadata": {
    "editable": true,
    "execution": {
     "iopub.execute_input": "2023-10-02T18:10:08.550854Z",
     "iopub.status.busy": "2023-10-02T18:10:08.549735Z",
     "iopub.status.idle": "2023-10-02T18:10:08.574746Z",
     "shell.execute_reply": "2023-10-02T18:10:08.572358Z",
     "shell.execute_reply.started": "2023-10-02T18:10:08.550793Z"
    },
    "slideshow": {
     "slide_type": "slide"
    },
    "tags": []
   },
   "source": [
    "<h1>Key Differences - API</h1>\n",
    "\n",
    "<table border=\"1\" style=\"width: 80%; font-size: 24px;\">\n",
    "  <thead>\n",
    "    <tr style=\"font-weight: bold;\">\n",
    "      <th style=\"vertical-align: bottom;\">Feature</th>\n",
    "      <th style=\"text-align: left;\">\n",
    "        <img src=\"./images/pandas_secondary.svg\" alt=\"Pandas\" style=\"width: 300px; max-width: 100%;\">\n",
    "      </th>\n",
    "      <th style=\"text-align: left;\">\n",
    "        <img src=\"./images/polars.round.400x400.png\" alt=\"Polars\" style=\"width: 200px; max-width: 100%;\">\n",
    "      </th>\n",
    "    </tr>\n",
    "  </thead>\n",
    "  <tbody>\n",
    "    <tr style=\"height:70px\"; style=\"background-color: #FFFFFF;\">\n",
    "      <td>Number of Methods</td>\n",
    "      <td><strong><i>Many</i></strong></td>\n",
    "      <td><strong><i>not 1:1</i></strong></td>\n",
    "    </tr>\n",
    "    <tr style=\"height:70px\"; style=\"background-color: #F0F0F0;\">\n",
    "      <td>Index/Multindex</td>\n",
    "      <td>Yes</td>\n",
    "      <td><strong>No - \"index free\"</strong></td>\n",
    "    </tr>\n",
    "    <tr style=\"height:70px\"; style=\"background-color: #FFFFFF;\">\n",
    "      <td>Nullable dtype</td>\n",
    "      <td>Yes</td>\n",
    "      <td>Yes</td>\n",
    "    </tr>\n",
    "    <tr style=\"height:70px\"; style=\"background-color: #F0F0F0;\">\n",
    "      <td>API mode</td>\n",
    "      <td>Eager</td>\n",
    "      <td>Eager (+ Lazy)</td>\n",
    "    </tr>\n",
    "    <tr style=\"height:70px\"; style=\"background-color: #FFFFFF;\">\n",
    "      <td>Query Optimization</td>\n",
    "      <td>No</td>\n",
    "      <td>Yes (with Lazy)</td>\n",
    "    </tr>\n",
    "    <tr style=\"height:100px\"; style=\"background-color: #F0F0F0;\">\n",
    "      <td>Parallelization</td>\n",
    "      <td>No - single threaded</td>\n",
    "      <td><strong>Yes - multithreaded</td>\n",
    "    </tr>\n",
    "    <tr style=\"height:70px\"; style=\"background-color: #FFFFFF;\">\n",
    "      <td>SIMD</td>\n",
    "      <td>No</td>\n",
    "      <td><strong>Yes</td>\n",
    "    </tr>\n",
    "  </tbody>\n",
    "</table>\n"
   ]
  },
  {
   "cell_type": "markdown",
   "id": "e1bfe78b-fc92-4606-bfd7-0601347e3b5b",
   "metadata": {
    "editable": true,
    "execution": {
     "iopub.execute_input": "2023-10-04T18:59:44.986576Z",
     "iopub.status.busy": "2023-10-04T18:59:44.986266Z",
     "iopub.status.idle": "2023-10-04T18:59:44.995046Z",
     "shell.execute_reply": "2023-10-04T18:59:44.994090Z",
     "shell.execute_reply.started": "2023-10-04T18:59:44.986555Z"
    },
    "slideshow": {
     "slide_type": "slide"
    },
    "tags": []
   },
   "source": [
    "<h1>Recent Updates</h1>\n",
    "<table border=\"1\" style=\"width: 80%; font-size: 24px;\">\n",
    "  <thead>\n",
    "    <tr style=\"font-weight: bold;\">\n",
    "      <th style=\"vertical-align: bottom;\">2023 - Speed & Consistency</th>\n",
    "      <th style=\"text-align: left;\">\n",
    "        <img src=\"./images/pandas_secondary.svg\" alt=\"Pandas\" style=\"width: 300px; max-width: 100%;\">\n",
    "      </th>\n",
    "      <th style=\"text-align: left;\">\n",
    "        <img src=\"./images/polars.round.400x400.png\" alt=\"Polars\" style=\"width: 200px; max-width: 100%;\">\n",
    "      </th>\n",
    "    </tr>\n",
    "  </thead>\n",
    "  <tbody>\n",
    "    <tr style=\"background-color: #FFFFFF;\">\n",
    "      <td>Backend</td>\n",
    "      <td>Apache Arrow. <strong>Pyarrow required after 3.0.0</strong></td>\n",
    "      <td>+cloud reading; +speed +bugfix</td>\n",
    "    </tr>\n",
    "    <tr style=\"height:100px\"; style=\"background-color: #F0F0F0;\">\n",
    "      <td></td>\n",
    "      <td><i>Lazy </i>Copy-on-Write</td>\n",
    "      <td></td>\n",
    "    </tr>\n",
    "    <tr style=\"height:100px\"; style=\"background-color: #FFFFFF;\">\n",
    "      <td>Feature Flags / optional dependencies</td>\n",
    "      <td>pip install <br>pandas[aws, performance]</td>\n",
    "      <td>pip install <br>polars[pandas, ffspec]</td>\n",
    "    </tr>\n",
    "    <tr style=\"height:100px\"; style=\"background-color: #F0F0F0;\">\n",
    "      <td>Reference</td>\n",
    "      <td><a href=\"https://pandas.pydata.org/docs/whatsnew/index.html\">pandas release notes</td>\n",
    "      <td><a href=\"https://github.com/pola-rs/polars/releases\">polars release notes</td>\n",
    "    </tr>\n",
    "  </tbody>\n",
    "</table>"
   ]
  },
  {
   "cell_type": "markdown",
   "id": "ca7b810f-b5aa-4c20-ba97-86e12aececa9",
   "metadata": {
    "editable": true,
    "execution": {
     "iopub.execute_input": "2023-10-05T23:36:30.124108Z",
     "iopub.status.busy": "2023-10-05T23:36:30.123723Z",
     "iopub.status.idle": "2023-10-05T23:36:30.130190Z",
     "shell.execute_reply": "2023-10-05T23:36:30.128887Z",
     "shell.execute_reply.started": "2023-10-05T23:36:30.124086Z"
    },
    "slideshow": {
     "slide_type": "slide"
    },
    "tags": []
   },
   "source": [
    "<h1>But how much faster?</h1>\n",
    "<table border=\"1\" style=\"width: 80%; \">\n",
    "  <thead>\n",
    "    <tr style=\"font-size: 24px; font-weight: bold;\">\n",
    "      <th style=\"vertical-align: bottom;\">Anecdotes & Considerations</th>\n",
    "      <th style=\"text-align: left;\">\n",
    "        <img src=\"./images/pandas_secondary.svg\" alt=\"Pandas\" style=\"width: 300px; max-width: 100%;\">\n",
    "      </th>\n",
    "      <th style=\"text-align: left;\">\n",
    "        <img src=\"./images/polars.round.400x400.png\" alt=\"Polars\" style=\"width: 200px; max-width: 100%;\">\n",
    "      </th>\n",
    "    </tr>\n",
    "  </thead>\n",
    "  <tbody>\n",
    "    <tr style=\"height:70px; font-size: 24px; background-color: #FFFFFF;\">\n",
    "      <td>read csv +csv.gz</td>\n",
    "      <td></td>\n",
    "      <td><strong>~3x-20x faster</strong></td>\n",
    "    </tr>\n",
    "    <tr style=\"height:70px; font-size: 24px; background-color: #F0F0F0;\">\n",
    "      <td>read parquet</td>\n",
    "      <td></td>\n",
    "      <td>~1x-5x</td>\n",
    "    </tr>\n",
    "    <tr style=\"height:70px; font-size: 24px; background-color: #FFFFFF;\">\n",
    "      <td>groupby</td>\n",
    "      <td></td>\n",
    "      <td>~10x</td>\n",
    "    </tr>\n",
    "    <tr style=\"height:70px;  font-size: 24px; background-color: #F0F0F0;\">\n",
    "      <td>Other Considerations</td>\n",
    "      <td>Huge Ecosystem / examples</td>\n",
    "      <td>Smaller but growing Ecosystem</td>\n",
    "    <tr style=\"height:100px; font-size: 24px; background-color: #FFFFFF;\">\n",
    "      <td></td>\n",
    "      <td></td>\n",
    "      <td>Categorical - predefined</td>\n",
    "    </tr>\n",
    "      <tr style=\"height:70px; font-size: 24px; background-color: #F0F0F0;\">\n",
    "      <td> </td>\n",
    "      <td> </td>\n",
    "      <td>some window functions / plotting /etc.</td>\n",
    "    </tr>\n",
    "    <tr style=\"height:70px; font-size: 24px; background-color: #FFFFFF;\">\n",
    "      <td><strong>Reference - see repo</strong></td>\n",
    "      <td><a href=\"https://pandas.pydata.org/docs/reference/index.html\">pandas api</td>\n",
    "      <td><a href=\"https://pola-rs.github.io/polars/py-polars/html/reference/\">polars api</td>\n",
    "    </tr>\n",
    "  </tbody>\n",
    "</table>"
   ]
  },
  {
   "cell_type": "markdown",
   "id": "4d6624fa-da26-47a0-8cef-012dca162ea2",
   "metadata": {
    "editable": true,
    "slideshow": {
     "slide_type": "slide"
    },
    "tags": []
   },
   "source": [
    "<style>\n",
    "    .custom-slide-table {\n",
    "        width: 100%;\n",
    "        table-layout: fixed;\n",
    "    }\n",
    "\n",
    "    .custom-slide-table td {\n",
    "        vertical-align: middle;\n",
    "    }\n",
    "</style>\n",
    "\n",
    "<table class=\"custom-slide-table\">\n",
    "    <tr>\n",
    "        <td class=\"image-content\">\n",
    "            <img src=\"./images/csv_read_speed_comparison.jpg\" alt=\"A lot faster!\">\n",
    "        </td>\n",
    "    </tr>\n",
    "</table>"
   ]
  },
  {
   "cell_type": "markdown",
   "id": "4fe6f500-2ad8-4b97-b0e8-ecd678e3521a",
   "metadata": {
    "editable": true,
    "slideshow": {
     "slide_type": "slide"
    },
    "tags": []
   },
   "source": [
    "# some syntax differences"
   ]
  },
  {
   "cell_type": "raw",
   "id": "3390c893-d652-4979-bf78-35080ec389eb",
   "metadata": {
    "editable": true,
    "execution": {
     "iopub.execute_input": "2023-10-07T20:34:31.072034Z",
     "iopub.status.busy": "2023-10-07T20:34:31.071494Z",
     "iopub.status.idle": "2023-10-07T20:35:12.118044Z",
     "shell.execute_reply": "2023-10-07T20:35:12.116065Z",
     "shell.execute_reply.started": "2023-10-07T20:34:31.071948Z"
    },
    "slideshow": {
     "slide_type": "fragment"
    },
    "tags": []
   },
   "source": [
    "# syntax example - pandas\n",
    "df_pandas = pd.read_parquet(data_parquet)\n",
    "df_pandas.head(2)"
   ]
  },
  {
   "cell_type": "raw",
   "id": "2ae84aa5-d1bd-4709-8cf4-2baa3bf44015",
   "metadata": {
    "editable": true,
    "execution": {
     "iopub.execute_input": "2023-10-07T20:35:12.120566Z",
     "iopub.status.busy": "2023-10-07T20:35:12.120076Z",
     "iopub.status.idle": "2023-10-07T20:35:21.315218Z",
     "shell.execute_reply": "2023-10-07T20:35:21.312692Z",
     "shell.execute_reply.started": "2023-10-07T20:35:12.120526Z"
    },
    "slideshow": {
     "slide_type": "fragment"
    },
    "tags": []
   },
   "source": [
    "# syntax example - polars\n",
    "df_polars = pl.read_parquet(data_parquet)\n",
    "df_polars.head(2)"
   ]
  },
  {
   "cell_type": "raw",
   "id": "d0c2a980-14d1-455f-bdbc-d2f436479471",
   "metadata": {
    "editable": true,
    "execution": {
     "iopub.execute_input": "2023-10-07T20:35:21.319487Z",
     "iopub.status.busy": "2023-10-07T20:35:21.318559Z",
     "iopub.status.idle": "2023-10-07T20:35:27.916678Z",
     "shell.execute_reply": "2023-10-07T20:35:27.914647Z",
     "shell.execute_reply.started": "2023-10-07T20:35:21.319424Z"
    },
    "raw_mimetype": "",
    "slideshow": {
     "slide_type": "fragment"
    },
    "tags": []
   },
   "source": [
    "df_pandas[\"customer_id\"].count()  vs df_polars.select(pl.count(\"customer_id\"))"
   ]
  },
  {
   "cell_type": "markdown",
   "id": "0b8f6fcd-d4ae-43c8-8498-41a9cc775bc4",
   "metadata": {
    "editable": true,
    "slideshow": {
     "slide_type": "slide"
    },
    "tags": []
   },
   "source": [
    "# Use Columnar Example\n"
   ]
  },
  {
   "cell_type": "code",
   "execution_count": 26,
   "id": "e5c06df0-5ddb-4120-983b-b3d786fb3922",
   "metadata": {
    "editable": true,
    "execution": {
     "iopub.execute_input": "2023-10-08T00:15:32.753325Z",
     "iopub.status.busy": "2023-10-08T00:15:32.752681Z",
     "iopub.status.idle": "2023-10-08T00:16:56.904332Z",
     "shell.execute_reply": "2023-10-08T00:16:56.899233Z",
     "shell.execute_reply.started": "2023-10-08T00:15:32.753279Z"
    },
    "slideshow": {
     "slide_type": "fragment"
    },
    "tags": []
   },
   "outputs": [
    {
     "data": {
      "text/html": [
       "<div>\n",
       "<style scoped>\n",
       "    .dataframe tbody tr th:only-of-type {\n",
       "        vertical-align: middle;\n",
       "    }\n",
       "\n",
       "    .dataframe tbody tr th {\n",
       "        vertical-align: top;\n",
       "    }\n",
       "\n",
       "    .dataframe thead th {\n",
       "        text-align: right;\n",
       "    }\n",
       "</style>\n",
       "<table border=\"1\" class=\"dataframe\">\n",
       "  <thead>\n",
       "    <tr style=\"text-align: right;\">\n",
       "      <th></th>\n",
       "      <th>customer_id</th>\n",
       "      <th>age</th>\n",
       "      <th>their_lucky_number</th>\n",
       "      <th>occupation</th>\n",
       "      <th>psf_membership_status</th>\n",
       "      <th>education</th>\n",
       "      <th>date_started_python</th>\n",
       "    </tr>\n",
       "  </thead>\n",
       "  <tbody>\n",
       "    <tr>\n",
       "      <th>0</th>\n",
       "      <td>A43321819</td>\n",
       "      <td>47</td>\n",
       "      <td>0</td>\n",
       "      <td>Data Engineer</td>\n",
       "      <td>Contributing</td>\n",
       "      <td>High School</td>\n",
       "      <td>1924-07-20</td>\n",
       "    </tr>\n",
       "  </tbody>\n",
       "</table>\n",
       "</div>"
      ],
      "text/plain": [
       "  customer_id  age  their_lucky_number     occupation psf_membership_status  \\\n",
       "0   A43321819   47                   0  Data Engineer          Contributing   \n",
       "\n",
       "     education date_started_python  \n",
       "0  High School          1924-07-20  "
      ]
     },
     "execution_count": 26,
     "metadata": {},
     "output_type": "execute_result"
    }
   ],
   "source": [
    "# pandas = reading parquet is faster because of columnar format\n",
    "df_pd1 = pd.read_parquet(data_parquet)\n",
    "df_pd1.head(1)"
   ]
  },
  {
   "cell_type": "code",
   "execution_count": 27,
   "id": "e6a37e64-f546-4c48-9fc9-b2ec6ffee3b4",
   "metadata": {
    "editable": true,
    "execution": {
     "iopub.execute_input": "2023-10-08T00:16:56.914172Z",
     "iopub.status.busy": "2023-10-08T00:16:56.912743Z",
     "iopub.status.idle": "2023-10-08T00:17:07.028403Z",
     "shell.execute_reply": "2023-10-08T00:17:07.025899Z",
     "shell.execute_reply.started": "2023-10-08T00:16:56.914100Z"
    },
    "slideshow": {
     "slide_type": "fragment"
    },
    "tags": []
   },
   "outputs": [
    {
     "data": {
      "text/html": [
       "<div>\n",
       "<style scoped>\n",
       "    .dataframe tbody tr th:only-of-type {\n",
       "        vertical-align: middle;\n",
       "    }\n",
       "\n",
       "    .dataframe tbody tr th {\n",
       "        vertical-align: top;\n",
       "    }\n",
       "\n",
       "    .dataframe thead th {\n",
       "        text-align: right;\n",
       "    }\n",
       "</style>\n",
       "<table border=\"1\" class=\"dataframe\">\n",
       "  <thead>\n",
       "    <tr style=\"text-align: right;\">\n",
       "      <th></th>\n",
       "      <th>customer_id</th>\n",
       "      <th>age</th>\n",
       "      <th>their_lucky_number</th>\n",
       "      <th>occupation</th>\n",
       "      <th>psf_membership_status</th>\n",
       "      <th>education</th>\n",
       "      <th>date_started_python</th>\n",
       "    </tr>\n",
       "  </thead>\n",
       "  <tbody>\n",
       "    <tr>\n",
       "      <th>0</th>\n",
       "      <td>A43321819</td>\n",
       "      <td>47</td>\n",
       "      <td>0</td>\n",
       "      <td>Data Engineer</td>\n",
       "      <td>Contributing</td>\n",
       "      <td>High School</td>\n",
       "      <td>1924-07-20</td>\n",
       "    </tr>\n",
       "  </tbody>\n",
       "</table>\n",
       "</div>"
      ],
      "text/plain": [
       "  customer_id  age  their_lucky_number     occupation psf_membership_status  \\\n",
       "0   A43321819   47                   0  Data Engineer          Contributing   \n",
       "\n",
       "     education date_started_python  \n",
       "0  High School          1924-07-20  "
      ]
     },
     "execution_count": 27,
     "metadata": {},
     "output_type": "execute_result"
    }
   ],
   "source": [
    "# pandas predicate push-down with parquet files helps with speed\n",
    "df_pd2 = pd.read_parquet(\n",
    "    data_parquet,\n",
    "    filters=[\n",
    "        (\"occupation\", \"==\", \"Data Engineer\"),\n",
    "        (\"psf_membership_status\", \"!=\", \"Not Yet a Member\"),\n",
    "    ],\n",
    ")\n",
    "df_pd2.head(1)"
   ]
  },
  {
   "cell_type": "markdown",
   "id": "8bc332ec-ed28-48cb-9e67-c6f2a3d468a9",
   "metadata": {
    "editable": true,
    "slideshow": {
     "slide_type": "slide"
    },
    "tags": []
   },
   "source": [
    "# Use Lazy Example"
   ]
  },
  {
   "cell_type": "code",
   "execution_count": 28,
   "id": "a7de0aa6-19f2-462b-88e7-0f9e9b7d661f",
   "metadata": {
    "editable": true,
    "execution": {
     "iopub.execute_input": "2023-10-08T00:17:07.031742Z",
     "iopub.status.busy": "2023-10-08T00:17:07.030662Z",
     "iopub.status.idle": "2023-10-08T00:17:51.862924Z",
     "shell.execute_reply": "2023-10-08T00:17:51.859756Z",
     "shell.execute_reply.started": "2023-10-08T00:17:07.031680Z"
    },
    "slideshow": {
     "slide_type": "fragment"
    },
    "tags": []
   },
   "outputs": [],
   "source": [
    "# polars Eager API\n",
    "df_pl1 = pl.read_parquet(data_parquet).filter(\n",
    "    (pl.col(\"occupation\") == \"Data Engineer\")\n",
    "    & (pl.col(\"psf_membership_status\") != \"Not Yet a Member\")\n",
    ")"
   ]
  },
  {
   "cell_type": "code",
   "execution_count": 29,
   "id": "ea07dac3-03da-4ca9-9201-32c0cf0889fd",
   "metadata": {
    "editable": true,
    "execution": {
     "iopub.execute_input": "2023-10-08T00:17:51.870121Z",
     "iopub.status.busy": "2023-10-08T00:17:51.869157Z",
     "iopub.status.idle": "2023-10-08T00:18:05.083945Z",
     "shell.execute_reply": "2023-10-08T00:18:05.081992Z",
     "shell.execute_reply.started": "2023-10-08T00:17:51.870027Z"
    },
    "slideshow": {
     "slide_type": "fragment"
    },
    "tags": []
   },
   "outputs": [],
   "source": [
    "# polars Lazy API - chain transformations then collect()\n",
    "df_pl2 = (\n",
    "    pl.read_parquet(data_parquet)\n",
    "    .lazy()\n",
    "    .filter(\n",
    "        (pl.col(\"occupation\") == \"Data Engineer\")\n",
    "        & (pl.col(\"psf_membership_status\") != \"Not Yet a Member\")\n",
    "    )\n",
    "    .collect()\n",
    ")"
   ]
  },
  {
   "cell_type": "markdown",
   "id": "68fc6a15-2583-48b0-a7e3-ada6420e0285",
   "metadata": {
    "editable": true,
    "slideshow": {
     "slide_type": ""
    },
    "tags": []
   },
   "source": [
    "# Get the Best out of Pandas\n",
    "\n",
    "### 1- use pyarrow for I/O & nullable dtypes (faster)\n",
    "pd.read_csv( my_datat.csv\",  engine=\"pyarrow\" dtype_backend=\"pyarrow\")<br>pd.read_parquet) <br>\n",
    "<br>\n",
    "### 2- set pyarrow for all string data (faster/smaller)\n",
    "pd.options.future.infer_string = True   <br>\n",
    "<br>\n",
    "### 3- enable Copy-On-Write (lazy + more consistent api)\n",
    "pd.options.mode.copy_on_write = True <br>\n",
    "<br>"
   ]
  },
  {
   "cell_type": "markdown",
   "id": "1d297354-7a78-46b9-ac8d-c7084eef78cc",
   "metadata": {
    "editable": true,
    "slideshow": {
     "slide_type": "slide"
    },
    "tags": []
   },
   "source": [
    "<h1 style=\"font-size: 32px; color: #333; margin-bottom: 20px;\">Why & How to Integrate Pandas and Polars</h1>\n",
    "\n",
    "<h2 style=\"font-size: 24px; color: #555; margin: 15px 0;\">Why</h2>\n",
    "<ul>\n",
    "    <li style=\"font-size: 18px; color: #777; margin: 10px 0;\">Need big speed improvements + worth your time</li>\n",
    "    <li style=\"font-size: 18px; color: #777; margin: 10px 0;\">Creating new pipeline or budget to rewrite</li>\n",
    "    <li style=\"font-size: 18px; color: #777; margin: 10px 0;\">Input data is Polars-friendly\n",
    "        <ul style=\"margin-left: 40px; font-size: 18px; list-style-type: disc;\">\n",
    "            <li>Pandas df</li>\n",
    "            <li>Flat files</li>\n",
    "            <li>Standard db (sql) or supported datastore</li>\n",
    "            <li><strong> API that does NOT require  wrapper (e.g. Snowflake)</strong></li>\n",
    "        </ul>\n",
    "    </li>\n",
    "</ul>\n",
    "\n",
    "<h2 style=\"font-size: 24px; color: #555; margin: 15px 0;\">How</h2>\n",
    "<ul style=\"list-style-type: none;\">\n",
    "    <li style=\"font-size: 18px; color: #777; margin: 10px 0;\">Use polars</li>\n",
    "</ul>\n",
    "<div style=\"margin-left: 40px;\">\n",
    "    <code>polars.from_pandas</code><br>\n",
    "    <code>polars.to_pandas</code><br>\n",
    "</div>\n",
    "\n",
    "<ul style=\"list-style-type: none;\">\n",
    "    <li style=\"font-size: 18px; color: #777; margin: 10px 0;\">Use arrow directly</li>\n",
    "</ul>\n",
    "<div style=\"margin-left: 40px;\">\n",
    "    <strong>Pandas</strong> <br>\n",
    "    <code>import pyarrow as pa</code><br>\n",
    "    <code>import pandas as pd</code><br>\n",
    "    <code>table = pa.Table.from_pandas(df)  # for both numpy and arrow backed</code><br>\n",
    "    <code>df_new = table.to_pandas()</code><br>\n",
    "    <strong>Polars</strong> <br>\n",
    "    <code>polars.from_arrow</code><br>\n",
    "    <code>polars.to_arrow</code><br>\n",
    "</div>\n"
   ]
  },
  {
   "cell_type": "markdown",
   "id": "1adb4b58-09fd-4fb3-84fa-325f0af6060e",
   "metadata": {
    "editable": true,
    "slideshow": {
     "slide_type": "slide"
    },
    "tags": []
   },
   "source": [
    "# Recap\n",
    "## Arrow enables great speedups for both Pandas + Polars\n",
    "## Build better pipelines -- use them together"
   ]
  },
  {
   "cell_type": "markdown",
   "id": "cd1185d7-615e-4111-8888-0f09f6bdbcbe",
   "metadata": {
    "editable": true,
    "execution": {
     "iopub.execute_input": "2023-10-07T03:02:11.734225Z",
     "iopub.status.busy": "2023-10-07T03:02:11.731768Z",
     "iopub.status.idle": "2023-10-07T03:02:11.787941Z",
     "shell.execute_reply": "2023-10-07T03:02:11.783562Z",
     "shell.execute_reply.started": "2023-10-07T03:02:11.733712Z"
    },
    "slideshow": {
     "slide_type": "slide"
    },
    "tags": []
   },
   "source": [
    "<table style=\"border-collapse: collapse; background-color: #FFFFFF; width: 100%; font-size: 48px;\"\">\n",
    "    <tr>\n",
    "        <td style=\"padding: 8px; background-color: #FFFFFF; text-align: left; font-weight: bold;\">Thank you!</td>\n",
    "    </tr>\n",
    "    <tr>\n",
    "        <td style=\"padding: 8px; background-color: #FFFFFF; text-align: left\">Chris Brousseau</td>\n",
    "    </tr>\n",
    "    <tr>\n",
    "        <td style=\"padding: 8px; background-color: #FFFFFF;text-align: left; font-weight: normal;\">chris@surfaceowl.com</td>\n",
    "    </tr>\n",
    "    <tr>\n",
    "        <td style=\"padding: 8px; background-color: #FFFFFF;text-align: left; width: 50%; font-size: 20px; background-color: #FFFFFF;\">\n",
    "            <a href=\"https://github.com/surfaceowl/talk_pandas_polars_arrow\" target=\"_blank\"> GitHub Repo: https://github.com/surfaceowl/talk_pandas_polars_arrow</a>\n",
    "        </td>\n",
    "        <td style=\"padding: 8px; background-color: #FFFFFF; text-align: left;\">\n",
    "            <img src=\"images/pybay_talk_pandas_polars_qr_code.png\" alt=\"QR Code for PyBay Talk\" style=\"max-width: 100%; height: auto;\">\n",
    "        </td>\n",
    "    </tr>\n",
    "</table>\n"
   ]
  },
  {
   "cell_type": "markdown",
   "id": "3d059353-8a67-4c35-ab0b-7961367c5b7d",
   "metadata": {
    "editable": true,
    "execution": {
     "iopub.execute_input": "2023-10-02T17:12:37.365803Z",
     "iopub.status.busy": "2023-10-02T17:12:37.365178Z",
     "iopub.status.idle": "2023-10-02T17:12:37.373475Z",
     "shell.execute_reply": "2023-10-02T17:12:37.371396Z",
     "shell.execute_reply.started": "2023-10-02T17:12:37.365781Z"
    },
    "slideshow": {
     "slide_type": "slide"
    },
    "tags": []
   },
   "source": [
    "# Reference - Links\n",
    "\n",
    "pandas\n",
    "https://pandas.pydata.org/docs/whatsnew/index.html\n",
    "\n",
    "polars\n",
    "https://pola-rs.github.io/polars/\n",
    "\n",
    "apache arrow\n",
    "https://arrow.apache.org/overview/\n",
    "\n",
    "pyarrrow\n",
    "https://arrow.apache.org/docs/python/index.html\n",
    "\n",
    "dataframe API standard\n",
    "https://data-apis.org/dataframe-api/draft/index.html\n",
    "https://ponder.io/how-the-python-dataframe-interchange-protocol-makes-life-better/\n",
    "\n",
    "Arrow Revolution\n",
    "https://datapythonista.me/blog/pandas-20-and-the-arrow-revolution-part-i\n",
    "\n",
    "# interesting articles\n",
    "https://kyleake.medium.com/pandas-to-polars-a-comprehensive-transition-guide-81b6f50e9154\n",
    "\n",
    "# convert to/from pandas/pyarrow\n",
    "https://arrow.apache.org/docs/python/pandas.html"
   ]
  },
  {
   "cell_type": "markdown",
   "id": "f4e3f341-ccb7-4434-90fc-08fcbb548545",
   "metadata": {
    "editable": true,
    "slideshow": {
     "slide_type": "slide"
    },
    "tags": []
   },
   "source": [
    "# Reference - Datatypes\n",
    "https://pandas.pydata.org/docs/user_guide/basics.html#dtypes\n",
    "https://pola-rs.github.io/polars/py-polars/html/reference/datatypes.html\n",
    "https://arrow.apache.org/docs/python/pandas.html\n"
   ]
  },
  {
   "cell_type": "markdown",
   "id": "d46b66b4-65b1-429e-a022-dedd41a1641b",
   "metadata": {
    "editable": true,
    "execution": {
     "iopub.status.busy": "2023-10-02T17:12:37.374516Z",
     "iopub.status.idle": "2023-10-02T17:12:37.374958Z",
     "shell.execute_reply": "2023-10-02T17:12:37.374776Z",
     "shell.execute_reply.started": "2023-10-02T17:12:37.374758Z"
    },
    "slideshow": {
     "slide_type": "slide"
    },
    "tags": []
   },
   "source": [
    "# Reference - Syntax examples\n",
    "https://www.rhosignal.com/posts/polars-pandas-cheatsheet/\n"
   ]
  }
 ],
 "metadata": {
  "kernelspec": {
   "display_name": "Python 3 (ipykernel)",
   "language": "python",
   "name": "python3"
  },
  "language_info": {
   "codemirror_mode": {
    "name": "ipython",
    "version": 3
   },
   "file_extension": ".py",
   "mimetype": "text/x-python",
   "name": "python",
   "nbconvert_exporter": "python",
   "pygments_lexer": "ipython3",
   "version": "3.11.4"
  }
 },
 "nbformat": 4,
 "nbformat_minor": 5
}
