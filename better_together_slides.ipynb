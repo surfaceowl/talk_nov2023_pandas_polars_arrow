{
 "cells": [
  {
   "cell_type": "code",
   "execution_count": 8,
   "id": "4766d670-0f7b-442d-896c-5d20b61bb927",
   "metadata": {
    "editable": true,
    "execution": {
     "iopub.execute_input": "2023-10-04T19:32:24.343276Z",
     "iopub.status.busy": "2023-10-04T19:32:24.342776Z",
     "iopub.status.idle": "2023-10-04T19:32:24.799568Z",
     "shell.execute_reply": "2023-10-04T19:32:24.798829Z",
     "shell.execute_reply.started": "2023-10-04T19:32:24.343256Z"
    },
    "slideshow": {
     "slide_type": "skip"
    },
    "tags": []
   },
   "outputs": [],
   "source": [
    "# setup\n",
    "from IPython.display import display, HTML\n",
    "from pathlib import Path\n",
    "\n",
    "import numpy as np\n",
    "import pandas as pd\n",
    "import polars as pl\n",
    "\n",
    "data_path = Path(\"data\")"
   ]
  },
  {
   "cell_type": "markdown",
   "id": "4cbb1aeb-328e-4cdf-bfa7-eeb6c8d18a59",
   "metadata": {
    "editable": true,
    "slideshow": {
     "slide_type": "slide"
    },
    "tags": []
   },
   "source": [
    "\n",
    "<html>\n",
    "<head>\n",
    "</head>\n",
    "<body style=\"background-color: #FFFFFF;\">\n",
    "  <h1 align=\"center\" style=\"font-weight: bold; font-style: italic; font-size: 390%;\">Better Together</h1>\n",
    "  <table border=\"0\" align=\"center\" width=\"100%\" bgcolor=\"#FFFFFF\">\n",
    "    <tr>\n",
    "      <td align=\"center\" width=\"50%\" bgcolor=\"#FFFFFF\">\n",
    "        <img src=\"images/pandas_logo.1280x517.png\" width=\"620\" height=\"250\">\n",
    "      </td>\n",
    "      <td align=\"center\" width=\"50%\" bgcolor=\"#FFFFFF\">\n",
    "        <img src=\"images/polars.round.400x400.png\" width=\"250\" height=\"250\">\n",
    "      </td>\n",
    "    </tr>\n",
    "    <tr>\n",
    "      <td colspan=\"2\" align=\"center\" bgcolor=\"#FFFFFF\">\n",
    "        <img src=\"images/arrow-logo_horizontal.1800x936.png\" width=\"481\" height=\"250\">\n",
    "      </td>\n",
    "    </tr>\n",
    "  </table>\n",
    "  <br>\n",
    "  <div style=\"font-size: 300%;\">\n",
    "    <b>Better Together: Unleashing the Synergy of Pandas, Polars, and Apache Arrow</b><br>\n",
    "    <b>Speaker:</b> Chris Brousseau<br>\n",
    "    <b>Date:</b> 8 Oct 2023\n",
    "  </div>\n",
    "</body>\n",
    "</html>\n",
    " </div>\n",
    "</body>\n",
    "</html>"
   ]
  },
  {
   "cell_type": "markdown",
   "id": "33d32b50-28a2-4fd7-a1a5-6fede41cc183",
   "metadata": {
    "editable": true,
    "slideshow": {
     "slide_type": "slide"
    },
    "tags": []
   },
   "source": [
    "## About Me:\n",
    "copy from 500 AI talk\n"
   ]
  },
  {
   "cell_type": "markdown",
   "id": "71db076d-1685-471a-ba1b-dc344aa38902",
   "metadata": {
    "editable": true,
    "execution": {
     "iopub.execute_input": "2023-09-28T17:47:16.458680Z",
     "iopub.status.busy": "2023-09-28T17:47:16.458208Z",
     "iopub.status.idle": "2023-09-28T17:47:16.462796Z",
     "shell.execute_reply": "2023-09-28T17:47:16.461727Z",
     "shell.execute_reply.started": "2023-09-28T17:47:16.458658Z"
    },
    "slideshow": {
     "slide_type": "slide"
    },
    "tags": []
   },
   "source": [
    "# Talk Tagline:<br>\n",
    "Supercharge your data engineering workflows by merging the **robustness of Pandas** with the **high-speed capabilities of Polars**, \n",
    "all underpinned by **Apache Arrow's in-memory technology.** <br>\n",
    "<br>\n",
    "This technical deep-dive will unravel the nuances between Pandas and Polars, showcase their newest features, and demonstrate how to integrate them for optimal performance. \n",
    "Learn actionable techniques to make your data pipelines faster, more efficient, and ready for scale. Join us to see how you might elevate your data engineering toolkit!<br>\n",
    "<br>\n",
    "Key Differences and Updates: Get up to speed with the latest features and differences between Pandas and Polars. (5 min)\n",
    "Introducing Apache Arrow: Discover what Arrow is and why it's a game-changer in the Python data ecosystem. (5 min)\n",
    "Synergizing Pandas and Polars: Detailed walkthrough on how and why to integrate Pandas and Polars for high-efficiency data manipulation. (15 min)"
   ]
  },
  {
   "cell_type": "markdown",
   "id": "98823da9-0a27-4bf6-97ab-5ad8d5a6e331",
   "metadata": {
    "editable": true,
    "execution": {
     "iopub.execute_input": "2023-10-04T19:50:04.890206Z",
     "iopub.status.busy": "2023-10-04T19:50:04.889842Z",
     "iopub.status.idle": "2023-10-04T19:50:04.899025Z",
     "shell.execute_reply": "2023-10-04T19:50:04.898073Z",
     "shell.execute_reply.started": "2023-10-04T19:50:04.890181Z"
    },
    "slideshow": {
     "slide_type": ""
    },
    "tags": []
   },
   "source": [
    "<h1>What is Apache Arrow / Why is it a Game Changer?</h1>\n",
    "\n",
    "<p style=\"font-size: 18px; line-height: 1.5;\">\n",
    "  <strong>In-memory data format for tabular data</strong><br><br>\n",
    "  <strong>Speed ==> Faster</strong> - Columnar format; zero-copy reads avoid costly serialization and deserialization ==> transfer pointers + metadata vs. copying data<br>\n",
    "  <strong>Interoperability ==> Easier</strong> - Arrow is program independent<br>\n",
    "  <strong>Datatypes ==> More + Better</strong> - Improvement from numpy; Missing data support (NA) for all data types<br>\n",
    "</p>\n",
    "\n",
    "<table border=\"1\" style=\"width: 80%; font-size: 18px;\">\n",
    "  <thead>\n",
    "    <tr style=\"font-weight: bold;\">\n",
    "      <th style=\"text-align: center; padding: 20px; height: 100px;\">\n",
    "        <img src=\"./images/arrow_simd.948x651.png\" alt=\"in-memory columnar format\" style=\"width: 600px; margin-right: 20px;\">\n",
    "      </th>\n",
    "      <th style=\"text-align: center; padding: 20px; height: 100px;\">\n",
    "        <img src=\"./images/arrow_copy.574x318.png\" alt=\"zero-copy reads\" style=\"width: 500px; margin-left: 20px;\">\n",
    "      </th>\n",
    "    </tr>\n",
    "  </thead>\n",
    "  <tbody>\n",
    "    <tr style=\"background-color: #FFFFFF;\">\n",
    "      <td colspan=\"2\" style=\"font-weight: bold; text-align: center;\">\n",
    "        Image source: Apache Foundation\n",
    "      </td>\n",
    "    </tr>\n",
    "    <tr>\n",
    "      <td style=\"text-align: center;\">\n",
    "        <a href=\"https://arrow.apache.org/overview/\">Apache Arrow Overview</a>\n",
    "      </td>\n",
    "      <td style=\"text-align: center;\">\n",
    "        <a href=\"https://arrow.apache.org/docs/format/Columnar.html\">Columnar Format</a>\n",
    "      </td>\n",
    "    </tr>\n",
    "    <tr>\n",
    "      <td colspan=\"2\" style=\"text-align: center;\">\n",
    "        <a href=\"https://pandas.pydata.org/docs/user_guide/pyarrow.html\">Pandas PyArrow</a>\n",
    "      </td>\n",
    "    </tr>\n",
    "  </tbody>\n",
    "</table>\n"
   ]
  },
  {
   "cell_type": "markdown",
   "id": "9fca268d-ff5e-45d2-8465-f8f95e932601",
   "metadata": {
    "editable": true,
    "execution": {
     "iopub.execute_input": "2023-10-02T18:10:08.550854Z",
     "iopub.status.busy": "2023-10-02T18:10:08.549735Z",
     "iopub.status.idle": "2023-10-02T18:10:08.574746Z",
     "shell.execute_reply": "2023-10-02T18:10:08.572358Z",
     "shell.execute_reply.started": "2023-10-02T18:10:08.550793Z"
    },
    "slideshow": {
     "slide_type": "slide"
    },
    "tags": []
   },
   "source": [
    "<h1>Key Differences - Package & Memory</h1>\n",
    "\n",
    "<table border=\"1\" style=\"width: 80%; font-size: 24px;\">\n",
    "  <thead>\n",
    "    <tr style=\"font-weight: bold;\">\n",
    "      <th style=\"vertical-align: bottom;\">Feature</th>\n",
    "      <th style=\"text-align: left;\">\n",
    "        <img src=\"./images/pandas_secondary.svg\" alt=\"Pandas\" style=\"width: 300px; max-width: 100%;\">\n",
    "      </th>\n",
    "      <th style=\"text-align: left;\">\n",
    "        <img src=\"./images/polars.round.400x400.png\" alt=\"Polars\" style=\"width: 200px; max-width: 100%;\">\n",
    "      </th>\n",
    "    </tr>\n",
    "  </thead>\n",
    "  <tbody>\n",
    "    <tr style=\"height:100px\"; style=\"background-color: #FFFFFF;\">\n",
    "      <td>First Release Date</td>\n",
    "      <td>2008</td>\n",
    "      <td>2019</td>\n",
    "    </tr>\n",
    "    <tr style=\"height:100px\"; style=\"background-color: #F0F0F0;\">\n",
    "      <td>Current Release</td>\n",
    "      <td>2.1.1</td>\n",
    "      <td>0.19.7</td>\n",
    "    </tr>\n",
    "    <tr style=\"height:100px\"; style=\"background-color: #FFFFFF;\">\n",
    "      <td>Programming Language</td>\n",
    "      <td>C, Cython, Python</td>\n",
    "      <td>Rust</td>\n",
    "    </tr>\n",
    "    <tr style=\"height:100px\"; style=\"background-color: #F0F0F0; font-weight: bold\">\n",
    "      <td>Memory</td>\n",
    "      <td></td>\n",
    "      <td></td>\n",
    "    </tr>\n",
    "    <tr style=\"height:100px\"; style=\"background-color: #FFFFFF;\">\n",
    "      <td>Memory Backend</td>\n",
    "      <td>Numpy or <strong>Apache Arrow</strong></td>\n",
    "      <td><strong>Apache Arrow</strong></td>\n",
    "    </tr>\n",
    "    <tr style=\"height:100px\"; style=\"background-color: #F0F0F0;\">\n",
    "      <td>Memory implementation</td>\n",
    "      <td>Pyarrow (C++ wrapper on data)</td>\n",
    "      <td>Arrow2 (Rust wrapper on data)</td>\n",
    "    </tr>\n",
    "    <tr style=\"height:100px\"; style=\"background-color: #FFFFFF;\">\n",
    "      <td>Use Index/Multindex</td>\n",
    "      <td>Yes</td>\n",
    "      <td><strong>No</strong></td>\n",
    "    </tr>\n",
    "    <tr style=\"height:100px\"; style=\"background-color: #F0F0F0;\">\n",
    "      <td>Larger-than-Memory/ Out-of-Core</td>\n",
    "      <td>No  (but via Dask)</td>\n",
    "      <td><strong>Native</strong></td>\n",
    "    </tr>\n",
    "    <tr style=\"height:100px\"; style=\"background-color: #FFFFFF;\">\n",
    "      <td>Represent Missing Data</td>\n",
    "      <td>\"Nan\" or \"None\"</td>\n",
    "      <td>\"null\"</td>\n",
    "    </tr>\n",
    "  </tbody>\n",
    "</table>\n"
   ]
  },
  {
   "cell_type": "markdown",
   "id": "25e2837d-88f2-470f-83bc-4ce9caf57927",
   "metadata": {
    "editable": true,
    "execution": {
     "iopub.execute_input": "2023-10-02T18:10:08.550854Z",
     "iopub.status.busy": "2023-10-02T18:10:08.549735Z",
     "iopub.status.idle": "2023-10-02T18:10:08.574746Z",
     "shell.execute_reply": "2023-10-02T18:10:08.572358Z",
     "shell.execute_reply.started": "2023-10-02T18:10:08.550793Z"
    },
    "slideshow": {
     "slide_type": "slide"
    },
    "tags": []
   },
   "source": [
    "<h1>Key Differences - API</h1>\n",
    "\n",
    "<table border=\"1\" style=\"width: 80%; font-size: 24px;\">\n",
    "  <thead>\n",
    "    <tr style=\"font-weight: bold;\">\n",
    "      <th style=\"vertical-align: bottom;\">Feature</th>\n",
    "      <th style=\"text-align: left;\">\n",
    "        <img src=\"./images/pandas_secondary.svg\" alt=\"Pandas\" style=\"width: 300px; max-width: 100%;\">\n",
    "      </th>\n",
    "      <th style=\"text-align: left;\">\n",
    "        <img src=\"./images/polars.round.400x400.png\" alt=\"Polars\" style=\"width: 200px; max-width: 100%;\">\n",
    "      </th>\n",
    "    </tr>\n",
    "  </thead>\n",
    "  <tbody>\n",
    "    <tr style=\"height:100px\"; style=\"background-color: #FFFFFF; font-weight: bold;\">\n",
    "      <td>API</td>\n",
    "      <td></td>\n",
    "      <td></td>\n",
    "    </tr>\n",
    "    <tr style=\"height:100px\"; style=\"background-color: #F0F0F0;\">\n",
    "      <td>Number of Methods</td>\n",
    "      <td><strong><i>TBD</i></strong></td>\n",
    "      <td><strong><i>TBD</i></strong></td>\n",
    "    </tr>\n",
    "    <tr style=\"height:100px\"; style=\"background-color: #FFFFFF;\">\n",
    "      <td>API mode</td>\n",
    "      <td>Eager</td>\n",
    "      <td>Eager or Lazy</td>\n",
    "    </tr>\n",
    "    <tr style=\"height:100px\"; style=\"background-color: #F0F0F0;\">\n",
    "      <td>Query Optimization</td>\n",
    "      <td>No</td>\n",
    "      <td>Yes - with Lazy</td>\n",
    "    </tr>\n",
    "    <tr style=\"height:100px\"; style=\"background-color: #FFFFFF;\">\n",
    "      <td>Parallelization</td>\n",
    "      <td>No - single threaded</td>\n",
    "      <td><strong>Yes - multithreaded (most ops)</td>\n",
    "    </tr>\n",
    "    <tr style=\"height:100px\"; style=\"background-color: #F0F0F0; font-weight: bold;\">\n",
    "      <td>How to transfer df?</td>\n",
    "      <td></td>\n",
    "      <td>polars.from_pandas</td>\n",
    "    </tr>\n",
    "    <tr style=\"height:100px\"; style=\"background-color: #FFFFFF; font-weight: bold;\">\n",
    "      <td></td>\n",
    "      <td></td>\n",
    "      <td>polars.to_pandas</td>\n",
    "    </tr>\n",
    "  </tbody>\n",
    "</table>\n"
   ]
  },
  {
   "cell_type": "markdown",
   "id": "e1bfe78b-fc92-4606-bfd7-0601347e3b5b",
   "metadata": {
    "editable": true,
    "execution": {
     "iopub.execute_input": "2023-10-04T18:59:44.986576Z",
     "iopub.status.busy": "2023-10-04T18:59:44.986266Z",
     "iopub.status.idle": "2023-10-04T18:59:44.995046Z",
     "shell.execute_reply": "2023-10-04T18:59:44.994090Z",
     "shell.execute_reply.started": "2023-10-04T18:59:44.986555Z"
    },
    "slideshow": {
     "slide_type": "slide"
    },
    "tags": []
   },
   "source": [
    "<h1>Recent Updates</h1>\n",
    "<table border=\"1\" style=\"width: 80%; font-size: 24px;\">\n",
    "  <thead>\n",
    "    <tr style=\"font-weight: bold;\">\n",
    "      <th style=\"vertical-align: bottom;\">Feature</th>\n",
    "      <th style=\"text-align: left;\">\n",
    "        <img src=\"./images/pandas_secondary.svg\" alt=\"Pandas\" style=\"width: 300px; max-width: 100%;\">\n",
    "      </th>\n",
    "      <th style=\"text-align: left;\">\n",
    "        <img src=\"./images/polars.round.400x400.png\" alt=\"Polars\" style=\"width: 200px; max-width: 100%;\">\n",
    "      </th>\n",
    "    </tr>\n",
    "  </thead>\n",
    "  <tbody>\n",
    "    <tr style=\"height:100px\"; style=\"background-color: #FFFFFF; font-weight: bold;\">\n",
    "      <td>Speed - 2023</td>\n",
    "      <td></td>\n",
    "      <td></td>\n",
    "    </tr>\n",
    "    <tr style=\"background-color: #F0F0F0;\">\n",
    "      <td>Backend</td>\n",
    "      <td>Apache Arrow (kwargs: dtype_backend; engine)</td>\n",
    "      <td>+cloud reading formats/speed; bugfix</td>\n",
    "    </tr>\n",
    "    <tr style=\"height:100px\"; style=\"background-color: #FFFFFF;\">\n",
    "      <td></td>\n",
    "      <td>PyArrow <strong>required </strong>after Pandas 3.0.0</td>\n",
    "      <td></td>\n",
    "    </tr>\n",
    "    <tr style=\"height:100px\"; style=\"background-color: #F0F0F0;\">\n",
    "      <td></td>\n",
    "      <td>Copy-on-Write</td>\n",
    "      <td></td>\n",
    "    </tr>\n",
    "    <tr style=\"height:100px\"; style=\"background-color: #FFFFFF;\">\n",
    "      <td>Feature Flags / optional dependencies</td>\n",
    "      <td>e.g. pip install pandas[aws, performance]</td>\n",
    "      <td>existing: pip install polars[pandas, pyarrow, ffspec]</td>\n",
    "    </tr>\n",
    "    <tr style=\"height:100px\"; style=\"background-color: #FFFFFF;\">\n",
    "      <td>Reference</td>\n",
    "      <td><a href=\"https://pandas.pydata.org/docs/whatsnew/index.html\">pandas release notes</td>\n",
    "      <td><a href=\"https://github.com/pola-rs/polars/releases\">polars release notes</td>\n",
    "    </tr>\n",
    "  </tbody>\n",
    "</table>"
   ]
  },
  {
   "cell_type": "code",
   "execution_count": 9,
   "id": "20a4685e-d898-414f-bd54-114947a7f876",
   "metadata": {
    "editable": true,
    "execution": {
     "iopub.execute_input": "2023-10-04T19:32:28.735444Z",
     "iopub.status.busy": "2023-10-04T19:32:28.735084Z",
     "iopub.status.idle": "2023-10-04T19:32:48.202717Z",
     "shell.execute_reply": "2023-10-04T19:32:48.201711Z",
     "shell.execute_reply.started": "2023-10-04T19:32:28.735409Z"
    },
    "slideshow": {
     "slide_type": "slide"
    },
    "tags": []
   },
   "outputs": [
    {
     "data": {
      "text/html": [
       "<div>\n",
       "<style scoped>\n",
       "    .dataframe tbody tr th:only-of-type {\n",
       "        vertical-align: middle;\n",
       "    }\n",
       "\n",
       "    .dataframe tbody tr th {\n",
       "        vertical-align: top;\n",
       "    }\n",
       "\n",
       "    .dataframe thead th {\n",
       "        text-align: right;\n",
       "    }\n",
       "</style>\n",
       "<table border=\"1\" class=\"dataframe\">\n",
       "  <thead>\n",
       "    <tr style=\"text-align: right;\">\n",
       "      <th></th>\n",
       "      <th>customer_id</th>\n",
       "      <th>age</th>\n",
       "      <th>their_lucky_number</th>\n",
       "      <th>occupation</th>\n",
       "      <th>psf_membership_status</th>\n",
       "      <th>education</th>\n",
       "      <th>date_started_python</th>\n",
       "    </tr>\n",
       "  </thead>\n",
       "  <tbody>\n",
       "    <tr>\n",
       "      <th>0</th>\n",
       "      <td>A43321819</td>\n",
       "      <td>47</td>\n",
       "      <td>0</td>\n",
       "      <td>Data Engineer</td>\n",
       "      <td>Contributing</td>\n",
       "      <td>High School</td>\n",
       "      <td>1924-07-20</td>\n",
       "    </tr>\n",
       "    <tr>\n",
       "      <th>1</th>\n",
       "      <td>001338908</td>\n",
       "      <td>37</td>\n",
       "      <td>0</td>\n",
       "      <td>Rustacean</td>\n",
       "      <td>Managing</td>\n",
       "      <td>High School</td>\n",
       "      <td>2004-03-09</td>\n",
       "    </tr>\n",
       "  </tbody>\n",
       "</table>\n",
       "</div>"
      ],
      "text/plain": [
       "  customer_id  age  their_lucky_number     occupation psf_membership_status  \\\n",
       "0   A43321819   47                   0  Data Engineer          Contributing   \n",
       "1   001338908   37                   0      Rustacean              Managing   \n",
       "\n",
       "     education date_started_python  \n",
       "0  High School          1924-07-20  \n",
       "1  High School          2004-03-09  "
      ]
     },
     "execution_count": 9,
     "metadata": {},
     "output_type": "execute_result"
    }
   ],
   "source": [
    "# syntax example - pandas\n",
    "data = Path(\"data\", \"python_dev_universe.parquet\")\n",
    "import pandas as pd\n",
    "df_pandas = pd.read_parquet(data)\n",
    "df_pandas.head(2)"
   ]
  },
  {
   "cell_type": "code",
   "execution_count": 10,
   "id": "de0bb46a-d820-49ec-a207-f599fa366e54",
   "metadata": {
    "editable": true,
    "execution": {
     "iopub.execute_input": "2023-10-04T19:32:48.204338Z",
     "iopub.status.busy": "2023-10-04T19:32:48.204095Z",
     "iopub.status.idle": "2023-10-04T19:32:50.892137Z",
     "shell.execute_reply": "2023-10-04T19:32:50.890712Z",
     "shell.execute_reply.started": "2023-10-04T19:32:48.204321Z"
    },
    "slideshow": {
     "slide_type": "fragment"
    },
    "tags": []
   },
   "outputs": [
    {
     "data": {
      "text/html": [
       "<div><style>\n",
       ".dataframe > thead > tr > th,\n",
       ".dataframe > tbody > tr > td {\n",
       "  text-align: right;\n",
       "  white-space: pre-wrap;\n",
       "}\n",
       "</style>\n",
       "<small>shape: (2, 7)</small><table border=\"1\" class=\"dataframe\"><thead><tr><th>customer_id</th><th>age</th><th>their_lucky_number</th><th>occupation</th><th>psf_membership_status</th><th>education</th><th>date_started_python</th></tr><tr><td>str</td><td>i64</td><td>i64</td><td>str</td><td>str</td><td>str</td><td>datetime[ns]</td></tr></thead><tbody><tr><td>&quot;A43321819&quot;</td><td>47</td><td>0</td><td>&quot;Data Engineer&quot;</td><td>&quot;Contributing&quot;</td><td>&quot;High School&quot;</td><td>1924-07-20 00:00:00</td></tr><tr><td>&quot;001338908&quot;</td><td>37</td><td>0</td><td>&quot;Rustacean&quot;</td><td>&quot;Managing&quot;</td><td>&quot;High School&quot;</td><td>2004-03-09 00:00:00</td></tr></tbody></table></div>"
      ],
      "text/plain": [
       "shape: (2, 7)\n",
       "┌─────────────┬─────┬────────────────┬───────────────┬───────────────┬─────────────┬───────────────┐\n",
       "│ customer_id ┆ age ┆ their_lucky_nu ┆ occupation    ┆ psf_membershi ┆ education   ┆ date_started_ │\n",
       "│ ---         ┆ --- ┆ mber           ┆ ---           ┆ p_status      ┆ ---         ┆ python        │\n",
       "│ str         ┆ i64 ┆ ---            ┆ str           ┆ ---           ┆ str         ┆ ---           │\n",
       "│             ┆     ┆ i64            ┆               ┆ str           ┆             ┆ datetime[ns]  │\n",
       "╞═════════════╪═════╪════════════════╪═══════════════╪═══════════════╪═════════════╪═══════════════╡\n",
       "│ A43321819   ┆ 47  ┆ 0              ┆ Data Engineer ┆ Contributing  ┆ High School ┆ 1924-07-20    │\n",
       "│             ┆     ┆                ┆               ┆               ┆             ┆ 00:00:00      │\n",
       "│ 001338908   ┆ 37  ┆ 0              ┆ Rustacean     ┆ Managing      ┆ High School ┆ 2004-03-09    │\n",
       "│             ┆     ┆                ┆               ┆               ┆             ┆ 00:00:00      │\n",
       "└─────────────┴─────┴────────────────┴───────────────┴───────────────┴─────────────┴───────────────┘"
      ]
     },
     "execution_count": 10,
     "metadata": {},
     "output_type": "execute_result"
    }
   ],
   "source": [
    "# syntax example - polars\n",
    "import polars as pl\n",
    "df_polars = pl.read_parquet(data)\n",
    "df_polars.head(2)"
   ]
  },
  {
   "cell_type": "code",
   "execution_count": 11,
   "id": "251a5b9b-a330-459f-a304-f3e0248b6b84",
   "metadata": {
    "editable": true,
    "execution": {
     "iopub.execute_input": "2023-10-04T19:33:45.758142Z",
     "iopub.status.busy": "2023-10-04T19:33:45.757629Z",
     "iopub.status.idle": "2023-10-04T19:33:47.433276Z",
     "shell.execute_reply": "2023-10-04T19:33:47.432058Z",
     "shell.execute_reply.started": "2023-10-04T19:33:45.758108Z"
    },
    "slideshow": {
     "slide_type": "fragment"
    },
    "tags": []
   },
   "outputs": [
    {
     "data": {
      "text/plain": [
       "50000000"
      ]
     },
     "execution_count": 11,
     "metadata": {},
     "output_type": "execute_result"
    }
   ],
   "source": [
    "df_pandas[\"customer_id\"].count()"
   ]
  },
  {
   "cell_type": "code",
   "execution_count": 15,
   "id": "0602eb8b-b747-49db-a51a-1daab374d5dd",
   "metadata": {
    "editable": true,
    "execution": {
     "iopub.execute_input": "2023-10-04T19:35:55.809156Z",
     "iopub.status.busy": "2023-10-04T19:35:55.808019Z",
     "iopub.status.idle": "2023-10-04T19:35:55.818337Z",
     "shell.execute_reply": "2023-10-04T19:35:55.817328Z",
     "shell.execute_reply.started": "2023-10-04T19:35:55.809122Z"
    },
    "slideshow": {
     "slide_type": "fragment"
    },
    "tags": []
   },
   "outputs": [
    {
     "data": {
      "text/html": [
       "<div><style>\n",
       ".dataframe > thead > tr > th,\n",
       ".dataframe > tbody > tr > td {\n",
       "  text-align: right;\n",
       "  white-space: pre-wrap;\n",
       "}\n",
       "</style>\n",
       "<small>shape: (1, 1)</small><table border=\"1\" class=\"dataframe\"><thead><tr><th>customer_id</th></tr><tr><td>u32</td></tr></thead><tbody><tr><td>50000000</td></tr></tbody></table></div>"
      ],
      "text/plain": [
       "shape: (1, 1)\n",
       "┌─────────────┐\n",
       "│ customer_id │\n",
       "│ ---         │\n",
       "│ u32         │\n",
       "╞═════════════╡\n",
       "│ 50000000    │\n",
       "└─────────────┘"
      ]
     },
     "execution_count": 15,
     "metadata": {},
     "output_type": "execute_result"
    }
   ],
   "source": [
    "df_polars.select(pl.count(\"customer_id\"))"
   ]
  },
  {
   "cell_type": "markdown",
   "id": "ff1e4754-4c9b-4c24-903a-993de5bba28c",
   "metadata": {
    "editable": true,
    "slideshow": {
     "slide_type": "slide"
    },
    "tags": []
   },
   "source": [
    "# TLDR: \n",
    "##\n",
    "## Pandas is complete and improving speed; Polars is already fast\n",
    "##\n",
    "## Syntax differences\n",
    "##\n",
    "## Build better pipelines -- use each when it makes sense"
   ]
  },
  {
   "cell_type": "markdown",
   "id": "0ed0de54-5d10-46fc-87be-adc8b208d46a",
   "metadata": {
    "editable": true,
    "execution": {
     "iopub.execute_input": "2023-09-28T19:03:53.363132Z",
     "iopub.status.busy": "2023-09-28T19:03:53.362681Z",
     "iopub.status.idle": "2023-09-28T19:03:53.367099Z",
     "shell.execute_reply": "2023-09-28T19:03:53.366236Z",
     "shell.execute_reply.started": "2023-09-28T19:03:53.363109Z"
    },
    "slideshow": {
     "slide_type": "slide"
    },
    "tags": []
   },
   "source": [
    "# Key Differences and Updates\n",
    "features\n",
    "performance\n",
    "\n",
    "4 views:  pandas numpy, pandas arrow, polars, polars-lazy eval"
   ]
  },
  {
   "cell_type": "markdown",
   "id": "4e2f9e5c-521e-414f-a92d-54cb066e883e",
   "metadata": {
    "editable": true,
    "slideshow": {
     "slide_type": "slide"
    },
    "tags": []
   },
   "source": [
    "# TBD - python dataframe interchange protocol"
   ]
  },
  {
   "cell_type": "markdown",
   "id": "30e31c18-a387-4ba2-b254-4ba4c00f8f2b",
   "metadata": {
    "editable": true,
    "slideshow": {
     "slide_type": "slide"
    },
    "tags": []
   },
   "source": [
    "# How to integrate them for optimal performance"
   ]
  },
  {
   "cell_type": "markdown",
   "id": "68fc6a15-2583-48b0-a7e3-ada6420e0285",
   "metadata": {
    "editable": true,
    "slideshow": {
     "slide_type": "slide"
    },
    "tags": []
   },
   "source": [
    "# Nuances - Get the Best out of Pandas and Polars\n",
    "\n",
    "setup tips - Pandas\n",
    "### enable Copy-On-Write\n",
    "pd.options.mode.copy_on_write = True\n",
    "\n",
    "### set pyarrow for all string data\n",
    "pd.options.future.infer_string = True  \n",
    "\n",
    "### use pyarrow for I/O\n",
    "pd.read_csv( my_datat.csv\",  engine=\"pyarrow\"   dtype_backend=\"pyarrow\")\n",
    "pd.read_parquet,\n",
    ")"
   ]
  },
  {
   "cell_type": "markdown",
   "id": "1adb4b58-09fd-4fb3-84fa-325f0af6060e",
   "metadata": {
    "editable": true,
    "slideshow": {
     "slide_type": "slide"
    },
    "tags": []
   },
   "source": [
    "# Recap"
   ]
  },
  {
   "cell_type": "markdown",
   "id": "16df54c5-d7b9-43f6-be58-118bfe78af87",
   "metadata": {
    "editable": true,
    "slideshow": {
     "slide_type": "slide"
    },
    "tags": []
   },
   "source": [
    "# Thank you!"
   ]
  },
  {
   "cell_type": "markdown",
   "id": "3d059353-8a67-4c35-ab0b-7961367c5b7d",
   "metadata": {
    "editable": true,
    "execution": {
     "iopub.execute_input": "2023-10-02T17:12:37.365803Z",
     "iopub.status.busy": "2023-10-02T17:12:37.365178Z",
     "iopub.status.idle": "2023-10-02T17:12:37.373475Z",
     "shell.execute_reply": "2023-10-02T17:12:37.371396Z",
     "shell.execute_reply.started": "2023-10-02T17:12:37.365781Z"
    },
    "slideshow": {
     "slide_type": "slide"
    },
    "tags": []
   },
   "source": [
    "# Reference - Links\n",
    "\n",
    "pandas\n",
    "https://pandas.pydata.org/docs/whatsnew/index.html\n",
    "\n",
    "polars\n",
    "https://pola-rs.github.io/polars/\n",
    "\n",
    "apache arrow\n",
    "https://arrow.apache.org/overview/\n",
    "\n",
    "pyarrrow\n",
    "https://arrow.apache.org/docs/python/index.html\n",
    "\n",
    "dataframe API standard\n",
    "https://data-apis.org/dataframe-api/draft/index.html\n",
    "https://ponder.io/how-the-python-dataframe-interchange-protocol-makes-life-better/\n",
    "\n",
    "Arrow Revolution\n",
    "https://datapythonista.me/blog/pandas-20-and-the-arrow-revolution-part-i\n",
    "\n",
    "# convert to/from pandas/pyarrow\n",
    "https://arrow.apache.org/docs/python/pandas.html"
   ]
  },
  {
   "cell_type": "markdown",
   "id": "f4e3f341-ccb7-4434-90fc-08fcbb548545",
   "metadata": {
    "editable": true,
    "slideshow": {
     "slide_type": "slide"
    },
    "tags": []
   },
   "source": [
    "# Reference - Datatypes"
   ]
  },
  {
   "cell_type": "markdown",
   "id": "d46b66b4-65b1-429e-a022-dedd41a1641b",
   "metadata": {
    "editable": true,
    "execution": {
     "iopub.status.busy": "2023-10-02T17:12:37.374516Z",
     "iopub.status.idle": "2023-10-02T17:12:37.374958Z",
     "shell.execute_reply": "2023-10-02T17:12:37.374776Z",
     "shell.execute_reply.started": "2023-10-02T17:12:37.374758Z"
    },
    "slideshow": {
     "slide_type": "slide"
    },
    "tags": []
   },
   "source": [
    "# Reference - Syntax examples\n",
    "https://www.rhosignal.com/posts/polars-pandas-cheatsheet/\n"
   ]
  }
 ],
 "metadata": {
  "kernelspec": {
   "display_name": "Python 3 (ipykernel)",
   "language": "python",
   "name": "python3"
  },
  "language_info": {
   "codemirror_mode": {
    "name": "ipython",
    "version": 3
   },
   "file_extension": ".py",
   "mimetype": "text/x-python",
   "name": "python",
   "nbconvert_exporter": "python",
   "pygments_lexer": "ipython3",
   "version": "3.11.4"
  }
 },
 "nbformat": 4,
 "nbformat_minor": 5
}
