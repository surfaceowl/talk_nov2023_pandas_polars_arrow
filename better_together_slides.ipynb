{
 "cells": [
  {
   "cell_type": "raw",
   "id": "0c2d7166-2f43-485b-b9c4-6c89621f2613",
   "metadata": {
    "editable": true,
    "execution": {
     "iopub.execute_input": "2023-10-05T17:41:02.680807Z",
     "iopub.status.busy": "2023-10-05T17:41:02.679383Z",
     "iopub.status.idle": "2023-10-05T17:41:03.668791Z",
     "shell.execute_reply": "2023-10-05T17:41:03.667537Z",
     "shell.execute_reply.started": "2023-10-05T17:41:02.680702Z"
    },
    "raw_mimetype": "",
    "slideshow": {
     "slide_type": ""
    },
    "tags": []
   },
   "source": [
    "!jupyter lab clean"
   ]
  },
  {
   "cell_type": "code",
   "execution_count": 64,
   "id": "4766d670-0f7b-442d-896c-5d20b61bb927",
   "metadata": {
    "editable": true,
    "execution": {
     "iopub.execute_input": "2023-10-06T15:26:24.195170Z",
     "iopub.status.busy": "2023-10-06T15:26:24.194420Z",
     "iopub.status.idle": "2023-10-06T15:26:25.159978Z",
     "shell.execute_reply": "2023-10-06T15:26:24.209558Z",
     "shell.execute_reply.started": "2023-10-06T15:26:24.195146Z"
    },
    "slideshow": {
     "slide_type": "skip"
    },
    "tags": []
   },
   "outputs": [],
   "source": [
    "# setup\n",
    "from IPython.display import display, HTML\n",
    "from pathlib import Path\n",
    "\n",
    "import numpy as np\n",
    "import pandas as pd\n",
    "import polars as pl\n",
    "\n",
    "data_path = Path(\"data\")"
   ]
  },
  {
   "cell_type": "markdown",
   "id": "71db076d-1685-471a-ba1b-dc344aa38902",
   "metadata": {
    "editable": true,
    "execution": {
     "iopub.execute_input": "2023-09-28T17:47:16.458680Z",
     "iopub.status.busy": "2023-09-28T17:47:16.458208Z",
     "iopub.status.idle": "2023-09-28T17:47:16.462796Z",
     "shell.execute_reply": "2023-09-28T17:47:16.461727Z",
     "shell.execute_reply.started": "2023-09-28T17:47:16.458658Z"
    },
    "slideshow": {
     "slide_type": "skip"
    },
    "tags": []
   },
   "source": [
    "# Talk Tagline:<br>\n",
    "Supercharge your data engineering workflows by merging the **robustness of Pandas** with the **high-speed capabilities of Polars**, \n",
    "all underpinned by **Apache Arrow's in-memory technology.** <br>\n",
    "<br>\n",
    "This technical deep-dive will unravel the nuances between Pandas and Polars, showcase their newest features, and **demonstrate how to integrate them for optimal performance**. <br>\n",
    "<br>\n",
    "TO DELETE:  Key Differences and Updates: Get up to speed with the latest features and differences between Pandas and Polars. (5 min)<br>\n",
    "Introducing Apache Arrow: Discover what Arrow is and why it's a game-changer in the Python data ecosystem. (5 min)<br>\n",
    "Synergizing Pandas and Polars: Detailed walkthrough on how and why to integrate Pandas and Polars for high-efficiency data manipulation. (15 min) <br>"
   ]
  },
  {
   "cell_type": "markdown",
   "id": "4cbb1aeb-328e-4cdf-bfa7-eeb6c8d18a59",
   "metadata": {
    "editable": true,
    "slideshow": {
     "slide_type": "slide"
    },
    "tags": []
   },
   "source": [
    "\n",
    "<html>\n",
    "<head>\n",
    "</head>\n",
    "<body style=\"background-color: #FFFFFF;\">\n",
    "  <h1 align=\"center\" style=\"font-weight: bold; font-style: italic; font-size: 390%;\">Better Together</h1>\n",
    "  <table border=\"0\" align=\"center\" width=\"100%\" bgcolor=\"#FFFFFF\">\n",
    "    <tr>\n",
    "      <td align=\"center\" width=\"50%\" bgcolor=\"#FFFFFF\">\n",
    "        <img src=\"images/pandas_logo.1280x517.png\" width=\"620\" height=\"250\">\n",
    "      </td>\n",
    "      <td align=\"center\" width=\"50%\" bgcolor=\"#FFFFFF\">\n",
    "        <img src=\"images/polars.round.400x400.png\" width=\"250\" height=\"250\">\n",
    "      </td>\n",
    "    </tr>\n",
    "    <tr>\n",
    "      <td colspan=\"2\" align=\"center\" bgcolor=\"#FFFFFF\">\n",
    "        <img src=\"images/arrow-logo_horizontal.1800x936.png\" width=\"481\" height=\"250\">\n",
    "      </td>\n",
    "    </tr>\n",
    "  </table>\n",
    "  <br>\n",
    "  <div style=\"font-size: 300%;\">\n",
    "    <b>Better Together: Unleashing the Synergy of Pandas, Polars, and Apache Arrow</b><br>\n",
    "    <b>Speaker:</b> Chris Brousseau<br>\n",
    "    <b>Date:</b> 8 Oct 2023\n",
    "  </div>\n",
    "</body>\n",
    "</html>\n",
    " </div>\n",
    "</body>\n",
    "</html>"
   ]
  },
  {
   "cell_type": "markdown",
   "id": "a24bbb8b-7769-4459-8d57-5fa6fb4f26f7",
   "metadata": {
    "editable": true,
    "execution": {
     "iopub.execute_input": "2023-10-05T17:41:45.618979Z",
     "iopub.status.busy": "2023-10-05T17:41:45.617699Z",
     "iopub.status.idle": "2023-10-05T17:41:45.629488Z",
     "shell.execute_reply": "2023-10-05T17:41:45.627405Z",
     "shell.execute_reply.started": "2023-10-05T17:41:45.618942Z"
    },
    "slideshow": {
     "slide_type": "slide"
    },
    "tags": []
   },
   "source": [
    "<table class=\"custom-slide-table\">\n",
    "    <tr>\n",
    "        <td class=\"image-content\">\n",
    "            <img src=\"./images/intro_slide_full.jpg\" alt=\"Images of me - full slide\">\n",
    "        </td>\n",
    "    </tr>\n",
    "</table>"
   ]
  },
  {
   "cell_type": "markdown",
   "id": "ff1e4754-4c9b-4c24-903a-993de5bba28c",
   "metadata": {
    "editable": true,
    "slideshow": {
     "slide_type": "slide"
    },
    "tags": []
   },
   "source": [
    "# TLDR\n",
    "## Arrow enables great dataframe speedups for both libraries\n",
    "## Build better pipelines -- use them together"
   ]
  },
  {
   "cell_type": "markdown",
   "id": "98823da9-0a27-4bf6-97ab-5ad8d5a6e331",
   "metadata": {
    "editable": true,
    "execution": {
     "iopub.execute_input": "2023-10-04T19:50:04.890206Z",
     "iopub.status.busy": "2023-10-04T19:50:04.889842Z",
     "iopub.status.idle": "2023-10-04T19:50:04.899025Z",
     "shell.execute_reply": "2023-10-04T19:50:04.898073Z",
     "shell.execute_reply.started": "2023-10-04T19:50:04.890181Z"
    },
    "slideshow": {
     "slide_type": "slide"
    },
    "tags": []
   },
   "source": [
    "<h1>What is Apache Arrow / Why is it a Game Changer?</h1>\n",
    "\n",
    "<p style=\"font-size: 30px; line-height: 2;\">\n",
    "  <strong>In-memory data format for tabular data</strong><br><br>\n",
    "  <strong>Interoperability ==> Easier</strong> Arrow is program independent<br>\n",
    "  <strong>Datatypes ==> More + Better</strong>  ..vs Numpy. String dtype; Missing data support (NA) for all data types<br>\n",
    "  <strong>Speed ==> Faster</strong> Columnar format; zero-copy reads ==> transfer pointers + metadata vs copy data<br>\n",
    "</p>\n",
    "\n",
    "<table border=\"1\" style=\"width: 80%; font-size: 18px;\">\n",
    "  <thead>\n",
    "    <tr style=\"font-weight: bold;\">\n",
    "      <th style=\"text-align: center; padding: 20px; height: 100px;\">\n",
    "        <img src=\"./images/arrow_simd.948x651.png\" alt=\"in-memory columnar format\" style=\"width: 948px; height:651px; margin-right: 20px;\">\n",
    "      </th>\n",
    "      <th style=\"text-align: center; padding: 20px; height: 100px;\">\n",
    "        <img src=\"./images/arrow_copy.574x318.png\" alt=\"zero-copy reads\" style=\"width: 600px; height:330px; margin-left: 20px;\">\n",
    "      </th>\n",
    "    </tr>\n",
    "  </thead>\n",
    "  <tbody>\n",
    "    <tr style=\"background-color: #FFFFFF;\">\n",
    "      <td colspan=\"3\" style=\"font-weight: bold; text-align: center;\">\n",
    "        Image source: Apache Foundation\n",
    "      </td>\n",
    "    </tr>\n",
    "    <tr>\n",
    "      <td style=\"text-align: center;\">\n",
    "        <a href=\"https://arrow.apache.org/overview/\">Apache Arrow Overview</a>\n",
    "      </td>\n",
    "      <td style=\"text-align: center;\">\n",
    "        <a href=\"https://arrow.apache.org/docs/format/Columnar.html\">Columnar Format</a>\n",
    "      </td>\n",
    "      <td style=\"text-align: center;\">\n",
    "        <a href=\"https://pandas.pydata.org/docs/user_guide/pyarrow.html\">Pandas PyArrow</a>\n",
    "      </td>\n",
    "    </tr>\n",
    "  </tbody>\n",
    "</table>\n"
   ]
  },
  {
   "cell_type": "markdown",
   "id": "9fca268d-ff5e-45d2-8465-f8f95e932601",
   "metadata": {
    "editable": true,
    "execution": {
     "iopub.execute_input": "2023-10-02T18:10:08.550854Z",
     "iopub.status.busy": "2023-10-02T18:10:08.549735Z",
     "iopub.status.idle": "2023-10-02T18:10:08.574746Z",
     "shell.execute_reply": "2023-10-02T18:10:08.572358Z",
     "shell.execute_reply.started": "2023-10-02T18:10:08.550793Z"
    },
    "slideshow": {
     "slide_type": "slide"
    },
    "tags": []
   },
   "source": [
    "<h1>Key Differences - Package & Memory</h1>\n",
    "\n",
    "<table border=\"1\" style=\"width: 80%; font-size: 24px;\">\n",
    "  <thead>\n",
    "    <tr style=\"font-weight: bold;\">\n",
    "      <th style=\"vertical-align: bottom;\">Feature</th>\n",
    "      <th style=\"text-align: left;\">\n",
    "        <img src=\"./images/pandas_secondary.svg\" alt=\"Pandas\" style=\"width: 300px; max-width: 100%;\">\n",
    "      </th>\n",
    "      <th style=\"text-align: left;\">\n",
    "        <img src=\"./images/polars.round.400x400.png\" alt=\"Polars\" style=\"width: 200px; max-width: 100%;\">\n",
    "      </th>\n",
    "    </tr>\n",
    "  </thead>\n",
    "  <tbody>\n",
    "    <tr style=\"height:100px\"; style=\"background-color: #FFFFFF;\">\n",
    "      <td>First Release Date</td>\n",
    "      <td>2008</td>\n",
    "      <td>2019</td>\n",
    "    </tr>\n",
    "    <tr style=\"height:100px\"; style=\"background-color: #F0F0F0;\">\n",
    "      <td>Current Release</td>\n",
    "      <td>2.1.1</td>\n",
    "      <td>0.19.7</td>\n",
    "    </tr>\n",
    "    <tr style=\"height:100px\"; style=\"background-color: #FFFFFF;\">\n",
    "      <td>Programming Language</td>\n",
    "      <td>C, Cython, Python</td>\n",
    "      <td>Rust</td>\n",
    "    </tr>\n",
    "    <tr style=\"height:100px\"; style=\"background-color: #F0F0F0; font-weight: bold\">\n",
    "      <td><strong>Memory</strong></td>\n",
    "      <td></td>\n",
    "      <td></td>\n",
    "    </tr>\n",
    "    <tr style=\"height:100px\"; style=\"background-color: #FFFFFF;\">\n",
    "      <td>Memory Backend</td>\n",
    "      <td>Numpy (default) or <strong>Apache Arrow</strong></td>\n",
    "      <td><strong>Apache Arrow</strong></td>\n",
    "    </tr>\n",
    "    <tr style=\"height:100px\"; style=\"background-color: #F0F0F0;\">\n",
    "      <td>Memory implementation</td>\n",
    "      <td>Pyarrow (C++ wrapper on data)</td>\n",
    "      <td>Arrow2 (Rust wrapper on data)</td>\n",
    "    </tr>\n",
    "    <tr style=\"height:100px\"; style=\"background-color: #FFFFFF;\">\n",
    "      <td>Larger-than-Memory/ Out-of-Core</td>\n",
    "      <td>No  (but via Dask)</td>\n",
    "      <td><strong>Native on Lazy df only (`collect(streaming=True`)</strong></td>\n",
    "    </tr>\n",
    "    <tr style=\"height:100px\"; style=\"background-color: #F0F0F0;\">\n",
    "      <td>Represent Missing Data</td>\n",
    "      <td>\"Nan\" or \"None\"</td>\n",
    "      <td>\"null\"</td>\n",
    "    </tr>\n",
    "  </tbody>\n",
    "</table>\n"
   ]
  },
  {
   "cell_type": "markdown",
   "id": "25e2837d-88f2-470f-83bc-4ce9caf57927",
   "metadata": {
    "editable": true,
    "execution": {
     "iopub.execute_input": "2023-10-02T18:10:08.550854Z",
     "iopub.status.busy": "2023-10-02T18:10:08.549735Z",
     "iopub.status.idle": "2023-10-02T18:10:08.574746Z",
     "shell.execute_reply": "2023-10-02T18:10:08.572358Z",
     "shell.execute_reply.started": "2023-10-02T18:10:08.550793Z"
    },
    "slideshow": {
     "slide_type": "slide"
    },
    "tags": []
   },
   "source": [
    "<h1>Key Differences - API</h1>\n",
    "\n",
    "<table border=\"1\" style=\"width: 80%; font-size: 24px;\">\n",
    "  <thead>\n",
    "    <tr style=\"font-weight: bold;\">\n",
    "      <th style=\"vertical-align: bottom;\">Feature</th>\n",
    "      <th style=\"text-align: left;\">\n",
    "        <img src=\"./images/pandas_secondary.svg\" alt=\"Pandas\" style=\"width: 300px; max-width: 100%;\">\n",
    "      </th>\n",
    "      <th style=\"text-align: left;\">\n",
    "        <img src=\"./images/polars.round.400x400.png\" alt=\"Polars\" style=\"width: 200px; max-width: 100%;\">\n",
    "      </th>\n",
    "    </tr>\n",
    "  </thead>\n",
    "  <tbody>\n",
    "    <tr style=\"height:100px\"; style=\"background-color: #FFFFFF; font-weight: bold;\">\n",
    "      <td>API</td>\n",
    "      <td></td>\n",
    "      <td></td>\n",
    "    </tr>\n",
    "    <tr style=\"height:100px\"; style=\"background-color: #F0F0F0;\">\n",
    "      <td>Number of Methods</td>\n",
    "      <td><strong><i>Many</i></strong></td>\n",
    "      <td><strong><i>not 1:1</i></strong></td>\n",
    "    </tr>\n",
    "    <tr style=\"height:100px\"; style=\"background-color: #FFFFFF;\">\n",
    "      <td>Index/Multindex</td>\n",
    "      <td>Yes</td>\n",
    "      <td><strong>No - \"index free\"</strong></td>\n",
    "    </tr>\n",
    "    <tr style=\"height:100px\"; style=\"background-color: #F0F0F0;\">\n",
    "      <td>Nullable dtype</td>\n",
    "      <td>Yes</td>\n",
    "      <td>Yes</td>\n",
    "    </tr>\n",
    "    <tr style=\"height:100px\"; style=\"background-color: #FFFFFF;\">\n",
    "      <td>API mode</td>\n",
    "      <td>Eager</td>\n",
    "      <td>Eager or Lazy</td>\n",
    "    </tr>\n",
    "    <tr style=\"height:100px\"; style=\"background-color: #F0F0F0;\">\n",
    "      <td>Query Optimization</td>\n",
    "      <td>No</td>\n",
    "      <td>Yes<i> - with Lazy</i></td>\n",
    "    </tr>\n",
    "    <tr style=\"height:100px\"; style=\"background-color: #FFFFFF;\">\n",
    "      <td>Parallelization</td>\n",
    "      <td>No - single threaded</td>\n",
    "      <td><strong>Yes - multithreaded (many ops)</td>\n",
    "    </tr>\n",
    "    <tr style=\"height:100px\"; style=\"background-color: #F0F0F0;\">\n",
    "      <td>SIMD</td>\n",
    "      <td>No</td>\n",
    "      <td><strong>Yes</td>\n",
    "    </tr>\n",
    "    <tr style=\"height:100px\"; style=\"background-color: #FFFFFF; font-weight: bold;\">\n",
    "      <td><strong>How to transfer df?</strong></td>\n",
    "      <td></td>\n",
    "      <td>polars.from_pandas</td>\n",
    "    </tr>\n",
    "    <tr style=\"height:100px\"; style=\"background-color: #F0F0F0; font-weight: bold;\">\n",
    "      <td></td>\n",
    "      <td></td>\n",
    "      <td>polars.to_pandas</td>\n",
    "    </tr>\n",
    "  </tbody>\n",
    "</table>\n"
   ]
  },
  {
   "cell_type": "markdown",
   "id": "e1bfe78b-fc92-4606-bfd7-0601347e3b5b",
   "metadata": {
    "editable": true,
    "execution": {
     "iopub.execute_input": "2023-10-04T18:59:44.986576Z",
     "iopub.status.busy": "2023-10-04T18:59:44.986266Z",
     "iopub.status.idle": "2023-10-04T18:59:44.995046Z",
     "shell.execute_reply": "2023-10-04T18:59:44.994090Z",
     "shell.execute_reply.started": "2023-10-04T18:59:44.986555Z"
    },
    "slideshow": {
     "slide_type": "slide"
    },
    "tags": []
   },
   "source": [
    "<h1>Recent Updates</h1>\n",
    "<table border=\"1\" style=\"width: 80%; font-size: 24px;\">\n",
    "  <thead>\n",
    "    <tr style=\"font-weight: bold;\">\n",
    "      <th style=\"vertical-align: bottom;\">Feature</th>\n",
    "      <th style=\"text-align: left;\">\n",
    "        <img src=\"./images/pandas_secondary.svg\" alt=\"Pandas\" style=\"width: 300px; max-width: 100%;\">\n",
    "      </th>\n",
    "      <th style=\"text-align: left;\">\n",
    "        <img src=\"./images/polars.round.400x400.png\" alt=\"Polars\" style=\"width: 200px; max-width: 100%;\">\n",
    "      </th>\n",
    "    </tr>\n",
    "  </thead>\n",
    "  <tbody>\n",
    "    <tr style=\"height:100px\"; style=\"background-color: #FFFFFF; font-weight: bold;\">\n",
    "      <td><strong>2023 - Speed & Consistency</strong></td>\n",
    "      <td></td>\n",
    "      <td></td>\n",
    "    </tr>\n",
    "    <tr style=\"background-color: #F0F0F0;\">\n",
    "      <td>Backend</td>\n",
    "      <td>Apache Arrow (kwargs: dtype_backend; engine)</td>\n",
    "      <td>+cloud reading formats/speed; bugfix</td>\n",
    "    </tr>\n",
    "    <tr style=\"height:100px\"; style=\"background-color: #FFFFFF;\">\n",
    "      <td></td>\n",
    "      <td>PyArrow <strong>required </strong>after Pandas 3.0.0</td>\n",
    "      <td></td>\n",
    "    </tr>\n",
    "    <tr style=\"height:100px\"; style=\"background-color: #F0F0F0;\">\n",
    "      <td></td>\n",
    "      <td>Copy-on-Write</td>\n",
    "      <td></td>\n",
    "    </tr>\n",
    "    <tr style=\"height:100px\"; style=\"background-color: #FFFFFF;\">\n",
    "      <td>Feature Flags / optional dependencies</td>\n",
    "      <td><i>new:</i>  pip install pandas[aws, performance]</td>\n",
    "      <td>pip install polars[pandas, pyarrow, ffspec]</td>\n",
    "    </tr>\n",
    "    <tr style=\"height:100px\"; style=\"background-color: #FFFFFF;\">\n",
    "      <td>Reference</td>\n",
    "      <td><a href=\"https://pandas.pydata.org/docs/whatsnew/index.html\">pandas release notes</td>\n",
    "      <td><a href=\"https://github.com/pola-rs/polars/releases\">polars release notes</td>\n",
    "    </tr>\n",
    "  </tbody>\n",
    "</table>"
   ]
  },
  {
   "cell_type": "markdown",
   "id": "ca7b810f-b5aa-4c20-ba97-86e12aececa9",
   "metadata": {
    "editable": true,
    "execution": {
     "iopub.execute_input": "2023-10-05T23:36:30.124108Z",
     "iopub.status.busy": "2023-10-05T23:36:30.123723Z",
     "iopub.status.idle": "2023-10-05T23:36:30.130190Z",
     "shell.execute_reply": "2023-10-05T23:36:30.128887Z",
     "shell.execute_reply.started": "2023-10-05T23:36:30.124086Z"
    },
    "slideshow": {
     "slide_type": "slide"
    },
    "tags": []
   },
   "source": [
    "<h1>But how much faster?</h1>\n",
    "<table border=\"1\" style=\"width: 80%; font-size: 24px;\">\n",
    "  <thead>\n",
    "    <tr style=\"font-weight: bold;\">\n",
    "      <th style=\"vertical-align: bottom;\">Feature</th>\n",
    "      <th style=\"text-align: left;\">\n",
    "        <img src=\"./images/pandas_secondary.svg\" alt=\"Pandas\" style=\"width: 300px; max-width: 100%;\">\n",
    "      </th>\n",
    "      <th style=\"text-align: left;\">\n",
    "        <img src=\"./images/polars.round.400x400.png\" alt=\"Polars\" style=\"width: 200px; max-width: 100%;\">\n",
    "      </th>\n",
    "    </tr>\n",
    "  </thead>\n",
    "  <tbody>\n",
    "    <tr style=\"height:100px\"; style=\"background-color: #FFFFFF; font-weight: bold;\">\n",
    "      <td><strong>Anecdotes</strong></td>\n",
    "      <td></td>\n",
    "      <td></td>\n",
    "    </tr>\n",
    "    <tr style=\"height:100px\"; style=\"background-color: #FFFFFF; font-weight: bold;\">\n",
    "      <td><i>see other notebooks in this repo + ref material</i></td>\n",
    "      <td></td>\n",
    "      <td></td>\n",
    "    </tr>\n",
    "    <tr style=\"background-color: #F0F0F0;\">\n",
    "      <td><strong>Speed Comparison</strong></td>\n",
    "      <td></td>\n",
    "      <td></td>\n",
    "    </tr>\n",
    "    <tr style=\"height:100px\"; style=\"background-color: #FFFFFF;\">\n",
    "      <td>read csv +csv.gz</td>\n",
    "      <td></td>\n",
    "      <td>~8x-20x faster</td>\n",
    "    </tr>\n",
    "    <tr style=\"height:100px\"; style=\"background-color: #F0F0F0;\">\n",
    "      <td>read parquet</td>\n",
    "      <td></td>\n",
    "      <td>~5x</td>\n",
    "    </tr>\n",
    "      <tr style=\"height:100px\"; style=\"background-color: #FFFFFF;\">\n",
    "      <td>merge</td>\n",
    "      <td></td>\n",
    "      <td>TBD</td>\n",
    "    </tr>\n",
    "    <tr style=\"height:100px\"; style=\"background-color: #F0F0F0;\">\n",
    "      <td>groupby</td>\n",
    "      <td></td>\n",
    "      <td></td>\n",
    "    </tr>\n",
    "    <tr style=\"height:100px\"; style=\"background-color: #FFFFFF;\">\n",
    "      <td><strong>Gaps to consider</strong></td>\n",
    "      <td><i>few</i></td>\n",
    "      <td>Many - <i>not 1:1 with Pandas like Modin</i></td>\n",
    "    </tr>\n",
    "    <tr style=\"height:100px\"; style=\"background-color: #FFFFFF;\">\n",
    "      <td></td>\n",
    "      <td>Huge Ecosystem / examples</td>\n",
    "      <td>Smaller but growing Ecosystem</td>\n",
    "    <tr style=\"height:100px\"; style=\"background-color: #FFFFFF;\">\n",
    "      <td></td>\n",
    "      <td></td>\n",
    "      <td>Categorical - predefined</td>\n",
    "    </tr>\n",
    "      <tr style=\"height:100px\"; style=\"background-color: #FFFFFF;\">\n",
    "      <td></td>\n",
    "      <td></td>\n",
    "      <td>plotting</td>\n",
    "    </tr>\n",
    "    <tr style=\"height:100px\"; style=\"background-color: #FFFFFF;\">\n",
    "      <td></td>\n",
    "      <td></td>\n",
    "      <td>Some windowing functions</td>\n",
    "    </tr>\n",
    "    <tr style=\"height:100px\"; style=\"background-color: #FFFFFF;\">\n",
    "      <td><strong>Reference</strong></td>\n",
    "      <td><a href=\"https://pandas.pydata.org/docs/reference/index.html\">pandas api</td>\n",
    "      <td><a href=\"https://pola-rs.github.io/polars/py-polars/html/reference/\">polars api</td>\n",
    "    </tr>\n",
    "  </tbody>\n",
    "</table>"
   ]
  },
  {
   "cell_type": "markdown",
   "id": "4d6624fa-da26-47a0-8cef-012dca162ea2",
   "metadata": {
    "editable": true,
    "slideshow": {
     "slide_type": "slide"
    },
    "tags": []
   },
   "source": [
    "<style>\n",
    "    .custom-slide-table {\n",
    "        width: 100%;\n",
    "        table-layout: fixed;\n",
    "    }\n",
    "\n",
    "    .custom-slide-table td {\n",
    "        vertical-align: middle;\n",
    "    }\n",
    "</style>\n",
    "\n",
    "<table class=\"custom-slide-table\">\n",
    "    <tr>\n",
    "        <td class=\"image-content\">\n",
    "            <img src=\"./images/csv_read_speed_comparison.jpg\" alt=\"A lot faster!\">\n",
    "        </td>\n",
    "    </tr>\n",
    "</table>"
   ]
  },
  {
   "cell_type": "code",
   "execution_count": 54,
   "id": "5d529f77-1958-4a83-95b4-4a327937a014",
   "metadata": {
    "editable": true,
    "execution": {
     "iopub.execute_input": "2023-10-06T15:19:59.980587Z",
     "iopub.status.busy": "2023-10-06T15:19:59.979555Z",
     "iopub.status.idle": "2023-10-06T15:19:59.996027Z",
     "shell.execute_reply": "2023-10-06T15:19:59.994645Z",
     "shell.execute_reply.started": "2023-10-06T15:19:59.980482Z"
    },
    "slideshow": {
     "slide_type": "skip"
    },
    "tags": []
   },
   "outputs": [],
   "source": [
    "data_parquet = Path(\"data\", \"python_dev_universe.parquet\")"
   ]
  },
  {
   "cell_type": "code",
   "execution_count": 55,
   "id": "20a4685e-d898-414f-bd54-114947a7f876",
   "metadata": {
    "editable": true,
    "execution": {
     "iopub.execute_input": "2023-10-06T15:19:59.999179Z",
     "iopub.status.busy": "2023-10-06T15:19:59.998302Z",
     "iopub.status.idle": "2023-10-06T15:20:44.947301Z",
     "shell.execute_reply": "2023-10-06T15:20:44.946411Z",
     "shell.execute_reply.started": "2023-10-06T15:19:59.999138Z"
    },
    "slideshow": {
     "slide_type": "slide"
    },
    "tags": []
   },
   "outputs": [
    {
     "data": {
      "text/html": [
       "<div>\n",
       "<style scoped>\n",
       "    .dataframe tbody tr th:only-of-type {\n",
       "        vertical-align: middle;\n",
       "    }\n",
       "\n",
       "    .dataframe tbody tr th {\n",
       "        vertical-align: top;\n",
       "    }\n",
       "\n",
       "    .dataframe thead th {\n",
       "        text-align: right;\n",
       "    }\n",
       "</style>\n",
       "<table border=\"1\" class=\"dataframe\">\n",
       "  <thead>\n",
       "    <tr style=\"text-align: right;\">\n",
       "      <th></th>\n",
       "      <th>customer_id</th>\n",
       "      <th>age</th>\n",
       "      <th>their_lucky_number</th>\n",
       "      <th>occupation</th>\n",
       "      <th>psf_membership_status</th>\n",
       "      <th>education</th>\n",
       "      <th>date_started_python</th>\n",
       "    </tr>\n",
       "  </thead>\n",
       "  <tbody>\n",
       "    <tr>\n",
       "      <th>0</th>\n",
       "      <td>A43321819</td>\n",
       "      <td>47</td>\n",
       "      <td>0</td>\n",
       "      <td>Data Engineer</td>\n",
       "      <td>Contributing</td>\n",
       "      <td>High School</td>\n",
       "      <td>1924-07-20</td>\n",
       "    </tr>\n",
       "    <tr>\n",
       "      <th>1</th>\n",
       "      <td>001338908</td>\n",
       "      <td>37</td>\n",
       "      <td>0</td>\n",
       "      <td>Rustacean</td>\n",
       "      <td>Managing</td>\n",
       "      <td>High School</td>\n",
       "      <td>2004-03-09</td>\n",
       "    </tr>\n",
       "  </tbody>\n",
       "</table>\n",
       "</div>"
      ],
      "text/plain": [
       "  customer_id  age  their_lucky_number     occupation psf_membership_status  \\\n",
       "0   A43321819   47                   0  Data Engineer          Contributing   \n",
       "1   001338908   37                   0      Rustacean              Managing   \n",
       "\n",
       "     education date_started_python  \n",
       "0  High School          1924-07-20  \n",
       "1  High School          2004-03-09  "
      ]
     },
     "execution_count": 55,
     "metadata": {},
     "output_type": "execute_result"
    }
   ],
   "source": [
    "# syntax example - pandas\n",
    "df_pandas = pd.read_parquet(data_parquet)\n",
    "df_pandas.head(2)"
   ]
  },
  {
   "cell_type": "code",
   "execution_count": 56,
   "id": "de0bb46a-d820-49ec-a207-f599fa366e54",
   "metadata": {
    "editable": true,
    "execution": {
     "iopub.execute_input": "2023-10-06T15:20:44.949049Z",
     "iopub.status.busy": "2023-10-06T15:20:44.948295Z",
     "iopub.status.idle": "2023-10-06T15:20:50.618040Z",
     "shell.execute_reply": "2023-10-06T15:20:50.616512Z",
     "shell.execute_reply.started": "2023-10-06T15:20:44.949028Z"
    },
    "slideshow": {
     "slide_type": "fragment"
    },
    "tags": []
   },
   "outputs": [
    {
     "data": {
      "text/html": [
       "<div><style>\n",
       ".dataframe > thead > tr > th,\n",
       ".dataframe > tbody > tr > td {\n",
       "  text-align: right;\n",
       "  white-space: pre-wrap;\n",
       "}\n",
       "</style>\n",
       "<small>shape: (2, 7)</small><table border=\"1\" class=\"dataframe\"><thead><tr><th>customer_id</th><th>age</th><th>their_lucky_number</th><th>occupation</th><th>psf_membership_status</th><th>education</th><th>date_started_python</th></tr><tr><td>str</td><td>i64</td><td>i64</td><td>str</td><td>str</td><td>str</td><td>datetime[ns]</td></tr></thead><tbody><tr><td>&quot;A43321819&quot;</td><td>47</td><td>0</td><td>&quot;Data Engineer&quot;</td><td>&quot;Contributing&quot;</td><td>&quot;High School&quot;</td><td>1924-07-20 00:00:00</td></tr><tr><td>&quot;001338908&quot;</td><td>37</td><td>0</td><td>&quot;Rustacean&quot;</td><td>&quot;Managing&quot;</td><td>&quot;High School&quot;</td><td>2004-03-09 00:00:00</td></tr></tbody></table></div>"
      ],
      "text/plain": [
       "shape: (2, 7)\n",
       "┌─────────────┬─────┬────────────────┬───────────────┬───────────────┬─────────────┬───────────────┐\n",
       "│ customer_id ┆ age ┆ their_lucky_nu ┆ occupation    ┆ psf_membershi ┆ education   ┆ date_started_ │\n",
       "│ ---         ┆ --- ┆ mber           ┆ ---           ┆ p_status      ┆ ---         ┆ python        │\n",
       "│ str         ┆ i64 ┆ ---            ┆ str           ┆ ---           ┆ str         ┆ ---           │\n",
       "│             ┆     ┆ i64            ┆               ┆ str           ┆             ┆ datetime[ns]  │\n",
       "╞═════════════╪═════╪════════════════╪═══════════════╪═══════════════╪═════════════╪═══════════════╡\n",
       "│ A43321819   ┆ 47  ┆ 0              ┆ Data Engineer ┆ Contributing  ┆ High School ┆ 1924-07-20    │\n",
       "│             ┆     ┆                ┆               ┆               ┆             ┆ 00:00:00      │\n",
       "│ 001338908   ┆ 37  ┆ 0              ┆ Rustacean     ┆ Managing      ┆ High School ┆ 2004-03-09    │\n",
       "│             ┆     ┆                ┆               ┆               ┆             ┆ 00:00:00      │\n",
       "└─────────────┴─────┴────────────────┴───────────────┴───────────────┴─────────────┴───────────────┘"
      ]
     },
     "execution_count": 56,
     "metadata": {},
     "output_type": "execute_result"
    }
   ],
   "source": [
    "# syntax example - polars\n",
    "import polars as pl\n",
    "\n",
    "df_polars = pl.read_parquet(data_parquet)\n",
    "df_polars.head(2)"
   ]
  },
  {
   "cell_type": "code",
   "execution_count": 57,
   "id": "251a5b9b-a330-459f-a304-f3e0248b6b84",
   "metadata": {
    "editable": true,
    "execution": {
     "iopub.execute_input": "2023-10-06T15:20:50.623420Z",
     "iopub.status.busy": "2023-10-06T15:20:50.622537Z",
     "iopub.status.idle": "2023-10-06T15:20:52.749296Z",
     "shell.execute_reply": "2023-10-06T15:20:52.748033Z",
     "shell.execute_reply.started": "2023-10-06T15:20:50.623393Z"
    },
    "slideshow": {
     "slide_type": "fragment"
    },
    "tags": []
   },
   "outputs": [
    {
     "data": {
      "text/plain": [
       "50000000"
      ]
     },
     "execution_count": 57,
     "metadata": {},
     "output_type": "execute_result"
    }
   ],
   "source": [
    "df_pandas[\"customer_id\"].count()"
   ]
  },
  {
   "cell_type": "code",
   "execution_count": 58,
   "id": "0602eb8b-b747-49db-a51a-1daab374d5dd",
   "metadata": {
    "editable": true,
    "execution": {
     "iopub.execute_input": "2023-10-06T15:20:52.751274Z",
     "iopub.status.busy": "2023-10-06T15:20:52.750991Z",
     "iopub.status.idle": "2023-10-06T15:20:52.768796Z",
     "shell.execute_reply": "2023-10-06T15:20:52.767228Z",
     "shell.execute_reply.started": "2023-10-06T15:20:52.751255Z"
    },
    "slideshow": {
     "slide_type": "fragment"
    },
    "tags": []
   },
   "outputs": [
    {
     "data": {
      "text/html": [
       "<div><style>\n",
       ".dataframe > thead > tr > th,\n",
       ".dataframe > tbody > tr > td {\n",
       "  text-align: right;\n",
       "  white-space: pre-wrap;\n",
       "}\n",
       "</style>\n",
       "<small>shape: (1, 1)</small><table border=\"1\" class=\"dataframe\"><thead><tr><th>customer_id</th></tr><tr><td>u32</td></tr></thead><tbody><tr><td>50000000</td></tr></tbody></table></div>"
      ],
      "text/plain": [
       "shape: (1, 1)\n",
       "┌─────────────┐\n",
       "│ customer_id │\n",
       "│ ---         │\n",
       "│ u32         │\n",
       "╞═════════════╡\n",
       "│ 50000000    │\n",
       "└─────────────┘"
      ]
     },
     "execution_count": 58,
     "metadata": {},
     "output_type": "execute_result"
    }
   ],
   "source": [
    "df_polars.select(pl.count(\"customer_id\"))"
   ]
  },
  {
   "cell_type": "code",
   "execution_count": 59,
   "id": "a7de0aa6-19f2-462b-88e7-0f9e9b7d661f",
   "metadata": {
    "editable": true,
    "execution": {
     "iopub.execute_input": "2023-10-06T15:20:52.770196Z",
     "iopub.status.busy": "2023-10-06T15:20:52.769921Z",
     "iopub.status.idle": "2023-10-06T15:20:57.858232Z",
     "shell.execute_reply": "2023-10-06T15:20:57.857400Z",
     "shell.execute_reply.started": "2023-10-06T15:20:52.770179Z"
    },
    "slideshow": {
     "slide_type": "slide"
    },
    "tags": []
   },
   "outputs": [],
   "source": [
    "# polars Eager API\n",
    "df_pl1 = pl.read_parquet(data_parquet).filter(\n",
    "    (pl.col(\"occupation\") == \"Data Engineer\")\n",
    "    & (pl.col(\"psf_membership_status\") != \"Not Yet a Member\")\n",
    ")"
   ]
  },
  {
   "cell_type": "code",
   "execution_count": 60,
   "id": "ea07dac3-03da-4ca9-9201-32c0cf0889fd",
   "metadata": {
    "editable": true,
    "execution": {
     "iopub.execute_input": "2023-10-06T15:20:57.859382Z",
     "iopub.status.busy": "2023-10-06T15:20:57.859104Z",
     "iopub.status.idle": "2023-10-06T15:21:02.683570Z",
     "shell.execute_reply": "2023-10-06T15:21:02.682782Z",
     "shell.execute_reply.started": "2023-10-06T15:20:57.859366Z"
    },
    "slideshow": {
     "slide_type": "fragment"
    },
    "tags": []
   },
   "outputs": [],
   "source": [
    "# polars Lazy API\n",
    "df_pl2 = (\n",
    "    pl.read_parquet(data_parquet)\n",
    "    .lazy()\n",
    "    .filter(\n",
    "        (pl.col(\"occupation\") == \"Data Engineer\")\n",
    "        & (pl.col(\"psf_membership_status\") != \"Not Yet a Member\")\n",
    "    )\n",
    "    .collect()\n",
    ")"
   ]
  },
  {
   "cell_type": "code",
   "execution_count": 61,
   "id": "e5c06df0-5ddb-4120-983b-b3d786fb3922",
   "metadata": {
    "editable": true,
    "execution": {
     "iopub.execute_input": "2023-10-06T15:21:02.684565Z",
     "iopub.status.busy": "2023-10-06T15:21:02.684379Z",
     "iopub.status.idle": "2023-10-06T15:21:23.882644Z",
     "shell.execute_reply": "2023-10-06T15:21:23.881787Z",
     "shell.execute_reply.started": "2023-10-06T15:21:02.684548Z"
    },
    "slideshow": {
     "slide_type": "fragment"
    },
    "tags": []
   },
   "outputs": [
    {
     "data": {
      "text/html": [
       "<div>\n",
       "<style scoped>\n",
       "    .dataframe tbody tr th:only-of-type {\n",
       "        vertical-align: middle;\n",
       "    }\n",
       "\n",
       "    .dataframe tbody tr th {\n",
       "        vertical-align: top;\n",
       "    }\n",
       "\n",
       "    .dataframe thead th {\n",
       "        text-align: right;\n",
       "    }\n",
       "</style>\n",
       "<table border=\"1\" class=\"dataframe\">\n",
       "  <thead>\n",
       "    <tr style=\"text-align: right;\">\n",
       "      <th></th>\n",
       "      <th>customer_id</th>\n",
       "      <th>age</th>\n",
       "      <th>their_lucky_number</th>\n",
       "      <th>occupation</th>\n",
       "      <th>psf_membership_status</th>\n",
       "      <th>education</th>\n",
       "      <th>date_started_python</th>\n",
       "    </tr>\n",
       "  </thead>\n",
       "  <tbody>\n",
       "    <tr>\n",
       "      <th>0</th>\n",
       "      <td>A43321819</td>\n",
       "      <td>47</td>\n",
       "      <td>0</td>\n",
       "      <td>Data Engineer</td>\n",
       "      <td>Contributing</td>\n",
       "      <td>High School</td>\n",
       "      <td>1924-07-20</td>\n",
       "    </tr>\n",
       "  </tbody>\n",
       "</table>\n",
       "</div>"
      ],
      "text/plain": [
       "  customer_id  age  their_lucky_number     occupation psf_membership_status  \\\n",
       "0   A43321819   47                   0  Data Engineer          Contributing   \n",
       "\n",
       "     education date_started_python  \n",
       "0  High School          1924-07-20  "
      ]
     },
     "execution_count": 61,
     "metadata": {},
     "output_type": "execute_result"
    }
   ],
   "source": [
    "# pandas = reading parquet is faster because of columnar format\n",
    "df_pd1 = pd.read_parquet(data_parquet)\n",
    "df_pd1.head(1)"
   ]
  },
  {
   "cell_type": "code",
   "execution_count": 62,
   "id": "e6a37e64-f546-4c48-9fc9-b2ec6ffee3b4",
   "metadata": {
    "editable": true,
    "execution": {
     "iopub.execute_input": "2023-10-06T15:21:23.883991Z",
     "iopub.status.busy": "2023-10-06T15:21:23.883645Z",
     "iopub.status.idle": "2023-10-06T15:21:27.537547Z",
     "shell.execute_reply": "2023-10-06T15:21:27.536698Z",
     "shell.execute_reply.started": "2023-10-06T15:21:23.883970Z"
    },
    "slideshow": {
     "slide_type": "fragment"
    },
    "tags": []
   },
   "outputs": [
    {
     "data": {
      "text/html": [
       "<div>\n",
       "<style scoped>\n",
       "    .dataframe tbody tr th:only-of-type {\n",
       "        vertical-align: middle;\n",
       "    }\n",
       "\n",
       "    .dataframe tbody tr th {\n",
       "        vertical-align: top;\n",
       "    }\n",
       "\n",
       "    .dataframe thead th {\n",
       "        text-align: right;\n",
       "    }\n",
       "</style>\n",
       "<table border=\"1\" class=\"dataframe\">\n",
       "  <thead>\n",
       "    <tr style=\"text-align: right;\">\n",
       "      <th></th>\n",
       "      <th>customer_id</th>\n",
       "      <th>age</th>\n",
       "      <th>their_lucky_number</th>\n",
       "      <th>occupation</th>\n",
       "      <th>psf_membership_status</th>\n",
       "      <th>education</th>\n",
       "      <th>date_started_python</th>\n",
       "    </tr>\n",
       "  </thead>\n",
       "  <tbody>\n",
       "    <tr>\n",
       "      <th>0</th>\n",
       "      <td>A43321819</td>\n",
       "      <td>47</td>\n",
       "      <td>0</td>\n",
       "      <td>Data Engineer</td>\n",
       "      <td>Contributing</td>\n",
       "      <td>High School</td>\n",
       "      <td>1924-07-20</td>\n",
       "    </tr>\n",
       "  </tbody>\n",
       "</table>\n",
       "</div>"
      ],
      "text/plain": [
       "  customer_id  age  their_lucky_number     occupation psf_membership_status  \\\n",
       "0   A43321819   47                   0  Data Engineer          Contributing   \n",
       "\n",
       "     education date_started_python  \n",
       "0  High School          1924-07-20  "
      ]
     },
     "execution_count": 62,
     "metadata": {},
     "output_type": "execute_result"
    }
   ],
   "source": [
    "# pandas predicate push-down with parquet files helps with speed\n",
    "df_pd2 = pd.read_parquet(data_parquet, filters=[(\"occupation\", \"==\", \"Data Engineer\"), (\"psf_membership_status\", \"!=\", \"Not Yet a Member\")])\n",
    "df_pd2.head(1)"
   ]
  },
  {
   "cell_type": "markdown",
   "id": "68fc6a15-2583-48b0-a7e3-ada6420e0285",
   "metadata": {
    "editable": true,
    "slideshow": {
     "slide_type": "slide"
    },
    "tags": []
   },
   "source": [
    "# Get the Best out of Pandas\n",
    "\n",
    "### 1- use pyarrow for I/O & nullable dtypes (faster)\n",
    "pd.read_csv( my_datat.csv\",  engine=\"pyarrow\"   dtype_backend=\"pyarrow\")pd.read_parquet) <br>\n",
    "\n",
    "### 2- set pyarrow for all string data (faster/smaller)\n",
    "pd.options.future.infer_string = True   <br>\n",
    "\n",
    "### 3- enable Copy-On-Write (more consistent api)\n",
    "pd.options.mode.copy_on_write = True <br>\n",
    "\n",
    "### 4- push filters down when reading parquet files\n",
    "pd.read_parquet(data_parquet, filters=[(\"occupation\", \"==\", \"Data Engineer\"), (\"psf_membership_status\", \"!=\", \"Not Yet a Member\")])"
   ]
  },
  {
   "cell_type": "markdown",
   "id": "5fd266c8-d8d4-44fd-883c-d744c2e1d752",
   "metadata": {
    "editable": true,
    "execution": {
     "iopub.execute_input": "2023-10-07T03:16:41.691166Z",
     "iopub.status.busy": "2023-10-07T03:16:41.688776Z",
     "iopub.status.idle": "2023-10-07T03:16:41.711147Z",
     "shell.execute_reply": "2023-10-07T03:16:41.706129Z",
     "shell.execute_reply.started": "2023-10-07T03:16:41.691096Z"
    },
    "slideshow": {
     "slide_type": "slide"
    },
    "tags": []
   },
   "source": [
    "<h1 style=\"font-size: 32px; color: #333; margin-bottom: 20px;\">Why & How to Integrate Pandas and Polars</h1>\n",
    "\n",
    "<h2 style=\"font-size: 24px; color: #555; margin: 15px 0;\">Why</h2>\n",
    "<ul>\n",
    "    <li style=\"font-size: 18px; color: #777; margin: 10px 0;\">Need big speed improvements + worth your time</li>\n",
    "    <li style=\"font-size: 18px; color: #777; margin: 10px 0;\">Creating new pipeline or budget to rewrite</li>\n",
    "    <li style=\"font-size: 18px; color: #777; margin: 10px 0;\">Input data is Polars-friendly</li>\n",
    "</ul>\n",
    "<ul style=\"list-style-type: none;\">\n",
    "    <li>Flat files</li>\n",
    "    <li>Standard db (sql) or supported datastore</li>\n",
    "    <li>Not require wrapper - e.g. Snowflake</li>\n",
    "</ul>\n",
    "\n",
    "<h2 style=\"font-size: 24px; color: #555; margin: 15px 0;\">How</h2>\n",
    "<ul style=\"list-style-type: none;\">\n",
    "    <li style=\"font-size: 18px; color: #777; margin: 10px 0;\">Use polars</li>\n",
    "</ul>\n",
    "<code>polars.from_pandas</code><br>\n",
    "<code>polars.to_pandas</code><br>\n",
    "\n",
    "<ul style=\"list-style-type: none;\">\n",
    "    <li style=\"font-size: 18px; color: #777; margin: 10px 0;\">Use arrow directly</li>\n",
    "</ul>\n",
    "<strong>Pandas</strong> <br>\n",
    "<code>import pyarrow as pa</code><br>\n",
    "<code>import pandas as pd</code><br>\n",
    "<code>table = pa.Table.from_pandas(df)  # for both numpy and arrow backed</code><br>\n",
    "<code>df_new = table.to_pandas()</code><br> <br>\n",
    "\n",
    "<strong>Polars</strong> <br>\n",
    "<code>polars.from_arrow</code><br>\n",
    "<code>polars.to_arrow</code><br>\n"
   ]
  },
  {
   "cell_type": "markdown",
   "id": "1adb4b58-09fd-4fb3-84fa-325f0af6060e",
   "metadata": {
    "editable": true,
    "slideshow": {
     "slide_type": "slide"
    },
    "tags": []
   },
   "source": [
    "# Recap\n",
    "## Arrow enables great dataframe speedups for both libraries\n",
    "## Build better pipelines -- use them together"
   ]
  },
  {
   "cell_type": "markdown",
   "id": "cd1185d7-615e-4111-8888-0f09f6bdbcbe",
   "metadata": {
    "editable": true,
    "execution": {
     "iopub.execute_input": "2023-10-07T03:02:11.734225Z",
     "iopub.status.busy": "2023-10-07T03:02:11.731768Z",
     "iopub.status.idle": "2023-10-07T03:02:11.787941Z",
     "shell.execute_reply": "2023-10-07T03:02:11.783562Z",
     "shell.execute_reply.started": "2023-10-07T03:02:11.733712Z"
    },
    "slideshow": {
     "slide_type": "slide"
    },
    "tags": []
   },
   "source": [
    "<table style=\"border-collapse: collapse; background-color: #FFFFFF; width: 100%; font-size: 48px;\"\">\n",
    "    <tr>\n",
    "        <td style=\"padding: 8px; background-color: #FFFFFF; text-align: left; font-weight: bold;\">Thank you!</td>\n",
    "    </tr>\n",
    "    <tr>\n",
    "        <td style=\"padding: 8px; background-color: #FFFFFF; text-align: left\">Chris Brousseau</td>\n",
    "    </tr>\n",
    "    <tr>\n",
    "        <td style=\"padding: 8px; background-color: #FFFFFF;text-align: left; font-weight: normal;\">chris@surfaceowl.com</td>\n",
    "    </tr>\n",
    "    <tr>\n",
    "        <td style=\"padding: 8px; background-color: #FFFFFF;text-align: left; width: 50%; font-size: 36px; background-color: #FFFFFF;\">\n",
    "            <a href=\"https://github.com/surfaceowl/talk_pandas_polars_arrow\" target=\"_blank\"> GitHub Repo: https://github.com/surfaceowl/talk_pandas_polars_arrow</a>\n",
    "        </td>\n",
    "        <td style=\"padding: 8px; background-color: #FFFFFF; text-align: left;\">\n",
    "            <img src=\"images/pybay_talk_pandas_polars_qr_code.png\" alt=\"QR Code for PyBay Talk\" style=\"max-width: 100%; height: auto;\">\n",
    "        </td>\n",
    "    </tr>\n",
    "</table>\n"
   ]
  },
  {
   "cell_type": "markdown",
   "id": "3d059353-8a67-4c35-ab0b-7961367c5b7d",
   "metadata": {
    "editable": true,
    "execution": {
     "iopub.execute_input": "2023-10-02T17:12:37.365803Z",
     "iopub.status.busy": "2023-10-02T17:12:37.365178Z",
     "iopub.status.idle": "2023-10-02T17:12:37.373475Z",
     "shell.execute_reply": "2023-10-02T17:12:37.371396Z",
     "shell.execute_reply.started": "2023-10-02T17:12:37.365781Z"
    },
    "slideshow": {
     "slide_type": "slide"
    },
    "tags": []
   },
   "source": [
    "# Reference - Links\n",
    "\n",
    "pandas\n",
    "https://pandas.pydata.org/docs/whatsnew/index.html\n",
    "\n",
    "polars\n",
    "https://pola-rs.github.io/polars/\n",
    "\n",
    "apache arrow\n",
    "https://arrow.apache.org/overview/\n",
    "\n",
    "pyarrrow\n",
    "https://arrow.apache.org/docs/python/index.html\n",
    "\n",
    "dataframe API standard\n",
    "https://data-apis.org/dataframe-api/draft/index.html\n",
    "https://ponder.io/how-the-python-dataframe-interchange-protocol-makes-life-better/\n",
    "\n",
    "Arrow Revolution\n",
    "https://datapythonista.me/blog/pandas-20-and-the-arrow-revolution-part-i\n",
    "\n",
    "# interesting articles\n",
    "https://kyleake.medium.com/pandas-to-polars-a-comprehensive-transition-guide-81b6f50e9154\n",
    "\n",
    "# convert to/from pandas/pyarrow\n",
    "https://arrow.apache.org/docs/python/pandas.html"
   ]
  },
  {
   "cell_type": "markdown",
   "id": "f4e3f341-ccb7-4434-90fc-08fcbb548545",
   "metadata": {
    "editable": true,
    "slideshow": {
     "slide_type": "slide"
    },
    "tags": []
   },
   "source": [
    "# Reference - Datatypes\n",
    "https://pandas.pydata.org/docs/user_guide/basics.html#dtypes\n",
    "https://pola-rs.github.io/polars/py-polars/html/reference/datatypes.html\n",
    "https://arrow.apache.org/docs/python/pandas.html\n"
   ]
  },
  {
   "cell_type": "markdown",
   "id": "d46b66b4-65b1-429e-a022-dedd41a1641b",
   "metadata": {
    "editable": true,
    "execution": {
     "iopub.status.busy": "2023-10-02T17:12:37.374516Z",
     "iopub.status.idle": "2023-10-02T17:12:37.374958Z",
     "shell.execute_reply": "2023-10-02T17:12:37.374776Z",
     "shell.execute_reply.started": "2023-10-02T17:12:37.374758Z"
    },
    "slideshow": {
     "slide_type": "slide"
    },
    "tags": []
   },
   "source": [
    "# Reference - Syntax examples\n",
    "https://www.rhosignal.com/posts/polars-pandas-cheatsheet/\n"
   ]
  }
 ],
 "metadata": {
  "kernelspec": {
   "display_name": "Python 3 (ipykernel)",
   "language": "python",
   "name": "python3"
  },
  "language_info": {
   "codemirror_mode": {
    "name": "ipython",
    "version": 3
   },
   "file_extension": ".py",
   "mimetype": "text/x-python",
   "name": "python",
   "nbconvert_exporter": "python",
   "pygments_lexer": "ipython3",
   "version": "3.11.4"
  }
 },
 "nbformat": 4,
 "nbformat_minor": 5
}
